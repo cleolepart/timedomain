{
 "cells": [
  {
   "cell_type": "markdown",
   "id": "cc54687f-dc38-4a05-abaa-64a9b2248dbe",
   "metadata": {},
   "source": [
    "# TNS-DESI Matches\n",
    "\n",
    "Access a list of transients reported to the [Transient Name Server](https://wis-tns.weizmann.ac.il/) (TNS) between Jan. 1 2020 and June 10, 2022 and match fibers to transients. DESI observations are taken from the [redshift database](https://desi.lbl.gov/trac/wiki/DESIDatabase) maintained at NERSC by Rob Knop.\n",
    "\n",
    "TNS data were downloaded using a [Python script](https://github.com/desihub/timedomain/blob/master/tns/tns_download.py) available in the [DESI Transients/Low-z GitHub space](https://github.com/desihub/timedomain).\n",
    "\n",
    "Note: TNS is the primary IAU database for reporting public transients. It includes alerts from all major optical transient facilities and surveys such as ZTF, PTF, ASASSN, etc."
   ]
  },
  {
   "cell_type": "code",
   "execution_count": 1,
   "id": "1b036800-a800-438d-b1ca-18400628e8ff",
   "metadata": {},
   "outputs": [
    {
     "name": "stdout",
     "output_type": "stream",
     "text": [
      "DEBUG: Read templates from /global/common/software/desi/cori/desiconda/20211217-2.0.0/code/redrock-templates/master\n",
      "DEBUG: Using default redshift range -0.0050-1.6997 for rrtemplate-galaxy.fits\n",
      "DEBUG: Using default redshift range 0.0500-5.9934 for rrtemplate-qso.fits\n",
      "DEBUG: Using default redshift range -0.0020-0.0020 for rrtemplate-star-A.fits\n",
      "DEBUG: Using default redshift range -0.0020-0.0020 for rrtemplate-star-B.fits\n",
      "DEBUG: Using default redshift range -0.0020-0.0020 for rrtemplate-star-CV.fits\n",
      "DEBUG: Using default redshift range -0.0020-0.0020 for rrtemplate-star-F.fits\n",
      "DEBUG: Using default redshift range -0.0020-0.0020 for rrtemplate-star-G.fits\n",
      "DEBUG: Using default redshift range -0.0020-0.0020 for rrtemplate-star-K.fits\n",
      "DEBUG: Using default redshift range -0.0020-0.0020 for rrtemplate-star-M.fits\n",
      "DEBUG: Using default redshift range -0.0020-0.0020 for rrtemplate-star-WD.fits\n"
     ]
    }
   ],
   "source": [
    "from desispec.io import read_spectra\n",
    "from desispec.coaddition import coadd_cameras\n",
    "from desispec.interpolation import resample_flux\n",
    "from desispec.resolution import Resolution\n",
    "\n",
    "import redrock.templates\n",
    "\n",
    "rrtemplates = dict()\n",
    "for filename in redrock.templates.find_templates():\n",
    "    t = redrock.templates.Template(filename)\n",
    "    rrtemplates[(t.template_type, t.sub_type)] = t\n",
    "\n",
    "from astropy import units as u\n",
    "from astropy.table import Table, vstack, hstack\n",
    "from astropy.coordinates import SkyCoord, match_coordinates_sky\n",
    "from astropy.time import Time\n",
    "from astropy.wcs import WCS\n",
    "from astropy.visualization.wcsaxes import SphericalCircle\n",
    "\n",
    "from datetime import datetime, timedelta\n",
    "\n",
    "from scipy.ndimage import gaussian_filter1d\n",
    "\n",
    "import os\n",
    "from glob import glob\n",
    "\n",
    "import psycopg2\n",
    "\n",
    "from tqdm.notebook import tqdm_notebook\n",
    "\n",
    "import numpy as np\n",
    "import matplotlib as mpl\n",
    "import matplotlib.pyplot as plt"
   ]
  },
  {
   "cell_type": "code",
   "execution_count": 2,
   "id": "9a770b7c-bfa3-4bf9-ba9c-4870e9147ee9",
   "metadata": {},
   "outputs": [],
   "source": [
    "mpl.rc('font', size=14)\n",
    "mpl.rc('figure', max_open_warning = 0)"
   ]
  },
  {
   "cell_type": "markdown",
   "id": "0a8f353c-9a85-48ea-80f0-bb8c116ef079",
   "metadata": {},
   "source": [
    "## Load TNS Data\n",
    "\n",
    "Read a CSV file of TNS alerts already downloaded."
   ]
  },
  {
   "cell_type": "code",
   "execution_count": 3,
   "id": "dc26ab00-dc98-487c-a9fe-fbe7b6212040",
   "metadata": {},
   "outputs": [
    {
     "name": "stderr",
     "output_type": "stream",
     "text": [
      "WARNING: IllegalSecondWarning: 'second' was found  to be '60.0', which is not in range [0,60). Treating as 0 sec, +1 min [astropy.coordinates.angle_formats]\n"
     ]
    }
   ],
   "source": [
    "tns_all = Table.read('tns_all_thru_202206.csv', format='csv')\n",
    "\n",
    "# Convert discovery date to MJD.\n",
    "mjd = Time(tns_all['Discovery Date (UT)'], format='iso', scale='utc').mjd\n",
    "tns_all['Discovery Date (MJD)'] = mjd\n",
    "\n",
    "# Convert coordinates to decimal degree format. Do not insert into the TNS table.\n",
    "coords = SkyCoord(tns_all['RA'], tns_all['DEC'], frame='icrs', unit=['hour', 'degree'])"
   ]
  },
  {
   "cell_type": "code",
   "execution_count": 4,
   "id": "c075b007-2419-413a-add0-50f59ecd6d94",
   "metadata": {},
   "outputs": [
    {
     "data": {
      "text/html": [
       "<div><i>Table length=36560</i>\n",
       "<table id=\"table23456035907808\" class=\"table-striped table-bordered table-condensed\">\n",
       "<thead><tr><th>col0</th><th>ID</th><th>Name</th><th>RA</th><th>DEC</th><th>Obj. Type</th><th>Redshift</th><th>Host Name</th><th>Host Redshift</th><th>Reporting Group/s</th><th>Discovery Data Source/s</th><th>Classifying Group/s</th><th>Associated Group/s</th><th>Disc. Internal Name</th><th>Disc. Instrument/s</th><th>Class. Instrument/s</th><th>TNS AT</th><th>Public</th><th>End Prop. Period</th><th>Discovery Mag/Flux</th><th>Discovery Filter</th><th>Discovery Date (UT)</th><th>Sender</th><th>Remarks</th><th>Discovery Bibcode</th><th>Classification Bibcodes</th><th>Ext. catalog/s</th><th>Discovery Date (MJD)</th></tr></thead>\n",
       "<thead><tr><th>int64</th><th>int64</th><th>str11</th><th>str12</th><th>str12</th><th>str17</th><th>float64</th><th>str32</th><th>float64</th><th>str58</th><th>str51</th><th>str39</th><th>str51</th><th>str29</th><th>str147</th><th>str67</th><th>int64</th><th>int64</th><th>str10</th><th>float64</th><th>str13</th><th>str23</th><th>str20</th><th>str134</th><th>str19</th><th>str166</th><th>int64</th><th>float64</th></tr></thead>\n",
       "<tr><td>0</td><td>110665</td><td>AT 2022muf</td><td>01:54:29.565</td><td>+39:30:13.02</td><td>--</td><td>--</td><td>WISEA J015429.55+393013.7</td><td>--</td><td>ALeRCE</td><td>ZTF</td><td>--</td><td>ALeRCE</td><td>ZTF22aaogfil</td><td>P48 - ZTF-Cam</td><td>--</td><td>1</td><td>1</td><td>--</td><td>19.9201</td><td>r-ZTF</td><td>2022-06-08 11:22:16.000</td><td>ALeRCE</td><td>--</td><td>--</td><td>--</td><td>--</td><td>59738.4737962963</td></tr>\n",
       "<tr><td>1</td><td>110664</td><td>AT 2022mue</td><td>15:54:23.380</td><td>+20:18:08.57</td><td>--</td><td>--</td><td>--</td><td>--</td><td>YSE</td><td>Pan-STARRS</td><td>--</td><td>Pan-STARRS; YSE</td><td>PS22flb</td><td>PS2 - GPC2</td><td>--</td><td>1</td><td>1</td><td>--</td><td>20.84</td><td>r-P1</td><td>2022-06-06 07:39:25.056</td><td>YSE_Bot1</td><td>--</td><td>--</td><td>--</td><td>--</td><td>59736.31904</td></tr>\n",
       "<tr><td>2</td><td>110663</td><td>AT 2022mud</td><td>12:57:35.872</td><td>+09:01:54.38</td><td>--</td><td>--</td><td>SDSS J125736.49+090205.4</td><td>0.104746</td><td>SGLF</td><td>ZTF</td><td>--</td><td>SGLF</td><td>ZTF22aanzotb</td><td>P48 - ZTF-Cam</td><td>--</td><td>1</td><td>1</td><td>--</td><td>19.635</td><td>g-ZTF</td><td>2022-06-11 04:35:15.000</td><td>Perez-Fournon</td><td>--</td><td>--</td><td>--</td><td>--</td><td>59741.191145833334</td></tr>\n",
       "<tr><td>3</td><td>110662</td><td>AT 2022muc</td><td>19:52:34.240</td><td>+16:11:30.70</td><td>--</td><td>--</td><td>--</td><td>--</td><td>GaiaAlerts</td><td>GaiaAlerts</td><td>--</td><td>GaiaAlerts</td><td>Gaia22clw</td><td>Gaia - Gaia-photometric</td><td>--</td><td>1</td><td>1</td><td>--</td><td>16.75</td><td>G-Gaia</td><td>2022-06-10 16:49:26.400</td><td>Gaia_Bot1</td><td>--</td><td>--</td><td>--</td><td>--</td><td>59740.701</td></tr>\n",
       "<tr><td>4</td><td>110661</td><td>AT 2022mub</td><td>05:36:30.950</td><td>-70:01:58.51</td><td>--</td><td>--</td><td>--</td><td>--</td><td>GaiaAlerts</td><td>GaiaAlerts</td><td>--</td><td>GaiaAlerts</td><td>Gaia22clv</td><td>Gaia - Gaia-photometric</td><td>--</td><td>1</td><td>1</td><td>--</td><td>16.65</td><td>G-Gaia</td><td>2022-06-10 23:00:57.600</td><td>Gaia_Bot1</td><td>--</td><td>--</td><td>--</td><td>--</td><td>59740.959</td></tr>\n",
       "<tr><td>5</td><td>110660</td><td>AT 2022mua</td><td>05:28:09.370</td><td>-69:09:34.96</td><td>--</td><td>--</td><td>--</td><td>--</td><td>GaiaAlerts</td><td>GaiaAlerts</td><td>--</td><td>GaiaAlerts</td><td>Gaia22clu</td><td>Gaia - Gaia-photometric</td><td>--</td><td>1</td><td>1</td><td>--</td><td>14.4</td><td>G-Gaia</td><td>2022-06-10 17:00:57.600</td><td>Gaia_Bot1</td><td>--</td><td>--</td><td>--</td><td>--</td><td>59740.709</td></tr>\n",
       "<tr><td>6</td><td>110659</td><td>AT 2022mtz</td><td>05:24:40.640</td><td>-70:03:44.60</td><td>--</td><td>--</td><td>--</td><td>--</td><td>GaiaAlerts</td><td>GaiaAlerts</td><td>--</td><td>GaiaAlerts</td><td>Gaia22clt</td><td>Gaia - Gaia-photometric</td><td>--</td><td>1</td><td>1</td><td>--</td><td>15.34</td><td>G-Gaia</td><td>2022-06-10 16:59:31.200</td><td>Gaia_Bot1</td><td>--</td><td>--</td><td>--</td><td>--</td><td>59740.708</td></tr>\n",
       "<tr><td>7</td><td>110658</td><td>AT 2022mty</td><td>19:43:59.340</td><td>+18:30:23.33</td><td>--</td><td>--</td><td>--</td><td>--</td><td>GaiaAlerts</td><td>GaiaAlerts</td><td>--</td><td>GaiaAlerts</td><td>Gaia22cls</td><td>Gaia - Gaia-photometric</td><td>--</td><td>1</td><td>1</td><td>--</td><td>18.22</td><td>G-Gaia</td><td>2022-06-10 04:45:07.200</td><td>Gaia_Bot1</td><td>--</td><td>--</td><td>--</td><td>--</td><td>59740.198</td></tr>\n",
       "<tr><td>8</td><td>110657</td><td>AT 2022mtx</td><td>19:51:20.280</td><td>+12:41:38.58</td><td>--</td><td>--</td><td>--</td><td>--</td><td>GaiaAlerts</td><td>GaiaAlerts</td><td>--</td><td>GaiaAlerts</td><td>Gaia22clr</td><td>Gaia - Gaia-photometric</td><td>--</td><td>1</td><td>1</td><td>--</td><td>18.89</td><td>G-Gaia</td><td>2022-06-10 09:05:45.600</td><td>Gaia_Bot1</td><td>--</td><td>--</td><td>--</td><td>--</td><td>59740.379</td></tr>\n",
       "<tr><td>9</td><td>110656</td><td>AT 2022mtw</td><td>05:54:23.610</td><td>-61:20:06.22</td><td>--</td><td>--</td><td>--</td><td>--</td><td>GaiaAlerts</td><td>GaiaAlerts</td><td>--</td><td>GaiaAlerts</td><td>Gaia22clq</td><td>Gaia - Gaia-photometric</td><td>--</td><td>1</td><td>1</td><td>--</td><td>18.63</td><td>G-Gaia</td><td>2022-06-09 23:06:43.200</td><td>Gaia_Bot1</td><td>--</td><td>--</td><td>--</td><td>--</td><td>59739.963</td></tr>\n",
       "<tr><td>...</td><td>...</td><td>...</td><td>...</td><td>...</td><td>...</td><td>...</td><td>...</td><td>...</td><td>...</td><td>...</td><td>...</td><td>...</td><td>...</td><td>...</td><td>...</td><td>...</td><td>...</td><td>...</td><td>...</td><td>...</td><td>...</td><td>...</td><td>...</td><td>...</td><td>...</td><td>...</td><td>...</td></tr>\n",
       "<tr><td>50</td><td>85511</td><td>AT 1983ac</td><td>10:04:59.780</td><td>-06:31:33.30</td><td>--</td><td>--</td><td>LEDA 90982</td><td>0.0166</td><td>--</td><td>--</td><td>--</td><td>--</td><td>--</td><td>Other - Other</td><td>--</td><td>1</td><td>1</td><td>--</td><td>16.8</td><td>B-Johnson</td><td>1983-03-08 12:06:00.000</td><td>Denisenko</td><td>--</td><td>2021TNSTR1935....1D</td><td>--</td><td>--</td><td>45401.504166666666</td></tr>\n",
       "<tr><td>51</td><td>102265</td><td>AT 1982ad</td><td>22:02:47.110</td><td>-04:28:59.10</td><td>--</td><td>--</td><td>SDSS J220247.40-042906.4</td><td>--</td><td>PALEO</td><td>PALEO</td><td>--</td><td>PALEO</td><td>--</td><td>Other - Other</td><td>--</td><td>1</td><td>1</td><td>--</td><td>20.7</td><td>B-Johnson</td><td>1982-10-12 10:53:00.000</td><td>Denisenko</td><td>--</td><td>2022TNSTR.616....1N</td><td>--</td><td>--</td><td>45254.45347222222</td></tr>\n",
       "<tr><td>52</td><td>99213</td><td>AT 1982ac</td><td>01:40:10.010</td><td>-15:17:33.50</td><td>--</td><td>--</td><td>WISEA J014009.60-151744.5</td><td>--</td><td>PALEO</td><td>PALEO</td><td>--</td><td>PALEO</td><td>--</td><td>Other - Other</td><td>--</td><td>1</td><td>1</td><td>--</td><td>18.4</td><td>B-Johnson</td><td>1982-09-24 15:51:00.000</td><td>Denisenko</td><td>--</td><td>2022TNSTR.152....1D</td><td>--</td><td>--</td><td>45236.660416666666</td></tr>\n",
       "<tr><td>53</td><td>84266</td><td>AT 1982ab</td><td>21:43:37.160</td><td>-16:34:47.00</td><td>--</td><td>--</td><td>PGC 896342</td><td>0.0509</td><td>--</td><td>POSS</td><td>--</td><td>POSS</td><td>--</td><td>Other - Other</td><td>--</td><td>1</td><td>1</td><td>--</td><td>15.9</td><td>B-Johnson</td><td>1982-07-20 15:59:00.000</td><td>Denisenko</td><td>--</td><td>2021TNSTR1778....1M</td><td>--</td><td>--</td><td>45170.665972222225</td></tr>\n",
       "<tr><td>54</td><td>102406</td><td>AT 1981L</td><td>20:36:00.370</td><td>-13:28:24.70</td><td>--</td><td>--</td><td>WISEA J203600.24-132825.5</td><td>--</td><td>PALEO</td><td>PALEO</td><td>--</td><td>PALEO</td><td>--</td><td>Other - Other</td><td>--</td><td>1</td><td>1</td><td>--</td><td>19.8</td><td>B-Johnson</td><td>1981-06-07 17:22:00.000</td><td>Denisenko</td><td>--</td><td>2022TNSTR.642....1L</td><td>--</td><td>--</td><td>44762.72361111111</td></tr>\n",
       "<tr><td>55</td><td>107068</td><td>AT 1978M</td><td>08:09:16.878</td><td>-25:28:50.20</td><td>--</td><td>--</td><td>ESO 494-30</td><td>--</td><td>--</td><td>--</td><td>--</td><td>--</td><td>GSC2.3 S64P036598</td><td>Other - Other</td><td>--</td><td>1</td><td>1</td><td>--</td><td>17.9</td><td>B-Johnson</td><td>1978-01-09 14:28:00.000</td><td>Prestgard</td><td>--</td><td>2022TNSTR1015....1P</td><td>--</td><td>--</td><td>43517.60277777778</td></tr>\n",
       "<tr><td>56</td><td>108389</td><td>AT 1977L</td><td>13:24:54.640</td><td>-29:17:49.90</td><td>--</td><td>--</td><td>LEDA 730986</td><td>0.07673</td><td>PALEO</td><td>PALEO</td><td>--</td><td>PALEO</td><td>--</td><td>Other - Other</td><td>--</td><td>1</td><td>1</td><td>--</td><td>17.8</td><td>B-Johnson</td><td>1977-03-20 15:53:00.000</td><td>Denisenko</td><td>--</td><td>2022TNSTR1268....1N</td><td>--</td><td>--</td><td>43222.66180555556</td></tr>\n",
       "<tr><td>57</td><td>98595</td><td>AT 1977K</td><td>13:26:47.790</td><td>-31:59:37.20</td><td>--</td><td>--</td><td>LEDA 98045</td><td>0.049</td><td>PALEO</td><td>PALEO</td><td>--</td><td>PALEO</td><td>--</td><td>Other - Other</td><td>--</td><td>1</td><td>1</td><td>--</td><td>16.6</td><td>B-Johnson</td><td>1977-03-20 15:53:00.000</td><td>Denisenko</td><td>--</td><td>2022TNSTR..58....1D</td><td>--</td><td>--</td><td>43222.66180555556</td></tr>\n",
       "<tr><td>58</td><td>98548</td><td>AT 1977J</td><td>13:18:30.120</td><td>-32:14:02.30</td><td>--</td><td>--</td><td>ESO 444-7</td><td>0.01528</td><td>PALEO</td><td>PALEO</td><td>--</td><td>PALEO</td><td>--</td><td>Other - Other</td><td>--</td><td>1</td><td>1</td><td>--</td><td>16.2</td><td>B-Johnson</td><td>1977-03-20 15:53:00.000</td><td>Denisenko</td><td>--</td><td>2022TNSTR..41....1D</td><td>--</td><td>--</td><td>43222.66180555556</td></tr>\n",
       "<tr><td>59</td><td>107008</td><td>AT 1976S</td><td>19:04:58.943</td><td>-55:24:34.84</td><td>--</td><td>--</td><td>PGC 409697</td><td>--</td><td>--</td><td>--</td><td>--</td><td>--</td><td>GSC2.3 SATX032616</td><td>Other - Other</td><td>--</td><td>1</td><td>1</td><td>--</td><td>17.8</td><td>B-Johnson</td><td>1976-05-31 16:39:00.000</td><td>Prestgard</td><td>--</td><td>2022TNSTR1015....1P</td><td>--</td><td>--</td><td>42929.69375</td></tr>\n",
       "</table></div>"
      ],
      "text/plain": [
       "<Table length=36560>\n",
       " col0   ID      Name    ... Ext. catalog/s Discovery Date (MJD)\n",
       "int64 int64    str11    ...     int64            float64       \n",
       "----- ------ ---------- ... -------------- --------------------\n",
       "    0 110665 AT 2022muf ...             --     59738.4737962963\n",
       "    1 110664 AT 2022mue ...             --          59736.31904\n",
       "    2 110663 AT 2022mud ...             --   59741.191145833334\n",
       "    3 110662 AT 2022muc ...             --            59740.701\n",
       "    4 110661 AT 2022mub ...             --            59740.959\n",
       "    5 110660 AT 2022mua ...             --            59740.709\n",
       "    6 110659 AT 2022mtz ...             --            59740.708\n",
       "    7 110658 AT 2022mty ...             --            59740.198\n",
       "    8 110657 AT 2022mtx ...             --            59740.379\n",
       "    9 110656 AT 2022mtw ...             --            59739.963\n",
       "  ...    ...        ... ...            ...                  ...\n",
       "   50  85511  AT 1983ac ...             --   45401.504166666666\n",
       "   51 102265  AT 1982ad ...             --    45254.45347222222\n",
       "   52  99213  AT 1982ac ...             --   45236.660416666666\n",
       "   53  84266  AT 1982ab ...             --   45170.665972222225\n",
       "   54 102406   AT 1981L ...             --    44762.72361111111\n",
       "   55 107068   AT 1978M ...             --    43517.60277777778\n",
       "   56 108389   AT 1977L ...             --    43222.66180555556\n",
       "   57  98595   AT 1977K ...             --    43222.66180555556\n",
       "   58  98548   AT 1977J ...             --    43222.66180555556\n",
       "   59 107008   AT 1976S ...             --          42929.69375"
      ]
     },
     "execution_count": 4,
     "metadata": {},
     "output_type": "execute_result"
    }
   ],
   "source": [
    "tns_all"
   ]
  },
  {
   "cell_type": "markdown",
   "id": "803dc28e-bf3a-4a70-9494-b0aad2921b79",
   "metadata": {},
   "source": [
    "## Perform Coordinate Match between DESI Observations and TNS\n",
    "\n",
    "Match TNS observations within 1\" of a DESI fiber. Use the `expfibermap` databases, which use an estimate of the actual fiber position (as opposed to the `TARGET_RA` and `TARGET_DEC` of the fibers)."
   ]
  },
  {
   "cell_type": "code",
   "execution_count": 5,
   "id": "d55c7b0e-4e1a-4281-83e5-9ac71809fe80",
   "metadata": {},
   "outputs": [
    {
     "data": {
      "application/vnd.jupyter.widget-view+json": {
       "model_id": "69ded5400b114f0c9e4405cd1d0de3ae",
       "version_major": 2,
       "version_minor": 0
      },
      "text/plain": [
       "  0%|          | 0/36560 [00:00<?, ?it/s]"
      ]
     },
     "metadata": {},
     "output_type": "display_data"
    }
   ],
   "source": [
    "redux = 'daily'\n",
    "\n",
    "try:\n",
    "    db = psycopg2.connect(host='decatdb.lbl.gov', database='desidb', user='desi')\n",
    "    cursor = db.cursor()\n",
    "    # cursor.execute('SET search_path TO da, public;')\n",
    "    \n",
    "    # Accumulate data in this table.\n",
    "    desi_targets = None\n",
    "    \n",
    "    # Loop over all TNS alerts and perform a coordinate match with DESI observations.\n",
    "    with tqdm_notebook(total=len(tns_all)) as progress_bar:\n",
    "        \n",
    "        for i, (alert, coord) in enumerate(zip(tns_all, coords)):\n",
    "            ra, dec = coord.ra.to_value('deg'), coord.dec.to_value('deg')\n",
    "\n",
    "            query = 'SELECT f.targetid,f.fiber_ra,f.fiber_dec,c.tileid,c.night,f.mjd,r.z,r.zerr,r.zwarn,r.deltachi2,c.filename\\n' \\\n",
    "                    f'FROM {redux}.tiles_expfibermap f\\n' \\\n",
    "                    f'INNER JOIN {redux}.cumulative_tiles c ON f.cumultile_id=c.id\\n' \\\n",
    "                    f'INNER JOIN {redux}.tiles_redshifts r ON r.cumultile_id=c.id AND r.targetid=f.targetid\\n' \\\n",
    "                    f'WHERE q3c_radial_query( f.fiber_ra, f.fiber_dec, {ra}, {dec}, 1./3600. );'\n",
    "\n",
    "            cursor.execute(query)\n",
    "            rows = cursor.fetchall()\n",
    "\n",
    "            if rows:\n",
    "                # Convert postgresql row output to an astropy Table.\n",
    "                data = Table(list(map(list, zip(*rows))),\n",
    "                             names=['TARGETID', 'FIBER_RA', 'FIBER_DEC', 'TILEID', 'NIGHT', 'MJD', 'Z', 'ZERR', 'ZWARN', 'DELTACHI2', 'FILENAME'])\n",
    "\n",
    "                # hstack the postgresql rows with the TNS alert.\n",
    "                # The following vstack loop ensures every row gets a match with the alert.\n",
    "                tns_data = alert\n",
    "                if len(data) > 1:\n",
    "                    for j in range(1, len(data)):\n",
    "                        tns_data = vstack([tns_data, alert])\n",
    "                data = hstack([data, tns_data])\n",
    "\n",
    "                # Accumulate matched targets.\n",
    "                if desi_targets is None:\n",
    "                    desi_targets = data\n",
    "                else:\n",
    "                    desi_targets = vstack([desi_targets, data], join_type='outer')\n",
    "\n",
    "            if (i+1) % 10 == 0:\n",
    "                progress_bar.update(10)\n",
    "    \n",
    "except (Exception, psycopg2.Error) as error:\n",
    "    print(error)\n",
    "finally:\n",
    "    if db is not None:\n",
    "        db.close()"
   ]
  },
  {
   "cell_type": "code",
   "execution_count": 6,
   "id": "d6d8dac8-7e40-48ca-a995-6b6c612875b5",
   "metadata": {},
   "outputs": [
    {
     "data": {
      "text/html": [
       "<div><i>Table length=3596</i>\n",
       "<table id=\"table23453696449312\" class=\"table-striped table-bordered table-condensed\">\n",
       "<thead><tr><th>TARGETID</th><th>FIBER_RA</th><th>FIBER_DEC</th><th>TILEID</th><th>NIGHT</th><th>MJD</th><th>Z</th><th>ZERR</th><th>ZWARN</th><th>DELTACHI2</th><th>FILENAME</th><th>col0</th><th>ID</th><th>Name</th><th>RA</th><th>DEC</th><th>Obj. Type</th><th>Redshift</th><th>Host Name</th><th>Host Redshift</th><th>Reporting Group/s</th><th>Discovery Data Source/s</th><th>Classifying Group/s</th><th>Associated Group/s</th><th>Disc. Internal Name</th><th>Disc. Instrument/s</th><th>Class. Instrument/s</th><th>TNS AT</th><th>Public</th><th>End Prop. Period</th><th>Discovery Mag/Flux</th><th>Discovery Filter</th><th>Discovery Date (UT)</th><th>Sender</th><th>Remarks</th><th>Discovery Bibcode</th><th>Classification Bibcodes</th><th>Ext. catalog/s</th><th>Discovery Date (MJD)</th></tr></thead>\n",
       "<thead><tr><th>int64</th><th>float64</th><th>float64</th><th>int64</th><th>int64</th><th>float64</th><th>float64</th><th>float64</th><th>int64</th><th>float64</th><th>str71</th><th>int64</th><th>int64</th><th>str11</th><th>str12</th><th>str12</th><th>str17</th><th>float64</th><th>str32</th><th>float64</th><th>str58</th><th>str51</th><th>str39</th><th>str51</th><th>str29</th><th>str147</th><th>str67</th><th>int64</th><th>int64</th><th>str10</th><th>float64</th><th>str13</th><th>str23</th><th>str20</th><th>str134</th><th>str19</th><th>str166</th><th>int64</th><th>float64</th></tr></thead>\n",
       "<tr><td>39628522947347397</td><td>230.347315965993</td><td>31.9310854271636</td><td>20239</td><td>20220218</td><td>59629.53376982</td><td>0.230183063458812</td><td>8.13670330936725e-06</td><td>0</td><td>704.982852339745</td><td>daily/tiles/cumulative/20239/20220218/redrock-6-20239-thru20220218.fits</td><td>47</td><td>110617</td><td>AT 2022msk</td><td>15:21:23.369</td><td>+31:55:52.29</td><td>--</td><td>--</td><td>--</td><td>--</td><td>Pan-STARRS</td><td>Pan-STARRS</td><td>--</td><td>Pan-STARRS</td><td>PS22fku</td><td>PS2 - GPC2</td><td>--</td><td>1</td><td>1</td><td>--</td><td>20.73</td><td>w-P1</td><td>2022-06-07 06:28:05.664</td><td>PS2_Bot1</td><td>--</td><td>2022TNSTR1650....1C</td><td>--</td><td>--</td><td>59737.26951</td></tr>\n",
       "<tr><td>39628262648845377</td><td>241.572609377006</td><td>19.9240363985427</td><td>20247</td><td>20210705</td><td>59401.20643336</td><td>0.168250956600897</td><td>4.01990663670289e-05</td><td>0</td><td>658.203603351489</td><td>daily/tiles/cumulative/20247/20210705/zbest-0-20247-thru20210705.fits</td><td>105</td><td>110558</td><td>AT 2022mqe</td><td>16:06:17.364</td><td>+19:55:26.57</td><td>--</td><td>--</td><td>--</td><td>--</td><td>Pan-STARRS</td><td>Pan-STARRS</td><td>--</td><td>Pan-STARRS</td><td>PS22fiq</td><td>PS2 - GPC2</td><td>--</td><td>1</td><td>1</td><td>--</td><td>20.55</td><td>w-P1</td><td>2022-05-30 11:55:03.648</td><td>PS2_Bot1</td><td>--</td><td>2022TNSTR1650....1C</td><td>--</td><td>--</td><td>59729.49657</td></tr>\n",
       "<tr><td>39628130159174650</td><td>265.176185250919</td><td>14.2923922116857</td><td>21997</td><td>20220429</td><td>59699.48066723</td><td>0.161622051219002</td><td>3.08714486711119e-05</td><td>0</td><td>228.240458453074</td><td>daily/tiles/cumulative/21997/20220429/redrock-0-21997-thru20220429.fits</td><td>128</td><td>110535</td><td>AT 2022mph</td><td>17:40:42.278</td><td>+14:17:31.74</td><td>--</td><td>--</td><td>--</td><td>--</td><td>Pan-STARRS</td><td>Pan-STARRS</td><td>--</td><td>Pan-STARRS</td><td>PS22fhs</td><td>PS2 - GPC2</td><td>--</td><td>1</td><td>1</td><td>--</td><td>20.79</td><td>w-P1</td><td>2022-06-01 09:49:46.848</td><td>PS2_Bot1</td><td>--</td><td>2022TNSTR1650....1C</td><td>--</td><td>--</td><td>59731.40957</td></tr>\n",
       "<tr><td>39627763748966538</td><td>189.734074290681</td><td>-1.05913552456076</td><td>8383</td><td>20220306</td><td>59645.36469216</td><td>0.20835137082616</td><td>1.28384459398157e-05</td><td>0</td><td>13879.3184538484</td><td>daily/tiles/cumulative/8383/20220306/redrock-7-8383-thru20220306.fits</td><td>178</td><td>110482</td><td>AT 2022mnj</td><td>12:38:56.182</td><td>-01:03:32.82</td><td>--</td><td>--</td><td>--</td><td>--</td><td>ANTARES</td><td>ZTF</td><td>--</td><td>ANTARES</td><td>ZTF22aaftzcn</td><td>P48 - ZTF-Cam</td><td>--</td><td>1</td><td>1</td><td>--</td><td>18.4679</td><td>g-ZTF</td><td>2022-06-04 04:23:43.296</td><td>ANTARES_bot</td><td>--</td><td>2022TNSTR1633....1A</td><td>--</td><td>--</td><td>59734.18314</td></tr>\n",
       "<tr><td>39627763748966538</td><td>189.73403709154</td><td>-1.05913777122085</td><td>6274</td><td>20220324</td><td>59663.32227808</td><td>0.208337251131304</td><td>1.27630229481803e-05</td><td>0</td><td>11600.6685008705</td><td>daily/tiles/cumulative/6274/20220324/redrock-5-6274-thru20220324.fits</td><td>178</td><td>110482</td><td>AT 2022mnj</td><td>12:38:56.182</td><td>-01:03:32.82</td><td>--</td><td>--</td><td>--</td><td>--</td><td>ANTARES</td><td>ZTF</td><td>--</td><td>ANTARES</td><td>ZTF22aaftzcn</td><td>P48 - ZTF-Cam</td><td>--</td><td>1</td><td>1</td><td>--</td><td>18.4679</td><td>g-ZTF</td><td>2022-06-04 04:23:43.296</td><td>ANTARES_bot</td><td>--</td><td>2022TNSTR1633....1A</td><td>--</td><td>--</td><td>59734.18314</td></tr>\n",
       "<tr><td>39627681850986125</td><td>345.669004196735</td><td>-4.40092267348929</td><td>25236</td><td>20211021</td><td>59509.18687241</td><td>0.0950312352466615</td><td>3.15907234344072e-06</td><td>0</td><td>3192.18104553223</td><td>daily/tiles/cumulative/25236/20211021/redrock-3-25236-thru20211021.fits</td><td>186</td><td>110474</td><td>AT 2022mnb</td><td>23:02:40.561</td><td>-04:24:03.93</td><td>--</td><td>--</td><td>SDSS J230240.57-042403.3</td><td>--</td><td>ALeRCE</td><td>ZTF</td><td>--</td><td>ALeRCE</td><td>ZTF22aanvqbv</td><td>P48 - ZTF-Cam</td><td>--</td><td>1</td><td>1</td><td>--</td><td>20.6576</td><td>g-ZTF</td><td>2022-06-07 10:20:07.002</td><td>ALeRCE</td><td>--</td><td>2022TNSTR1618....1M</td><td>--</td><td>--</td><td>59737.43063659722</td></tr>\n",
       "<tr><td>39627633268360807</td><td>319.075201527494</td><td>-6.39819710400395</td><td>25547</td><td>20211021</td><td>59509.08425356</td><td>0.222653735679976</td><td>8.03764212770075e-06</td><td>0</td><td>1627.98154354095</td><td>daily/tiles/cumulative/25547/20211021/redrock-7-25547-thru20211021.fits</td><td>243</td><td>110417</td><td>AT 2022mkw</td><td>21:16:18.080</td><td>-06:23:53.97</td><td>--</td><td>--</td><td>--</td><td>--</td><td>Pan-STARRS</td><td>Pan-STARRS</td><td>--</td><td>Pan-STARRS</td><td>PS22feb</td><td>PS2 - GPC2</td><td>--</td><td>1</td><td>1</td><td>--</td><td>20.89</td><td>w-P1</td><td>2022-06-04 12:52:14.592</td><td>PS2_Bot1</td><td>--</td><td>2022TNSTR1611....1C</td><td>--</td><td>--</td><td>59734.53628</td></tr>\n",
       "<tr><td>39627633268360807</td><td>319.075201527494</td><td>-6.39819710400395</td><td>25547</td><td>20211021</td><td>59509.09638793</td><td>0.222653735679976</td><td>8.03764212770075e-06</td><td>0</td><td>1627.98154354095</td><td>daily/tiles/cumulative/25547/20211021/redrock-7-25547-thru20211021.fits</td><td>243</td><td>110417</td><td>AT 2022mkw</td><td>21:16:18.080</td><td>-06:23:53.97</td><td>--</td><td>--</td><td>--</td><td>--</td><td>Pan-STARRS</td><td>Pan-STARRS</td><td>--</td><td>Pan-STARRS</td><td>PS22feb</td><td>PS2 - GPC2</td><td>--</td><td>1</td><td>1</td><td>--</td><td>20.89</td><td>w-P1</td><td>2022-06-04 12:52:14.592</td><td>PS2_Bot1</td><td>--</td><td>2022TNSTR1611....1C</td><td>--</td><td>--</td><td>59734.53628</td></tr>\n",
       "<tr><td>39628087016555190</td><td>144.48931196721</td><td>12.5705162790338</td><td>5670</td><td>20220106</td><td>59586.35626332</td><td>2.12882308817597</td><td>0.000135704150134509</td><td>0</td><td>21022.053969115</td><td>daily/tiles/cumulative/5670/20220106/redrock-6-5670-thru20220106.fits</td><td>253</td><td>110407</td><td>AT 2022mkm</td><td>09:37:57.440</td><td>+12:34:13.80</td><td>--</td><td>--</td><td>--</td><td>--</td><td>GaiaAlerts</td><td>GaiaAlerts</td><td>--</td><td>GaiaAlerts</td><td>Gaia22chs</td><td>Gaia - Gaia-photometric</td><td>--</td><td>1</td><td>1</td><td>--</td><td>18.92</td><td>G-Gaia</td><td>2022-05-29 12:30:14.400</td><td>Gaia_Bot1</td><td>--</td><td>2022TNSTR1608....1H</td><td>--</td><td>--</td><td>59728.521</td></tr>\n",
       "<tr><td>39628491750118330</td><td>219.337537810525</td><td>30.4208751635756</td><td>2203</td><td>20210606</td><td>59372.22663754</td><td>1.21969379342755</td><td>7.80814328173133e-05</td><td>0</td><td>5839.48546230793</td><td>daily/tiles/cumulative/2203/20210606/zbest-2-2203-thru20210606.fits</td><td>254</td><td>110406</td><td>AT 2022mkl</td><td>14:37:21.000</td><td>+30:25:15.24</td><td>--</td><td>--</td><td>--</td><td>--</td><td>GaiaAlerts</td><td>GaiaAlerts</td><td>--</td><td>GaiaAlerts</td><td>Gaia22chr</td><td>Gaia - Gaia-photometric</td><td>--</td><td>1</td><td>1</td><td>--</td><td>18.1</td><td>G-Gaia</td><td>2022-05-29 13:47:59.000</td><td>Gaia_Bot1</td><td>--</td><td>2022TNSTR1608....1H</td><td>--</td><td>--</td><td>59728.57498842593</td></tr>\n",
       "<tr><td>...</td><td>...</td><td>...</td><td>...</td><td>...</td><td>...</td><td>...</td><td>...</td><td>...</td><td>...</td><td>...</td><td>...</td><td>...</td><td>...</td><td>...</td><td>...</td><td>...</td><td>...</td><td>...</td><td>...</td><td>...</td><td>...</td><td>...</td><td>...</td><td>...</td><td>...</td><td>...</td><td>...</td><td>...</td><td>...</td><td>...</td><td>...</td><td>...</td><td>...</td><td>...</td><td>...</td><td>...</td><td>...</td><td>...</td></tr>\n",
       "<tr><td>39628138245784745</td><td>42.1634485408897</td><td>14.6261082268319</td><td>20563</td><td>20211107</td><td>59526.37642507</td><td>0.181212626110906</td><td>1.41003488353457e-05</td><td>0</td><td>1032.43597885966</td><td>daily/tiles/cumulative/20563/20211107/redrock-8-20563-thru20211107.fits</td><td>459</td><td>73796</td><td>AT 2015dp</td><td>02:48:39.231</td><td>+14:37:34.22</td><td>--</td><td>--</td><td>--</td><td>--</td><td>Pan-STARRS</td><td>Pan-STARRS</td><td>--</td><td>Pan-STARRS</td><td>PS20mwf</td><td>PS1 - GPC1</td><td>--</td><td>1</td><td>1</td><td>--</td><td>22.36</td><td>w-P1</td><td>2015-09-09 11:58:33.600</td><td>PS1_Bot1</td><td>--</td><td>2020TNSTR3940....1C</td><td>--</td><td>--</td><td>57274.499</td></tr>\n",
       "<tr><td>39627836633387718</td><td>213.961536066144</td><td>1.88261526200351</td><td>23246</td><td>20220213</td><td>59624.50014026</td><td>0.0255801718442225</td><td>1.51192109523957e-06</td><td>0</td><td>33781.6736245364</td><td>daily/tiles/cumulative/23246/20220213/redrock-3-23246-thru20220213.fits</td><td>477</td><td>84917</td><td>AT 2014gz</td><td>14:15:50.789</td><td>+01:52:57.56</td><td>--</td><td>--</td><td>--</td><td>--</td><td>Pan-STARRS</td><td>Pan-STARRS</td><td>--</td><td>Pan-STARRS</td><td>PS21eue</td><td>PS1 - GPC1</td><td>--</td><td>1</td><td>1</td><td>--</td><td>19.7</td><td>z-Sloan</td><td>2014-01-21 15:41:45.600</td><td>PS1_Bot1</td><td>--</td><td>2021TNSTR1857....1C</td><td>--</td><td>--</td><td>56678.654</td></tr>\n",
       "<tr><td>2305843036527006581</td><td>213.9615194762</td><td>1.88259523724119</td><td>40227</td><td>20220310</td><td>59649.41121417</td><td>0.0255933903622837</td><td>4.08743503756363e-06</td><td>0</td><td>6265.16382398023</td><td>daily/tiles/cumulative/40227/20220310/redrock-7-40227-thru20220310.fits</td><td>477</td><td>84917</td><td>AT 2014gz</td><td>14:15:50.789</td><td>+01:52:57.56</td><td>--</td><td>--</td><td>--</td><td>--</td><td>Pan-STARRS</td><td>Pan-STARRS</td><td>--</td><td>Pan-STARRS</td><td>PS21eue</td><td>PS1 - GPC1</td><td>--</td><td>1</td><td>1</td><td>--</td><td>19.7</td><td>z-Sloan</td><td>2014-01-21 15:41:45.600</td><td>PS1_Bot1</td><td>--</td><td>2021TNSTR1857....1C</td><td>--</td><td>--</td><td>56678.654</td></tr>\n",
       "<tr><td>2305843036527006581</td><td>213.9615194762</td><td>1.88259523724119</td><td>40227</td><td>20220315</td><td>59649.41121417</td><td>0.0255894571267775</td><td>1.90641035964774e-06</td><td>0</td><td>21101.7706277557</td><td>daily/tiles/cumulative/40227/20220315/redrock-7-40227-thru20220315.fits</td><td>477</td><td>84917</td><td>AT 2014gz</td><td>14:15:50.789</td><td>+01:52:57.56</td><td>--</td><td>--</td><td>--</td><td>--</td><td>Pan-STARRS</td><td>Pan-STARRS</td><td>--</td><td>Pan-STARRS</td><td>PS21eue</td><td>PS1 - GPC1</td><td>--</td><td>1</td><td>1</td><td>--</td><td>19.7</td><td>z-Sloan</td><td>2014-01-21 15:41:45.600</td><td>PS1_Bot1</td><td>--</td><td>2021TNSTR1857....1C</td><td>--</td><td>--</td><td>56678.654</td></tr>\n",
       "<tr><td>2305843036527006581</td><td>213.961527277109</td><td>1.88262857945183</td><td>40227</td><td>20220315</td><td>59654.38551385</td><td>0.0255894571267775</td><td>1.90641035964774e-06</td><td>0</td><td>21101.7706277557</td><td>daily/tiles/cumulative/40227/20220315/redrock-7-40227-thru20220315.fits</td><td>477</td><td>84917</td><td>AT 2014gz</td><td>14:15:50.789</td><td>+01:52:57.56</td><td>--</td><td>--</td><td>--</td><td>--</td><td>Pan-STARRS</td><td>Pan-STARRS</td><td>--</td><td>Pan-STARRS</td><td>PS21eue</td><td>PS1 - GPC1</td><td>--</td><td>1</td><td>1</td><td>--</td><td>19.7</td><td>z-Sloan</td><td>2014-01-21 15:41:45.600</td><td>PS1_Bot1</td><td>--</td><td>2021TNSTR1857....1C</td><td>--</td><td>--</td><td>56678.654</td></tr>\n",
       "<tr><td>2305843036527006581</td><td>213.9615194762</td><td>1.88259523724119</td><td>40227</td><td>20220316</td><td>59649.41121417</td><td>0.0255937490645334</td><td>2.22454552173475e-06</td><td>0</td><td>21114.0584587944</td><td>daily/tiles/cumulative/40227/20220316/redrock-7-40227-thru20220316.fits</td><td>477</td><td>84917</td><td>AT 2014gz</td><td>14:15:50.789</td><td>+01:52:57.56</td><td>--</td><td>--</td><td>--</td><td>--</td><td>Pan-STARRS</td><td>Pan-STARRS</td><td>--</td><td>Pan-STARRS</td><td>PS21eue</td><td>PS1 - GPC1</td><td>--</td><td>1</td><td>1</td><td>--</td><td>19.7</td><td>z-Sloan</td><td>2014-01-21 15:41:45.600</td><td>PS1_Bot1</td><td>--</td><td>2021TNSTR1857....1C</td><td>--</td><td>--</td><td>56678.654</td></tr>\n",
       "<tr><td>2305843036527006581</td><td>213.961527277109</td><td>1.88262857945183</td><td>40227</td><td>20220316</td><td>59654.38551385</td><td>0.0255937490645334</td><td>2.22454552173475e-06</td><td>0</td><td>21114.0584587944</td><td>daily/tiles/cumulative/40227/20220316/redrock-7-40227-thru20220316.fits</td><td>477</td><td>84917</td><td>AT 2014gz</td><td>14:15:50.789</td><td>+01:52:57.56</td><td>--</td><td>--</td><td>--</td><td>--</td><td>Pan-STARRS</td><td>Pan-STARRS</td><td>--</td><td>Pan-STARRS</td><td>PS21eue</td><td>PS1 - GPC1</td><td>--</td><td>1</td><td>1</td><td>--</td><td>19.7</td><td>z-Sloan</td><td>2014-01-21 15:41:45.600</td><td>PS1_Bot1</td><td>--</td><td>2021TNSTR1857....1C</td><td>--</td><td>--</td><td>56678.654</td></tr>\n",
       "<tr><td>2305843036527006581</td><td>213.961537844716</td><td>1.88262371876446</td><td>40227</td><td>20220316</td><td>59655.38712732</td><td>0.0255937490645334</td><td>2.22454552173475e-06</td><td>0</td><td>21114.0584587944</td><td>daily/tiles/cumulative/40227/20220316/redrock-7-40227-thru20220316.fits</td><td>477</td><td>84917</td><td>AT 2014gz</td><td>14:15:50.789</td><td>+01:52:57.56</td><td>--</td><td>--</td><td>--</td><td>--</td><td>Pan-STARRS</td><td>Pan-STARRS</td><td>--</td><td>Pan-STARRS</td><td>PS21eue</td><td>PS1 - GPC1</td><td>--</td><td>1</td><td>1</td><td>--</td><td>19.7</td><td>z-Sloan</td><td>2014-01-21 15:41:45.600</td><td>PS1_Bot1</td><td>--</td><td>2021TNSTR1857....1C</td><td>--</td><td>--</td><td>56678.654</td></tr>\n",
       "<tr><td>39628160278462562</td><td>320.633581070666</td><td>15.4189049201051</td><td>23210</td><td>20220602</td><td>59733.46283296</td><td>0.0881045276070695</td><td>2.76138797619642e-05</td><td>0</td><td>2053.14641317166</td><td>daily/tiles/cumulative/23210/20220602/redrock-3-23210-thru20220602.fits</td><td>490</td><td>96559</td><td>AT 2013lh</td><td>21:22:32.042</td><td>+15:25:08.13</td><td>--</td><td>--</td><td>--</td><td>--</td><td>Pan-STARRS</td><td>Pan-STARRS</td><td>--</td><td>Pan-STARRS</td><td>PS21mnk</td><td>PS1 - GPC1</td><td>--</td><td>1</td><td>1</td><td>--</td><td>19.46</td><td>y-P1</td><td>2013-11-18 05:24:00.000</td><td>PS1_Bot1</td><td>--</td><td>2021TNSTR3947....1C</td><td>--</td><td>--</td><td>56614.225</td></tr>\n",
       "<tr><td>39633223927465635</td><td>144.490448718808</td><td>48.3883440241435</td><td>20958</td><td>20220121</td><td>59601.30381076</td><td>0.102658023348616</td><td>2.4009626386747e-05</td><td>0</td><td>3726.81925548799</td><td>daily/tiles/cumulative/20958/20220121/redrock-9-20958-thru20220121.fits</td><td>498</td><td>78903</td><td>AT 2013kz</td><td>09:37:57.710</td><td>+48:23:18.21</td><td>--</td><td>--</td><td>--</td><td>--</td><td>Pan-STARRS</td><td>Pan-STARRS</td><td>--</td><td>Pan-STARRS</td><td>PS21bms</td><td>PS1 - GPC1</td><td>--</td><td>1</td><td>1</td><td>--</td><td>20.1</td><td>z-Sloan</td><td>2013-11-17 14:57:07.200</td><td>PS1_Bot1</td><td>--</td><td>2021TNSTR.749....1C</td><td>--</td><td>--</td><td>56613.623</td></tr>\n",
       "</table></div>"
      ],
      "text/plain": [
       "<Table length=3596>\n",
       "      TARGETID          FIBER_RA     ... Ext. catalog/s Discovery Date (MJD)\n",
       "       int64            float64      ...     int64            float64       \n",
       "------------------- ---------------- ... -------------- --------------------\n",
       "  39628522947347397 230.347315965993 ...             --          59737.26951\n",
       "  39628262648845377 241.572609377006 ...             --          59729.49657\n",
       "  39628130159174650 265.176185250919 ...             --          59731.40957\n",
       "  39627763748966538 189.734074290681 ...             --          59734.18314\n",
       "  39627763748966538  189.73403709154 ...             --          59734.18314\n",
       "  39627681850986125 345.669004196735 ...             --    59737.43063659722\n",
       "  39627633268360807 319.075201527494 ...             --          59734.53628\n",
       "  39627633268360807 319.075201527494 ...             --          59734.53628\n",
       "  39628087016555190  144.48931196721 ...             --            59728.521\n",
       "  39628491750118330 219.337537810525 ...             --    59728.57498842593\n",
       "                ...              ... ...            ...                  ...\n",
       "  39628138245784745 42.1634485408897 ...             --            57274.499\n",
       "  39627836633387718 213.961536066144 ...             --            56678.654\n",
       "2305843036527006581   213.9615194762 ...             --            56678.654\n",
       "2305843036527006581   213.9615194762 ...             --            56678.654\n",
       "2305843036527006581 213.961527277109 ...             --            56678.654\n",
       "2305843036527006581   213.9615194762 ...             --            56678.654\n",
       "2305843036527006581 213.961527277109 ...             --            56678.654\n",
       "2305843036527006581 213.961537844716 ...             --            56678.654\n",
       "  39628160278462562 320.633581070666 ...             --            56614.225\n",
       "  39633223927465635 144.490448718808 ...             --            56613.623"
      ]
     },
     "execution_count": 6,
     "metadata": {},
     "output_type": "execute_result"
    }
   ],
   "source": [
    "desi_targets"
   ]
  },
  {
   "cell_type": "markdown",
   "id": "cb329f5f-4c2c-48dc-b3d6-b7f365d346d9",
   "metadata": {},
   "source": [
    "### Dump Output to a File"
   ]
  },
  {
   "cell_type": "code",
   "execution_count": 7,
   "id": "79a77d91-8f17-43d2-8788-96439650afa6",
   "metadata": {},
   "outputs": [],
   "source": [
    "desi_targets.write('desi_tns_matches_thru_202206.fits', overwrite=True)"
   ]
  },
  {
   "cell_type": "markdown",
   "id": "5d4529e7-ff06-4cbf-a6b3-52d94469bb53",
   "metadata": {},
   "source": [
    "## Select Observations within a $\\pm$3 Week Window around the TNS Discovery Date"
   ]
  },
  {
   "cell_type": "code",
   "execution_count": 8,
   "id": "8900c9ff-f594-44ae-bff1-e09c13dfaa41",
   "metadata": {},
   "outputs": [],
   "source": [
    "select = np.abs(desi_targets['MJD'] - desi_targets['Discovery Date (MJD)']) < 21"
   ]
  },
  {
   "cell_type": "code",
   "execution_count": 9,
   "id": "29d46c75-1e62-4ff3-ae7c-33cc6ad153b5",
   "metadata": {},
   "outputs": [
    {
     "data": {
      "text/html": [
       "<div><i>Table length=366</i>\n",
       "<table id=\"table23453654322672\" class=\"table-striped table-bordered table-condensed\">\n",
       "<thead><tr><th>TARGETID</th><th>FIBER_RA</th><th>FIBER_DEC</th><th>TILEID</th><th>NIGHT</th><th>MJD</th><th>Z</th><th>ZERR</th><th>ZWARN</th><th>DELTACHI2</th><th>FILENAME</th><th>col0</th><th>ID</th><th>Name</th><th>RA</th><th>DEC</th><th>Obj. Type</th><th>Redshift</th><th>Host Name</th><th>Host Redshift</th><th>Reporting Group/s</th><th>Discovery Data Source/s</th><th>Classifying Group/s</th><th>Associated Group/s</th><th>Disc. Internal Name</th><th>Disc. Instrument/s</th><th>Class. Instrument/s</th><th>TNS AT</th><th>Public</th><th>End Prop. Period</th><th>Discovery Mag/Flux</th><th>Discovery Filter</th><th>Discovery Date (UT)</th><th>Sender</th><th>Remarks</th><th>Discovery Bibcode</th><th>Classification Bibcodes</th><th>Ext. catalog/s</th><th>Discovery Date (MJD)</th></tr></thead>\n",
       "<thead><tr><th>int64</th><th>float64</th><th>float64</th><th>int64</th><th>int64</th><th>float64</th><th>float64</th><th>float64</th><th>int64</th><th>float64</th><th>str71</th><th>int64</th><th>int64</th><th>str11</th><th>str12</th><th>str12</th><th>str17</th><th>float64</th><th>str32</th><th>float64</th><th>str58</th><th>str51</th><th>str39</th><th>str51</th><th>str29</th><th>str147</th><th>str67</th><th>int64</th><th>int64</th><th>str10</th><th>float64</th><th>str13</th><th>str23</th><th>str20</th><th>str134</th><th>str19</th><th>str166</th><th>int64</th><th>float64</th></tr></thead>\n",
       "<tr><td>39633183557290010</td><td>211.401571479868</td><td>46.0352918708225</td><td>24307</td><td>20220512</td><td>59712.2399852</td><td>0.151717815377948</td><td>1.45188747008652e-05</td><td>0</td><td>342.536314070225</td><td>daily/tiles/cumulative/24307/20220512/redrock-2-24307-thru20220512.fits</td><td>424</td><td>110233</td><td>AT 2022mdx</td><td>14:05:36.322</td><td>+46:02:07.24</td><td>--</td><td>--</td><td>SDSS J140536.39+460207.0</td><td>--</td><td>ALeRCE</td><td>ZTF</td><td>--</td><td>ALeRCE</td><td>ZTF22aandihp</td><td>P48 - ZTF-Cam</td><td>--</td><td>1</td><td>1</td><td>--</td><td>20.7592</td><td>g-ZTF</td><td>2022-06-02 06:41:05.001</td><td>ALeRCE</td><td>--</td><td>2022TNSTR1568....1M</td><td>--</td><td>--</td><td>59732.278530104166</td></tr>\n",
       "<tr><td>39628385227378740</td><td>236.873131811834</td><td>25.4495715939117</td><td>7504</td><td>20220605</td><td>59736.29982708</td><td>0.581114725102594</td><td>1.06952559428867e-05</td><td>0</td><td>25808.99387604</td><td>daily/tiles/cumulative/7504/20220605/redrock-4-7504-thru20220605.fits</td><td>474</td><td>110183</td><td>AT 2022mbz</td><td>15:47:29.560</td><td>+25:26:58.34</td><td>--</td><td>--</td><td>--</td><td>--</td><td>GaiaAlerts</td><td>GaiaAlerts</td><td>--</td><td>GaiaAlerts</td><td>Gaia22cfo</td><td>Gaia - Gaia-photometric</td><td>--</td><td>1</td><td>1</td><td>--</td><td>18.08</td><td>G-Gaia</td><td>2022-05-22 21:46:04.800</td><td>Gaia_Bot1</td><td>--</td><td>2022TNSTR1559....1H</td><td>--</td><td>--</td><td>59721.907</td></tr>\n",
       "<tr><td>39628497592781687</td><td>263.173099681455</td><td>30.636962630219</td><td>25610</td><td>20220516</td><td>59716.41518338</td><td>-7.97770424580597e-05</td><td>1.32295044959574e-06</td><td>0</td><td>125234.549368564</td><td>daily/tiles/cumulative/25610/20220516/redrock-3-25610-thru20220516.fits</td><td>14</td><td>110143</td><td>AT 2022mal</td><td>17:32:41.540</td><td>+30:38:12.84</td><td>--</td><td>--</td><td>--</td><td>--</td><td>GaiaAlerts</td><td>GaiaAlerts</td><td>--</td><td>GaiaAlerts</td><td>Gaia22cfk</td><td>Gaia - Gaia-photometric</td><td>--</td><td>1</td><td>1</td><td>--</td><td>17.53</td><td>G-Gaia</td><td>2022-05-22 02:21:07.200</td><td>Gaia_Bot1</td><td>--</td><td>2022TNSTR1559....1H</td><td>--</td><td>--</td><td>59721.098</td></tr>\n",
       "<tr><td>2305843021716920599</td><td>199.517626297325</td><td>66.1944509569795</td><td>40123</td><td>20220510</td><td>59710.21578847</td><td>0.0776120629553853</td><td>2.86669563553839e-05</td><td>0</td><td>2791.68721711449</td><td>daily/tiles/cumulative/40123/20220510/redrock-5-40123-thru20220510.fits</td><td>17</td><td>110139</td><td>SN 2022mai</td><td>13:18:04.296</td><td>+66:11:40.06</td><td>SN Ia</td><td>0.07749</td><td>--</td><td>--</td><td>ZTF, ATLAS</td><td>ZTF, ATLAS</td><td>ZTF</td><td>ATLAS; ZTF</td><td>ZTF22aalzyzl</td><td>ATLAS-HKO - ATLAS-02, ATLAS-MLO - ATLAS-01, P48 - ZTF-Cam</td><td>P60 - SEDM</td><td>1</td><td>1</td><td>--</td><td>20.42</td><td>g-ZTF</td><td>2022-05-30 09:48:57.600</td><td>ZTF_Bot1</td><td>--</td><td>2022TNSTR1563....1F</td><td>2022TNSCR1641....1S</td><td>--</td><td>59729.409</td></tr>\n",
       "<tr><td>39632966669830273</td><td>235.672526912134</td><td>34.3691312722889</td><td>5944</td><td>20220528</td><td>59728.30776534</td><td>2.05197222911073</td><td>0.000119854491934782</td><td>2</td><td>1150.01232803613</td><td>daily/tiles/cumulative/5944/20220528/redrock-4-5944-thru20220528.fits</td><td>223</td><td>109931</td><td>AT 2022lsk</td><td>15:42:41.410</td><td>+34:22:08.80</td><td>--</td><td>--</td><td>--</td><td>--</td><td>GaiaAlerts</td><td>GaiaAlerts</td><td>--</td><td>GaiaAlerts</td><td>Gaia22ceb</td><td>Gaia - Gaia-photometric</td><td>--</td><td>1</td><td>1</td><td>--</td><td>18.44</td><td>G-Gaia</td><td>2022-05-18 19:56:38.400</td><td>Gaia_Bot1</td><td>--</td><td>2022TNSTR1537....1H</td><td>--</td><td>--</td><td>59717.831</td></tr>\n",
       "<tr><td>39627993487770793</td><td>239.388067912658</td><td>8.51192640742695</td><td>24914</td><td>20220316</td><td>59655.48832933</td><td>0.05</td><td>1.76850202395271e-05</td><td>1056</td><td>109062.424378578</td><td>daily/tiles/cumulative/24914/20220316/redrock-8-24914-thru20220316.fits</td><td>435</td><td>109718</td><td>AT 2022lkg</td><td>15:57:33.171</td><td>+08:30:42.96</td><td>--</td><td>--</td><td>--</td><td>--</td><td>ZTF</td><td>ZTF</td><td>--</td><td>ZTF</td><td>ZTF22aagpzva</td><td>P48 - ZTF-Cam</td><td>--</td><td>1</td><td>1</td><td>--</td><td>18.9781</td><td>r-ZTF</td><td>2022-04-04 08:58:12.000</td><td>ZTF_CLU_PUBLIC</td><td>--</td><td>2022TNSTR1499....1D</td><td>--</td><td>--</td><td>59673.37375</td></tr>\n",
       "<tr><td>39627993487770792</td><td>239.38807069105</td><td>8.51195302140565</td><td>23352</td><td>20220413</td><td>59683.41815283</td><td>0.05</td><td>1.94601282840151e-05</td><td>1056</td><td>80983.527652743</td><td>daily/tiles/cumulative/23352/20220413/redrock-3-23352-thru20220413.fits</td><td>435</td><td>109718</td><td>AT 2022lkg</td><td>15:57:33.171</td><td>+08:30:42.96</td><td>--</td><td>--</td><td>--</td><td>--</td><td>ZTF</td><td>ZTF</td><td>--</td><td>ZTF</td><td>ZTF22aagpzva</td><td>P48 - ZTF-Cam</td><td>--</td><td>1</td><td>1</td><td>--</td><td>18.9781</td><td>r-ZTF</td><td>2022-04-04 08:58:12.000</td><td>ZTF_CLU_PUBLIC</td><td>--</td><td>2022TNSTR1499....1D</td><td>--</td><td>--</td><td>59673.37375</td></tr>\n",
       "<tr><td>43977624695162029</td><td>188.384191207986</td><td>7.09298575549743</td><td>42390</td><td>20220601</td><td>59732.13811398</td><td>0.116097205774152</td><td>1.49898248876406e-05</td><td>0</td><td>517.421557724476</td><td>daily/tiles/cumulative/42390/20220601/redrock-9-42390-thru20220601.fits</td><td>441</td><td>109712</td><td>AT 2022lka</td><td>12:33:32.202</td><td>+07:05:34.81</td><td>--</td><td>--</td><td>--</td><td>--</td><td>YSE, ALeRCE</td><td>Pan-STARRS, ZTF</td><td>--</td><td>ALeRCE; Pan-STARRS; YSE</td><td>PS22eta</td><td>P48 - ZTF-Cam, PS2 - GPC2</td><td>--</td><td>1</td><td>1</td><td>--</td><td>20.99</td><td>r-P1</td><td>2022-05-26 08:51:58.752</td><td>YSE_Bot1</td><td>--</td><td>2022TNSTR1497....1J</td><td>--</td><td>--</td><td>59725.36943</td></tr>\n",
       "<tr><td>39627860964544786</td><td>224.192573447494</td><td>2.93940353803714</td><td>21673</td><td>20220510</td><td>59710.30525505</td><td>0.0812878044181924</td><td>5.30550712100984e-06</td><td>0</td><td>882.292108893394</td><td>daily/tiles/cumulative/21673/20220510/redrock-5-21673-thru20220510.fits</td><td>471</td><td>109680</td><td>AT 2022liw</td><td>14:56:46.222</td><td>+02:56:21.57</td><td>--</td><td>--</td><td>--</td><td>--</td><td>ZTF, Pan-STARRS</td><td>ZTF, Pan-STARRS</td><td>--</td><td>Pan-STARRS; ZTF</td><td>ZTF22aalzjnl</td><td>P48 - ZTF-Cam, PS2 - GPC2</td><td>--</td><td>1</td><td>1</td><td>--</td><td>20.65</td><td>g-ZTF</td><td>2022-05-27 07:55:12.000</td><td>ZTF_Bot1</td><td>--</td><td>2022TNSTR1498....1F</td><td>--</td><td>--</td><td>59726.33</td></tr>\n",
       "<tr><td>39633232655811861</td><td>210.904460388055</td><td>49.0070418328187</td><td>22742</td><td>20220510</td><td>59710.23631437</td><td>0.143021599778506</td><td>3.97070676748311e-05</td><td>0</td><td>2668.47312404774</td><td>daily/tiles/cumulative/22742/20220510/redrock-4-22742-thru20220510.fits</td><td>162</td><td>109485</td><td>AT 2022lbn</td><td>14:03:37.073</td><td>+49:00:25.41</td><td>--</td><td>--</td><td>SDSS J140337.07+490025.4</td><td>--</td><td>ALeRCE</td><td>ZTF</td><td>--</td><td>ALeRCE</td><td>ZTF22aalorqw</td><td>P48 - ZTF-Cam</td><td>--</td><td>1</td><td>1</td><td>--</td><td>20.496</td><td>g-ZTF</td><td>2022-05-27 07:16:01.004</td><td>ALeRCE</td><td>--</td><td>2022TNSTR1449....1M</td><td>--</td><td>--</td><td>59726.30278939815</td></tr>\n",
       "<tr><td>...</td><td>...</td><td>...</td><td>...</td><td>...</td><td>...</td><td>...</td><td>...</td><td>...</td><td>...</td><td>...</td><td>...</td><td>...</td><td>...</td><td>...</td><td>...</td><td>...</td><td>...</td><td>...</td><td>...</td><td>...</td><td>...</td><td>...</td><td>...</td><td>...</td><td>...</td><td>...</td><td>...</td><td>...</td><td>...</td><td>...</td><td>...</td><td>...</td><td>...</td><td>...</td><td>...</td><td>...</td><td>...</td><td>...</td></tr>\n",
       "<tr><td>39627764172591630</td><td>214.955478749904</td><td>-0.90653227674892</td><td>228</td><td>20210410</td><td>59310.29890173</td><td>0.713660855873407</td><td>0.000197036303839342</td><td>0</td><td>101.825421722606</td><td>daily/tiles/cumulative/228/20210410/zbest-2-228-thru20210410.fits</td><td>485</td><td>81541</td><td>AT 2021jdc</td><td>14:19:49.344</td><td>-00:54:23.40</td><td>--</td><td>--</td><td>--</td><td>--</td><td>DESIRT</td><td>DESIRT</td><td>--</td><td>DESIRT</td><td>--</td><td>CTIO-4m - DECAM</td><td>--</td><td>1</td><td>1</td><td>--</td><td>21.3408</td><td>z-Sloan</td><td>2021-03-22 08:00:11.934</td><td>DESIRT_Bot</td><td>Discovery-date, mag and filter corrected on 2021-05-06 following the reporters re-analysis.</td><td>2021TNSTR1165....1C</td><td>--</td><td>--</td><td>59295.33347145833</td></tr>\n",
       "<tr><td>39627764172591630</td><td>214.955478749904</td><td>-0.90653227674892</td><td>228</td><td>20210416</td><td>59310.29890173</td><td>0.713610788299592</td><td>0.000107305529255213</td><td>0</td><td>487.653127666563</td><td>daily/tiles/cumulative/228/20210416/zbest-2-228-thru20210416.fits</td><td>485</td><td>81541</td><td>AT 2021jdc</td><td>14:19:49.344</td><td>-00:54:23.40</td><td>--</td><td>--</td><td>--</td><td>--</td><td>DESIRT</td><td>DESIRT</td><td>--</td><td>DESIRT</td><td>--</td><td>CTIO-4m - DECAM</td><td>--</td><td>1</td><td>1</td><td>--</td><td>21.3408</td><td>z-Sloan</td><td>2021-03-22 08:00:11.934</td><td>DESIRT_Bot</td><td>Discovery-date, mag and filter corrected on 2021-05-06 following the reporters re-analysis.</td><td>2021TNSTR1165....1C</td><td>--</td><td>--</td><td>59295.33347145833</td></tr>\n",
       "<tr><td>39627794447076125</td><td>219.386413404786</td><td>0.373177927722098</td><td>248</td><td>20210410</td><td>59315.36266139</td><td>0.629506218132248</td><td>3.55301662093643e-05</td><td>0</td><td>1833.23014932126</td><td>daily/tiles/cumulative/248/20210410/zbest-4-248-thru20210410.fits</td><td>6</td><td>81520</td><td>AT 2021jch</td><td>14:37:32.736</td><td>+00:22:23.88</td><td>--</td><td>--</td><td>--</td><td>--</td><td>DESIRT</td><td>DESIRT</td><td>--</td><td>DESIRT</td><td>--</td><td>CTIO-4m - DECAM</td><td>--</td><td>1</td><td>1</td><td>--</td><td>21.9579</td><td>r-Sloan</td><td>2021-03-22 07:08:07.814</td><td>DESIRT_Bot</td><td>Discovery-date, mag and filter corrected on 2021-05-06 following the reporters re-analysis.</td><td>2021TNSTR1165....1C</td><td>--</td><td>--</td><td>59295.297312662035</td></tr>\n",
       "<tr><td>39627788428247518</td><td>220.515800204133</td><td>0.0757801787526245</td><td>255</td><td>20210407</td><td>59312.42208769</td><td>0.240521135655286</td><td>1.03065709227549e-05</td><td>0</td><td>12405.1882048845</td><td>daily/tiles/cumulative/255/20210407/zbest-6-255-thru20210407.fits</td><td>8</td><td>81518</td><td>AT 2021jcf</td><td>14:42:03.792</td><td>+00:04:32.88</td><td>--</td><td>--</td><td>--</td><td>--</td><td>DESIRT</td><td>DESIRT</td><td>--</td><td>DESIRT</td><td>--</td><td>CTIO-4m - DECAM</td><td>--</td><td>1</td><td>1</td><td>--</td><td>21.7437</td><td>g-Sloan</td><td>2021-03-22 07:11:34.080</td><td>DESIRT_Bot</td><td>--</td><td>2021TNSTR1165....1C</td><td>--</td><td>--</td><td>59295.2997</td></tr>\n",
       "<tr><td>39633325266043988</td><td>171.839119532235</td><td>55.2111034034091</td><td>81073</td><td>20210401</td><td>59306.39451993</td><td>0.163481308914614</td><td>7.60050621469877e-06</td><td>0</td><td>942.682966709137</td><td>daily/tiles/cumulative/81073/20210401/zbest-2-81073-thru20210401.fits</td><td>129</td><td>81397</td><td>AT 2021ixo</td><td>11:27:21.313</td><td>+55:12:39.83</td><td>--</td><td>--</td><td>SDSS J112721.38+551239.9</td><td>--</td><td>ALeRCE</td><td>ZTF</td><td>--</td><td>ZTF</td><td>ZTF21aatxgha</td><td>P48 - ZTF-Cam</td><td>--</td><td>1</td><td>1</td><td>--</td><td>20.8496</td><td>g-ZTF</td><td>2021-04-10 05:53:16.996</td><td>ALeRCE</td><td>--</td><td>2021TNSTR1134....1F</td><td>--</td><td>--</td><td>59314.24533560185</td></tr>\n",
       "<tr><td>39633325266043988</td><td>171.839119532235</td><td>55.2111034034091</td><td>81073</td><td>20210404</td><td>59306.39451993</td><td>0.163507212525065</td><td>5.3465879924796e-06</td><td>0</td><td>2222.80727994442</td><td>daily/tiles/cumulative/81073/20210404/zbest-2-81073-thru20210404.fits</td><td>129</td><td>81397</td><td>AT 2021ixo</td><td>11:27:21.313</td><td>+55:12:39.83</td><td>--</td><td>--</td><td>SDSS J112721.38+551239.9</td><td>--</td><td>ALeRCE</td><td>ZTF</td><td>--</td><td>ZTF</td><td>ZTF21aatxgha</td><td>P48 - ZTF-Cam</td><td>--</td><td>1</td><td>1</td><td>--</td><td>20.8496</td><td>g-ZTF</td><td>2021-04-10 05:53:16.996</td><td>ALeRCE</td><td>--</td><td>2021TNSTR1134....1F</td><td>--</td><td>--</td><td>59314.24533560185</td></tr>\n",
       "<tr><td>39633345692304714</td><td>179.217321678252</td><td>56.7544177070784</td><td>81066</td><td>20210326</td><td>59300.38079042</td><td>0.100214474562974</td><td>2.91549402770258e-06</td><td>0</td><td>4682.86248254776</td><td>daily/tiles/cumulative/81066/20210326/zbest-5-81066-thru20210326.fits</td><td>396</td><td>81127</td><td>AT 2021inh</td><td>11:56:52.171</td><td>+56:45:16.23</td><td>--</td><td>--</td><td>SDSS J115652.16+564515.9</td><td>--</td><td>ALeRCE</td><td>ZTF</td><td>--</td><td>ZTF</td><td>ZTF21aaszasa</td><td>P48 - ZTF-Cam</td><td>--</td><td>1</td><td>1</td><td>--</td><td>20.9619</td><td>g-ZTF</td><td>2021-04-03 06:50:49.998</td><td>ALeRCE</td><td>--</td><td>2021TNSTR1092....1M</td><td>--</td><td>--</td><td>59307.285300902775</td></tr>\n",
       "<tr><td>39627818585294438</td><td>218.061104029636</td><td>1.33749842063417</td><td>284</td><td>20210414</td><td>59319.36007529</td><td>0.136389693557611</td><td>5.36843403734462e-05</td><td>0</td><td>954.749215929769</td><td>daily/tiles/cumulative/284/20210414/zbest-0-284-thru20210414.fits</td><td>54</td><td>80964</td><td>SN 2021ihf</td><td>14:32:14.661</td><td>+01:20:14.29</td><td>SN Ia-pec</td><td>0.135</td><td>SDSS J143214.65+012014.9</td><td>--</td><td>ALeRCE, DESIRT</td><td>ZTF, DESIRT</td><td>DESIRT</td><td>DESIRT; ZTF</td><td>ZTF21aasqujp</td><td>CTIO-4m - DECAM, P48 - ZTF-Cam</td><td>HET - HET-LRS</td><td>1</td><td>1</td><td>--</td><td>20.353</td><td>g-ZTF</td><td>2021-04-03 09:06:16.004</td><td>ALeRCE</td><td>--</td><td>2021TNSTR1052....1M</td><td>2021TNSCR1646....1V</td><td>--</td><td>59307.37935189815</td></tr>\n",
       "<tr><td>39627749714825060</td><td>73.1537469978605</td><td>-1.38251234598517</td><td>80639</td><td>20210228</td><td>59225.17067884</td><td>0.177274462346576</td><td>4.80890618044715e-06</td><td>0</td><td>1211.69931602478</td><td>daily/tiles/cumulative/80639/20210228/zbest-8-80639-thru20210228.fits</td><td>477</td><td>77951</td><td>AT 2021dyt</td><td>04:52:36.868</td><td>-01:22:57.87</td><td>--</td><td>--</td><td>--</td><td>--</td><td>Pan-STARRS</td><td>Pan-STARRS</td><td>--</td><td>Pan-STARRS</td><td>PS21ams</td><td>PS1 - GPC1</td><td>--</td><td>1</td><td>1</td><td>--</td><td>22.25</td><td>w-P1</td><td>2021-01-05 07:58:04.800</td><td>PS1_Bot1</td><td>--</td><td>2021TNSTR.629....1C</td><td>--</td><td>--</td><td>59219.332</td></tr>\n",
       "<tr><td>39627731570268174</td><td>71.7425332056671</td><td>-2.23666521722614</td><td>80639</td><td>20210228</td><td>59225.17067873</td><td>0.152890563609236</td><td>1.31144761757775e-05</td><td>0</td><td>26748.0038896368</td><td>daily/tiles/cumulative/80639/20210228/zbest-1-80639-thru20210228.fits</td><td>300</td><td>75557</td><td>AT 2021ank</td><td>04:46:58.142</td><td>-02:14:12.13</td><td>--</td><td>--</td><td>WISEA J044658.20-021412.2</td><td>--</td><td>ALeRCE</td><td>ZTF</td><td>--</td><td>ZTF</td><td>ZTF21aacnrbj</td><td>P48 - ZTF-Cam</td><td>--</td><td>1</td><td>1</td><td>--</td><td>20.1754</td><td>g-ZTF</td><td>2021-01-16 04:59:00.001</td><td>ALeRCE</td><td>--</td><td>2021TNSTR.160....1F</td><td>--</td><td>--</td><td>59230.207638900465</td></tr>\n",
       "</table></div>"
      ],
      "text/plain": [
       "<Table length=366>\n",
       "      TARGETID          FIBER_RA     ... Ext. catalog/s Discovery Date (MJD)\n",
       "       int64            float64      ...     int64            float64       \n",
       "------------------- ---------------- ... -------------- --------------------\n",
       "  39633183557290010 211.401571479868 ...             --   59732.278530104166\n",
       "  39628385227378740 236.873131811834 ...             --            59721.907\n",
       "  39628497592781687 263.173099681455 ...             --            59721.098\n",
       "2305843021716920599 199.517626297325 ...             --            59729.409\n",
       "  39632966669830273 235.672526912134 ...             --            59717.831\n",
       "  39627993487770793 239.388067912658 ...             --          59673.37375\n",
       "  39627993487770792  239.38807069105 ...             --          59673.37375\n",
       "  43977624695162029 188.384191207986 ...             --          59725.36943\n",
       "  39627860964544786 224.192573447494 ...             --             59726.33\n",
       "  39633232655811861 210.904460388055 ...             --    59726.30278939815\n",
       "                ...              ... ...            ...                  ...\n",
       "  39627764172591630 214.955478749904 ...             --    59295.33347145833\n",
       "  39627764172591630 214.955478749904 ...             --    59295.33347145833\n",
       "  39627794447076125 219.386413404786 ...             --   59295.297312662035\n",
       "  39627788428247518 220.515800204133 ...             --           59295.2997\n",
       "  39633325266043988 171.839119532235 ...             --    59314.24533560185\n",
       "  39633325266043988 171.839119532235 ...             --    59314.24533560185\n",
       "  39633345692304714 179.217321678252 ...             --   59307.285300902775\n",
       "  39627818585294438 218.061104029636 ...             --    59307.37935189815\n",
       "  39627749714825060 73.1537469978605 ...             --            59219.332\n",
       "  39627731570268174 71.7425332056671 ...             --   59230.207638900465"
      ]
     },
     "execution_count": 9,
     "metadata": {},
     "output_type": "execute_result"
    }
   ],
   "source": [
    "desi_targets[select]"
   ]
  }
 ],
 "metadata": {
  "kernelspec": {
   "display_name": "DESI master",
   "language": "python",
   "name": "desi-master"
  },
  "language_info": {
   "codemirror_mode": {
    "name": "ipython",
    "version": 3
   },
   "file_extension": ".py",
   "mimetype": "text/x-python",
   "name": "python",
   "nbconvert_exporter": "python",
   "pygments_lexer": "ipython3",
   "version": "3.9.7"
  }
 },
 "nbformat": 4,
 "nbformat_minor": 5
}
