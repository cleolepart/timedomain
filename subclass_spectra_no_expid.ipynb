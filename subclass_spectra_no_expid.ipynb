{
 "cells": [
  {
   "cell_type": "code",
   "execution_count": 54,
   "id": "63953819-a602-4bce-92cc-eb5c400635ab",
   "metadata": {},
   "outputs": [],
   "source": [
    "from __future__ import absolute_import, division, print_function\n",
    "import os, sys, time\n",
    "\n",
    "import numpy as np\n",
    "\n",
    "import scipy.sparse\n",
    "import scipy.linalg\n",
    "import scipy.sparse.linalg\n",
    "\n",
    "from astropy.table import Table, Column\n",
    "\n",
    "import multiprocessing\n",
    "\n",
    "from desiutil.log import get_logger\n",
    "\n",
    "from desispec.interpolation import resample_flux\n",
    "from desispec.spectra import Spectra\n",
    "from desispec.resolution import Resolution\n",
    "from desispec.fiberbitmasking import get_all_fiberbitmask_with_amp, get_all_nonamp_fiberbitmask_val, get_justamps_fiberbitmask\n",
    "from desispec.specscore import compute_coadd_scores\n",
    "from subclass_spectra_no_expid import spectra_no_expid#, coadd_no_expid, coadd_fibermap_no_expid\n",
    "\n",
    "from astropy.table import Table, vstack, unique, SortedArray\n",
    "import glob\n",
    "import time\n",
    "from datetime import date, timedelta, datetime\n",
    "import psycopg2\n",
    "import sqlite3\n",
    "import pandas as pd\n",
    "from functools import reduce\n",
    "from desispec.io import read_spectra, write_spectra\n",
    "from desispec.spectra import Spectra\n",
    "from desispec.coaddition import coadd\n",
    "\n",
    "#from updateNoExpid import update_no_expid\n",
    "\n",
    "import matplotlib.pyplot as plt\n",
    "import os\n",
    "from desiutil.log import get_logger, DEBUG"
   ]
  },
  {
   "cell_type": "code",
   "execution_count": 55,
   "id": "987109f1-8240-4dd0-a83f-9dbd9b8e1364",
   "metadata": {},
   "outputs": [],
   "source": [
    "s0 = spectra_no_expid()"
   ]
  },
  {
   "cell_type": "code",
   "execution_count": 56,
   "id": "e50951cd-da1e-49aa-a153-3a6466a89bda",
   "metadata": {},
   "outputs": [
    {
     "name": "stdout",
     "output_type": "stream",
     "text": [
      "<class 'subclass_spectra_no_expid.spectra_no_expid'>\n"
     ]
    }
   ],
   "source": [
    "print(type(s0))"
   ]
  },
  {
   "cell_type": "code",
   "execution_count": 57,
   "id": "ce8897b3-1f74-4646-aaf0-9940fc757c16",
   "metadata": {},
   "outputs": [
    {
     "name": "stdout",
     "output_type": "stream",
     "text": [
      "INFO:spectra.py:253:read_spectra: iotime 2.464 sec to read spectra-8-136-thru20210406.fits at 2021-07-15T10:45:27.972466\n"
     ]
    }
   ],
   "source": [
    "s0 = read_spectra(f\"/global/project/projectdirs/desi/spectro/redux/daily/tiles/cumulative/136/20210406/spectra-8-136-thru20210406.fits\")"
   ]
  },
  {
   "cell_type": "code",
   "execution_count": 58,
   "id": "930b81a4-c047-4853-a49e-67d87a55a424",
   "metadata": {},
   "outputs": [
    {
     "data": {
      "text/html": [
       "&lt;Column name=&apos;EXPID&apos; dtype=&apos;int32&apos; length=2500&gt;\n",
       "<table>\n",
       "<tr><td>83539</td></tr>\n",
       "<tr><td>83539</td></tr>\n",
       "<tr><td>83539</td></tr>\n",
       "<tr><td>83539</td></tr>\n",
       "<tr><td>83539</td></tr>\n",
       "<tr><td>83539</td></tr>\n",
       "<tr><td>83539</td></tr>\n",
       "<tr><td>83539</td></tr>\n",
       "<tr><td>83539</td></tr>\n",
       "<tr><td>83539</td></tr>\n",
       "<tr><td>83539</td></tr>\n",
       "<tr><td>83539</td></tr>\n",
       "<tr><td>...</td></tr>\n",
       "<tr><td>83725</td></tr>\n",
       "<tr><td>83725</td></tr>\n",
       "<tr><td>83725</td></tr>\n",
       "<tr><td>83725</td></tr>\n",
       "<tr><td>83725</td></tr>\n",
       "<tr><td>83725</td></tr>\n",
       "<tr><td>83725</td></tr>\n",
       "<tr><td>83725</td></tr>\n",
       "<tr><td>83725</td></tr>\n",
       "<tr><td>83725</td></tr>\n",
       "<tr><td>83725</td></tr>\n",
       "<tr><td>83725</td></tr>\n",
       "</table>"
      ],
      "text/plain": [
       "<Column name='EXPID' dtype='int32' length=2500>\n",
       "83539\n",
       "83539\n",
       "83539\n",
       "83539\n",
       "83539\n",
       "83539\n",
       "83539\n",
       "83539\n",
       "83539\n",
       "83539\n",
       "83539\n",
       "83539\n",
       "  ...\n",
       "83725\n",
       "83725\n",
       "83725\n",
       "83725\n",
       "83725\n",
       "83725\n",
       "83725\n",
       "83725\n",
       "83725\n",
       "83725\n",
       "83725\n",
       "83725"
      ]
     },
     "execution_count": 58,
     "metadata": {},
     "output_type": "execute_result"
    }
   ],
   "source": [
    "s0.fibermap['EXPID']"
   ]
  },
  {
   "cell_type": "code",
   "execution_count": 59,
   "id": "aeb92eb1-3854-445b-8d70-c483352b93b1",
   "metadata": {},
   "outputs": [
    {
     "ename": "NameError",
     "evalue": "name 'coadd_no_expid' is not defined",
     "output_type": "error",
     "traceback": [
      "\u001b[0;31m---------------------------------------------------------------------------\u001b[0m",
      "\u001b[0;31mNameError\u001b[0m                                 Traceback (most recent call last)",
      "\u001b[0;32m<ipython-input-59-13b324dc1296>\u001b[0m in \u001b[0;36m<module>\u001b[0;34m\u001b[0m\n\u001b[0;32m----> 1\u001b[0;31m \u001b[0mcoadd_no_expid\u001b[0m\u001b[0;34m(\u001b[0m\u001b[0ms0\u001b[0m\u001b[0;34m)\u001b[0m\u001b[0;34m\u001b[0m\u001b[0;34m\u001b[0m\u001b[0m\n\u001b[0m",
      "\u001b[0;31mNameError\u001b[0m: name 'coadd_no_expid' is not defined"
     ]
    }
   ],
   "source": [
    "coadd_no_expid(s0)"
   ]
  },
  {
   "cell_type": "code",
   "execution_count": 15,
   "id": "02f7fd69-06f3-4522-8ba6-db5a550e8eb9",
   "metadata": {},
   "outputs": [
    {
     "data": {
      "text/plain": [
       "500"
      ]
     },
     "execution_count": 15,
     "metadata": {},
     "output_type": "execute_result"
    }
   ],
   "source": [
    "s0.num_spectra()"
   ]
  },
  {
   "cell_type": "code",
   "execution_count": 19,
   "id": "6cb12503-850b-4171-8388-754c0b53c1a6",
   "metadata": {},
   "outputs": [
    {
     "ename": "KeyError",
     "evalue": "'EXPID'",
     "output_type": "error",
     "traceback": [
      "\u001b[0;31m---------------------------------------------------------------------------\u001b[0m",
      "\u001b[0;31mKeyError\u001b[0m                                  Traceback (most recent call last)",
      "\u001b[0;32m<ipython-input-19-b7c6cb08dc0a>\u001b[0m in \u001b[0;36m<module>\u001b[0;34m\u001b[0m\n\u001b[0;32m----> 1\u001b[0;31m \u001b[0ms0\u001b[0m\u001b[0;34m.\u001b[0m\u001b[0mfibermap\u001b[0m\u001b[0;34m[\u001b[0m\u001b[0;34m'EXPID'\u001b[0m\u001b[0;34m]\u001b[0m\u001b[0;34m\u001b[0m\u001b[0;34m\u001b[0m\u001b[0m\n\u001b[0m",
      "\u001b[0;32m/global/common/software/desi/cori/desiconda/20200801-1.4.0-spec/conda/lib/python3.8/site-packages/astropy/table/table.py\u001b[0m in \u001b[0;36m__getitem__\u001b[0;34m(self, item)\u001b[0m\n\u001b[1;32m   1600\u001b[0m     \u001b[0;32mdef\u001b[0m \u001b[0m__getitem__\u001b[0m\u001b[0;34m(\u001b[0m\u001b[0mself\u001b[0m\u001b[0;34m,\u001b[0m \u001b[0mitem\u001b[0m\u001b[0;34m)\u001b[0m\u001b[0;34m:\u001b[0m\u001b[0;34m\u001b[0m\u001b[0;34m\u001b[0m\u001b[0m\n\u001b[1;32m   1601\u001b[0m         \u001b[0;32mif\u001b[0m \u001b[0misinstance\u001b[0m\u001b[0;34m(\u001b[0m\u001b[0mitem\u001b[0m\u001b[0;34m,\u001b[0m \u001b[0mstr\u001b[0m\u001b[0;34m)\u001b[0m\u001b[0;34m:\u001b[0m\u001b[0;34m\u001b[0m\u001b[0;34m\u001b[0m\u001b[0m\n\u001b[0;32m-> 1602\u001b[0;31m             \u001b[0;32mreturn\u001b[0m \u001b[0mself\u001b[0m\u001b[0;34m.\u001b[0m\u001b[0mcolumns\u001b[0m\u001b[0;34m[\u001b[0m\u001b[0mitem\u001b[0m\u001b[0;34m]\u001b[0m\u001b[0;34m\u001b[0m\u001b[0;34m\u001b[0m\u001b[0m\n\u001b[0m\u001b[1;32m   1603\u001b[0m         \u001b[0;32melif\u001b[0m \u001b[0misinstance\u001b[0m\u001b[0;34m(\u001b[0m\u001b[0mitem\u001b[0m\u001b[0;34m,\u001b[0m \u001b[0;34m(\u001b[0m\u001b[0mint\u001b[0m\u001b[0;34m,\u001b[0m \u001b[0mnp\u001b[0m\u001b[0;34m.\u001b[0m\u001b[0minteger\u001b[0m\u001b[0;34m)\u001b[0m\u001b[0;34m)\u001b[0m\u001b[0;34m:\u001b[0m\u001b[0;34m\u001b[0m\u001b[0;34m\u001b[0m\u001b[0m\n\u001b[1;32m   1604\u001b[0m             \u001b[0;32mreturn\u001b[0m \u001b[0mself\u001b[0m\u001b[0;34m.\u001b[0m\u001b[0mRow\u001b[0m\u001b[0;34m(\u001b[0m\u001b[0mself\u001b[0m\u001b[0;34m,\u001b[0m \u001b[0mitem\u001b[0m\u001b[0;34m)\u001b[0m\u001b[0;34m\u001b[0m\u001b[0;34m\u001b[0m\u001b[0m\n",
      "\u001b[0;32m/global/common/software/desi/cori/desiconda/20200801-1.4.0-spec/conda/lib/python3.8/site-packages/astropy/table/table.py\u001b[0m in \u001b[0;36m__getitem__\u001b[0;34m(self, item)\u001b[0m\n\u001b[1;32m    237\u001b[0m         \"\"\"\n\u001b[1;32m    238\u001b[0m         \u001b[0;32mif\u001b[0m \u001b[0misinstance\u001b[0m\u001b[0;34m(\u001b[0m\u001b[0mitem\u001b[0m\u001b[0;34m,\u001b[0m \u001b[0mstr\u001b[0m\u001b[0;34m)\u001b[0m\u001b[0;34m:\u001b[0m\u001b[0;34m\u001b[0m\u001b[0;34m\u001b[0m\u001b[0m\n\u001b[0;32m--> 239\u001b[0;31m             \u001b[0;32mreturn\u001b[0m \u001b[0mOrderedDict\u001b[0m\u001b[0;34m.\u001b[0m\u001b[0m__getitem__\u001b[0m\u001b[0;34m(\u001b[0m\u001b[0mself\u001b[0m\u001b[0;34m,\u001b[0m \u001b[0mitem\u001b[0m\u001b[0;34m)\u001b[0m\u001b[0;34m\u001b[0m\u001b[0;34m\u001b[0m\u001b[0m\n\u001b[0m\u001b[1;32m    240\u001b[0m         \u001b[0;32melif\u001b[0m \u001b[0misinstance\u001b[0m\u001b[0;34m(\u001b[0m\u001b[0mitem\u001b[0m\u001b[0;34m,\u001b[0m \u001b[0;34m(\u001b[0m\u001b[0mint\u001b[0m\u001b[0;34m,\u001b[0m \u001b[0mnp\u001b[0m\u001b[0;34m.\u001b[0m\u001b[0minteger\u001b[0m\u001b[0;34m)\u001b[0m\u001b[0;34m)\u001b[0m\u001b[0;34m:\u001b[0m\u001b[0;34m\u001b[0m\u001b[0;34m\u001b[0m\u001b[0m\n\u001b[1;32m    241\u001b[0m             \u001b[0;32mreturn\u001b[0m \u001b[0mself\u001b[0m\u001b[0;34m.\u001b[0m\u001b[0mvalues\u001b[0m\u001b[0;34m(\u001b[0m\u001b[0;34m)\u001b[0m\u001b[0;34m[\u001b[0m\u001b[0mitem\u001b[0m\u001b[0;34m]\u001b[0m\u001b[0;34m\u001b[0m\u001b[0;34m\u001b[0m\u001b[0m\n",
      "\u001b[0;31mKeyError\u001b[0m: 'EXPID'"
     ]
    }
   ],
   "source": [
    "s0.fibermap['EXPID'] ### s0 is a spectra_no_expid object (a subclass of Spectra)"
   ]
  },
  {
   "cell_type": "code",
   "execution_count": 20,
   "id": "49ac3e4b-5920-49e0-9972-6dfc64c64cc6",
   "metadata": {},
   "outputs": [],
   "source": [
    "s1 = Spectra()"
   ]
  },
  {
   "cell_type": "code",
   "execution_count": 21,
   "id": "e1429b0a-6439-4a17-9937-54f3cac7a85d",
   "metadata": {},
   "outputs": [
    {
     "name": "stdout",
     "output_type": "stream",
     "text": [
      "INFO:spectra.py:253:read_spectra: iotime 1.151 sec to read spectra-8-136-thru20210405.fits at 2021-07-15T10:05:05.086353\n"
     ]
    }
   ],
   "source": [
    "s1 = read_spectra(f\"/global/project/projectdirs/desi/spectro/redux/daily/tiles/cumulative/136/20210405/spectra-8-136-thru20210405.fits\")"
   ]
  },
  {
   "cell_type": "code",
   "execution_count": 22,
   "id": "ada3e293-395a-4562-bbc0-7fcd431c414a",
   "metadata": {},
   "outputs": [],
   "source": [
    "coadd_no_expid(s1)"
   ]
  },
  {
   "cell_type": "code",
   "execution_count": 23,
   "id": "bc6e2d75-ec57-4fb4-b1fb-cb91ad670e8a",
   "metadata": {},
   "outputs": [
    {
     "ename": "KeyError",
     "evalue": "'EXPID'",
     "output_type": "error",
     "traceback": [
      "\u001b[0;31m---------------------------------------------------------------------------\u001b[0m",
      "\u001b[0;31mKeyError\u001b[0m                                  Traceback (most recent call last)",
      "\u001b[0;32m<ipython-input-23-4afe0c82f8c1>\u001b[0m in \u001b[0;36m<module>\u001b[0;34m\u001b[0m\n\u001b[0;32m----> 1\u001b[0;31m \u001b[0ms1\u001b[0m\u001b[0;34m.\u001b[0m\u001b[0mfibermap\u001b[0m\u001b[0;34m[\u001b[0m\u001b[0;34m'EXPID'\u001b[0m\u001b[0;34m]\u001b[0m\u001b[0;34m\u001b[0m\u001b[0;34m\u001b[0m\u001b[0m\n\u001b[0m",
      "\u001b[0;32m/global/common/software/desi/cori/desiconda/20200801-1.4.0-spec/conda/lib/python3.8/site-packages/astropy/table/table.py\u001b[0m in \u001b[0;36m__getitem__\u001b[0;34m(self, item)\u001b[0m\n\u001b[1;32m   1600\u001b[0m     \u001b[0;32mdef\u001b[0m \u001b[0m__getitem__\u001b[0m\u001b[0;34m(\u001b[0m\u001b[0mself\u001b[0m\u001b[0;34m,\u001b[0m \u001b[0mitem\u001b[0m\u001b[0;34m)\u001b[0m\u001b[0;34m:\u001b[0m\u001b[0;34m\u001b[0m\u001b[0;34m\u001b[0m\u001b[0m\n\u001b[1;32m   1601\u001b[0m         \u001b[0;32mif\u001b[0m \u001b[0misinstance\u001b[0m\u001b[0;34m(\u001b[0m\u001b[0mitem\u001b[0m\u001b[0;34m,\u001b[0m \u001b[0mstr\u001b[0m\u001b[0;34m)\u001b[0m\u001b[0;34m:\u001b[0m\u001b[0;34m\u001b[0m\u001b[0;34m\u001b[0m\u001b[0m\n\u001b[0;32m-> 1602\u001b[0;31m             \u001b[0;32mreturn\u001b[0m \u001b[0mself\u001b[0m\u001b[0;34m.\u001b[0m\u001b[0mcolumns\u001b[0m\u001b[0;34m[\u001b[0m\u001b[0mitem\u001b[0m\u001b[0;34m]\u001b[0m\u001b[0;34m\u001b[0m\u001b[0;34m\u001b[0m\u001b[0m\n\u001b[0m\u001b[1;32m   1603\u001b[0m         \u001b[0;32melif\u001b[0m \u001b[0misinstance\u001b[0m\u001b[0;34m(\u001b[0m\u001b[0mitem\u001b[0m\u001b[0;34m,\u001b[0m \u001b[0;34m(\u001b[0m\u001b[0mint\u001b[0m\u001b[0;34m,\u001b[0m \u001b[0mnp\u001b[0m\u001b[0;34m.\u001b[0m\u001b[0minteger\u001b[0m\u001b[0;34m)\u001b[0m\u001b[0;34m)\u001b[0m\u001b[0;34m:\u001b[0m\u001b[0;34m\u001b[0m\u001b[0;34m\u001b[0m\u001b[0m\n\u001b[1;32m   1604\u001b[0m             \u001b[0;32mreturn\u001b[0m \u001b[0mself\u001b[0m\u001b[0;34m.\u001b[0m\u001b[0mRow\u001b[0m\u001b[0;34m(\u001b[0m\u001b[0mself\u001b[0m\u001b[0;34m,\u001b[0m \u001b[0mitem\u001b[0m\u001b[0;34m)\u001b[0m\u001b[0;34m\u001b[0m\u001b[0;34m\u001b[0m\u001b[0m\n",
      "\u001b[0;32m/global/common/software/desi/cori/desiconda/20200801-1.4.0-spec/conda/lib/python3.8/site-packages/astropy/table/table.py\u001b[0m in \u001b[0;36m__getitem__\u001b[0;34m(self, item)\u001b[0m\n\u001b[1;32m    237\u001b[0m         \"\"\"\n\u001b[1;32m    238\u001b[0m         \u001b[0;32mif\u001b[0m \u001b[0misinstance\u001b[0m\u001b[0;34m(\u001b[0m\u001b[0mitem\u001b[0m\u001b[0;34m,\u001b[0m \u001b[0mstr\u001b[0m\u001b[0;34m)\u001b[0m\u001b[0;34m:\u001b[0m\u001b[0;34m\u001b[0m\u001b[0;34m\u001b[0m\u001b[0m\n\u001b[0;32m--> 239\u001b[0;31m             \u001b[0;32mreturn\u001b[0m \u001b[0mOrderedDict\u001b[0m\u001b[0;34m.\u001b[0m\u001b[0m__getitem__\u001b[0m\u001b[0;34m(\u001b[0m\u001b[0mself\u001b[0m\u001b[0;34m,\u001b[0m \u001b[0mitem\u001b[0m\u001b[0;34m)\u001b[0m\u001b[0;34m\u001b[0m\u001b[0;34m\u001b[0m\u001b[0m\n\u001b[0m\u001b[1;32m    240\u001b[0m         \u001b[0;32melif\u001b[0m \u001b[0misinstance\u001b[0m\u001b[0;34m(\u001b[0m\u001b[0mitem\u001b[0m\u001b[0;34m,\u001b[0m \u001b[0;34m(\u001b[0m\u001b[0mint\u001b[0m\u001b[0;34m,\u001b[0m \u001b[0mnp\u001b[0m\u001b[0;34m.\u001b[0m\u001b[0minteger\u001b[0m\u001b[0;34m)\u001b[0m\u001b[0;34m)\u001b[0m\u001b[0;34m:\u001b[0m\u001b[0;34m\u001b[0m\u001b[0;34m\u001b[0m\u001b[0m\n\u001b[1;32m    241\u001b[0m             \u001b[0;32mreturn\u001b[0m \u001b[0mself\u001b[0m\u001b[0;34m.\u001b[0m\u001b[0mvalues\u001b[0m\u001b[0;34m(\u001b[0m\u001b[0;34m)\u001b[0m\u001b[0;34m[\u001b[0m\u001b[0mitem\u001b[0m\u001b[0;34m]\u001b[0m\u001b[0;34m\u001b[0m\u001b[0;34m\u001b[0m\u001b[0m\n",
      "\u001b[0;31mKeyError\u001b[0m: 'EXPID'"
     ]
    }
   ],
   "source": [
    "s1.fibermap['EXPID']"
   ]
  },
  {
   "cell_type": "code",
   "execution_count": 18,
   "id": "027af051-f9bf-4849-94ec-42be61242363",
   "metadata": {},
   "outputs": [
    {
     "data": {
      "text/html": [
       "&lt;Column name=&apos;EXPID&apos; dtype=&apos;int32&apos; length=1000&gt;\n",
       "<table>\n",
       "<tr><td>83539</td></tr>\n",
       "<tr><td>83539</td></tr>\n",
       "<tr><td>83539</td></tr>\n",
       "<tr><td>83539</td></tr>\n",
       "<tr><td>83539</td></tr>\n",
       "<tr><td>83539</td></tr>\n",
       "<tr><td>83539</td></tr>\n",
       "<tr><td>83539</td></tr>\n",
       "<tr><td>83539</td></tr>\n",
       "<tr><td>83539</td></tr>\n",
       "<tr><td>83539</td></tr>\n",
       "<tr><td>83539</td></tr>\n",
       "<tr><td>...</td></tr>\n",
       "<tr><td>83540</td></tr>\n",
       "<tr><td>83540</td></tr>\n",
       "<tr><td>83540</td></tr>\n",
       "<tr><td>83540</td></tr>\n",
       "<tr><td>83540</td></tr>\n",
       "<tr><td>83540</td></tr>\n",
       "<tr><td>83540</td></tr>\n",
       "<tr><td>83540</td></tr>\n",
       "<tr><td>83540</td></tr>\n",
       "<tr><td>83540</td></tr>\n",
       "<tr><td>83540</td></tr>\n",
       "<tr><td>83540</td></tr>\n",
       "</table>"
      ],
      "text/plain": [
       "<Column name='EXPID' dtype='int32' length=1000>\n",
       "83539\n",
       "83539\n",
       "83539\n",
       "83539\n",
       "83539\n",
       "83539\n",
       "83539\n",
       "83539\n",
       "83539\n",
       "83539\n",
       "83539\n",
       "83539\n",
       "  ...\n",
       "83540\n",
       "83540\n",
       "83540\n",
       "83540\n",
       "83540\n",
       "83540\n",
       "83540\n",
       "83540\n",
       "83540\n",
       "83540\n",
       "83540\n",
       "83540"
      ]
     },
     "execution_count": 18,
     "metadata": {},
     "output_type": "execute_result"
    }
   ],
   "source": [
    "s1.fibermap['EXPID']"
   ]
  },
  {
   "cell_type": "code",
   "execution_count": null,
   "id": "fea75624-ca69-44b5-a11e-c2d50856e164",
   "metadata": {},
   "outputs": [],
   "source": []
  }
 ],
 "metadata": {
  "kernelspec": {
   "display_name": "DESI 21.3",
   "language": "python",
   "name": "desi-21.3"
  },
  "language_info": {
   "codemirror_mode": {
    "name": "ipython",
    "version": 3
   },
   "file_extension": ".py",
   "mimetype": "text/x-python",
   "name": "python",
   "nbconvert_exporter": "python",
   "pygments_lexer": "ipython3",
   "version": "3.8.3"
  }
 },
 "nbformat": 4,
 "nbformat_minor": 5
}
