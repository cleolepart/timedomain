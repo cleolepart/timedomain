{
 "cells": [
  {
   "cell_type": "code",
   "execution_count": null,
   "id": "a4f1163d-fcea-48cc-a369-85ba831955d8",
   "metadata": {},
   "outputs": [],
   "source": [
    "from astropy.table import Table\n",
    "import os\n",
    "import glob \n",
    "import numpy as np\n",
    "nights = []\n",
    "startdate=20220611\n",
    "enddate=202206114\n",
    "\n",
    "for night in range(startdate,enddate):\n",
    "    nights.append(night)\n",
    "    \n",
    "too = Table.read(os.path.join(os.getenv(\"DESI_SURVEYOPS\"), \"mtl\", \"main\", \"ToO\", \"ToO-fiber.ecsv\"))\n",
    "\n",
    "for lastnight in nights:\n",
    "    fns = sorted(glob.glob(os.path.join(os.getenv(\"DESI_ROOT\"), \"spectro\", \"redux\", \"daily\", \"tiles\", \"cumulative\", \"*\", str(lastnight), \"tile-qa-*-thru\"+str(lastnight)+\".fits\")))\n",
    "    for fn in fns:\n",
    "        d = Table.read(fn, \"FIBERQA\")\n",
    "        sel = (d[\"QAFIBERSTATUS\"] == 0) & (np.in1d(d[\"TARGETID\"], too[\"TARGETID\"]))\n",
    "        if sel.sum() > 0:\n",
    "            print(lastnight, d.meta[\"TILEID\"], sel.sum(), \",\".join(d[\"TARGETID\"][sel].astype(str)))"
   ]
  },
  {
   "cell_type": "code",
   "execution_count": null,
   "id": "2630b0a7-63d8-4161-8635-d978510bd0e3",
   "metadata": {},
   "outputs": [],
   "source": []
  },
  {
   "cell_type": "code",
   "execution_count": null,
   "id": "b8967e8a-2c8b-4b32-a82a-8f871d18d4e3",
   "metadata": {},
   "outputs": [],
   "source": []
  }
 ],
 "metadata": {
  "kernelspec": {
   "display_name": "DESI master",
   "language": "python",
   "name": "desi-master"
  },
  "language_info": {
   "codemirror_mode": {
    "name": "ipython",
    "version": 3
   },
   "file_extension": ".py",
   "mimetype": "text/x-python",
   "name": "python",
   "nbconvert_exporter": "python",
   "pygments_lexer": "ipython3",
   "version": "3.9.7"
  }
 },
 "nbformat": 4,
 "nbformat_minor": 5
}
