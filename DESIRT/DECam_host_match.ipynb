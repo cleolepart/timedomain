{
 "cells": [
  {
   "cell_type": "markdown",
   "metadata": {},
   "source": [
    "\n",
    "## Matches DESI observations to DECam to get a redshift\n",
    "\n",
    "This code predominately takes in data from the ALERCE and DECAM ledger brokers and identifies the closest DESI galaxy within 4 arcseconds of those objects, suspected to be transients. \n",
    "\n",
    "The main matching algorithm uses astropy's **match_coordinate_sky** to match 1-to-1 targets with the objects from the two ledgers. Wrapping functions handle data retrieval from both the ledgers as well as from DESI and prepare this data to be fed into **match_coordinate_sky**. Since ALERCE returns a small enough (pandas) dataframe, we do not need to precondition the input much. However, DECAM has many more objects to match so we use a two-stage process: an initial 2 degree match to tile RA's/DEC's and a second closer 1 arcsecond match to individual targets. \n"
   ]
  },
  {
   "cell_type": "code",
   "execution_count": 1,
   "metadata": {},
   "outputs": [],
   "source": [
    "from astropy.io import fits\n",
    "from astropy.table import Table\n",
    "from astropy import units as u\n",
    "from astropy.time import Time\n",
    "from astropy.coordinates import SkyCoord, match_coordinates_sky, Angle\n",
    "\n",
    "\n",
    "import matplotlib.pyplot as plt\n",
    "import numpy as np\n",
    "import pandas as pd\n",
    "import glob\n",
    "import sys\n",
    "\n",
    "import sqlite3\n",
    "import os\n",
    "\n",
    "from desispec.io import read_spectra, write_spectra\n",
    "from desispec.spectra import Spectra\n",
    "\n",
    "# Some handy global variables\n",
    "global db_filename\n",
    "db_filename = '/global/cfs/cdirs/desi/science/td/daily-search/transients_search.db'\n",
    "global exposure_path\n",
    "exposure_path = os.environ[\"DESI_SPECTRO_REDUX\"]\n",
    "global color_band\n",
    "color_band = \"r\"\n",
    "\n",
    "global today\n",
    "today = Time.now()"
   ]
  },
  {
   "cell_type": "code",
   "execution_count": 2,
   "metadata": {},
   "outputs": [],
   "source": [
    "\n",
    "def plt_style():\n",
    "    plt.rcParams.update({\n",
    "                        'lines.linewidth':1.0,\n",
    "                        'lines.linestyle':'-',\n",
    "                        'lines.color':'black',\n",
    "                        'font.family':'serif',\n",
    "                        'font.weight':'normal',\n",
    "                        'font.size':13.0,\n",
    "                        'text.color':'black',\n",
    "                        'text.usetex':True,\n",
    "                        'axes.edgecolor':'black',\n",
    "                        'axes.linewidth':1.0,\n",
    "                        'axes.grid':False,\n",
    "                        'axes.titlesize':'x-large',\n",
    "                        'axes.labelsize':'x-large',\n",
    "                        'axes.labelweight':'normal',\n",
    "                        'axes.labelcolor':'black',\n",
    "                        'axes.formatter.limits':[-4,4],\n",
    "                        'xtick.major.size':7,\n",
    "                        'xtick.minor.size':4,\n",
    "                        'xtick.major.pad':8,\n",
    "                        'xtick.minor.pad':8,\n",
    "                        'xtick.labelsize':'medium',\n",
    "                        'xtick.minor.width':1.0,\n",
    "                        'xtick.major.width':1.0,\n",
    "                        'ytick.major.size':7,\n",
    "                        'ytick.minor.size':4,\n",
    "                        'ytick.major.pad':8,\n",
    "                        'ytick.minor.pad':8,\n",
    "                        'ytick.labelsize':'medium',\n",
    "                        'ytick.minor.width':1.0,\n",
    "                        'ytick.major.width':1.0,\n",
    "                        'legend.numpoints':1,\n",
    "                        #'legend.fontsize':'x-large',\n",
    "                        'legend.shadow':False,\n",
    "                        'legend.frameon':False})\n",
    "\n",
    "\n",
    "# These are the \"Tableau 20\" colors as RGB.\n",
    "tableau20 = [(31, 119, 180), (174, 199, 232), (255, 127, 14), (255, 187, 120),\n",
    "             (44, 160, 44), (152, 223, 138), (214, 39, 40), (255, 152, 150),\n",
    "             (148, 103, 189), (197, 176, 213), (140, 86, 75), (196, 156, 148),\n",
    "             (227, 119, 194), (247, 182, 210), (127, 127, 127), (199, 199, 199),\n",
    "             (188, 189, 34), (219, 219, 141), (23, 190, 207), (158, 218, 229)]\n",
    "\n",
    "# Scale the RGB values to the [0, 1] range, which is the format matplotlib accepts.\n",
    "for i in range(len(tableau20)):\n",
    "    r, g, b = tableau20[i]\n",
    "    tableau20[i] = (r / 255., g / 255., b / 255.)\n",
    "\n",
    "\n",
    "\n"
   ]
  },
  {
   "cell_type": "markdown",
   "metadata": {},
   "source": [
    "## Necessary functions"
   ]
  },
  {
   "cell_type": "code",
   "execution_count": 3,
   "metadata": {},
   "outputs": [],
   "source": [
    "# From https://github.com/desihub/timedomain/blob/master/too_ledgers/decam_TAMU_ledgermaker.ipynb\n",
    "# Function to grab decam data\n",
    "from bs4 import BeautifulSoup\n",
    "import json\n",
    "import requests\n",
    "def access_decam_data(url, overwrite=False):\n",
    "    \"\"\"Download reduced DECam transient data from Texas A&M.\n",
    "    Cache the data to avoid lengthy and expensive downloads.\n",
    "    \n",
    "    Parameters\n",
    "    ----------\n",
    "    url : str\n",
    "        URL for accessing the data.\n",
    "    overwrite : bool\n",
    "        Download new data and overwrite the cached data.\n",
    "        \n",
    "    Returns\n",
    "    -------\n",
    "    decam_transients : pandas.DataFrame\n",
    "        Table of transient data.\n",
    "    \"\"\"\n",
    "    folders = url.split('/')\n",
    "    thedate = folders[-1] if len(folders[-1]) > 0 else folders[-2]\n",
    "    outfile = '{}.csv'.format(thedate)\n",
    "    \n",
    "    if os.path.exists(outfile) and not overwrite:\n",
    "        # Access cached data.\n",
    "        decam_transients = pd.read_csv(outfile)\n",
    "    else:\n",
    "        # Download the DECam data index.\n",
    "        # A try/except is needed because the datahub SSL certificate isn't playing well with URL requests.\n",
    "        try:\n",
    "            decam_dets = requests.get(url, auth=('decam','tamudecam')).text\n",
    "        except:\n",
    "            requests.packages.urllib3.disable_warnings(requests.packages.urllib3.exceptions.InsecureRequestWarning)\n",
    "            decam_dets = requests.get(url, verify=False, auth=('decam','tamudecam')).text\n",
    "            \n",
    "        # Convert transient index page into scrapable data using BeautifulSoup.\n",
    "        soup = BeautifulSoup(decam_dets)\n",
    "        \n",
    "        # Loop through transient object summary JSON files indexed in the main transient page.\n",
    "        # Download the JSONs and dump the info into a Pandas table.\n",
    "        decam_transients = None\n",
    "        j = 0\n",
    "\n",
    "        for a in soup.find_all('a', href=True):\n",
    "            if 'object-summary.json' in a:\n",
    "                link = a['href'].replace('./', '')\n",
    "                summary_url  = url + link        \n",
    "                summary_text = requests.get(summary_url, verify=False, auth=('decam','tamudecam')).text\n",
    "                summary_data = json.loads(summary_text)\n",
    "\n",
    "                j += 1\n",
    "                #print('Accessing {:3d}  {}'.format(j, summary_url)) # Modified by Matt\n",
    "\n",
    "                if decam_transients is None:\n",
    "                    decam_transients = pd.DataFrame(summary_data, index=[0])\n",
    "                else:\n",
    "                    decam_transients = pd.concat([decam_transients, pd.DataFrame(summary_data, index=[0])])\n",
    "                    \n",
    "        # Cache the data for future access.\n",
    "        print('Saving output to {}'.format(outfile))\n",
    "        decam_transients.to_csv(outfile, index=False)\n",
    "        \n",
    "    return decam_transients"
   ]
  },
  {
   "cell_type": "code",
   "execution_count": 4,
   "metadata": {},
   "outputs": [],
   "source": [
    "# Function to read in fits table info, RA, DEC, MJD and targetid if so desired\n",
    "# Uses control parameter tile to determine if opening tile exposure file or not since headers are different\n",
    "\n",
    "def read_fits_info(filepath: str):\n",
    "    try:\n",
    "        h=fits.open(filepath)\n",
    "        #targ_mjd = data_table['MJD'][0] some have different versions of this so this is a *bad* idea... at least now I know the try except works!\n",
    "        targ_ra, targ_dec = h[2].data['target_RA'],h[2].data['target_DEC']\n",
    "        targ_id = h[2].data['TARGETID'].astype(int)\n",
    "        targ_id_z = h[1].data['TARGETID']\n",
    "        targ_z = h[1].data['Z']\n",
    "        targ_spectype = h[1].data['SPECTYPE']\n",
    "        targ_zwarn = h[1].data['ZWARN']\n",
    "        targ_chi2 = h[1].data['DELTACHI2']\n",
    "            \n",
    "    except:\n",
    "        filename = filepath.split(\"/\")[-1]\n",
    "        print(\"Could not open or use:\", filename)\n",
    "        print(\"In path:\", filepath)\n",
    "        print(\"Trying the next file...\")\n",
    "        return np.array([]), np.array([]), np.array([])\n",
    "    \n",
    "    return targ_ra, targ_dec, targ_id, targ_z, targ_spectype, targ_zwarn, targ_chi2"
   ]
  },
  {
   "cell_type": "markdown",
   "metadata": {},
   "source": [
    "## Matching to DECAM functions"
   ]
  },
  {
   "cell_type": "code",
   "execution_count": 5,
   "metadata": {},
   "outputs": [],
   "source": [
    "# Grabbing the frame fits files\n",
    "def glob_frames(exp_d: str):    \n",
    "    # This function grabs the names of all input files in the transient directory and does some python string manipulation\n",
    "    # to grab the names of the input files with full path and the filenames themselves.\n",
    "\n",
    "    try:\n",
    "        filenames_read = glob.glob(exp_d + \"/redrock-*.fits\") # Only need one of b, r, z\n",
    "        # sframes not flux calibrated\n",
    "        # May want to use tiles... coadd (will need later, but not now)\n",
    "    \n",
    "    except:\n",
    "        print(\"Could not grab/find any fits in the exposure directory:\")\n",
    "        print(exp_d)\n",
    "        filenames_read = [] # Just in case\n",
    "        #filenames_out = [] # Just in case\n",
    "        raise SystemExit(\"Exiting.\")\n",
    "        \n",
    "    #else:\n",
    "        #filenames_out = [s.split(\".\")[0] for s in filenames_read]\n",
    "        #filenames_out = [s.split(\"/\")[-1] for s in filenames_read]\n",
    "        #filenames_out = [s.replace(\"in\", \"out\") for s in filenames_out]\n",
    "        \n",
    "    return filenames_read #, filenames_out\n",
    "\n",
    "#path_to_transient = \"/global/cfs/cdirs/desi/science/td/daily-search/desitrip/out\"\n",
    "#print(all_candidate_filenames(path_to_transient)[1])"
   ]
  },
  {
   "cell_type": "markdown",
   "metadata": {},
   "source": [
    "## Grab DECAM ledger as pandas dataframe"
   ]
  },
  {
   "cell_type": "code",
   "execution_count": 6,
   "metadata": {},
   "outputs": [],
   "source": [
    "decam_transients = access_decam_data('https://datahub.geos.tamu.edu:8000/decam/LCData_Legacy/', overwrite = False) # If True, grabs a fresh batch"
   ]
  },
  {
   "cell_type": "code",
   "execution_count": 7,
   "metadata": {},
   "outputs": [],
   "source": [
    "decam_transients_agn = access_decam_data('https://datahub.geos.tamu.edu:8000/decam/LCData_Legacy_AGN/', overwrite = False) # If True, grabs a fresh batch"
   ]
  },
  {
   "cell_type": "code",
   "execution_count": 8,
   "metadata": {},
   "outputs": [
    {
     "data": {
      "text/html": [
       "<div>\n",
       "<style scoped>\n",
       "    .dataframe tbody tr th:only-of-type {\n",
       "        vertical-align: middle;\n",
       "    }\n",
       "\n",
       "    .dataframe tbody tr th {\n",
       "        vertical-align: top;\n",
       "    }\n",
       "\n",
       "    .dataframe thead th {\n",
       "        text-align: right;\n",
       "    }\n",
       "</style>\n",
       "<table border=\"1\" class=\"dataframe\">\n",
       "  <thead>\n",
       "    <tr style=\"text-align: right;\">\n",
       "      <th></th>\n",
       "      <th>ObjectID</th>\n",
       "      <th>RA-OBJECT</th>\n",
       "      <th>DEC-OBJECT</th>\n",
       "      <th>NumberAlerts</th>\n",
       "      <th>MaxSCORE</th>\n",
       "      <th>RA-PSEUDO-HOST</th>\n",
       "      <th>DEC-PSEUDO-HOST</th>\n",
       "      <th>SEP-PSEUDO-HOST</th>\n",
       "      <th>RA-NEIGHBOR-STAR</th>\n",
       "      <th>DEC-NEIGHBOR-STAR</th>\n",
       "      <th>...</th>\n",
       "      <th>Discovery-Round</th>\n",
       "      <th>Discovery-Time</th>\n",
       "      <th>Discovery-Filter</th>\n",
       "      <th>Discovery-Magnitude</th>\n",
       "      <th>Discovery-SNR</th>\n",
       "      <th>Latest-Round</th>\n",
       "      <th>Latest-Time</th>\n",
       "      <th>Latest-Filter</th>\n",
       "      <th>Latest-Magnitude</th>\n",
       "      <th>Latest-SNR</th>\n",
       "    </tr>\n",
       "  </thead>\n",
       "  <tbody>\n",
       "    <tr>\n",
       "      <th>0</th>\n",
       "      <td>A202103221407558m001825</td>\n",
       "      <td>211.982786</td>\n",
       "      <td>-0.306951</td>\n",
       "      <td>12</td>\n",
       "      <td>0.972</td>\n",
       "      <td>211.982614</td>\n",
       "      <td>-0.306946</td>\n",
       "      <td>0.6199</td>\n",
       "      <td>211.983372</td>\n",
       "      <td>-0.306315</td>\n",
       "      <td>...</td>\n",
       "      <td>0</td>\n",
       "      <td>2021-03-22T06:40:19.074</td>\n",
       "      <td>N</td>\n",
       "      <td>22.13</td>\n",
       "      <td>19.2</td>\n",
       "      <td>9</td>\n",
       "      <td>2021-04-18T05:37:55.763</td>\n",
       "      <td>N</td>\n",
       "      <td>22.86</td>\n",
       "      <td>10.2</td>\n",
       "    </tr>\n",
       "    <tr>\n",
       "      <th>1</th>\n",
       "      <td>A202103221408139m033502</td>\n",
       "      <td>212.057952</td>\n",
       "      <td>-3.583947</td>\n",
       "      <td>28</td>\n",
       "      <td>0.954</td>\n",
       "      <td>212.057864</td>\n",
       "      <td>-3.583960</td>\n",
       "      <td>0.3199</td>\n",
       "      <td>212.058798</td>\n",
       "      <td>-3.586276</td>\n",
       "      <td>...</td>\n",
       "      <td>0</td>\n",
       "      <td>2021-03-22T08:20:58.209</td>\n",
       "      <td>N</td>\n",
       "      <td>21.78</td>\n",
       "      <td>25.7</td>\n",
       "      <td>23</td>\n",
       "      <td>2021-06-02T06:00:51.873</td>\n",
       "      <td>N</td>\n",
       "      <td>21.82</td>\n",
       "      <td>18.1</td>\n",
       "    </tr>\n",
       "    <tr>\n",
       "      <th>2</th>\n",
       "      <td>A202103221408412p002445</td>\n",
       "      <td>212.171737</td>\n",
       "      <td>0.412527</td>\n",
       "      <td>49</td>\n",
       "      <td>0.998</td>\n",
       "      <td>212.171673</td>\n",
       "      <td>0.412394</td>\n",
       "      <td>0.5317</td>\n",
       "      <td>212.174697</td>\n",
       "      <td>0.411566</td>\n",
       "      <td>...</td>\n",
       "      <td>0</td>\n",
       "      <td>2021-03-22T06:36:50.928</td>\n",
       "      <td>S</td>\n",
       "      <td>20.61</td>\n",
       "      <td>36.2</td>\n",
       "      <td>23</td>\n",
       "      <td>2021-06-02T02:59:21.867</td>\n",
       "      <td>S</td>\n",
       "      <td>21.46</td>\n",
       "      <td>33.9</td>\n",
       "    </tr>\n",
       "    <tr>\n",
       "      <th>3</th>\n",
       "      <td>A202103221408578m005300</td>\n",
       "      <td>212.241200</td>\n",
       "      <td>-0.883300</td>\n",
       "      <td>2</td>\n",
       "      <td>0.855</td>\n",
       "      <td>212.241200</td>\n",
       "      <td>-0.883400</td>\n",
       "      <td>0.3000</td>\n",
       "      <td>212.239800</td>\n",
       "      <td>-0.884900</td>\n",
       "      <td>...</td>\n",
       "      <td>0</td>\n",
       "      <td>2021-03-22T08:17:30.880</td>\n",
       "      <td>S</td>\n",
       "      <td>22.55</td>\n",
       "      <td>15.5</td>\n",
       "      <td>1</td>\n",
       "      <td>2021-03-24T07:10:51.368</td>\n",
       "      <td>S</td>\n",
       "      <td>22.33</td>\n",
       "      <td>25.6</td>\n",
       "    </tr>\n",
       "    <tr>\n",
       "      <th>4</th>\n",
       "      <td>A202103221409059m023156</td>\n",
       "      <td>212.274757</td>\n",
       "      <td>-2.532478</td>\n",
       "      <td>21</td>\n",
       "      <td>0.969</td>\n",
       "      <td>212.274533</td>\n",
       "      <td>-2.532531</td>\n",
       "      <td>0.8290</td>\n",
       "      <td>212.275356</td>\n",
       "      <td>-2.535003</td>\n",
       "      <td>...</td>\n",
       "      <td>0</td>\n",
       "      <td>2021-03-22T08:14:02.747</td>\n",
       "      <td>N</td>\n",
       "      <td>22.27</td>\n",
       "      <td>10.6</td>\n",
       "      <td>18</td>\n",
       "      <td>2021-05-18T03:17:17.544</td>\n",
       "      <td>N</td>\n",
       "      <td>22.99</td>\n",
       "      <td>8.8</td>\n",
       "    </tr>\n",
       "    <tr>\n",
       "      <th>...</th>\n",
       "      <td>...</td>\n",
       "      <td>...</td>\n",
       "      <td>...</td>\n",
       "      <td>...</td>\n",
       "      <td>...</td>\n",
       "      <td>...</td>\n",
       "      <td>...</td>\n",
       "      <td>...</td>\n",
       "      <td>...</td>\n",
       "      <td>...</td>\n",
       "      <td>...</td>\n",
       "      <td>...</td>\n",
       "      <td>...</td>\n",
       "      <td>...</td>\n",
       "      <td>...</td>\n",
       "      <td>...</td>\n",
       "      <td>...</td>\n",
       "      <td>...</td>\n",
       "      <td>...</td>\n",
       "      <td>...</td>\n",
       "      <td>...</td>\n",
       "    </tr>\n",
       "    <tr>\n",
       "      <th>552</th>\n",
       "      <td>T202106021437535m004239</td>\n",
       "      <td>219.473273</td>\n",
       "      <td>-0.710944</td>\n",
       "      <td>6</td>\n",
       "      <td>0.973</td>\n",
       "      <td>219.473277</td>\n",
       "      <td>-0.711253</td>\n",
       "      <td>1.1100</td>\n",
       "      <td>219.473195</td>\n",
       "      <td>-0.714488</td>\n",
       "      <td>...</td>\n",
       "      <td>23</td>\n",
       "      <td>2021-06-02T02:37:33.855</td>\n",
       "      <td>N</td>\n",
       "      <td>21.46</td>\n",
       "      <td>30.6</td>\n",
       "      <td>24</td>\n",
       "      <td>2021-06-05T02:15:30.763</td>\n",
       "      <td>N</td>\n",
       "      <td>21.44</td>\n",
       "      <td>19.8</td>\n",
       "    </tr>\n",
       "    <tr>\n",
       "      <th>553</th>\n",
       "      <td>T202106021440559m025615</td>\n",
       "      <td>220.233290</td>\n",
       "      <td>-2.937658</td>\n",
       "      <td>4</td>\n",
       "      <td>0.940</td>\n",
       "      <td>220.233839</td>\n",
       "      <td>-2.935933</td>\n",
       "      <td>6.5148</td>\n",
       "      <td>220.230799</td>\n",
       "      <td>-2.938535</td>\n",
       "      <td>...</td>\n",
       "      <td>23</td>\n",
       "      <td>2021-06-02T05:33:59.097</td>\n",
       "      <td>S</td>\n",
       "      <td>22.14</td>\n",
       "      <td>13.6</td>\n",
       "      <td>23</td>\n",
       "      <td>2021-06-02T05:40:21.261</td>\n",
       "      <td>S</td>\n",
       "      <td>22.36</td>\n",
       "      <td>14.0</td>\n",
       "    </tr>\n",
       "    <tr>\n",
       "      <th>554</th>\n",
       "      <td>T202106021442286m035936</td>\n",
       "      <td>220.619578</td>\n",
       "      <td>-3.993391</td>\n",
       "      <td>3</td>\n",
       "      <td>0.935</td>\n",
       "      <td>220.618952</td>\n",
       "      <td>-3.993328</td>\n",
       "      <td>2.2614</td>\n",
       "      <td>220.615993</td>\n",
       "      <td>-3.991748</td>\n",
       "      <td>...</td>\n",
       "      <td>23</td>\n",
       "      <td>2021-06-02T05:33:59.097</td>\n",
       "      <td>N</td>\n",
       "      <td>22.15</td>\n",
       "      <td>22.5</td>\n",
       "      <td>23</td>\n",
       "      <td>2021-06-02T05:36:54.041</td>\n",
       "      <td>N</td>\n",
       "      <td>22.07</td>\n",
       "      <td>10.5</td>\n",
       "    </tr>\n",
       "    <tr>\n",
       "      <th>555</th>\n",
       "      <td>T202106021449003p003225</td>\n",
       "      <td>222.251305</td>\n",
       "      <td>0.540528</td>\n",
       "      <td>7</td>\n",
       "      <td>0.984</td>\n",
       "      <td>222.251090</td>\n",
       "      <td>0.540740</td>\n",
       "      <td>1.0845</td>\n",
       "      <td>222.249251</td>\n",
       "      <td>0.544256</td>\n",
       "      <td>...</td>\n",
       "      <td>23</td>\n",
       "      <td>2021-06-02T02:27:20.976</td>\n",
       "      <td>S</td>\n",
       "      <td>21.04</td>\n",
       "      <td>47.1</td>\n",
       "      <td>24</td>\n",
       "      <td>2021-06-05T02:06:24.397</td>\n",
       "      <td>S</td>\n",
       "      <td>21.21</td>\n",
       "      <td>18.4</td>\n",
       "    </tr>\n",
       "    <tr>\n",
       "      <th>556</th>\n",
       "      <td>T202106051435333m000534</td>\n",
       "      <td>218.888992</td>\n",
       "      <td>-0.092877</td>\n",
       "      <td>2</td>\n",
       "      <td>0.857</td>\n",
       "      <td>218.889396</td>\n",
       "      <td>-0.095045</td>\n",
       "      <td>7.9375</td>\n",
       "      <td>218.890974</td>\n",
       "      <td>-0.090694</td>\n",
       "      <td>...</td>\n",
       "      <td>24</td>\n",
       "      <td>2021-06-05T02:14:11.170</td>\n",
       "      <td>N</td>\n",
       "      <td>22.36</td>\n",
       "      <td>21.7</td>\n",
       "      <td>24</td>\n",
       "      <td>2021-06-05T02:15:30.763</td>\n",
       "      <td>N</td>\n",
       "      <td>21.86</td>\n",
       "      <td>14.9</td>\n",
       "    </tr>\n",
       "  </tbody>\n",
       "</table>\n",
       "<p>557 rows × 21 columns</p>\n",
       "</div>"
      ],
      "text/plain": [
       "                    ObjectID   RA-OBJECT  DEC-OBJECT  NumberAlerts  MaxSCORE  \\\n",
       "0    A202103221407558m001825  211.982786   -0.306951            12     0.972   \n",
       "1    A202103221408139m033502  212.057952   -3.583947            28     0.954   \n",
       "2    A202103221408412p002445  212.171737    0.412527            49     0.998   \n",
       "3    A202103221408578m005300  212.241200   -0.883300             2     0.855   \n",
       "4    A202103221409059m023156  212.274757   -2.532478            21     0.969   \n",
       "..                       ...         ...         ...           ...       ...   \n",
       "552  T202106021437535m004239  219.473273   -0.710944             6     0.973   \n",
       "553  T202106021440559m025615  220.233290   -2.937658             4     0.940   \n",
       "554  T202106021442286m035936  220.619578   -3.993391             3     0.935   \n",
       "555  T202106021449003p003225  222.251305    0.540528             7     0.984   \n",
       "556  T202106051435333m000534  218.888992   -0.092877             2     0.857   \n",
       "\n",
       "     RA-PSEUDO-HOST  DEC-PSEUDO-HOST  SEP-PSEUDO-HOST  RA-NEIGHBOR-STAR  \\\n",
       "0        211.982614        -0.306946           0.6199        211.983372   \n",
       "1        212.057864        -3.583960           0.3199        212.058798   \n",
       "2        212.171673         0.412394           0.5317        212.174697   \n",
       "3        212.241200        -0.883400           0.3000        212.239800   \n",
       "4        212.274533        -2.532531           0.8290        212.275356   \n",
       "..              ...              ...              ...               ...   \n",
       "552      219.473277        -0.711253           1.1100        219.473195   \n",
       "553      220.233839        -2.935933           6.5148        220.230799   \n",
       "554      220.618952        -3.993328           2.2614        220.615993   \n",
       "555      222.251090         0.540740           1.0845        222.249251   \n",
       "556      218.889396        -0.095045           7.9375        218.890974   \n",
       "\n",
       "     DEC-NEIGHBOR-STAR  ...  Discovery-Round           Discovery-Time  \\\n",
       "0            -0.306315  ...                0  2021-03-22T06:40:19.074   \n",
       "1            -3.586276  ...                0  2021-03-22T08:20:58.209   \n",
       "2             0.411566  ...                0  2021-03-22T06:36:50.928   \n",
       "3            -0.884900  ...                0  2021-03-22T08:17:30.880   \n",
       "4            -2.535003  ...                0  2021-03-22T08:14:02.747   \n",
       "..                 ...  ...              ...                      ...   \n",
       "552          -0.714488  ...               23  2021-06-02T02:37:33.855   \n",
       "553          -2.938535  ...               23  2021-06-02T05:33:59.097   \n",
       "554          -3.991748  ...               23  2021-06-02T05:33:59.097   \n",
       "555           0.544256  ...               23  2021-06-02T02:27:20.976   \n",
       "556          -0.090694  ...               24  2021-06-05T02:14:11.170   \n",
       "\n",
       "    Discovery-Filter Discovery-Magnitude  Discovery-SNR  Latest-Round  \\\n",
       "0                  N               22.13           19.2             9   \n",
       "1                  N               21.78           25.7            23   \n",
       "2                  S               20.61           36.2            23   \n",
       "3                  S               22.55           15.5             1   \n",
       "4                  N               22.27           10.6            18   \n",
       "..               ...                 ...            ...           ...   \n",
       "552                N               21.46           30.6            24   \n",
       "553                S               22.14           13.6            23   \n",
       "554                N               22.15           22.5            23   \n",
       "555                S               21.04           47.1            24   \n",
       "556                N               22.36           21.7            24   \n",
       "\n",
       "                 Latest-Time Latest-Filter Latest-Magnitude  Latest-SNR  \n",
       "0    2021-04-18T05:37:55.763             N            22.86        10.2  \n",
       "1    2021-06-02T06:00:51.873             N            21.82        18.1  \n",
       "2    2021-06-02T02:59:21.867             S            21.46        33.9  \n",
       "3    2021-03-24T07:10:51.368             S            22.33        25.6  \n",
       "4    2021-05-18T03:17:17.544             N            22.99         8.8  \n",
       "..                       ...           ...              ...         ...  \n",
       "552  2021-06-05T02:15:30.763             N            21.44        19.8  \n",
       "553  2021-06-02T05:40:21.261             S            22.36        14.0  \n",
       "554  2021-06-02T05:36:54.041             N            22.07        10.5  \n",
       "555  2021-06-05T02:06:24.397             S            21.21        18.4  \n",
       "556  2021-06-05T02:15:30.763             N            21.86        14.9  \n",
       "\n",
       "[557 rows x 21 columns]"
      ]
     },
     "execution_count": 8,
     "metadata": {},
     "output_type": "execute_result"
    }
   ],
   "source": [
    "decam_transients"
   ]
  },
  {
   "cell_type": "code",
   "execution_count": 9,
   "metadata": {},
   "outputs": [],
   "source": [
    "#Match w Fuji, Guandalupe, and daily from Jul 6 2021\n",
    "import healpy as hp\n",
    "\n",
    "nside = 64\n",
    "nest = True\n",
    "\n",
    "#Define hpixs of transients\n",
    "\n",
    "hpix_hosts = hp.ang2pix(nside, np.array(decam_transients['RA-PSEUDO-HOST']),np.array(decam_transients['DEC-PSEUDO-HOST']),\n",
    "                        lonlat=True, nest = nest )\n",
    "hpix_hosts_agn = hp.ang2pix(nside, np.array(decam_transients_agn['RA-PSEUDO-HOST']),np.array(decam_transients_agn['DEC-PSEUDO-HOST']),\n",
    "                        lonlat=True, nest = nest )\n",
    "\n",
    "hosts_coords = SkyCoord(decam_transients['RA-PSEUDO-HOST']*u.deg, decam_transients['DEC-PSEUDO-HOST']*u.deg)\n",
    "hosts_coords_agn = SkyCoord(decam_transients_agn['RA-PSEUDO-HOST']*u.deg, decam_transients_agn['DEC-PSEUDO-HOST']*u.deg)"
   ]
  },
  {
   "cell_type": "code",
   "execution_count": 10,
   "metadata": {
    "tags": []
   },
   "outputs": [],
   "source": [
    "hpix_hosts_un = np.unique(hpix_hosts)\n",
    "#Create array to store redshifts. If no redshift available, it will say -9\n",
    "zhosts = np.full(decam_transients['RA-PSEUDO-HOST'].shape[0], -9, dtype=float)\n",
    "ztype = np.full(decam_transients['RA-PSEUDO-HOST'].shape[0], 'NULL', dtype='<U6' )\n",
    "zwarn = np.full(decam_transients['RA-PSEUDO-HOST'].shape[0], -9)\n",
    "zchi = np.full(decam_transients['RA-PSEUDO-HOST'].shape[0], -9)\n",
    "transid = np.full(decam_transients['RA-PSEUDO-HOST'].shape[0], 'NULL', dtype='<U40' )\n",
    "desiids = np.full(decam_transients['RA-PSEUDO-HOST'].shape[0], -9, dtype='int' )\n",
    "\n",
    "hpix_hosts_un_agn = np.unique(hpix_hosts_agn)\n",
    "#Create array to store redshifts. If no redshift available, it will say -9\n",
    "zhosts_agn = np.full(decam_transients_agn['RA-PSEUDO-HOST'].shape[0], -9, dtype=float)\n",
    "ztype_agn = np.full(decam_transients_agn['RA-PSEUDO-HOST'].shape[0], 'NULL', dtype='<U6' )\n",
    "zwarn_agn = np.full(decam_transients_agn['RA-PSEUDO-HOST'].shape[0], -9)\n",
    "zchi_agn = np.full(decam_transients_agn['RA-PSEUDO-HOST'].shape[0], -9)\n",
    "transid_agn = np.full(decam_transients_agn['RA-PSEUDO-HOST'].shape[0], 'NULL', dtype='<U40' )\n",
    "desiids_agn = np.full(decam_transients_agn['RA-PSEUDO-HOST'].shape[0], -9, dtype='int' )"
   ]
  },
  {
   "cell_type": "code",
   "execution_count": 11,
   "metadata": {},
   "outputs": [
    {
     "name": "stdout",
     "output_type": "stream",
     "text": [
      "Checking survey:  fuji   main\n",
      "Checking  bright  time\n",
      "0  matches \n",
      "Checking  dark  time\n",
      "0  matches \n",
      "Checking survey:  fuji   sv1\n",
      "Checking  bright  time\n",
      "5  matches \n",
      "Checking  dark  time\n",
      "3  matches \n",
      "Checking survey:  fuji   sv2\n",
      "Checking  bright  time\n",
      "0  matches \n",
      "Checking  dark  time\n",
      "0  matches \n",
      "Checking survey:  fuji   sv3\n",
      "Checking  bright  time\n",
      "136  matches \n",
      "Checking  dark  time\n",
      "48  matches \n",
      "Checking survey:  guandalupe   main\n",
      "Checking  bright  time\n",
      "0  matches \n",
      "Checking  dark  time\n",
      "0  matches \n",
      "Checking survey:  guandalupe   sv1\n",
      "Checking  bright  time\n",
      "0  matches \n",
      "Checking  dark  time\n",
      "0  matches \n",
      "Checking survey:  guandalupe   sv2\n",
      "Checking  bright  time\n",
      "0  matches \n",
      "Checking  dark  time\n",
      "0  matches \n",
      "Checking survey:  guandalupe   sv3\n",
      "Checking  bright  time\n",
      "0  matches \n",
      "Checking  dark  time\n",
      "0  matches \n"
     ]
    }
   ],
   "source": [
    "redux = ['fuji', 'guandalupe'] #Add daily\n",
    "\n",
    "base_dir_path = '/global/cfs/cdirs/desi/spectro/redux/'\n",
    "surveys=['main', 'sv1', 'sv2', 'sv3']\n",
    "times=['bright','dark']\n",
    "\n",
    "max_sep = 2 * u.arcsec\n",
    "\n",
    "for this_redux in redux:\n",
    "    base_dir = base_dir_path + this_redux + '/healpix/'\n",
    "    for survey in surveys:\n",
    "        print(\"Checking survey: \",this_redux,\" \", survey)\n",
    "        for time in times:\n",
    "            print(\"Checking \", time, \" time\")\n",
    "            nmatches=0\n",
    "            for hpix_host in hpix_hosts_un:\n",
    "                filepath = base_dir+survey+'/'+time+'/'+str(hpix_host)[:-2]+\\\n",
    "                '/'+str(hpix_host)+'/'+'redrock-*fits'\n",
    "                filename = glob.glob(filepath)\n",
    "                try:\n",
    "                    h=fits.open(filename[0])\n",
    "                    #print(\"Opened file\", filename)\n",
    "                    desi_ra, desi_dec = h[2].data['target_RA'],h[2].data['target_DEC']\n",
    "                    desi_id = h[2].data['TARGETID']\n",
    "                    desi_id_z = h[1].data['TARGETID']\n",
    "                    desi_z = h[1].data['Z']\n",
    "                    desi_spectype = h[1].data['SPECTYPE']\n",
    "                    desi_zwarn = h[1].data['ZWARN']\n",
    "                    desi_chi2 = h[1].data['DELTACHI2']\n",
    "\n",
    "                    # Convert everything to SkyCoord\n",
    "                    desi_coords = SkyCoord(desi_ra*u.deg, desi_dec*u.deg)\n",
    "\n",
    "                    idx_desi, d2d_trans, d3d_trans = match_coordinates_sky(hosts_coords,desi_coords)\n",
    "\n",
    "                    # Filter out the good stuff\n",
    "                    sep_constraint = d2d_trans < max_sep\n",
    "\n",
    "                    if idx_desi[sep_constraint].shape[0] >0 : \n",
    "                        #print(idx_desi[sep_constraint].shape[0], \" matches \")\n",
    "                        nmatches += idx_desi[sep_constraint].shape[0]\n",
    "                        hosts_matches = hosts_coords[sep_constraint]\n",
    "                        #trans_matches_ids = target_ids_in[sep_constraint]\n",
    "                        desi_matches = desi_coords[idx_desi[sep_constraint]]\n",
    "\n",
    "                        transid[sep_constraint] = decam_transients['ObjectID'][sep_constraint]\n",
    "                        desiids[sep_constraint] = desi_id[idx_desi[sep_constraint]]\n",
    "                        zhosts[sep_constraint] = desi_z[idx_desi[sep_constraint]]\n",
    "                        zchi[sep_constraint] = desi_chi2[idx_desi[sep_constraint]]\n",
    "                        ztype[sep_constraint] = desi_spectype[idx_desi[sep_constraint]]\n",
    "                        zwarn[sep_constraint] = desi_zwarn[idx_desi[sep_constraint]]\n",
    "\n",
    "                    #CHECK TARGETID!!\n",
    "                except:\n",
    "                    test = 2\n",
    "                    #print(\"No redrock file found\") # for \", filepath)\n",
    "                    \n",
    "            print(nmatches, \" matches \")"
   ]
  },
  {
   "cell_type": "raw",
   "metadata": {},
   "source": []
  },
  {
   "cell_type": "code",
   "execution_count": 12,
   "metadata": {},
   "outputs": [
    {
     "name": "stdout",
     "output_type": "stream",
     "text": [
      "Checking survey:  fuji   main\n",
      "Checking  bright  time\n",
      "0  matches \n",
      "Checking  dark  time\n",
      "0  matches \n",
      "Checking survey:  fuji   sv1\n",
      "Checking  bright  time\n",
      "0  matches \n",
      "Checking  dark  time\n",
      "1  matches \n",
      "Checking survey:  fuji   sv2\n",
      "Checking  bright  time\n",
      "0  matches \n",
      "Checking  dark  time\n",
      "0  matches \n",
      "Checking survey:  fuji   sv3\n",
      "Checking  bright  time\n",
      "41  matches \n",
      "Checking  dark  time\n",
      "66  matches \n",
      "Checking survey:  guandalupe   main\n",
      "Checking  bright  time\n",
      "0  matches \n",
      "Checking  dark  time\n",
      "0  matches \n",
      "Checking survey:  guandalupe   sv1\n",
      "Checking  bright  time\n",
      "0  matches \n",
      "Checking  dark  time\n",
      "0  matches \n",
      "Checking survey:  guandalupe   sv2\n",
      "Checking  bright  time\n",
      "0  matches \n",
      "Checking  dark  time\n",
      "0  matches \n",
      "Checking survey:  guandalupe   sv3\n",
      "Checking  bright  time\n",
      "0  matches \n",
      "Checking  dark  time\n",
      "0  matches \n"
     ]
    }
   ],
   "source": [
    "redux = ['fuji', 'guandalupe'] #Add daily\n",
    "\n",
    "base_dir_path = '/global/cfs/cdirs/desi/spectro/redux/'\n",
    "surveys=['main', 'sv1', 'sv2', 'sv3']\n",
    "times=['bright','dark']\n",
    "\n",
    "max_sep = 2 * u.arcsec\n",
    "\n",
    "for this_redux in redux:\n",
    "    base_dir = base_dir_path + this_redux + '/healpix/'\n",
    "    for survey in surveys:\n",
    "        print(\"Checking survey: \",this_redux,\" \", survey)\n",
    "        for time in times:\n",
    "            print(\"Checking \", time, \" time\")\n",
    "            nmatches=0\n",
    "            for hpix_host in hpix_hosts_un_agn:\n",
    "                filepath = base_dir+survey+'/'+time+'/'+str(hpix_host)[:-2]+\\\n",
    "                '/'+str(hpix_host)+'/'+'redrock-*fits'\n",
    "                filename = glob.glob(filepath)\n",
    "                try:\n",
    "                    h=fits.open(filename[0])\n",
    "                    #print(\"Opened file\", filename)\n",
    "                    desi_ra, desi_dec = h[2].data['target_RA'],h[2].data['target_DEC']\n",
    "                    desi_id = h[2].data['TARGETID']\n",
    "                    desi_id_z = h[1].data['TARGETID']\n",
    "                    #print(desi_id,desi_id_z)\n",
    "                    desi_z = h[1].data['Z']\n",
    "                    desi_spectype = h[1].data['SPECTYPE']\n",
    "                    desi_zwarn = h[1].data['ZWARN']\n",
    "                    desi_chi2 = h[1].data['DELTACHI2']\n",
    "\n",
    "                    # Convert everything to SkyCoord\n",
    "                    desi_coords = SkyCoord(desi_ra*u.deg, desi_dec*u.deg)\n",
    "\n",
    "                    idx_desi, d2d_trans, d3d_trans = match_coordinates_sky(hosts_coords_agn,desi_coords)\n",
    "\n",
    "                    # Filter out the good stuff\n",
    "                    sep_constraint = d2d_trans < max_sep\n",
    "\n",
    "                    if idx_desi[sep_constraint].shape[0] >0 : \n",
    "                        #print(idx_desi[sep_constraint].shape[0], \" matches \")\n",
    "                        nmatches += idx_desi[sep_constraint].shape[0]\n",
    "                        hosts_matches = hosts_coords_agn[sep_constraint]\n",
    "                        #trans_matches_ids = target_ids_in[sep_constraint]\n",
    "                        desi_matches = desi_coords[idx_desi[sep_constraint]]\n",
    "                        #desi_matches_ids = desi_id[idx_alerts[sep_constraint]]\n",
    "\n",
    "                        transid_agn[sep_constraint] = decam_transients_agn['ObjectID'][sep_constraint]\n",
    "                        desiids_agn[sep_constraint] = desi_id[idx_desi[sep_constraint]]\n",
    "                        zhosts_agn[sep_constraint] = desi_z[idx_desi[sep_constraint]]\n",
    "                        zchi_agn[sep_constraint] = desi_chi2[idx_desi[sep_constraint]]\n",
    "                        ztype_agn[sep_constraint] = desi_spectype[idx_desi[sep_constraint]]\n",
    "                        zwarn_agn[sep_constraint] = desi_zwarn[idx_desi[sep_constraint]]\n",
    "\n",
    "                except:\n",
    "                    test=-10\n",
    "                #except Exception as e: \n",
    "                    #print(e)\n",
    "                    #print(\"No redrock file found\") # for \", filepath)\n",
    "\n",
    "            print(nmatches, \" matches \")\n",
    "                "
   ]
  },
  {
   "cell_type": "code",
   "execution_count": 13,
   "metadata": {},
   "outputs": [
    {
     "name": "stdout",
     "output_type": "stream",
     "text": [
      "All transients and AGN hosts in Fujilupe:  (158,) (99,)\n",
      "Transients and AGN hosts in Fujilupe:  (146,) (97,)\n"
     ]
    }
   ],
   "source": [
    "print(\"All transients and AGN hosts in Fujilupe: \",zhosts[(zhosts>-1) ].shape, zhosts_agn[(zhosts_agn>-1)].shape)\n",
    "print(\"Transients and AGN hosts in Fujilupe: \",zhosts[(zhosts>-1) & (zwarn==0)].shape, zhosts_agn[(zhosts_agn>-1) & (zwarn_agn==0)].shape)"
   ]
  },
  {
   "cell_type": "code",
   "execution_count": 14,
   "metadata": {},
   "outputs": [
    {
     "data": {
      "image/png": "[encoded data removed]",
      "text/plain": [
       "<Figure size 432x288 with 1 Axes>"
      ]
     },
     "metadata": {
      "needs_background": "light"
     },
     "output_type": "display_data"
    }
   ],
   "source": [
    "plt_style()\n",
    "from matplotlib import rc\n",
    "rc(\"text\", usetex=False)\n",
    "\n",
    "plt.hist(zhosts[(zhosts>-1) & (ztype=='GALAXY') & (zwarn==0)], label='galaxies',alpha=0.5)\n",
    "plt.hist(zhosts[(zhosts>-1) & (ztype=='QSO') & (zwarn==0)], label='QSO',alpha=0.5)\n",
    "\n",
    "plt.legend()\n",
    "plt.ylabel('$N$')\n",
    "plt.xlabel('$z$')\n",
    "plt.title('DESIRT Hosts in Fujilupe')\n",
    "plt.tight_layout()\n",
    "plt.savefig('DESIRT_hosts_fujilupe_dndz.png',dpi=200)"
   ]
  },
  {
   "cell_type": "code",
   "execution_count": 15,
   "metadata": {},
   "outputs": [
    {
     "data": {
      "image/png": "[encoded data removed]",
      "text/plain": [
       "<Figure size 432x288 with 1 Axes>"
      ]
     },
     "metadata": {
      "needs_background": "light"
     },
     "output_type": "display_data"
    }
   ],
   "source": [
    "plt.hist(zhosts_agn[(zhosts_agn>-1) & (ztype_agn=='GALAXY') ], label='Galaxies',alpha=0.5)\n",
    "plt.hist(zhosts_agn[(zhosts_agn>-1) & (ztype_agn=='QSO') ], label='QSO',alpha=0.5)\n",
    "\n",
    "plt.legend()\n",
    "plt.ylabel('$N$')\n",
    "plt.xlabel('$z$')\n",
    "plt.title('DESIRT AGN Hosts in Fujilupe')\n",
    "plt.tight_layout()\n",
    "plt.savefig('DESIRT_hosts_agn_fujilupe_dndz.png',dpi=200)"
   ]
  },
  {
   "cell_type": "markdown",
   "metadata": {},
   "source": [
    "### Now match to daily exposures\n"
   ]
  },
  {
   "cell_type": "code",
   "execution_count": 16,
   "metadata": {},
   "outputs": [],
   "source": [
    "def initial_check(ledger_df = None, ledger_type = ''):\n",
    "\n",
    "    query_date_start = \"20210606\"\n",
    "    \n",
    "    #today = Time.now()\n",
    "    smushed_YMD = today.iso.split(\" \")[0].replace(\"-\",\"\")\n",
    "    \n",
    "    query_date_end = smushed_YMD \n",
    "\n",
    "    # Handy queries for debugging/useful info\n",
    "    query2 = \"PRAGMA table_info(exposures)\"\n",
    "    query3 = \"PRAGMA table_info(tiles)\"\n",
    "    # Crossmatch across tiles and exposures to grab obsdate via tileid\n",
    "    query_match = \"SELECT distinct tilera, tiledec, exposures.tileid from exposures INNER JOIN tiles ON exposures.tileid = tiles.tileid where obsdate BETWEEN \" + \\\n",
    "        query_date_start + \" AND \" + query_date_end + \";\" \n",
    "    \n",
    "    '''\n",
    "    Some handy code for debugging\n",
    "    #cur.execute(query2)\n",
    "    #row2 = cur.fetchall()\n",
    "    #for i in row2:\n",
    "    #    print(i[:])\n",
    "\n",
    "    '''\n",
    "    \n",
    "    # Querying sql and returning a data type called sqlite3 row, it's kind of like a namedtuple/dictionary\n",
    "    conn = sqlite3.connect(db_filename)\n",
    "\n",
    "    conn.row_factory = sqlite3.Row # https://docs.python.org/3/library/sqlite3.html#sqlite3.Row\n",
    "\n",
    "    cur = conn.cursor()\n",
    "\n",
    "    cur.execute(query_match)\n",
    "    matches_list = cur.fetchall()\n",
    "    cur.close()\n",
    "\n",
    "    # I knew there was a way! THANK YOU!\n",
    "    # https://stackoverflow.com/questions/11276473/append-to-a-dict-of-lists-with-a-dict-comprehension\n",
    "    \n",
    "    #alert_matches_dict = {}\n",
    "\n",
    "    all_trans_matches = []\n",
    "    all_alerts_matches = []\n",
    "    \n",
    "    # Grabbing DECAM ledger if not already fed in\n",
    "    if ledger_type.upper() == 'DECAM_TAMU':\n",
    "        if ledger_df.empty:\n",
    "            ledger_df = access_decam_data('https://datahub.geos.tamu.edu:8000/decam/LCData_Legacy/')\n",
    "\n",
    "    unique_tileid = {i['tileid']: (i['tilera'], i['tiledec']) for i in matches_list}\n",
    "    tile_ras, tile_decs = zip(*unique_tileid.values())\n",
    "    tileid_arr = np.array(list(unique_tileid.keys())) \n",
    "\n",
    "    # Where the magic/matching happens\n",
    "    trans_matches, alert_matches, trans_ids, alerts_ids, _ = \\\n",
    "        inner_matching(target_ids_in = tileid_arr, target_ras_in = tile_ras, target_decs_in = tile_decs, \n",
    "        path_in = '', max_sep = 1.8, sep_units = 'deg', ledger_df_in = ledger_df, ledger_type_in = ledger_type)\n",
    "\n",
    "    # Add everything into one giant list for both\n",
    "    if trans_matches.size:\n",
    "        #print(date, \"-\", len(trans_matches), \"matches\")\n",
    "        all_trans_matches.append(trans_matches)\n",
    "        all_alerts_matches.append(alert_matches)\n",
    "        \n",
    "    # Prepping output\n",
    "    # Populating the dictionary by date (a common theme)\n",
    "    # Each element in the dictionary thus contains the entire sqlite3 row (all info from sql tables with said headers)\n",
    "\n",
    "    nmatches = trans_matches.shape[0]\n",
    "    alert_matches_dict = {trans_ids[i]: (trans_matches[i].ra.deg, trans_matches[i].dec.deg) for i in range(nmatches)}\n",
    "\n",
    "    return alert_matches_dict"
   ]
  },
  {
   "cell_type": "code",
   "execution_count": 17,
   "metadata": {},
   "outputs": [],
   "source": [
    "def closer_check(matches_dict = {}, ledger_df = None, ledger_type = '', exclusion_list = [], agn=False):\n",
    "    all_exp_matches = {}\n",
    "        \n",
    "    if not matches_dict:\n",
    "        print(\"No far matches fed in for nearby matching. Returning none.\")\n",
    "        return {}\n",
    "    \n",
    "    # Again just in case the dataframe isn't fed in\n",
    "    if ledger_type.upper() == 'DECAM_TAMU':\n",
    "        \n",
    "        id_head = 'ObjectID'\n",
    "        ra_head = 'RA-PSEUDO-HOST'\n",
    "        dec_head = 'DEC-PSEUDO-HOST'\n",
    "        \n",
    "        if ledger_df.empty:\n",
    "            ledger_df = access_decam_data('https://datahub.geos.tamu.edu:8000/decam/LCData_Legacy/')\n",
    "    \n",
    "    count_flag=0\n",
    "    tot_matches = 0\n",
    "    # Iterating through date and all tile information for that date\n",
    "    for tileid, row in matches_dict.items(): \n",
    "        # Declaring some things\n",
    "        all_exp_matches = []\n",
    "        alert_exp_matches = []\n",
    "        file_indices = {}\n",
    "\n",
    "        all_targ_ras = np.array([])\n",
    "        all_targ_decs = np.array([])\n",
    "        all_targ_ids = np.array([])\n",
    "        all_tileids = np.array([])\n",
    "        all_petals = np.array([])\n",
    "        all_zhosts = np.array([])\n",
    "        all_chi= np.array([])\n",
    "        all_type= np.array([])\n",
    "        all_zwarn= np.array([])\n",
    "\n",
    "\n",
    "        # Grabbing the paths and iterating through them to grab the RA's/DEC's\n",
    "        exp_paths = '/'.join((exposure_path, \"daily/tiles/cumulative\", str(tileid), \"*/\"))\n",
    "        for path in glob_frames(exp_paths):\n",
    "            #print(path)\n",
    "            targ_ras, targ_decs, targ_ids, targ_z, targ_spectype, targ_zwarn, targ_chi2 = \\\n",
    "            read_fits_info(path)\n",
    "\n",
    "            tileids = np.full(len(targ_ras),tileid).tolist()\n",
    "            petal = path.split(\"/\")[-1].split(\"-\")[1][-1]\n",
    "            petals = np.full(len(targ_ras),petal).tolist()\n",
    "\n",
    "            # This is to retain the row to debug/check the original FITS file\n",
    "            # And to pull the info by row direct if you feel so inclined\n",
    "            all_len = len(all_targ_ras)\n",
    "            new_len = len(targ_ras)\n",
    "            if all_len:\n",
    "                all_len -= 1\n",
    "                file_indices[path] = (all_len, all_len + new_len) # The start and end index, modulo number\n",
    "            else:\n",
    "                file_indices[path] = (0, new_len) # The start and end index, modulo number\n",
    "\n",
    "            if len(targ_ras) != len(targ_decs):\n",
    "                print(\"Length of all ras vs. all decs do not match.\")\n",
    "                print(\"Something went wrong!\")\n",
    "                print(\"Continuing but not adding those to match...\")\n",
    "                continue\n",
    "\n",
    "            # All the ras/decs together!\n",
    "            all_targ_ras = np.append(all_targ_ras, targ_ras)\n",
    "            all_targ_decs = np.append(all_targ_decs, targ_decs)\n",
    "            all_targ_ids = np.append(all_targ_ids, targ_ids)\n",
    "            all_tileids = np.append(all_tileids, tileids)\n",
    "            all_petals = np.append(all_petals, petals)\n",
    "            all_zhosts = np.append(all_zhosts, targ_z)\n",
    "            all_type = np.append(all_type, targ_spectype)\n",
    "            all_zwarn = np.append(all_zwarn, targ_zwarn)\n",
    "            all_chi = np.append(all_chi, targ_chi2)\n",
    "                \n",
    "        # Checking for NaNs, again doesn't play nice with match_coordinates_sky\n",
    "        nan_ra = np.isnan(all_targ_ras)\n",
    "        nan_dec = np.isnan(all_targ_decs)\n",
    "    \n",
    "        if np.any(nan_ra) or np.any(nan_dec):\n",
    "            print(\"NaNs found, removing them from array before match.\")\n",
    "            #print(\"Original length (ra, dec): \", len(target_ras), len(target_decs))\n",
    "            nans = np.logical_not(np.logical_and(nan_ra, nan_dec))\n",
    "            all_targ_ras = all_targ_ras[nans] # Logic masking, probably more efficient\n",
    "            all_targ_decs = all_targ_decs[nans]\n",
    "            all_targ_ids = all_targ_ids[nans]\n",
    "            all_tileids = all_tileids[nans]\n",
    "            all_petals = all_petals[nans]\n",
    "        \n",
    "        # Where the magic matching happens. This time with separation 2 arcseconds.\n",
    "        # Will be cleaned up (eventually)\n",
    "        alert_exp_matches, alerts_matches, targetid_exp_matches, id_alerts_matches, exp_idx = inner_matching(target_ids_in =all_targ_ids, \\\n",
    "                        target_ras_in = all_targ_ras, target_decs_in = all_targ_decs, \\\n",
    "                        path_in = '', max_sep = 2, sep_units = 'arcsec', ledger_df_in = ledger_df, ledger_type_in = ledger_type)   \n",
    "\n",
    "        if alert_exp_matches != None:\n",
    "            nmatches = targetid_exp_matches.shape[0]\n",
    "            tot_matches +=nmatches\n",
    "            #print(nmatches, \"added\")\n",
    "            info_arr=np.column_stack((all_tileids[exp_idx],all_petals[exp_idx], targetid_exp_matches,alert_exp_matches.ra.deg,alert_exp_matches.dec.deg, \\\n",
    "                                           id_alerts_matches,alerts_matches.ra.deg,alerts_matches.dec.deg ))\n",
    "            all_exp_matches.append(info_arr)\n",
    "            \n",
    "            #Fill in array already started in Fujilupe\n",
    "            if agn:\n",
    "                for k in range(id_alerts_matches.shape[0]):\n",
    "                    idx_fuji = decam_transients_agn['ObjectID'] == id_alerts_matches[k]\n",
    "                    if transid_agn[idx_fuji][0] == 'NULL':\n",
    "                        print(\"Adding match\", id_alerts_matches[k])\n",
    "                        transid_agn[idx_fuji] = id_alerts_matches[k]\n",
    "                        desiids_agn[idx_fuji] = targetid_exp_matches[k]\n",
    "                        zhosts_agn[idx_fuji] = all_zhosts[exp_idx][k]\n",
    "                        zchi_agn[idx_fuji] = all_chi[exp_idx][k]\n",
    "                        ztype_agn[idx_fuji] = all_type[exp_idx][k]\n",
    "                        zwarn_agn[idx_fuji] = all_zwarn[exp_idx][k]\n",
    "                \n",
    "            else:\n",
    "                for k in range(id_alerts_matches.shape[0]):\n",
    "                    idx_fuji = decam_transients['ObjectID'] == id_alerts_matches[k]\n",
    "                    if transid[idx_fuji][0] == 'NULL':\n",
    "                        print(\"Adding match\", id_alerts_matches[k])\n",
    "                        transid[idx_fuji] = id_alerts_matches[k]\n",
    "                        desiids[idx_fuji] = targetid_exp_matches[k]\n",
    "                        zhosts[idx_fuji] = all_zhosts[exp_idx][k]\n",
    "                        zchi[idx_fuji] = all_chi[exp_idx][k]\n",
    "                        ztype[idx_fuji] = all_type[exp_idx][k]\n",
    "                        zwarn[idx_fuji] = all_zwarn[exp_idx][k]\n",
    "\n",
    "            if count_flag==0: \n",
    "                all_exp_matches_arr=info_arr\n",
    "                count_flag=1\n",
    "            else: \n",
    "                #print(all_exp_matches_arr,info_arr_date)\n",
    "                all_exp_matches_arr=np.concatenate((all_exp_matches_arr,info_arr))\n",
    "\n",
    "    # Does not easily output to a csv since we have multiple results for each date\n",
    "    # so uh... custom file output for me\n",
    "    return all_exp_matches_arr"
   ]
  },
  {
   "cell_type": "code",
   "execution_count": 18,
   "metadata": {},
   "outputs": [],
   "source": [
    "def inner_matching(target_ids_in = np.array([]), target_ras_in = np.array([]), target_decs_in = np.array([]),path_in = '', max_sep = 2, sep_units = 'arcsec', ledger_df_in = None, ledger_type_in = ''): # to be combined with the other matching thing in due time\n",
    "    \n",
    "    # Figuring out the units\n",
    "    if sep_units == 'arcsec':\n",
    "        max_sep *= u.arcsec\n",
    "    elif sep_units == 'arcmin':\n",
    "        max_sep *= u.arcmin\n",
    "    elif sep_units == 'deg':\n",
    "        max_sep *= u.deg\n",
    "    else:\n",
    "        print(\"Separation unit specified is invalid for matching. Defaulting to arcsecond.\")\n",
    "        max_sep *= u.arcsec\n",
    "        \n",
    "    if not np.array(target_ras_in).size:\n",
    "        return None, None, None, None, None\n",
    "    \n",
    "    # Checking for NaNs, again doesn't play nice with match_coordinates_sky\n",
    "    nan_ra = np.isnan(target_ras_in)\n",
    "    nan_dec = np.isnan(target_decs_in)\n",
    "    \n",
    "    if np.any(nan_ra) or np.any(nan_dec):\n",
    "        print(\"NaNs found, removing them from array before match.\")\n",
    "        #print(\"Original length (ra, dec): \", len(target_ras), len(target_decs))\n",
    "        nans = np.logical_not(np.logical_and(nan_ra, nan_dec))\n",
    "        target_ras_in = target_ras_in[nans] # Logic masking, probably more efficient\n",
    "        target_decs_in = target_decs_in[nans]\n",
    "        target_ids_in = target_ids_in[nans]\n",
    "        \n",
    "        #print(\"Reduced length (ra, dec):\", len(target_ras), len(target_decs))\n",
    "\n",
    "    # For quick matching if said kdtree actually does anything\n",
    "    # Supposed to speed things up on subsequent runs *shrugs*\n",
    "\n",
    "    \n",
    "    # Selecting header string to use with the different alert brokers/ledgers\n",
    "    if ledger_type_in.upper() == 'DECAM_TAMU':\n",
    "        id_head = 'ObjectID'\n",
    "        ra_head = 'RA-PSEUDO-HOST'\n",
    "        dec_head = 'DEC-PSEUDO-HOST'\n",
    "        \n",
    "    else:\n",
    "        print(\"No ledger type specified. Quitting.\") \n",
    "        # lofty goals\n",
    "        # Will try to figure it out assuming it's a pandas dataframe.\")\n",
    "        #print(\"Returning empty-handed for now until that is complete - Matthew P.\")\n",
    "        return np.array([]), np.array([])\n",
    "    \n",
    "    # Convert df RA/DEC to numpy arrays\n",
    "    alerts_id = ledger_df_in[id_head].to_numpy()\n",
    "    alerts_ra = ledger_df_in[ra_head].to_numpy()\n",
    "    alerts_dec = ledger_df_in[dec_head].to_numpy()\n",
    "\n",
    "    # Convert everything to SkyCoord\n",
    "    coo_target_search = SkyCoord(target_ras_in*u.deg, target_decs_in*u.deg)\n",
    "    coo_alerts = SkyCoord(alerts_ra*u.deg, alerts_dec*u.deg)\n",
    "\n",
    "    # Do the matching! \n",
    "    idx_alerts, d2d_target, d3d_target = match_coordinates_sky(coo_target_search, coo_alerts) # store tree to speed up subsequent results\n",
    "\n",
    "    # Filter out the good stuff\n",
    "    sep_constraint = d2d_target < max_sep\n",
    "    target_matches = coo_target_search[sep_constraint]\n",
    "    target_matches_ids = target_ids_in[sep_constraint]\n",
    "    alerts_matches = coo_alerts[idx_alerts[sep_constraint]]\n",
    "    alerts_matches_ids = alerts_id[idx_alerts[sep_constraint]]\n",
    "    \n",
    "    if target_matches.size:\n",
    "        print(len(target_matches), \"matches with separation -\", max_sep)\n",
    "        #sort_dist = np.sort(d2d_trans)\n",
    "        #print(\"Minimum distance found: \", sort_dist[0])\n",
    "\n",
    "    return target_matches, alerts_matches, target_matches_ids, alerts_matches_ids, sep_constraint"
   ]
  },
  {
   "cell_type": "code",
   "execution_count": 19,
   "metadata": {},
   "outputs": [
    {
     "name": "stdout",
     "output_type": "stream",
     "text": [
      "226 matches with separation - 1.8 deg\n"
     ]
    }
   ],
   "source": [
    "init_matches = initial_check(ledger_df = decam_transients, ledger_type = 'DECAM_TAMU')"
   ]
  },
  {
   "cell_type": "code",
   "execution_count": 20,
   "metadata": {
    "scrolled": true,
    "tags": []
   },
   "outputs": [
    {
     "name": "stdout",
     "output_type": "stream",
     "text": [
      "1 matches with separation - 2.0 arcsec\n",
      "Adding match T202103221450298m032847\n",
      "5 matches with separation - 2.0 arcsec\n",
      "1 matches with separation - 2.0 arcsec\n",
      "Adding match T202104271202076m015516\n",
      "1 matches with separation - 2.0 arcsec\n",
      "4 matches with separation - 2.0 arcsec\n",
      "Adding match T202105151405105p012827\n",
      "3 matches with separation - 2.0 arcsec\n",
      "Adding match A202105301417286p012914\n",
      "Adding match A202105301417307p013654\n",
      "Adding match A202104061413211p023010\n",
      "1 matches with separation - 2.0 arcsec\n",
      "Adding match T202103221404394p014626\n",
      "6 matches with separation - 2.0 arcsec\n",
      "Adding match A202105121418190m003822\n",
      "Adding match A202106021417314p004534\n",
      "Adding match T202104061422346p005521\n",
      "5 matches with separation - 2.0 arcsec\n",
      "Adding match T202106021419252m035908\n",
      "Adding match T202104061417262m022603\n",
      "Adding match T202104121418583m020408\n",
      "Adding match T202104061418248m023553\n",
      "Adding match T202103221422063m031255\n",
      "10 matches with separation - 2.0 arcsec\n",
      "Adding match A202104091431129p002626\n",
      "Adding match T202104061433100m020237\n",
      "2 matches with separation - 2.0 arcsec\n",
      "7 matches with separation - 2.0 arcsec\n",
      "Adding match A202103281416417m013932\n",
      "Adding match A202103221416444m013014\n",
      "6 matches with separation - 2.0 arcsec\n",
      "Adding match T202103221432124p001325\n",
      "1 matches with separation - 2.0 arcsec\n",
      "Adding match T202105031409274m035241\n",
      "2 matches with separation - 2.0 arcsec\n",
      "1 matches with separation - 2.0 arcsec\n",
      "Adding match A202105271217290p015907\n",
      "3 matches with separation - 2.0 arcsec\n",
      "Adding match T202105121443159m024132\n",
      "Adding match T202104061441365m022901\n",
      "10 matches with separation - 2.0 arcsec\n",
      "Adding match A202105121442192p005126\n",
      "Adding match T202106021449003p003225\n",
      "Adding match A202105151445068p012056\n",
      "Adding match A202104091448039p011452\n",
      "Adding match A202103221451552p001452\n",
      "2 matches with separation - 2.0 arcsec\n",
      "Adding match T202104061421147p005156\n",
      "1 matches with separation - 2.0 arcsec\n",
      "Adding match A202103221453039m024020\n",
      "3 matches with separation - 2.0 arcsec\n",
      "1 matches with separation - 2.0 arcsec\n",
      "3 matches with separation - 2.0 arcsec\n",
      "1 matches with separation - 2.0 arcsec\n",
      "4 matches with separation - 2.0 arcsec\n",
      "Adding match A202105151419248m015743\n",
      "Adding match T202105031425150m023459\n",
      "2 matches with separation - 2.0 arcsec\n",
      "Adding match A202104061444531m034147\n",
      "Adding match T202104061438488m031552\n",
      "1 matches with separation - 2.0 arcsec\n",
      "1 matches with separation - 2.0 arcsec\n",
      "Adding match A202104121456189m011559\n",
      "4 matches with separation - 2.0 arcsec\n",
      "1 matches with separation - 2.0 arcsec\n",
      "Adding match A202105241157379p015724\n",
      "1 matches with separation - 2.0 arcsec\n",
      "1 matches with separation - 2.0 arcsec\n",
      "1 matches with separation - 2.0 arcsec\n",
      "4 matches with separation - 2.0 arcsec\n",
      "1 matches with separation - 2.0 arcsec\n",
      "6 matches with separation - 2.0 arcsec\n",
      "Adding match T202104061409458m023438\n",
      "Adding match A202104151416348m013431\n",
      "5 matches with separation - 2.0 arcsec\n",
      "Adding match T202104151420215p014409\n",
      "Adding match A202104061417156p013726\n",
      "Adding match T202104031416432p003648\n",
      "Adding match T202104061415354p022335\n",
      "2 matches with separation - 2.0 arcsec\n",
      "2 matches with separation - 2.0 arcsec\n",
      "1 matches with separation - 2.0 arcsec\n",
      "Adding match A202105271222161m002123\n",
      "1 matches with separation - 2.0 arcsec\n",
      "Adding match A202103221449262m025648\n",
      "1 matches with separation - 2.0 arcsec\n",
      "2 matches with separation - 2.0 arcsec\n",
      "Adding match A202103221454418m010111\n",
      "1 matches with separation - 2.0 arcsec\n",
      "2 matches with separation - 2.0 arcsec\n",
      "Adding match A202103221411363p015959\n",
      "Adding match A202105301409258p012835\n",
      "4 matches with separation - 2.0 arcsec\n",
      "Adding match A202105301416541p015239\n",
      "Adding match A202104061417040p014313\n",
      "Adding match T202104031420144p013321\n",
      "Adding match T202105151423088p020125\n",
      "1 matches with separation - 2.0 arcsec\n",
      "Adding match A202105241201374p022051\n",
      "1 matches with separation - 2.0 arcsec\n",
      "1 matches with separation - 2.0 arcsec\n",
      "3 matches with separation - 2.0 arcsec\n",
      "2 matches with separation - 2.0 arcsec\n",
      "Adding match A202103221452176m023029\n",
      "Adding match A202103221452339m034732\n",
      "1 matches with separation - 2.0 arcsec\n",
      "1 matches with separation - 2.0 arcsec\n",
      "3 matches with separation - 2.0 arcsec\n",
      "Adding match T202104061446511m012618\n",
      "1 matches with separation - 2.0 arcsec\n",
      "Adding match A202104061416461m014815\n",
      "1 matches with separation - 2.0 arcsec\n",
      "Adding match T202103221431592m030122\n",
      "1 matches with separation - 2.0 arcsec\n",
      "Adding match T202104271217522m005428\n",
      "3 matches with separation - 2.0 arcsec\n",
      "1 matches with separation - 2.0 arcsec\n",
      "Adding match A202105271214302m020658\n",
      "1 matches with separation - 2.0 arcsec\n",
      "Adding match T202104061414596p021612\n",
      "1 matches with separation - 2.0 arcsec\n",
      "1 matches with separation - 2.0 arcsec\n",
      "Adding match A202105031418147m021738\n",
      "2 matches with separation - 2.0 arcsec\n",
      "2 matches with separation - 2.0 arcsec\n",
      "Adding match A202105271215199p015916\n",
      "Adding match A202105241207329p012631\n",
      "8 matches with separation - 2.0 arcsec\n",
      "Adding match A202104031433012p004332\n",
      "Adding match T202103221439411p011439\n",
      "Adding match T202103281440408p014229\n",
      "4 matches with separation - 2.0 arcsec\n",
      "Adding match A202105181446035m015059\n",
      "1 matches with separation - 2.0 arcsec\n",
      "1 matches with separation - 2.0 arcsec\n",
      "1 matches with separation - 2.0 arcsec\n",
      "Adding match T202105301452527p011841\n",
      "1 matches with separation - 2.0 arcsec\n",
      "Adding match A202104121446081p013214\n",
      "1 matches with separation - 2.0 arcsec\n",
      "Adding match A202104151452487m020424\n",
      "1 matches with separation - 2.0 arcsec\n",
      "Adding match T202104151445386p015238\n",
      "1 matches with separation - 2.0 arcsec\n",
      "Adding match A202104061431341m035839\n",
      "3 matches with separation - 2.0 arcsec\n",
      "Adding match T202105241217452p015741\n",
      "Adding match A202105271213283p014912\n",
      "1 matches with separation - 2.0 arcsec\n",
      "1 matches with separation - 2.0 arcsec\n",
      "1 matches with separation - 2.0 arcsec\n",
      "Adding match A202105121434429m031621\n",
      "1 matches with separation - 2.0 arcsec\n",
      "Adding match A202105121441233m022821\n",
      "3 matches with separation - 2.0 arcsec\n",
      "5 matches with separation - 2.0 arcsec\n",
      "Adding match T202104271205327p014456\n",
      "Adding match T202105241205392p020650\n",
      "Adding match A202104271206107p015810\n"
     ]
    }
   ],
   "source": [
    "close_matches = closer_check(init_matches, ledger_df = decam_transients, ledger_type = 'DECAM_TAMU', exclusion_list = [])\n",
    "np.save('matches_DECam_hosts',close_matches, allow_pickle=True)"
   ]
  },
  {
   "cell_type": "code",
   "execution_count": 21,
   "metadata": {},
   "outputs": [
    {
     "name": "stdout",
     "output_type": "stream",
     "text": [
      "229 matches with separation - 1.8 deg\n"
     ]
    }
   ],
   "source": [
    "init_matches_agn = initial_check(ledger_df = decam_transients_agn, ledger_type = 'DECAM_TAMU')"
   ]
  },
  {
   "cell_type": "code",
   "execution_count": 22,
   "metadata": {
    "scrolled": true,
    "tags": []
   },
   "outputs": [
    {
     "name": "stdout",
     "output_type": "stream",
     "text": [
      "1 matches with separation - 2.0 arcsec\n",
      "1 matches with separation - 2.0 arcsec\n",
      "2 matches with separation - 2.0 arcsec\n",
      "1 matches with separation - 2.0 arcsec\n",
      "Adding match A202103221417303m001717\n",
      "2 matches with separation - 2.0 arcsec\n",
      "Adding match A202105181417480m020137\n",
      "Adding match A202103221425014m024026\n",
      "6 matches with separation - 2.0 arcsec\n",
      "Adding match A202103221432152m005725\n",
      "1 matches with separation - 2.0 arcsec\n",
      "2 matches with separation - 2.0 arcsec\n",
      "1 matches with separation - 2.0 arcsec\n",
      "Adding match A202103221409524m022116\n",
      "2 matches with separation - 2.0 arcsec\n",
      "3 matches with separation - 2.0 arcsec\n",
      "Adding match A202103221435552m032545\n",
      "Adding match A202103221434559m032801\n",
      "8 matches with separation - 2.0 arcsec\n",
      "Adding match A202105121444068p010042\n",
      "Adding match A202103221451230m000625\n",
      "1 matches with separation - 2.0 arcsec\n",
      "Adding match A202103221406058m014916\n",
      "3 matches with separation - 2.0 arcsec\n",
      "Adding match A202104061420411p011138\n",
      "Adding match A202103221419166p002142\n",
      "1 matches with separation - 2.0 arcsec\n",
      "1 matches with separation - 2.0 arcsec\n",
      "Adding match A202104271222001m002045\n",
      "1 matches with separation - 2.0 arcsec\n",
      "2 matches with separation - 2.0 arcsec\n",
      "1 matches with separation - 2.0 arcsec\n",
      "Adding match A202105241202233p013753\n",
      "2 matches with separation - 2.0 arcsec\n",
      "Adding match A202103221444301m022256\n",
      "2 matches with separation - 2.0 arcsec\n",
      "Adding match A202105271159422m004540\n",
      "2 matches with separation - 2.0 arcsec\n",
      "Adding match A202103221418182m003256\n",
      "8 matches with separation - 2.0 arcsec\n",
      "2 matches with separation - 2.0 arcsec\n",
      "1 matches with separation - 2.0 arcsec\n",
      "Adding match A202103221419089m031432\n",
      "1 matches with separation - 2.0 arcsec\n",
      "Adding match A202103221452145p014259\n",
      "1 matches with separation - 2.0 arcsec\n",
      "1 matches with separation - 2.0 arcsec\n",
      "1 matches with separation - 2.0 arcsec\n",
      "1 matches with separation - 2.0 arcsec\n",
      "2 matches with separation - 2.0 arcsec\n",
      "Adding match A202104061421350p011410\n",
      "6 matches with separation - 2.0 arcsec\n",
      "Adding match A202104061442544m021013\n",
      "1 matches with separation - 2.0 arcsec\n",
      "Adding match A202103221414448m020100\n",
      "2 matches with separation - 2.0 arcsec\n",
      "Adding match A202103221416309p011230\n",
      "1 matches with separation - 2.0 arcsec\n",
      "1 matches with separation - 2.0 arcsec\n",
      "2 matches with separation - 2.0 arcsec\n",
      "2 matches with separation - 2.0 arcsec\n",
      "Adding match A202103221449374p010936\n",
      "Adding match A202105151449418p002337\n",
      "1 matches with separation - 2.0 arcsec\n",
      "Adding match A202104271157471p015750\n",
      "4 matches with separation - 2.0 arcsec\n",
      "Adding match A202104061415154m023427\n",
      "Adding match A202103221413573m024259\n",
      "3 matches with separation - 2.0 arcsec\n",
      "Adding match A202103221451488m025645\n",
      "Adding match A202103221450540m032523\n",
      "Adding match A202104061454094m022831\n",
      "1 matches with separation - 2.0 arcsec\n",
      "2 matches with separation - 2.0 arcsec\n",
      "1 matches with separation - 2.0 arcsec\n",
      "1 matches with separation - 2.0 arcsec\n",
      "Adding match A202103221456502m015542\n",
      "1 matches with separation - 2.0 arcsec\n",
      "Adding match A202104151454555p015506\n",
      "1 matches with separation - 2.0 arcsec\n",
      "Adding match A202103221456054m015347\n",
      "1 matches with separation - 2.0 arcsec\n",
      "Adding match A202104271217515m020022\n",
      "1 matches with separation - 2.0 arcsec\n",
      "2 matches with separation - 2.0 arcsec\n",
      "1 matches with separation - 2.0 arcsec\n",
      "Adding match A202103221452330m033849\n",
      "1 matches with separation - 2.0 arcsec\n",
      "2 matches with separation - 2.0 arcsec\n",
      "Adding match A202104121422061p020313\n",
      "2 matches with separation - 2.0 arcsec\n",
      "Adding match A202106021446189m013323\n",
      "Adding match A202103221447353p005111\n",
      "1 matches with separation - 2.0 arcsec\n",
      "Adding match A202105271200095m012720\n",
      "1 matches with separation - 2.0 arcsec\n",
      "1 matches with separation - 2.0 arcsec\n",
      "4 matches with separation - 2.0 arcsec\n",
      "Adding match A202103221449164m001753\n",
      "Adding match A202103221450226m020142\n",
      "Adding match A202105181445514m022644\n",
      "Adding match A202104061447508m012159\n",
      "1 matches with separation - 2.0 arcsec\n",
      "3 matches with separation - 2.0 arcsec\n",
      "Adding match A202103221442564p011034\n",
      "1 matches with separation - 2.0 arcsec\n",
      "Adding match A202105271213039m020941\n",
      "4 matches with separation - 2.0 arcsec\n",
      "Adding match A202103221407026p022639\n",
      "Adding match A202103221412556p021304\n",
      "Adding match A202103221413566p014755\n",
      "Adding match A202104091413558p015728\n",
      "2 matches with separation - 2.0 arcsec\n",
      "Adding match A202103221408044m032819\n",
      "Adding match A202105031419033m022856\n",
      "1 matches with separation - 2.0 arcsec\n",
      "Adding match A202103221428153m034514\n",
      "1 matches with separation - 2.0 arcsec\n",
      "Adding match A202104061443558m032710\n",
      "2 matches with separation - 2.0 arcsec\n",
      "2 matches with separation - 2.0 arcsec\n",
      "Adding match A202103221439273p015445\n",
      "1 matches with separation - 2.0 arcsec\n",
      "2 matches with separation - 2.0 arcsec\n",
      "Adding match A202104121451597p012822\n",
      "Adding match A202104181450498p002852\n",
      "2 matches with separation - 2.0 arcsec\n",
      "Adding match A202103221438529p021136\n",
      "1 matches with separation - 2.0 arcsec\n",
      "1 matches with separation - 2.0 arcsec\n",
      "Adding match A202103221431005p011224\n",
      "1 matches with separation - 2.0 arcsec\n",
      "4 matches with separation - 2.0 arcsec\n",
      "Adding match A202103221429571m023513\n",
      "Adding match A202103221431046m015832\n",
      "Adding match A202103221423044m033235\n",
      "Adding match A202103221423443m022010\n",
      "2 matches with separation - 2.0 arcsec\n",
      "Adding match A202104031452138m014608\n",
      "Adding match A202104151452292m005634\n",
      "1 matches with separation - 2.0 arcsec\n",
      "Adding match A202103221412029m033341\n",
      "1 matches with separation - 2.0 arcsec\n",
      "2 matches with separation - 2.0 arcsec\n",
      "Adding match A202103221443372p005431\n",
      "Adding match A202104091451165p000438\n",
      "2 matches with separation - 2.0 arcsec\n",
      "Adding match A202103221436465m021102\n",
      "Adding match A202103221431532m032643\n",
      "3 matches with separation - 2.0 arcsec\n",
      "Adding match A202104121448157p022507\n",
      "Adding match A202103221451458p004134\n",
      "Adding match A202104091447346p010601\n",
      "1 matches with separation - 2.0 arcsec\n",
      "Adding match A202103221452566m005455\n",
      "1 matches with separation - 2.0 arcsec\n",
      "Adding match A202105181408573p013806\n",
      "1 matches with separation - 2.0 arcsec\n",
      "4 matches with separation - 2.0 arcsec\n",
      "Adding match A202105181418492m015959\n",
      "Adding match A202103221420099m032311\n",
      "2 matches with separation - 2.0 arcsec\n",
      "Adding match A202104061453455p020215\n",
      "Adding match A202103221455543p022352\n",
      "2 matches with separation - 2.0 arcsec\n",
      "1 matches with separation - 2.0 arcsec\n",
      "Adding match A202104061429250p035356\n",
      "2 matches with separation - 2.0 arcsec\n",
      "Adding match A202104121425192m034653\n",
      "Adding match A202103221425017m024336\n",
      "1 matches with separation - 2.0 arcsec\n",
      "Adding match A202104061448429m011824\n",
      "1 matches with separation - 2.0 arcsec\n",
      "1 matches with separation - 2.0 arcsec\n"
     ]
    }
   ],
   "source": [
    "close_matches_agn = closer_check(init_matches_agn, ledger_df = decam_transients_agn, ledger_type = 'DECAM_TAMU', exclusion_list = [], agn=True)\n",
    "np.save('matches_DECam_hosts',close_matches, allow_pickle=True)"
   ]
  },
  {
   "cell_type": "code",
   "execution_count": 23,
   "metadata": {},
   "outputs": [
    {
     "data": {
      "image/png": "[encoded data removed]",
      "text/plain": [
       "<Figure size 432x288 with 1 Axes>"
      ]
     },
     "metadata": {
      "needs_background": "light"
     },
     "output_type": "display_data"
    }
   ],
   "source": [
    "plt_style()\n",
    "from matplotlib import rc\n",
    "rc(\"text\", usetex=False)\n",
    "\n",
    "plt.hist(zhosts[(zhosts>-1) & (ztype=='GALAXY') & (zwarn==0)], label='galaxies',alpha=0.5)\n",
    "plt.hist(zhosts[(zhosts>-1) & (ztype=='QSO') & (zwarn==0)], label='QSO',alpha=0.5)\n",
    "\n",
    "plt.legend()\n",
    "plt.ylabel('$N$')\n",
    "plt.xlabel('$z$')\n",
    "plt.title('DESIRT Hosts in Fujilupe + daily Y1')\n",
    "plt.tight_layout()\n",
    "plt.savefig('DESIRT_hosts_fujilupe_Y1_dndz.png',dpi=200)"
   ]
  },
  {
   "cell_type": "code",
   "execution_count": 24,
   "metadata": {},
   "outputs": [
    {
     "data": {
      "image/png": "[encoded data removed]",
      "text/plain": [
       "<Figure size 432x288 with 1 Axes>"
      ]
     },
     "metadata": {
      "needs_background": "light"
     },
     "output_type": "display_data"
    }
   ],
   "source": [
    "plt_style()\n",
    "from matplotlib import rc\n",
    "rc(\"text\", usetex=False)\n",
    "\n",
    "plt.hist(zhosts_agn[(zhosts_agn>-1) & (ztype_agn=='GALAXY') & (zwarn_agn==0)], label='galaxies',alpha=0.5)\n",
    "plt.hist(zhosts_agn[(zhosts_agn>-1) & (ztype_agn=='QSO') & (zwarn_agn==0)], label='QSO',alpha=0.5)\n",
    "\n",
    "plt.legend()\n",
    "plt.ylabel('$N$')\n",
    "plt.xlabel('$z$')\n",
    "plt.title('DESIRT AGN Hosts in Fujilupe + daily Y1')\n",
    "plt.tight_layout()\n",
    "plt.savefig('DESIRT_agn_hosts_fujilupe_Y1_dndz.png',dpi=200)"
   ]
  },
  {
   "cell_type": "code",
   "execution_count": 25,
   "metadata": {},
   "outputs": [
    {
     "name": "stdout",
     "output_type": "stream",
     "text": [
      "Final number of host:  (238,) (182,)\n"
     ]
    }
   ],
   "source": [
    "print(\"Final number of host: \",zhosts[(zhosts>-1)].shape, zhosts_agn[(zhosts_agn>-1)].shape)"
   ]
  },
  {
   "cell_type": "code",
   "execution_count": 31,
   "metadata": {},
   "outputs": [
    {
     "data": {
      "text/plain": [
       "dtype('<U40')"
      ]
     },
     "execution_count": 31,
     "metadata": {},
     "output_type": "execute_result"
    }
   ],
   "source": [
    "transients_matches_all_info.dtype"
   ]
  },
  {
   "cell_type": "code",
   "execution_count": 40,
   "metadata": {},
   "outputs": [],
   "source": [
    "#Now saving the matches\n",
    "\n",
    "header = 'TransientID, HOST_TARGETID, REDSHIFT, CHI2, SPECTYPE, ZWARN'\n",
    "fmt = '%s'#'%30s %i  %10.6f %i %s %i'\n",
    "zwarn_int = np.array([int(zwarn[k]) for k in range(zwarn.shape[0])])\n",
    "mask = (transid!='NULL') & (zwarn_int<10)\n",
    "transients_matches_all_info = np.column_stack((transid[mask],desiids[mask],zhosts[mask],zchi[mask],ztype[mask],zwarn[mask]))\n",
    "\n",
    "np.savetxt('DESIRT_hosts_redshifts_fujilupe_Y1.csv', transients_matches_all_info, delimiter =',',fmt = fmt, header = header)\n",
    "\n"
   ]
  },
  {
   "cell_type": "code",
   "execution_count": 33,
   "metadata": {},
   "outputs": [
    {
     "data": {
      "text/plain": [
       "array([['A202103221408412p002445', '39627800365239566',\n",
       "        '0.3237484824681474', '14082', 'QSO', '0'],\n",
       "       ['A202103221408578m005300', '39627764126454772',\n",
       "        '0.6358600244900215', '1365', 'QSO', '0'],\n",
       "       ['A202103221411363p015959', '39627836616609456',\n",
       "        '0.2687428701336574', '4028', 'GALAXY', '0'],\n",
       "       ...,\n",
       "       ['T202106021424518p001145', '39627794392552489',\n",
       "        '0.3242990269657905', '84', 'GALAXY', '0'],\n",
       "       ['T202106021426332m010342', '39627764201949829',\n",
       "        '0.05590392451470623', '8258', 'GALAXY', '0'],\n",
       "       ['T202106021449003p003225', '39627800537202736',\n",
       "        '0.1387304613916705', '119', 'GALAXY', '0']], dtype='<U40')"
      ]
     },
     "execution_count": 33,
     "metadata": {},
     "output_type": "execute_result"
    }
   ],
   "source": [
    "#Now saving the matches\n",
    "\n",
    "header = 'TransientID, HOST_TARGETID, REDSHIFT, CHI2, SPECTYPE, ZWARN'\n",
    "fmt = '%s'#'%30s %i  %10.6f %i %s %i'\n",
    "zwarn_agn_int = np.array([int(zwarn_agn[k]) for k in range(zwarn_agn.shape[0])])\n",
    "mask_agn = (transid_agn!='NULL') & (zwarn_agn_int<10)\n",
    "transients_agn_matches_all_info = np.column_stack((transid_agn[mask],desiids_agn[mask],zhosts_agn[mask],zchi_agn[mask],ztype_agn[mask],zwarn_agn[mask]))\n",
    "\n",
    "np.savetxt('DESIRT_agn_hosts_redshifts_fujilupe_Y1.csv', transients_agn_matches_all_info, delimiter =',',fmt = fmt, header = header)\n",
    "\n"
   ]
  },
  {
   "cell_type": "code",
   "execution_count": null,
   "metadata": {},
   "outputs": [],
   "source": []
  },
  {
   "cell_type": "code",
   "execution_count": null,
   "metadata": {},
   "outputs": [],
   "source": []
  },
  {
   "cell_type": "markdown",
   "metadata": {},
   "source": [
    "### Plotting abs mag "
   ]
  },
  {
   "cell_type": "code",
   "execution_count": 41,
   "metadata": {},
   "outputs": [
    {
     "data": {
      "text/plain": [
       "Text(0, 0.5, 'dec')"
      ]
     },
     "execution_count": 41,
     "metadata": {},
     "output_type": "execute_result"
    },
    {
     "data": {
      "image/png": "[encoded data removed]",
      "text/plain": [
       "<Figure size 432x288 with 1 Axes>"
      ]
     },
     "metadata": {
      "needs_background": "light"
     },
     "output_type": "display_data"
    }
   ],
   "source": [
    "nhosts = decam_transients['RA-PSEUDO-HOST'][zhosts>-1].shape[0] \n",
    "nhosts_agn = decam_transients_agn['RA-PSEUDO-HOST'][zhosts_agn>-1].shape[0]\n",
    "\n",
    "c='k'\n",
    "plt.scatter(decam_transients['RA-PSEUDO-HOST'],decam_transients['DEC-PSEUDO-HOST'],s=2,c=c,alpha=0.4)\n",
    "plt.scatter(decam_transients['RA-PSEUDO-HOST'][zhosts>-1],\\\n",
    "            decam_transients['DEC-PSEUDO-HOST'][zhosts>-1],c=c,s=3, label='DESI Hosts: '+str(nhosts))\n",
    "\n",
    "c='red'\n",
    "plt.scatter(decam_transients_agn['RA-PSEUDO-HOST'],decam_transients_agn['DEC-PSEUDO-HOST'],c=c,alpha=0.4,s=2)\n",
    "plt.scatter(decam_transients_agn['RA-PSEUDO-HOST'][zhosts_agn>-1],\\\n",
    "            decam_transients_agn['DEC-PSEUDO-HOST'][zhosts_agn>-1],c=c,s=3, label='DESI AGN Hosts: '+str(nhosts_agn))\n",
    "\n",
    "plt.legend()\n",
    "plt.xlabel('RA')\n",
    "plt.ylabel('dec')"
   ]
  },
  {
   "cell_type": "code",
   "execution_count": 35,
   "metadata": {},
   "outputs": [
    {
     "data": {
      "text/plain": [
       "((178,), (113,))"
      ]
     },
     "execution_count": 35,
     "metadata": {},
     "output_type": "execute_result"
    }
   ],
   "source": [
    "decam_transients['RA-PSEUDO-HOST'][zhosts>-1].shape, decam_transients_agn['RA-PSEUDO-HOST'][zhosts_agn>-1].shape"
   ]
  },
  {
   "cell_type": "code",
   "execution_count": 3,
   "metadata": {},
   "outputs": [
    {
     "data": {
      "text/plain": [
       "-21.136799956870195"
      ]
     },
     "execution_count": 3,
     "metadata": {},
     "output_type": "execute_result"
    }
   ],
   "source": [
    "import numpy as np\n",
    "from astropy.cosmology import FlatLambdaCDM\n",
    "cosmo = FlatLambdaCDM(H0=70, Om0=0.3, Tcmb0=2.725)\n",
    "\n",
    "magpeak=18\n",
    "magpeak - 5. * np.log10(40.*1e6) + 5., magpeak - 5. * np.log10(40.*1e5)\n",
    "\n",
    "dist= cosmo.luminosity_distance(0.5663)\n",
    "21.45 - 5. * np.log10(dist.value*1e6) + 5."
   ]
  },
  {
   "cell_type": "code",
   "execution_count": null,
   "metadata": {},
   "outputs": [
    {
     "name": "stderr",
     "output_type": "stream",
     "text": [
      "<ipython-input-17-ec4da481f5ab>:17: VisibleDeprecationWarning: Reading unicode strings without specifying the encoding argument is deprecated. Set the encoding, use None for the system default.\n",
      "  d= np.genfromtxt(lc_file[0], delimiter=',', names=True, dtype=None)\n",
      "<ipython-input-17-ec4da481f5ab>:27: RuntimeWarning: invalid value encountered in log10\n",
      "  absmag = magpeak - 5. * np.log10(dist.value*1e6) + 5.\n"
     ]
    },
    {
     "name": "stdout",
     "output_type": "stream",
     "text": [
      "Error for  A202104151437519p005515  in  b'z'  band\n",
      "Error for  A202104271157060m002713  in  b'g'  band\n",
      "Error for  A202104271157570m011240  in  b'g'  band\n",
      "Error for  A202104271159003p002625  in  b'g'  band\n",
      "Error for  A202104271200504p002724  in  b'g'  band\n",
      "Error for  A202104271201259p003735  in  b'g'  band\n",
      "Error for  A202104271201320p005732  in  b'g'  band\n",
      "Error for  A202104271201578p004151  in  b'g'  band\n",
      "Error for  A202104271202016p005013  in  b'g'  band\n",
      "Error for  A202104271206254p003103  in  b'g'  band\n",
      "Error for  A202104271207038p001622  in  b'g'  band\n",
      "Error for  A202104271207362p000507  in  b'g'  band\n",
      "Error for  A202104271211446p011805  in  b'g'  band\n",
      "Error for  A202104271213476p012531  in  b'g'  band\n",
      "Error for  A202105061400244p050138  in  b'g'  band\n",
      "Error for  A202105061406055p042910  in  b'g'  band\n",
      "Error for  A202105241154142p000516  in  b'g'  band\n",
      "Error for  A202105241158256p004820  in  b'g'  band\n",
      "Error for  A202105241159263p004157  in  b'g'  band\n",
      "Error for  A202105241205187p001233  in  b'g'  band\n",
      "Error for  A202105241209529p005727  in  b'g'  band\n",
      "Error for  A202105241211168p003715  in  b'g'  band\n",
      "Error for  A202105241217075p003437  in  b'g'  band\n",
      "Error for  A202105241218204m003755  in  b'g'  band\n",
      "Error for  A202105271157013p001239  in  b'g'  band\n",
      "Error for  A202105271158344m000731  in  b'g'  band\n",
      "Error for  A202105271159422m003831  in  b'g'  band\n",
      "Error for  A202105271202386m003059  in  b'g'  band\n",
      "Error for  A202105271209206p005820  in  b'g'  band\n",
      "Error for  A202105271211301p003501  in  b'g'  band\n",
      "Error for  A202105271214065p002822  in  b'g'  band\n",
      "Error for  A202105271215472m003047  in  b'g'  band\n",
      "Error for  A202105271215498m002330  in  b'g'  band\n",
      "Error for  A202105271218418p002820  in  b'g'  band\n",
      "Error for  A202105271357544p035721  in  b'g'  band\n",
      "Error for  A202105271401196p043609  in  b'g'  band\n",
      "Error for  A202105301157229m004704  in  b'g'  band\n",
      "Error for  A202105301206363p001818  in  b'g'  band\n",
      "Error for  T202105241206438p002812  in  b'g'  band\n",
      "Error for  T202105271158045m012917  in  b'g'  band\n",
      "Error for  T202105271214387m014717  in  b'g'  band\n",
      "Error for  T202105271216058m010626  in  b'g'  band\n",
      "Error for  T202105271216236m001139  in  b'g'  band\n",
      "Error for  T202105271356031p045059  in  b'g'  band\n"
     ]
    }
   ],
   "source": [
    "#Plot abs mags for matches\n",
    "from astropy.cosmology import FlatLambdaCDM\n",
    "cosmo = FlatLambdaCDM(H0=70, Om0=0.3, Tcmb0=2.725)\n",
    "\n",
    "peak_absmag =  np.full((decam_transients['RA-PSEUDO-HOST'].shape[0],3), -99.9, dtype=float)\n",
    "peak_mag = np.full((decam_transients['RA-PSEUDO-HOST'].shape[0],3), -99.9, dtype=float)\n",
    "\n",
    "objids=decam_transients['ObjectID'][zhosts>-1]\n",
    "filternames=[b'g',b'r',b'z']\n",
    "\n",
    "for objid in objids:\n",
    "    \n",
    "    idx_obj = decam_transients['ObjectID']==objid\n",
    "    decam_path = '/global/cfs/cdirs/desi/science/td/DECam/imaging/LCData_Legacy/'+str(objid)+'/lc*csv'\n",
    "    lc_file = glob.glob(decam_path)\n",
    "\n",
    "    d= np.genfromtxt(lc_file[0], delimiter=',', names=True, dtype=None)  \n",
    "    \n",
    "    ifilter=0\n",
    "    for filtername in filternames:\n",
    "        idx= (d['filter']==filtername) & (d['mag']>15)\n",
    "        try:\n",
    "            magpeak = d['mag'][idx].min()\n",
    "\n",
    "            z=zhosts[idx_obj]\n",
    "            dist= cosmo.luminosity_distance(z)\n",
    "            absmag = magpeak - 5. * np.log10(dist.value*1e6) + 5.\n",
    "\n",
    "            peak_absmag[idx_obj,ifilter] = absmag\n",
    "            peak_mag[idx_obj,ifilter] = magpeak\n",
    "            ifilter+=1\n",
    "        except:\n",
    "            print(\"Error for \", objid, \" in \", filtername ,\" band\")"
   ]
  },
  {
   "cell_type": "code",
   "execution_count": 166,
   "metadata": {},
   "outputs": [
    {
     "data": {
      "text/plain": [
       "(b'z', 3)"
      ]
     },
     "execution_count": 166,
     "metadata": {},
     "output_type": "execute_result"
    }
   ],
   "source": [
    "filtername, ifilter"
   ]
  },
  {
   "cell_type": "code",
   "execution_count": 177,
   "metadata": {},
   "outputs": [
    {
     "name": "stderr",
     "output_type": "stream",
     "text": [
      "<ipython-input-177-4c6a73d5683f>:7: VisibleDeprecationWarning: Reading unicode strings without specifying the encoding argument is deprecated. Set the encoding, use None for the system default.\n",
      "  d= np.genfromtxt(lc_file[0], delimiter=',', names=True, dtype=None)\n"
     ]
    }
   ],
   "source": [
    "for all_objid in decam_transients['ObjectID']:\n",
    "    \n",
    "    idx_obj = decam_transients['ObjectID']==all_objid\n",
    "    decam_path = '/global/cfs/cdirs/desi/science/td/DECam/imaging/LCData_Legacy/'+str(all_objid)+'/lc*csv'\n",
    "    lc_file = glob.glob(decam_path)\n",
    "\n",
    "    d= np.genfromtxt(lc_file[0], delimiter=',', names=True, dtype=None)  \n",
    "    \n",
    "    ifilter=0\n",
    "    for filtername in filternames:\n",
    "        idx= (d['filter']==filtername) & (d['mag']>15)\n",
    "        \n",
    "        #magpeak = d['mag'][idx].min()\n",
    "        #peak_mag[idx_obj,ifilter] = magpeak\n",
    "        \n",
    "        #ifilter+=1\n",
    "        try:\n",
    "            magpeak = d['mag'][idx].min()\n",
    "\n",
    "            peak_mag[idx_obj,ifilter] = magpeak\n",
    "            ifilter+=1\n",
    "        except:\n",
    "            test=1\n",
    "            #print(\"Error for \", objid, \" in \", filtername ,\" band\")"
   ]
  },
  {
   "cell_type": "code",
   "execution_count": 18,
   "metadata": {},
   "outputs": [
    {
     "name": "stderr",
     "output_type": "stream",
     "text": [
      "No handles with labels found to put in legend.\n"
     ]
    },
    {
     "data": {
      "text/plain": [
       "<matplotlib.legend.Legend at 0x2aaae2daea30>"
      ]
     },
     "execution_count": 18,
     "metadata": {},
     "output_type": "execute_result"
    },
    {
     "data": {
      "image/png": "[encoded data removed]",
      "text/plain": [
       "<Figure size 432x288 with 2 Axes>"
      ]
     },
     "metadata": {
      "needs_background": "light"
     },
     "output_type": "display_data"
    }
   ],
   "source": [
    "plt.scatter(peak_mag[peak_absmag[:,0]>-90,0],peak_absmag[peak_absmag[:,0]>-90,0],c=zhosts[peak_absmag[:,0]>-90])\n",
    "plt.colorbar(label='$z_{DESI}$')\n",
    "plt.xlabel('$g$')\n",
    "plt.ylabel('$M_g$')\n",
    "plt.legend()\n"
   ]
  },
  {
   "cell_type": "code",
   "execution_count": 20,
   "metadata": {},
   "outputs": [
    {
     "name": "stderr",
     "output_type": "stream",
     "text": [
      "No handles with labels found to put in legend.\n"
     ]
    },
    {
     "data": {
      "text/plain": [
       "<matplotlib.legend.Legend at 0x2aaae2e88460>"
      ]
     },
     "execution_count": 20,
     "metadata": {},
     "output_type": "execute_result"
    },
    {
     "data": {
      "image/png": "[encoded data removed]",
      "text/plain": [
       "<Figure size 432x288 with 2 Axes>"
      ]
     },
     "metadata": {
      "needs_background": "light"
     },
     "output_type": "display_data"
    }
   ],
   "source": [
    "idx_gals = (peak_absmag[:,0]>-90) & (ztype=='GALAXY') \n",
    "\n",
    "plt.scatter(peak_mag[idx_gals,0],peak_absmag[idx_gals,0],c=zhosts[idx_gals])\n",
    "plt.colorbar(label='$z_{DESI}$')\n",
    "plt.xlabel('$g$')\n",
    "plt.ylabel('$M_g$')\n",
    "plt.legend()\n"
   ]
  },
  {
   "cell_type": "code",
   "execution_count": 189,
   "metadata": {},
   "outputs": [
    {
     "name": "stderr",
     "output_type": "stream",
     "text": [
      "No handles with labels found to put in legend.\n"
     ]
    },
    {
     "data": {
      "text/plain": [
       "<matplotlib.legend.Legend at 0x2aaae64802e0>"
      ]
     },
     "execution_count": 189,
     "metadata": {},
     "output_type": "execute_result"
    },
    {
     "data": {
      "image/png": "[encoded data removed]",
      "text/plain": [
       "<Figure size 432x288 with 2 Axes>"
      ]
     },
     "metadata": {
      "needs_background": "light"
     },
     "output_type": "display_data"
    }
   ],
   "source": [
    "\n",
    "plt.scatter(peak_mag[peak_absmag[:,1]>-30,1],peak_absmag[peak_absmag[:,1]>-30,1],c=zhosts[peak_absmag[:,1]>-30])\n",
    "plt.colorbar(label='$z_{DESI}$')\n",
    "plt.xlabel('$r$')\n",
    "plt.ylabel('$M_r$')\n",
    "plt.legend()\n"
   ]
  },
  {
   "cell_type": "code",
   "execution_count": 21,
   "metadata": {},
   "outputs": [
    {
     "name": "stderr",
     "output_type": "stream",
     "text": [
      "No handles with labels found to put in legend.\n"
     ]
    },
    {
     "data": {
      "text/plain": [
       "<matplotlib.legend.Legend at 0x2aaae2f43220>"
      ]
     },
     "execution_count": 21,
     "metadata": {},
     "output_type": "execute_result"
    },
    {
     "data": {
      "image/png": "[encoded data removed]",
      "text/plain": [
       "<Figure size 432x288 with 2 Axes>"
      ]
     },
     "metadata": {
      "needs_background": "light"
     },
     "output_type": "display_data"
    }
   ],
   "source": [
    "idx_gals = (peak_absmag[:,1]>-90) & (ztype=='GALAXY') \n",
    "\n",
    "plt.scatter(peak_mag[idx_gals,1],peak_absmag[idx_gals,1],c=zhosts[idx_gals])\n",
    "plt.colorbar(label='$z_{DESI}$')\n",
    "plt.xlabel('$r$')\n",
    "plt.ylabel('$M_r$')\n",
    "plt.legend()"
   ]
  },
  {
   "cell_type": "code",
   "execution_count": 26,
   "metadata": {},
   "outputs": [
    {
     "data": {
      "text/plain": [
       "(31     A202103221432532p005029\n",
       " 45     A202103221444205m002735\n",
       " 91     A202104061432308p015321\n",
       " 130    A202104121440520p000156\n",
       " 131    A202104121441090p000144\n",
       " 139    A202104151436246m002825\n",
       " 182    A202104271213476p012531\n",
       " 288    A202105301428199p020404\n",
       " 362    T202104061410268m003625\n",
       " 395    T202104061437125m010012\n",
       " 518    T202105271214387m014717\n",
       " Name: ObjectID, dtype: object,\n",
       " array([0.91448524, 1.65334003, 0.87338165, 0.35942027, 0.48355401,\n",
       "        1.1553413 , 1.66133865, 0.603275  , 1.36705493, 0.89114651,\n",
       "        1.57056006]))"
      ]
     },
     "execution_count": 26,
     "metadata": {},
     "output_type": "execute_result"
    }
   ],
   "source": [
    "idx_gals = (peak_absmag[:,1]>-90) & (peak_absmag[:,1]<-22) & (ztype=='GALAXY') \n",
    "decam_transients['ObjectID'][idx_gals], zhosts[idx_gals]"
   ]
  },
  {
   "cell_type": "code",
   "execution_count": null,
   "metadata": {},
   "outputs": [],
   "source": []
  },
  {
   "cell_type": "code",
   "execution_count": 190,
   "metadata": {},
   "outputs": [
    {
     "name": "stderr",
     "output_type": "stream",
     "text": [
      "No handles with labels found to put in legend.\n"
     ]
    },
    {
     "data": {
      "text/plain": [
       "<matplotlib.legend.Legend at 0x2aaae6515a60>"
      ]
     },
     "execution_count": 190,
     "metadata": {},
     "output_type": "execute_result"
    },
    {
     "data": {
      "image/png": "[encoded data removed]",
      "text/plain": [
       "<Figure size 432x288 with 2 Axes>"
      ]
     },
     "metadata": {
      "needs_background": "light"
     },
     "output_type": "display_data"
    }
   ],
   "source": [
    "plt.scatter(peak_mag[peak_absmag[:,2]>-30,2],peak_absmag[peak_absmag[:,2]>-30,2],c=zhosts[peak_absmag[:,2]>-30])\n",
    "plt.colorbar(label='$z_{DESI}$')\n",
    "plt.xlabel('$z$')\n",
    "plt.ylabel('$M_z$')\n",
    "plt.legend()\n"
   ]
  },
  {
   "cell_type": "code",
   "execution_count": 191,
   "metadata": {},
   "outputs": [
    {
     "name": "stderr",
     "output_type": "stream",
     "text": [
      "No handles with labels found to put in legend.\n"
     ]
    },
    {
     "data": {
      "text/plain": [
       "<matplotlib.legend.Legend at 0x2aaae65e8340>"
      ]
     },
     "execution_count": 191,
     "metadata": {},
     "output_type": "execute_result"
    },
    {
     "data": {
      "image/png": "[encoded data removed]",
      "text/plain": [
       "<Figure size 432x288 with 2 Axes>"
      ]
     },
     "metadata": {
      "needs_background": "light"
     },
     "output_type": "display_data"
    }
   ],
   "source": [
    "ifilter1=0\n",
    "ifilter2=2\n",
    "sel = (peak_absmag[:,ifilter1]>-30) & (peak_absmag[:,ifilter2]>-30)\n",
    "plt.scatter(peak_absmag[sel,ifilter2],peak_mag[sel,ifilter1]- peak_mag[sel,ifilter2],c=zhosts[sel])\n",
    "plt.colorbar(label='$z_{DESI}$')\n",
    "plt.xlabel('$M_z$')\n",
    "plt.ylabel('$g-z$')\n",
    "plt.legend()\n",
    "\n"
   ]
  },
  {
   "cell_type": "code",
   "execution_count": 193,
   "metadata": {},
   "outputs": [
    {
     "data": {
      "text/plain": [
       "40.0"
      ]
     },
     "execution_count": 193,
     "metadata": {},
     "output_type": "execute_result"
    }
   ],
   "source": [
    "40e6/1e6\n"
   ]
  },
  {
   "cell_type": "code",
   "execution_count": 157,
   "metadata": {},
   "outputs": [
    {
     "name": "stderr",
     "output_type": "stream",
     "text": [
      "No handles with labels found to put in legend.\n"
     ]
    },
    {
     "data": {
      "text/plain": [
       "<matplotlib.legend.Legend at 0x2aaae6062d90>"
      ]
     },
     "execution_count": 157,
     "metadata": {},
     "output_type": "execute_result"
    },
    {
     "data": {
      "image/png": "[encoded data removed]",
      "text/plain": [
       "<Figure size 432x288 with 2 Axes>"
      ]
     },
     "metadata": {
      "needs_background": "light"
     },
     "output_type": "display_data"
    }
   ],
   "source": [
    "ifilter1=0\n",
    "ifilter2=1\n",
    "\n",
    "sel = (peak_absmag[:,ifilter1]>-30) & (peak_absmag[:,ifilter2]>-30)\n",
    "\n",
    "plt.scatter(peak_absmag[sel,ifilter2],peak_mag[sel,ifilter1]- peak_mag[sel,ifilter2],c=zhosts[sel])\n",
    "plt.colorbar(label='$z_{DESI}$')\n",
    "plt.xlabel('$M_r$')\n",
    "plt.ylabel('$g-r$')\n",
    "plt.legend()\n",
    "\n"
   ]
  },
  {
   "cell_type": "code",
   "execution_count": 178,
   "metadata": {},
   "outputs": [
    {
     "name": "stderr",
     "output_type": "stream",
     "text": [
      "No handles with labels found to put in legend.\n"
     ]
    },
    {
     "data": {
      "text/plain": [
       "<matplotlib.legend.Legend at 0x2aaae62a06a0>"
      ]
     },
     "execution_count": 178,
     "metadata": {},
     "output_type": "execute_result"
    },
    {
     "data": {
      "image/png": "[encoded data removed]",
      "text/plain": [
       "<Figure size 432x288 with 1 Axes>"
      ]
     },
     "metadata": {
      "needs_background": "light"
     },
     "output_type": "display_data"
    }
   ],
   "source": [
    "ifilter1=0\n",
    "ifilter2=1\n",
    "ifilter3=2\n",
    "\n",
    "sel = (peak_mag[:,ifilter1]>-30) & (peak_mag[:,ifilter2]>-30) & (peak_mag[:,ifilter3]>-30)\n",
    "\n",
    "plt.scatter(peak_mag[sel,ifilter2]- peak_mag[sel,ifilter3],peak_mag[sel,ifilter1]- peak_mag[sel,ifilter2]) #,c=zhosts[sel])\n",
    "\n",
    "plt.xlabel('$r-i$')\n",
    "plt.ylabel('$g-r$')\n",
    "plt.legend()\n",
    "\n"
   ]
  },
  {
   "cell_type": "code",
   "execution_count": 1,
   "metadata": {},
   "outputs": [],
   "source": [
    "import requests\n",
    "\n",
    "def download_file_from_google_drive(id, destination):\n",
    "    def get_confirm_token(response):\n",
    "        for key, value in response.cookies.items():\n",
    "            if key.startswith('download_warning'):\n",
    "                return value\n",
    "\n",
    "        return None\n",
    "\n",
    "    def save_response_content(response, destination):\n",
    "        CHUNK_SIZE = 32768\n",
    "\n",
    "        with open(destination, \"wb\") as f:\n",
    "            for chunk in response.iter_content(CHUNK_SIZE):\n",
    "                if chunk: # filter out keep-alive new chunks\n",
    "                    f.write(chunk)\n",
    "\n",
    "    URL = \"https://docs.google.com/uc?export=download\"\n",
    "\n",
    "    session = requests.Session()\n",
    "\n",
    "    response = session.get(URL, params = { 'id' : id }, stream = True)\n",
    "    token = get_confirm_token(response)\n",
    "\n",
    "    if token:\n",
    "        params = { 'id' : id, 'confirm' : token }\n",
    "        response = session.get(URL, params = params, stream = True)\n",
    "\n",
    "    save_response_content(response, destination)    \n",
    "\n",
    "\n",
    "\n",
    "download_file_from_google_drive('1eELRrSWnNFKPaErHx5k5KVcEaY7WQBz3', \\\n",
    "                                '/global/cfs/cdirs/desi/science/td/DECam/imaging/All_AGN.tar.gz')"
   ]
  },
  {
   "cell_type": "markdown",
   "metadata": {},
   "source": [
    "### Match to TNS"
   ]
  },
  {
   "cell_type": "code",
   "execution_count": 1,
   "metadata": {},
   "outputs": [],
   "source": [
    "#!/usr/bin/env python\n",
    "\"\"\"Access TNS using a URL GET. Save the data to CSV.\n",
    "Adapted from the tns_watcher script by Dima Duev,\n",
    "https://github.com/dmitryduev/kowalski/blob/master/kowalski/tns_watcher.py\n",
    "which was ported here by Anna Ho.\n",
    "Example usage:\n",
    "> python tns_download.py --classified -n 3\n",
    "This will download 3 months of alerts classified as SNe and save them to CSV.\n",
    "\"\"\"\n",
    "\n",
    "import argparse\n",
    "import requests\n",
    "import pandas as pd\n",
    "import io\n",
    "\n",
    "\n",
    "def download_data(args):\n",
    "    \"\"\"Download data from the Transient Name Server.\n",
    "    Parameters\n",
    "    ----------\n",
    "    args : dict\n",
    "        Dictionary of key-value pairs to pass to the TNS URL GET query.\n",
    "    Returns\n",
    "    -------\n",
    "    tns_data : pandas.DataFrame\n",
    "        Accumulated data tables from TNS.\n",
    "    \"\"\"\n",
    "\n",
    "    # Build up the URL GET.\n",
    "    base_url = 'https://www.wis-tns.org/search?format=csv'\n",
    "    for k, v in args.items():\n",
    "        if v is None:\n",
    "            continue\n",
    "        base_url = f'{base_url}&{k}={v}'\n",
    "\n",
    "    # User-agent needed for request to go through.\n",
    "    headers = {\n",
    "        'User-Agent': 'Mozilla/5.0 (Macintosh; Intel Mac OS X 10_15_7) AppleWebKit/537.36 (KHTML, like Gecko) Chrome/96.0.4664.55 Safari/537.36'\n",
    "    }\n",
    "\n",
    "    # Start the request. Set up a loop through pages returned by TNS.\n",
    "    # There is a maximum of 500 results per page.\n",
    "    loop = True\n",
    "    page = 0\n",
    "    tns_data = None\n",
    "    npage = 500\n",
    "    \n",
    "    while loop:\n",
    "        url = f'{base_url}&num_page={npage}&page={page}'\n",
    "        print(url)\n",
    "        f = requests.get(url, headers=headers)\n",
    "        data = pd.read_csv(io.StringIO(f.content.decode('utf-8')), error_bad_lines=False)\n",
    "    \n",
    "        # We're done if we have no data...\n",
    "        if len(data) == 0:\n",
    "            break\n",
    "    \n",
    "        # ...or if the data on this page is less than npage.\n",
    "        loop = len(data) >= npage\n",
    "    \n",
    "        # Accumulate data from each page.\n",
    "        if tns_data is None:\n",
    "            tns_data = data\n",
    "        else:\n",
    "            tns_data = pd.concat([tns_data, data])\n",
    "    \n",
    "        page += 1\n",
    "\n",
    "    return tns_data\n",
    "\n"
   ]
  },
  {
   "cell_type": "code",
   "execution_count": null,
   "metadata": {},
   "outputs": [],
   "source": [
    "    p = argparse.ArgumentParser(description='TNS data access script',\n",
    "            formatter_class=argparse.ArgumentDefaultsHelpFormatter)\n",
    "\n",
    "    p.add_argument('--classified', dest='classified_sne',\n",
    "                   default=None, const=1, nargs='?', type=int,\n",
    "                   help='Require classification of alerts.')\n",
    "    p.add_argument('-n', '--nperiod', dest='discovered_period_value', default=2,\n",
    "                   help='Number of periods (days, weeks, months) to check for alerts.')\n",
    "    p.add_argument('-u', '--units', dest='discovered_period_units', default='months',\n",
    "                   choices=['days', 'weeks', 'months'],\n",
    "                   help='Number of periods (days, weeks, months) to check for alerts.')\n",
    "    p.add_argument('-o', '--output', dest='output', default='tns_search.csv',\n",
    "                   help='Output CSV file from TNS query.')\n",
    "\n",
    "    args = p.parse_args()\n",
    "\n",
    "    # Clean up output arg so it's not passed to download_data.\n",
    "    output = args.output\n",
    "    del args.output\n",
    "\n",
    "    # Access data and save to output.\n",
    "    tns_data = download_data(vars(args))\n",
    "    tns_data.to_csv(output)\n",
    "\n",
    "    print(f'Saved {len(tns_data)} alerts to {output}')"
   ]
  },
  {
   "cell_type": "code",
   "execution_count": null,
   "metadata": {},
   "outputs": [],
   "source": [
    "https://www.wis-tns.org/search?&discovered_period_value=1&discovered_period_units=months&unclassified_at=0&\n",
    "classified_sne=0&include_frb=0&name=&name_like=0&isTNS_AT=all&public=all&\n",
    "ra=0.1&decl=0.1&radius=1&coords_unit=arcsec\n",
    "&reporting_groupid%5B%5D=null&groupid%5B%5D=null&classifier_groupid%5B%5D=null&objtype%5B%5D=null&at_type%5B%5D=null&date_start%5Bdate%5D=&date_end%5Bdate%5D=&discovery_mag_min=&discovery_mag_max=&internal_name=&discoverer=&classifier=&spectra_count=&redshift_min=&redshift_max=&hostname=&ext_catid=&ra_range_min=&ra_range_max=&decl_range_min=&decl_range_max=&discovery_instrument%5B%5D=null&classification_instrument%5B%5D=null&associated_groups%5B%5D=null&official_discovery=0&official_classification=0&at_rep_remarks=&class_rep_remarks=&frb_repeat=all&frb_repeater_of_objid=&frb_measured_redshift=0&frb_dm_range_min=&frb_dm_range_max=&frb_rm_range_min=&frb_rm_range_max=&frb_snr_range_min=&frb_snr_range_max=&frb_flux_range_min=&frb_flux_range_max=&num_page=50&display%5Bredshift%5D=1&display%5Bhostname%5D=1&display%5Bhost_redshift%5D=1&display%5Bsource_group_name%5D=1&display%5Bclassifying_source_group_name%5D=1&display%5Bdiscovering_instrument_name%5D=0&display%5Bclassifing_instrument_name%5D=0&display%5Bprograms_name%5D=0&display%5Binternal_name%5D=1&display%5BisTNS_AT%5D=0&display%5Bpublic%5D=1&display%5Bend_pop_period%5D=0&display%5Bspectra_count%5D=1&display%5Bdiscoverymag%5D=1&display%5Bdiscmagfilter%5D=1&display%5Bdiscoverydate%5D=1&display%5Bdiscoverer%5D=1&display%5Bremarks%5D=0&display%5Bsources%5D=0&display%5Bbibcode%5D=0&display%5Bext_catalogs%5D=0"
   ]
  }
 ],
 "metadata": {
  "kernelspec": {
   "display_name": "DESI master",
   "language": "python",
   "name": "desi-master"
  },
  "language_info": {
   "codemirror_mode": {
    "name": "ipython",
    "version": 3
   },
   "file_extension": ".py",
   "mimetype": "text/x-python",
   "name": "python",
   "nbconvert_exporter": "python",
   "pygments_lexer": "ipython3",
   "version": "3.9.7"
  }
 },
 "nbformat": 4,
 "nbformat_minor": 4
}
