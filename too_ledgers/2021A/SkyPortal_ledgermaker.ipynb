{
 "cells": [
  {
   "cell_type": "markdown",
   "metadata": {},
   "source": [
    "# SkyPortal Access to ZTF Alerts"
   ]
  },
  {
   "cell_type": "code",
   "execution_count": 3,
   "metadata": {},
   "outputs": [],
   "source": [
    "import requests\n",
    "import pandas as pd\n",
    "import numpy as np\n",
    "import matplotlib.pyplot as plt\n",
    "import requests\n",
    "import datetime\n",
    "from datetime import date\n",
    "\n",
    "from astropy.time import Time"
   ]
  },
  {
   "cell_type": "code",
   "execution_count": 4,
   "metadata": {},
   "outputs": [
    {
     "data": {
      "text/plain": [
       "'2021-04-15 00:00:00.000'"
      ]
     },
     "execution_count": 4,
     "metadata": {},
     "output_type": "execute_result"
    }
   ],
   "source": [
    "mjd = 59319\n",
    "mag_cut = 20.5\n",
    "\n",
    "Time(mjd, format='mjd').iso"
   ]
  },
  {
   "cell_type": "markdown",
   "metadata": {},
   "source": [
    "## Set up the SkyPortal Query\n",
    "\n",
    "All-sky search for ZTF alerts from Ampel:\n",
    "- Look for all alerts within the past 24 hours.\n",
    "- Apply the query using the SkyPortal instance at LBNL."
   ]
  },
  {
   "cell_type": "code",
   "execution_count": 5,
   "metadata": {},
   "outputs": [
    {
     "name": "stdout",
     "output_type": "stream",
     "text": [
      "2021-04-01\n"
     ]
    }
   ],
   "source": [
    "today = date.today()\n",
    "DD = datetime.timedelta(days=1)\n",
    "startDate = today - DD\n",
    "token = None\n",
    "\n",
    "print(startDate)"
   ]
  },
  {
   "cell_type": "code",
   "execution_count": 6,
   "metadata": {},
   "outputs": [
    {
     "name": "stdout",
     "output_type": "stream",
     "text": [
      "http://desi2.lbl.gov:5000/api/sources?startDate=2021-04-01&origin=Ampel\n",
      "HTTP code: 200, OK\n"
     ]
    }
   ],
   "source": [
    "query = 'http://desi2.lbl.gov:5000/api/sources?startDate=%s&origin=Ampel' % (startDate)\n",
    "print(query)\n",
    "\n",
    "response = requests.get(\n",
    "#     'http://desi2.lbl.gov:5000/api/sources?ra=10&dec=00&radius=5&startDate=%s' % (startDate),\n",
    "    query,\n",
    "    headers={'Authorization': f'token {token}'}\n",
    ")\n",
    "\n",
    "print(f'HTTP code: {response.status_code}, {response.reason}')"
   ]
  },
  {
   "cell_type": "code",
   "execution_count": 7,
   "metadata": {},
   "outputs": [],
   "source": [
    "data = response.json()['data']\n",
    "matches = data['totalMatches']\n",
    "sources = data['sources']\n",
    "# alerts = pd.read_json(sources)\n",
    "# ids = [sub['id'] for sub in sources]\n",
    "# print(ids)"
   ]
  },
  {
   "cell_type": "code",
   "execution_count": 8,
   "metadata": {},
   "outputs": [
    {
     "data": {
      "text/plain": [
       "96"
      ]
     },
     "execution_count": 8,
     "metadata": {},
     "output_type": "execute_result"
    }
   ],
   "source": [
    "matches"
   ]
  },
  {
   "cell_type": "markdown",
   "metadata": {},
   "source": [
    "## Create ToO Ledger"
   ]
  },
  {
   "cell_type": "code",
   "execution_count": 7,
   "metadata": {},
   "outputs": [
    {
     "name": "stdout",
     "output_type": "stream",
     "text": [
      "237.258828  36.581008  0.000000  0.000000  2000.0  AGK  FIBER  BRIGHT   59319.00000000  59333.00000000\n",
      "286.956527  62.963744  0.000000  0.000000  2000.0  AGK  FIBER  BRIGHT   59319.00000000  59333.00000000\n"
     ]
    }
   ],
   "source": [
    "epoch = 2000.0\n",
    "for da in sources:\n",
    "    query = 'http://3.238.105.175:8081/parametric/sn?oid=%s&mjd=%s' % (da['id'], mjd)\n",
    "    response = requests.get(query)\n",
    "    forecast = response.json()['forecast']\n",
    "    magpsf = forecast[1]['magpsf']\n",
    "    \n",
    "    if magpsf is not None:\n",
    "        if magpsf <= mag_cut:\n",
    "            prog = 'BRIGHT' if forecast[1]['magpsf'] < 21 else 'DARK'\n",
    "            print('{:<10.6f} {:>10.6f} {:>9.6f} {:>9.6f} {:>7.1f}  AGK  FIBER  {:7s} {:>15.8f} {:>15.8f}'.format(\n",
    "                da['ra'], da['dec'], 0, 0, epoch, prog, mjd, mjd+14))"
   ]
  }
 ],
 "metadata": {
  "kernelspec": {
   "display_name": "Python 3",
   "language": "python",
   "name": "python3"
  },
  "language_info": {
   "codemirror_mode": {
    "name": "ipython",
    "version": 3
   },
   "file_extension": ".py",
   "mimetype": "text/x-python",
   "name": "python",
   "nbconvert_exporter": "python",
   "pygments_lexer": "ipython3",
   "version": "3.6.8"
  }
 },
 "nbformat": 4,
 "nbformat_minor": 4
}
