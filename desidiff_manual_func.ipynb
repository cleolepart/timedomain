{
 "cells": [
  {
   "cell_type": "code",
   "execution_count": 1,
   "id": "c90e206a-e0a0-464a-a322-9c0181143d5a",
   "metadata": {},
   "outputs": [],
   "source": [
    "from getunprocesseddates import *\n",
    "from getmatchedradec import *\n",
    "from manualdifferencing import *\n",
    "import numpy\n",
    "import matplotlib.pyplot as plt\n",
    "from desispec.spectra import Spectra\n",
    "from astropy.table import Table"
   ]
  },
  {
   "cell_type": "code",
   "execution_count": 2,
   "id": "4caf202f-8eb7-4b0c-9ff9-cc7a593beb3d",
   "metadata": {},
   "outputs": [
    {
     "name": "stdout",
     "output_type": "stream",
     "text": [
      "len(night_arr): 20\n",
      "--- get unprocessed dates took:  8.415595769882202 seconds ---\n",
      "[20210606 20210607 20210614 20210615 20210616 20210617 20210618 20210619\n",
      " 20210620 20210621 20210626 20210627 20210628 20210629 20210704 20210705\n",
      " 20210706 20210707 20210708 20210709]\n"
     ]
    }
   ],
   "source": [
    "night_arr = getUnprocessedDates()\n",
    "print(night_arr)"
   ]
  },
  {
   "cell_type": "code",
   "execution_count": 3,
   "id": "a9fa3c8f-525c-45ff-b801-5b3c6ea46f43",
   "metadata": {},
   "outputs": [
    {
     "name": "stdout",
     "output_type": "stream",
     "text": [
      "yyyymmdd = 20210606\n",
      "--- read in file:  38.98289370536804 seconds ---\n",
      "<desispec.spectra.Spectra object at 0x2aaaae9d82e0>\n",
      "INFO:spectra.py:253:read_spectra: iotime 1.416 sec to read spectra-3-1882-thru20210606.fits at 2021-07-27T14:25:36.118171\n",
      "s0r selected 20210602\n"
     ]
    },
    {
     "data": {
      "image/png": "[encoded data removed]",
      "text/plain": [
       "<Figure size 432x288 with 1 Axes>"
      ]
     },
     "metadata": {
      "needs_background": "light"
     },
     "output_type": "display_data"
    },
    {
     "name": "stdout",
     "output_type": "stream",
     "text": [
      "--- manual differencing took:  2.4279327392578125 seconds ---\n",
      "yyyymmdd = 20210607\n",
      "--- read in file:  9.92796802520752 seconds ---\n",
      "<desispec.spectra.Spectra object at 0x2aaaaf0812e0>\n",
      "INFO:spectra.py:253:read_spectra: iotime 0.910 sec to read spectra-3-21163-thru20210607.fits at 2021-07-27T14:25:48.063942\n",
      "no reference nights\n",
      "--- manual differencing took:  1.3553752899169922 seconds ---\n",
      "yyyymmdd = 20210614\n",
      "--- read in file:  11.313439130783081 seconds ---\n",
      "<desispec.spectra.Spectra object at 0x2aaadefdb0a0>\n",
      "INFO:spectra.py:253:read_spectra: iotime 1.400 sec to read spectra-3-1816-thru20210614.fits at 2021-07-27T14:26:01.289211\n",
      "s0r selected 20210613\n"
     ]
    },
    {
     "data": {
      "image/png": "[encoded data removed]",
      "text/plain": [
       "<Figure size 432x288 with 1 Axes>"
      ]
     },
     "metadata": {
      "needs_background": "light"
     },
     "output_type": "display_data"
    },
    {
     "name": "stdout",
     "output_type": "stream",
     "text": [
      "--- manual differencing took:  2.405372142791748 seconds ---\n",
      "yyyymmdd = 20210615\n",
      "--- read in file:  20.776763677597046 seconds ---\n",
      "<desispec.spectra.Spectra object at 0x2aaadfce40d0>\n",
      "INFO:spectra.py:253:read_spectra: iotime 2.553 sec to read spectra-3-80978-thru20210615.fits at 2021-07-27T14:26:25.750077\n",
      "s0r selected 20210601\n"
     ]
    },
    {
     "ename": "RuntimeError",
     "evalue": "no valid nights were selected!",
     "output_type": "error",
     "traceback": [
      "\u001b[0;31m---------------------------------------------------------------------------\u001b[0m",
      "\u001b[0;31mRuntimeError\u001b[0m                              Traceback (most recent call last)",
      "\u001b[0;32m<ipython-input-3-0bfdc14ac1e6>\u001b[0m in \u001b[0;36m<module>\u001b[0;34m\u001b[0m\n\u001b[1;32m      5\u001b[0m     \u001b[0mdiff_spec\u001b[0m \u001b[0;34m=\u001b[0m \u001b[0mSpectra\u001b[0m\u001b[0;34m(\u001b[0m\u001b[0;34m)\u001b[0m\u001b[0;34m\u001b[0m\u001b[0;34m\u001b[0m\u001b[0m\n\u001b[1;32m      6\u001b[0m     \u001b[0mprint\u001b[0m\u001b[0;34m(\u001b[0m\u001b[0mdiff_spec\u001b[0m\u001b[0;34m)\u001b[0m\u001b[0;34m\u001b[0m\u001b[0;34m\u001b[0m\u001b[0m\n\u001b[0;32m----> 7\u001b[0;31m     \u001b[0mdiff_spec\u001b[0m \u001b[0;34m=\u001b[0m \u001b[0mmanualDifferencing\u001b[0m\u001b[0;34m(\u001b[0m\u001b[0mdats_group\u001b[0m\u001b[0;34m,\u001b[0m \u001b[0myyyymmdd\u001b[0m\u001b[0;34m)\u001b[0m\u001b[0;34m\u001b[0m\u001b[0;34m\u001b[0m\u001b[0m\n\u001b[0m",
      "\u001b[0;32m/global/cscratch1/sd/clepart/manualdifferencing.py\u001b[0m in \u001b[0;36mmanualDifferencing\u001b[0;34m(dats_group, yyyymmdd)\u001b[0m\n\u001b[1;32m     35\u001b[0m                 \u001b[0mprint\u001b[0m\u001b[0;34m(\u001b[0m\u001b[0;34m's0r selected '\u001b[0m \u001b[0;34m+\u001b[0m \u001b[0mstr\u001b[0m\u001b[0;34m(\u001b[0m\u001b[0mt\u001b[0m\u001b[0;34m[\u001b[0m\u001b[0;34m'NIGHT'\u001b[0m\u001b[0;34m]\u001b[0m\u001b[0;34m)\u001b[0m\u001b[0;34m)\u001b[0m\u001b[0;34m\u001b[0m\u001b[0;34m\u001b[0m\u001b[0m\n\u001b[1;32m     36\u001b[0m             \u001b[0;32melse\u001b[0m\u001b[0;34m:\u001b[0m\u001b[0;34m\u001b[0m\u001b[0;34m\u001b[0m\u001b[0m\n\u001b[0;32m---> 37\u001b[0;31m                 \u001b[0ms0r\u001b[0m\u001b[0;34m.\u001b[0m\u001b[0mupdate\u001b[0m\u001b[0;34m(\u001b[0m\u001b[0ms0\u001b[0m\u001b[0;34m.\u001b[0m\u001b[0mselect\u001b[0m\u001b[0;34m(\u001b[0m\u001b[0mnights\u001b[0m \u001b[0;34m=\u001b[0m \u001b[0;34m[\u001b[0m\u001b[0mt\u001b[0m\u001b[0;34m[\u001b[0m\u001b[0;34m'NIGHT'\u001b[0m\u001b[0;34m]\u001b[0m\u001b[0;34m]\u001b[0m\u001b[0;34m,\u001b[0m \u001b[0mtargets\u001b[0m\u001b[0;34m=\u001b[0m \u001b[0;34m[\u001b[0m\u001b[0mdu\u001b[0m\u001b[0;34m[\u001b[0m\u001b[0;36m0\u001b[0m\u001b[0;34m]\u001b[0m\u001b[0;34m[\u001b[0m\u001b[0;34m'TARGETID'\u001b[0m\u001b[0;34m]\u001b[0m\u001b[0;34m]\u001b[0m\u001b[0;34m)\u001b[0m\u001b[0;34m)\u001b[0m\u001b[0;34m\u001b[0m\u001b[0;34m\u001b[0m\u001b[0m\n\u001b[0m\u001b[1;32m     38\u001b[0m                 \u001b[0mprint\u001b[0m\u001b[0;34m(\u001b[0m\u001b[0;34m's0r updated with '\u001b[0m \u001b[0;34m+\u001b[0m \u001b[0mstr\u001b[0m\u001b[0;34m(\u001b[0m\u001b[0mt\u001b[0m\u001b[0;34m[\u001b[0m\u001b[0;34m'NIGHT'\u001b[0m\u001b[0;34m]\u001b[0m\u001b[0;34m)\u001b[0m\u001b[0;34m)\u001b[0m\u001b[0;34m\u001b[0m\u001b[0;34m\u001b[0m\u001b[0m\n\u001b[1;32m     39\u001b[0m \u001b[0;34m\u001b[0m\u001b[0m\n",
      "\u001b[0;32m/global/common/software/desi/cori/desiconda/20200801-1.4.0-spec/code/desispec/0.40.1/lib/python3.8/site-packages/desispec/spectra.py\u001b[0m in \u001b[0;36mselect\u001b[0;34m(self, nights, bands, targets, fibers, invert)\u001b[0m\n\u001b[1;32m    280\u001b[0m                 \u001b[0mkeep_nights\u001b[0m \u001b[0;34m=\u001b[0m \u001b[0;34m[\u001b[0m \u001b[0;34m(\u001b[0m\u001b[0mx\u001b[0m \u001b[0;32min\u001b[0m \u001b[0mnights\u001b[0m\u001b[0;34m)\u001b[0m \u001b[0;32mfor\u001b[0m \u001b[0mx\u001b[0m \u001b[0;32min\u001b[0m \u001b[0mself\u001b[0m\u001b[0;34m.\u001b[0m\u001b[0mfibermap\u001b[0m\u001b[0;34m[\u001b[0m\u001b[0;34m\"NIGHT\"\u001b[0m\u001b[0;34m]\u001b[0m \u001b[0;34m]\u001b[0m\u001b[0;34m\u001b[0m\u001b[0;34m\u001b[0m\u001b[0m\n\u001b[1;32m    281\u001b[0m             \u001b[0;32mif\u001b[0m \u001b[0msum\u001b[0m\u001b[0;34m(\u001b[0m\u001b[0mkeep_nights\u001b[0m\u001b[0;34m)\u001b[0m \u001b[0;34m==\u001b[0m \u001b[0;36m0\u001b[0m\u001b[0;34m:\u001b[0m\u001b[0;34m\u001b[0m\u001b[0;34m\u001b[0m\u001b[0m\n\u001b[0;32m--> 282\u001b[0;31m                 \u001b[0;32mraise\u001b[0m \u001b[0mRuntimeError\u001b[0m\u001b[0;34m(\u001b[0m\u001b[0;34m\"no valid nights were selected!\"\u001b[0m\u001b[0;34m)\u001b[0m\u001b[0;34m\u001b[0m\u001b[0;34m\u001b[0m\u001b[0m\n\u001b[0m\u001b[1;32m    283\u001b[0m         \u001b[0;32melse\u001b[0m\u001b[0;34m:\u001b[0m\u001b[0;34m\u001b[0m\u001b[0;34m\u001b[0m\u001b[0m\n\u001b[1;32m    284\u001b[0m             \u001b[0mkeep_nights\u001b[0m \u001b[0;34m=\u001b[0m \u001b[0mnp\u001b[0m\u001b[0;34m.\u001b[0m\u001b[0mones\u001b[0m\u001b[0;34m(\u001b[0m\u001b[0mlen\u001b[0m\u001b[0;34m(\u001b[0m\u001b[0mself\u001b[0m\u001b[0;34m.\u001b[0m\u001b[0mfibermap\u001b[0m\u001b[0;34m)\u001b[0m\u001b[0;34m,\u001b[0m \u001b[0mbool\u001b[0m\u001b[0;34m)\u001b[0m\u001b[0;34m\u001b[0m\u001b[0;34m\u001b[0m\u001b[0m\n",
      "\u001b[0;31mRuntimeError\u001b[0m: no valid nights were selected!"
     ]
    }
   ],
   "source": [
    "for a in night_arr: #first loop\n",
    "    yyyymmdd = a\n",
    "    print('yyyymmdd = ' +str(yyyymmdd))\n",
    "    dats_group = readInFile(yyyymmdd)\n",
    "    diff_spec = Spectra()\n",
    "    print(diff_spec)\n",
    "    diff_spec = manualDifferencing(dats_group, yyyymmdd)"
   ]
  },
  {
   "cell_type": "code",
   "execution_count": null,
   "id": "5e4e814d-bb65-43b4-b233-8f6d3fed4ed5",
   "metadata": {},
   "outputs": [],
   "source": [
    "#get array of yyyymmdds to loop through\n",
    "#getUnprocessedDates.py"
   ]
  },
  {
   "cell_type": "code",
   "execution_count": null,
   "id": "3c0570a1-aa1f-4c30-be47-fe700009b5c1",
   "metadata": {},
   "outputs": [],
   "source": []
  },
  {
   "cell_type": "code",
   "execution_count": 4,
   "id": "ebe90a3a-9d6c-4874-b9f7-338652a5d332",
   "metadata": {
    "tags": []
   },
   "outputs": [],
   "source": [
    "f = open('/global/cscratch1/sd/clepart/desi_pg.txt')\n",
    "file = f.read()\n",
    "db_name, db_user, db_pwd, db_host = file.split()\n",
    "conn = psycopg2.connect(dbname=db_name, user=db_user, password=db_pwd, host=db_host)\n",
    "    \n",
    "# Open a cursor to perform database operations\n",
    "cur = conn.cursor()\n",
    "cur.execute(\"\"\"SELECT DISTINCT yyyymmdd from fibermap_daily WHERE yyyymmdd > 20210604\"\"\") #most recent, remove in future\n",
    "desi_arr = cur.fetchall()\n",
    "\n",
    "cur.close()\n",
    "conn.close()"
   ]
  },
  {
   "cell_type": "code",
   "execution_count": 5,
   "id": "83be3008-f7e1-4f62-b162-4f8af71d2194",
   "metadata": {
    "tags": []
   },
   "outputs": [
    {
     "name": "stdout",
     "output_type": "stream",
     "text": [
      "27\n",
      "<class 'list'>\n"
     ]
    }
   ],
   "source": [
    "#for i in range(len(desi_arr)):\n",
    "#    print(desi_arr[i])\n",
    "print(len(desi_arr))\n",
    "print(type(desi_arr))"
   ]
  },
  {
   "cell_type": "code",
   "execution_count": 6,
   "id": "38473603-374e-4c2f-993b-82f316554cd3",
   "metadata": {
    "tags": []
   },
   "outputs": [],
   "source": [
    "filename_conn = \"/global/cfs/cdirs/desi/science/td/daily-search/transients_search.db\"\n",
    "conn = sqlite3.connect(filename_conn)\n",
    "\n",
    "trans_arr = conn.execute(\"\"\"SELECT DISTINCT yyyymmdd from unprocessed_exposures\"\"\").fetchall()\n",
    "\n",
    "conn.close()"
   ]
  },
  {
   "cell_type": "code",
   "execution_count": 7,
   "id": "6a183850-51da-4c29-8a76-1dbbb7ea1f6f",
   "metadata": {
    "tags": []
   },
   "outputs": [
    {
     "name": "stdout",
     "output_type": "stream",
     "text": [
      "7\n"
     ]
    }
   ],
   "source": [
    "#for i in range(len(trans_arr)):\n",
    "#    print(trans_arr[i])\n",
    "print(len(trans_arr))"
   ]
  },
  {
   "cell_type": "code",
   "execution_count": 8,
   "id": "53f27f71-21ab-45bd-9aa5-c842a0ad10aa",
   "metadata": {
    "tags": []
   },
   "outputs": [],
   "source": [
    "night_arr = numpy.setdiff1d(desi_arr, trans_arr)"
   ]
  },
  {
   "cell_type": "code",
   "execution_count": 9,
   "id": "123979fc-3d93-45c1-8749-80a38a69409c",
   "metadata": {
    "tags": []
   },
   "outputs": [
    {
     "name": "stdout",
     "output_type": "stream",
     "text": [
      "20210606\n",
      "20210607\n",
      "20210614\n",
      "20210615\n",
      "20210616\n",
      "20210617\n",
      "20210618\n",
      "20210619\n",
      "20210620\n",
      "20210621\n",
      "len(night_arr): 20\n"
     ]
    }
   ],
   "source": [
    "for i in range(10):\n",
    "    print(night_arr[i])\n",
    "print('len(night_arr): ' + str(len(night_arr)))"
   ]
  },
  {
   "cell_type": "code",
   "execution_count": 3,
   "id": "7aec14a5-6fd6-4143-a723-4d24ebd2bb08",
   "metadata": {},
   "outputs": [
    {
     "name": "stdout",
     "output_type": "stream",
     "text": [
      "--- read in file:  76.25680613517761 seconds ---\n"
     ]
    }
   ],
   "source": [
    "#for a in query_arr:\n",
    "start_time = time.time()\n",
    "#get time duration stamp on process that reads in all spectra files for one night\n",
    "for a in night_arr: #first loop\n",
    "    yyyymmd = a\n",
    "#read in and store in one place all the fibermap information in the spectra files\n",
    "dats=[]\n",
    "for filename in glob.glob(f\"/global/project/projectdirs/desi/spectro/redux/daily/tiles/cumulative/*/{yyyymmdd}/spectra-*.fits\"):\n",
    "    t = Table.read(filename, format='fits',hdu=1, memmap=True)[['TARGETID','TARGET_RA','TARGET_DEC','TILEID','OBJTYPE','PETAL_LOC','NIGHT','MJD']]\n",
    "    t=t[t['OBJTYPE']=='TGT']\n",
    "    dats.append(t)\n",
    "dats=vstack(dats, join_type='inner',metadata_conflicts='silent')\n",
    "# group all the observations by TARGET_RA and TARGET_DEC\n",
    "# note that this is more reliable than grouping by TARGETID as TARGETID is NOT a unique identifier of RA and DEC\n",
    "dats_group = dats.group_by(['TARGET_RA','TARGET_DEC'])\n",
    "print(\"--- read in file:  %s seconds ---\" % (time.time() - start_time))\n",
    "#get RA_DEC, NIGHT for multiple pairs of tile/petal"
   ]
  },
  {
   "cell_type": "code",
   "execution_count": 10,
   "id": "a15d5ac0-7b2a-4015-b06e-b3782c213e40",
   "metadata": {
    "jupyter": {
     "source_hidden": true
    },
    "tags": []
   },
   "outputs": [
    {
     "name": "stdout",
     "output_type": "stream",
     "text": [
      "284964\n",
      "     TARGETID         TARGET_RA         TARGET_DEC    TILEID OBJTYPE PETAL_LOC  NIGHT        MJD      \n",
      "----------------- ------------------ ---------------- ------ ------- --------- -------- --------------\n",
      "39627841574276999 148.43269333549472 2.29989340162531      1     TGT         3 20210406 59311.13373059\n",
      "     TARGETID         TARGET_RA         TARGET_DEC    TILEID OBJTYPE PETAL_LOC  NIGHT        MJD      \n",
      "----------------- ------------------ ---------------- ------ ------- --------- -------- --------------\n",
      "39627841574276999 148.43269333549472 2.29989340162531      1     TGT         3 20210406 59311.14474809\n",
      "     TARGETID         TARGET_RA         TARGET_DEC    TILEID OBJTYPE PETAL_LOC  NIGHT        MJD      \n",
      "----------------- ------------------ ---------------- ------ ------- --------- -------- --------------\n",
      "39627841574276999 148.43269333549472 2.29989340162531      1     TGT         3 20210406 59311.15405799\n",
      "     TARGETID         TARGET_RA         TARGET_DEC     TILEID OBJTYPE PETAL_LOC  NIGHT        MJD      \n",
      "----------------- ----------------- ------------------ ------ ------- --------- -------- --------------\n",
      "39627841574277409 148.4503883832226 2.2991424581727253     12     TGT         3 20210405 59310.11613136\n",
      "     TARGETID         TARGET_RA         TARGET_DEC     TILEID OBJTYPE PETAL_LOC  NIGHT        MJD      \n",
      "----------------- ----------------- ------------------ ------ ------- --------- -------- --------------\n",
      "39627841574277409 148.4503883832226 2.2991424581727253     12     TGT         3 20210406 59311.11739078\n",
      "103753\n",
      "     TARGETID         TARGET_RA      ...  NIGHT        MJD      \n",
      "----------------- ------------------ ... -------- --------------\n",
      "39627841574276999 148.43269333549472 ... 20210406 59311.13373059\n",
      "39627841574276999 148.43269333549472 ... 20210406 59311.14474809\n",
      "39627841574276999 148.43269333549472 ... 20210406 59311.15405799\n",
      "     TARGETID         TARGET_RA     ...  NIGHT        MJD      \n",
      "----------------- ----------------- ... -------- --------------\n",
      "39627841574277409 148.4503883832226 ... 20210405 59310.11613136\n",
      "39627841574277409 148.4503883832226 ... 20210406 59311.11739078\n",
      "     TARGETID         TARGET_RA      ...  NIGHT        MJD      \n",
      "----------------- ------------------ ... -------- --------------\n",
      "39627847614075911 148.45238860222133 ... 20210406 59311.13373059\n",
      "39627847614075911 148.45238860222133 ... 20210406 59311.14474809\n",
      "39627847614075911 148.45238860222133 ... 20210406 59311.15405799\n",
      "     TARGETID         TARGET_RA      ...  NIGHT        MJD      \n",
      "----------------- ------------------ ... -------- --------------\n",
      "39627847614075954 148.45408201409734 ... 20210406 59311.13373059\n",
      "39627847614075954 148.45408201409734 ... 20210406 59311.14474809\n",
      "39627847614075954 148.45408201409734 ... 20210406 59311.15405799\n",
      "     TARGETID         TARGET_RA     ...  NIGHT        MJD      \n",
      "----------------- ----------------- ... -------- --------------\n",
      "39627835534479542 148.4658610579723 ... 20210406  59311.1337306\n",
      "39627835534479542 148.4658610579723 ... 20210406 59311.14474806\n",
      "39627835534479542 148.4658610579723 ... 20210406 59311.15405797\n"
     ]
    }
   ],
   "source": [
    "print(len(dats_group)) #ungrouped\n",
    "for i in range(5):\n",
    "    print(dats_group[i])\n",
    "print(len(dats_group.groups)) #grouped \n",
    "for g in range(5):\n",
    "    print(dats_group.groups[g])"
   ]
  },
  {
   "cell_type": "code",
   "execution_count": 4,
   "id": "510ae169-3adf-4ec5-9098-24d3623f61f7",
   "metadata": {
    "jupyter": {
     "source_hidden": true
    },
    "tags": []
   },
   "outputs": [
    {
     "name": "stdout",
     "output_type": "stream",
     "text": [
      "du[0]     TARGETID         TARGET_RA         TARGET_DEC    TILEID OBJTYPE PETAL_LOC  NIGHT        MJD      \n",
      "----------------- ------------------ ---------------- ------ ------- --------- -------- --------------\n",
      "39627841574276999 148.43269333549472 2.29989340162531      1     TGT         3 20210406 59311.13373059\n",
      "INFO:spectra.py:253:read_spectra: iotime 2.227 sec to read spectra-3-1-thru20210406.fits at 2021-07-22T09:39:05.824304\n",
      "no reference nights\n",
      "--- group_by NIGHT  6.062382698059082 seconds ---\n",
      "du[0]     TARGETID         TARGET_RA         TARGET_DEC     TILEID OBJTYPE PETAL_LOC  NIGHT        MJD      \n",
      "----------------- ----------------- ------------------ ------ ------- --------- -------- --------------\n",
      "39627841574277409 148.4503883832226 2.2991424581727253     12     TGT         3 20210405 59310.11613136\n",
      "INFO:spectra.py:253:read_spectra: iotime 1.499 sec to read spectra-3-12-thru20210406.fits at 2021-07-22T09:39:11.238860\n"
     ]
    },
    {
     "ename": "KeyboardInterrupt",
     "evalue": "",
     "output_type": "error",
     "traceback": [
      "\u001b[0;31m---------------------------------------------------------------------------\u001b[0m",
      "\u001b[0;31mKeyboardInterrupt\u001b[0m                         Traceback (most recent call last)",
      "\u001b[0;32m<ipython-input-4-1297dd486309>\u001b[0m in \u001b[0;36m<module>\u001b[0;34m\u001b[0m\n\u001b[1;32m     16\u001b[0m     \u001b[0mf0\u001b[0m \u001b[0;34m=\u001b[0m \u001b[0;34mf\"/global/project/projectdirs/desi/spectro/redux/daily/tiles/cumulative/{du[0]['TILEID']}/{yyyymmdd}/spectra-{du[0]['PETAL_LOC']}-{du[0]['TILEID']}-thru{yyyymmdd}.fits\"\u001b[0m\u001b[0;34m\u001b[0m\u001b[0;34m\u001b[0m\u001b[0m\n\u001b[1;32m     17\u001b[0m     \u001b[0;31m#this is being done multiple times: need to find way to implement select(targets = ['TID']) for files already read in\u001b[0m\u001b[0;34m\u001b[0m\u001b[0;34m\u001b[0m\u001b[0;34m\u001b[0m\u001b[0m\n\u001b[0;32m---> 18\u001b[0;31m     \u001b[0ms0\u001b[0m \u001b[0;34m=\u001b[0m \u001b[0mread_spectra\u001b[0m\u001b[0;34m(\u001b[0m\u001b[0mf0\u001b[0m\u001b[0;34m)\u001b[0m\u001b[0;34m\u001b[0m\u001b[0;34m\u001b[0m\u001b[0m\n\u001b[0m\u001b[1;32m     19\u001b[0m     \u001b[0ms0c\u001b[0m \u001b[0;34m=\u001b[0m \u001b[0ms0\u001b[0m\u001b[0;34m.\u001b[0m\u001b[0mselect\u001b[0m\u001b[0;34m(\u001b[0m\u001b[0mnights\u001b[0m \u001b[0;34m=\u001b[0m \u001b[0;34m[\u001b[0m\u001b[0myyyymmdd\u001b[0m\u001b[0;34m]\u001b[0m\u001b[0;34m)\u001b[0m\u001b[0;34m\u001b[0m\u001b[0;34m\u001b[0m\u001b[0m\n\u001b[1;32m     20\u001b[0m     \u001b[0;31m#coadd(s0c)\u001b[0m\u001b[0;34m\u001b[0m\u001b[0;34m\u001b[0m\u001b[0;34m\u001b[0m\u001b[0m\n",
      "\u001b[0;32m/global/common/software/desi/cori/desiconda/20200801-1.4.0-spec/code/desispec/0.40.1/lib/python3.8/site-packages/desispec/io/spectra.py\u001b[0m in \u001b[0;36mread_spectra\u001b[0;34m(infile, single)\u001b[0m\n\u001b[1;32m    257\u001b[0m     \u001b[0;31m# they will be caught by the constructor.\u001b[0m\u001b[0;34m\u001b[0m\u001b[0;34m\u001b[0m\u001b[0;34m\u001b[0m\u001b[0m\n\u001b[1;32m    258\u001b[0m \u001b[0;34m\u001b[0m\u001b[0m\n\u001b[0;32m--> 259\u001b[0;31m     spec = Spectra(bands, wave, flux, ivar, mask=mask, resolution_data=res,\n\u001b[0m\u001b[1;32m    260\u001b[0m         fibermap=fmap, meta=meta, extra=extra, single=single, scores=scores)\n\u001b[1;32m    261\u001b[0m \u001b[0;34m\u001b[0m\u001b[0m\n",
      "\u001b[0;32m/global/common/software/desi/cori/desiconda/20200801-1.4.0-spec/code/desispec/0.40.1/lib/python3.8/site-packages/desispec/spectra.py\u001b[0m in \u001b[0;36m__init__\u001b[0;34m(self, bands, wave, flux, ivar, mask, resolution_data, fibermap, meta, extra, single, scores, extra_catalog)\u001b[0m\n\u001b[1;32m    165\u001b[0m         \u001b[0;32mfor\u001b[0m \u001b[0mb\u001b[0m \u001b[0;32min\u001b[0m \u001b[0mself\u001b[0m\u001b[0;34m.\u001b[0m\u001b[0m_bands\u001b[0m\u001b[0;34m:\u001b[0m\u001b[0;34m\u001b[0m\u001b[0;34m\u001b[0m\u001b[0m\n\u001b[1;32m    166\u001b[0m             \u001b[0mself\u001b[0m\u001b[0;34m.\u001b[0m\u001b[0mwave\u001b[0m\u001b[0;34m[\u001b[0m\u001b[0mb\u001b[0m\u001b[0;34m]\u001b[0m \u001b[0;34m=\u001b[0m \u001b[0mnp\u001b[0m\u001b[0;34m.\u001b[0m\u001b[0mcopy\u001b[0m\u001b[0;34m(\u001b[0m\u001b[0mwave\u001b[0m\u001b[0;34m[\u001b[0m\u001b[0mb\u001b[0m\u001b[0;34m]\u001b[0m\u001b[0;34m.\u001b[0m\u001b[0mastype\u001b[0m\u001b[0;34m(\u001b[0m\u001b[0mself\u001b[0m\u001b[0;34m.\u001b[0m\u001b[0m_ftype\u001b[0m\u001b[0;34m)\u001b[0m\u001b[0;34m)\u001b[0m\u001b[0;34m\u001b[0m\u001b[0;34m\u001b[0m\u001b[0m\n\u001b[0;32m--> 167\u001b[0;31m             \u001b[0mself\u001b[0m\u001b[0;34m.\u001b[0m\u001b[0mflux\u001b[0m\u001b[0;34m[\u001b[0m\u001b[0mb\u001b[0m\u001b[0;34m]\u001b[0m \u001b[0;34m=\u001b[0m \u001b[0mnp\u001b[0m\u001b[0;34m.\u001b[0m\u001b[0mcopy\u001b[0m\u001b[0;34m(\u001b[0m\u001b[0mflux\u001b[0m\u001b[0;34m[\u001b[0m\u001b[0mb\u001b[0m\u001b[0;34m]\u001b[0m\u001b[0;34m.\u001b[0m\u001b[0mastype\u001b[0m\u001b[0;34m(\u001b[0m\u001b[0mself\u001b[0m\u001b[0;34m.\u001b[0m\u001b[0m_ftype\u001b[0m\u001b[0;34m)\u001b[0m\u001b[0;34m)\u001b[0m\u001b[0;34m\u001b[0m\u001b[0;34m\u001b[0m\u001b[0m\n\u001b[0m\u001b[1;32m    168\u001b[0m             \u001b[0mself\u001b[0m\u001b[0;34m.\u001b[0m\u001b[0mivar\u001b[0m\u001b[0;34m[\u001b[0m\u001b[0mb\u001b[0m\u001b[0;34m]\u001b[0m \u001b[0;34m=\u001b[0m \u001b[0mnp\u001b[0m\u001b[0;34m.\u001b[0m\u001b[0mcopy\u001b[0m\u001b[0;34m(\u001b[0m\u001b[0mivar\u001b[0m\u001b[0;34m[\u001b[0m\u001b[0mb\u001b[0m\u001b[0;34m]\u001b[0m\u001b[0;34m.\u001b[0m\u001b[0mastype\u001b[0m\u001b[0;34m(\u001b[0m\u001b[0mself\u001b[0m\u001b[0;34m.\u001b[0m\u001b[0m_ftype\u001b[0m\u001b[0;34m)\u001b[0m\u001b[0;34m)\u001b[0m\u001b[0;34m\u001b[0m\u001b[0;34m\u001b[0m\u001b[0m\n\u001b[1;32m    169\u001b[0m             \u001b[0;32mif\u001b[0m \u001b[0mmask\u001b[0m \u001b[0;32mis\u001b[0m \u001b[0;32mnot\u001b[0m \u001b[0;32mNone\u001b[0m\u001b[0;34m:\u001b[0m\u001b[0;34m\u001b[0m\u001b[0;34m\u001b[0m\u001b[0m\n",
      "\u001b[0;31mKeyboardInterrupt\u001b[0m: "
     ]
    }
   ],
   "source": [
    "\n",
    "groups01 = dats_group.groups[0:2]\n",
    "groups01 = groups01.group_by(['TARGET_RA','TARGET_DEC'])\n",
    "\n",
    "#for g in groups01.groups:\n",
    "for g in dats_group.groups:\n",
    "    #print(type(g)) <class 'astropy.table.table.Table'>\n",
    "    start_time = time.time()\n",
    "    d = g.group_by(['NIGHT'])\n",
    "    du = unique(d, keys=['NIGHT']) \n",
    "    print(\"du[0]\" + str(du[0]))\n",
    "    s0 = Spectra() #spectra_no_expid() ### all spectra\n",
    "    s0c = Spectra() #spectra_no_expid() ### only current spectra\n",
    "    s0r = Spectra() #spectra_no_expid() ### only reference spectra\n",
    "    s0d = Spectra() #differenced spectra\n",
    "\n",
    "    f0 = f\"/global/project/projectdirs/desi/spectro/redux/daily/tiles/cumulative/{du[0]['TILEID']}/{yyyymmdd}/spectra-{du[0]['PETAL_LOC']}-{du[0]['TILEID']}-thru{yyyymmdd}.fits\"\n",
    "    #this is being done multiple times: need to find way to implement select(targets = ['TID']) for files already read in\n",
    "    s0 = read_spectra(f0)\n",
    "    s0c = s0.select(nights = [yyyymmdd])\n",
    "    #coadd(s0c)\n",
    "    for t in du:\n",
    "        \n",
    "        if (t['NIGHT'] == (yyyymmdd-1)):\n",
    "            s0c.update(s0.select(nights = [yyyymmdd-1]))\n",
    "            print(\"updated %s\" % s0.select(nights = [yyyymmdd-1]))\n",
    "            coadd(s0c)\n",
    "        elif t['NIGHT'] < yyyymmdd-1: # in future, use getPrevObsdate for days > 30 days ago\n",
    "            if (s0r.num_spectra() == 0): \n",
    "            # first (or only) ref night found\n",
    "                s0r = s0.select([t['NIGHT']])\n",
    "                print(t['NIGHT'])\n",
    "            else:\n",
    "                s0r = s0.update(s0.select(nights = [t['NIGHT']]))\n",
    "                print(t['NIGHT'])\n",
    "            coadd(s0r)\n",
    "            for i in s0r.flux:\n",
    "            #flip signs of r0a.flux\n",
    "                s0r.flux[i] = -1*r0a.flux[i]\n",
    "    \n",
    "    if s0r.num_spectra() != 0:\n",
    "    # if there is something to difference\n",
    "        s0d.update(s0c) #not working, produce NoneType\n",
    "        s0d.update(s0r) #not working, produces NoneType\n",
    "        print(\"s0d differenced\")\n",
    "        coadd(s0d)   #how to store differenced spectra as one per reference spectra will be produced\n",
    "    else:\n",
    "        print(\"no reference nights\")\n",
    "    print(\"--- group_by NIGHT  %s seconds ---\" % (time.time() - start_time))\n",
    "                \n"
   ]
  },
  {
   "cell_type": "code",
   "execution_count": 127,
   "id": "6a4b7089-58f8-4385-b4ca-0ea7ba2d8d57",
   "metadata": {},
   "outputs": [
    {
     "name": "stdout",
     "output_type": "stream",
     "text": [
      "INFO:spectra.py:253:read_spectra: iotime 2.430 sec to read spectra-3-80892-thru20210406.fits at 2021-07-26T16:29:33.693238\n",
      "20210318\n",
      "20210319\n",
      "20210404\n",
      "ok: \n",
      "{'b': array([[0.01202291, 0.01652905, 0.01661521, ..., 1.36920261, 1.39959073,\n",
      "        1.53979647]]), 'r': array([[1.35574245, 1.25804484, 1.3272047 , ..., 0.05000559, 0.08597526,\n",
      "        0.13494942]]), 'z': array([[ 8.99221802,  7.23160028,  7.011415  , ..., 10.92893696,\n",
      "        11.88213634, 13.70275688]])}\n",
      "done: \n",
      "{'b': array([[0.01068336, 0.01397592, 0.01396004, ..., 0.97345609, 0.99354801,\n",
      "        1.07233834]]), 'r': array([[1.35574245, 1.25804484, 1.3272047 , ..., 0.05000559, 0.08597526,\n",
      "        0.13494942]]), 'z': array([[ 8.99221802,  7.23160028,  7.011415  , ..., 10.92893696,\n",
      "        11.88213634, 13.70275688]])}\n",
      "ok: \n",
      "{'b': array([[0.01202291, 0.01652905, 0.01661521, ..., 1.36920261, 1.39959073,\n",
      "        1.53979647]]), 'r': array([[1.35574245, 1.25804484, 1.3272047 , ..., 0.05000559, 0.08597526,\n",
      "        0.13494942]]), 'z': array([[ 8.99221802,  7.23160028,  7.011415  , ..., 10.92893696,\n",
      "        11.88213634, 13.70275688]])}\n",
      "done: \n",
      "{'b': array([[0.01068336, 0.01397592, 0.01396004, ..., 0.97345609, 0.99354801,\n",
      "        1.07233834]]), 'r': array([[1.02084495, 0.96016976, 0.99419026, ..., 0.03527992, 0.05897958,\n",
      "        0.09230282]]), 'z': array([[ 8.99221802,  7.23160028,  7.011415  , ..., 10.92893696,\n",
      "        11.88213634, 13.70275688]])}\n",
      "ok: \n",
      "{'b': array([[0.01202291, 0.01652905, 0.01661521, ..., 1.36920261, 1.39959073,\n",
      "        1.53979647]]), 'r': array([[1.35574245, 1.25804484, 1.3272047 , ..., 0.05000559, 0.08597526,\n",
      "        0.13494942]]), 'z': array([[ 8.99221802,  7.23160028,  7.011415  , ..., 10.92893696,\n",
      "        11.88213634, 13.70275688]])}\n",
      "done: \n",
      "{'b': array([[0.01068336, 0.01397592, 0.01396004, ..., 0.97345609, 0.99354801,\n",
      "        1.07233834]]), 'r': array([[1.02084495, 0.96016976, 0.99419026, ..., 0.03527992, 0.05897958,\n",
      "        0.09230282]]), 'z': array([[6.77422358, 5.47076302, 5.3036235 , ..., 7.58869319, 8.35608687,\n",
      "        9.47021667]])}\n"
     ]
    }
   ],
   "source": [
    "###********* manual differencing\n",
    "###**********************************\n",
    "\n",
    "\n",
    "yyyymmdd = 20210406\n",
    "dats=[]\n",
    "for filename in glob.glob(f\"/global/project/projectdirs/desi/spectro/redux/daily/tiles/cumulative/80892/20210406/spectra-3-80892-thru20210406.fits\"):\n",
    "    t = Table.read(filename, format='fits',hdu=1, memmap=True)[['TARGETID','TARGET_RA','TARGET_DEC','TILEID','OBJTYPE','PETAL_LOC','NIGHT','MJD']]\n",
    "    t=t[t['OBJTYPE']=='TGT']\n",
    "    dats.append(t)\n",
    "dats=vstack(dats, join_type='inner',metadata_conflicts='silent')\n",
    "# group all the observations by TARGET_RA and TARGET_DEC\n",
    "# note that this is more reliable than grouping by TARGETID as TARGETID is NOT a unique identifier of RA and DEC\n",
    "dats_group = dats.group_by(['TARGET_RA','TARGET_DEC'])\n",
    "\n",
    "d = dats_group.group_by(['NIGHT'])\n",
    "du = unique(d, keys=['NIGHT'])\n",
    "\n",
    "s0 = Spectra() #spectra_no_expid() ### all spectra\n",
    "s0c = Spectra() #spectra_no_expid() ### only current spectra\n",
    "s0r = Spectra() #spectra_no_expid() ### only reference spectra\n",
    "s0d = Spectra() #differenced spectra\n",
    "\n",
    "f0 = f\"/global/project/projectdirs/desi/spectro/redux/daily/tiles/cumulative/80892/20210406/spectra-3-80892-thru20210406.fits\"\n",
    "#this is being done multiple times: need to find way to implement select(targets = ['TID']) for files already read in\n",
    "s0 = read_spectra(f0)\n",
    "s0c = s0.select(nights = [yyyymmdd], targets = [39632930984689832])\n",
    "for t in du:\n",
    "    if t['NIGHT'] < yyyymmdd: # in future, use getPrevObsdate for days > 30 days ago\n",
    "        if (s0r.num_spectra() == 0): \n",
    "        # first (or only) ref night found\n",
    "            s0r = s0.select(nights = [t['NIGHT']], targets= [39632930984689832])\n",
    "            print(t['NIGHT'])\n",
    "        else:\n",
    "            s0r.update(s0.select(nights = [t['NIGHT']], targets= [39632930984689832]))\n",
    "            print(t['NIGHT'])\n",
    "\n",
    "if s0r.num_spectra() != 0:\n",
    "# i.e. there is something to difference\n",
    "    s0d.update(s0c)\n",
    "    coadd(s0r)\n",
    "    for i in s0d.flux:\n",
    "        for j in range(len(s0d.flux[i])):\n",
    "            s0d.flux[i][j] = s0c.flux[i][j] - s0r.flux[i][j]\n",
    "    for i in s0d.ivar:\n",
    "        ok = numpy.logical_and(s0c.ivar[i][0,:] != 0, s0r.ivar[i][0,:] != 0)\n",
    "        s0d.ivar[i][0,ok] = (1/(1/s0c.ivar[i][0,ok] + 1/s0r.ivar[i][0,ok]))\n",
    "    coadd(s0d)\n",
    "else:\n",
    "    print(\"no reference nights\")           \n",
    "    \n",
    "\n",
    "\n",
    "#print(\"--- group_by NIGHT  %s seconds ---\" % (time.time() - start_time))\n"
   ]
  },
  {
   "cell_type": "code",
   "execution_count": 4,
   "id": "91aecd21-d0cf-4234-8072-f9443c299429",
   "metadata": {},
   "outputs": [
    {
     "name": "stdout",
     "output_type": "stream",
     "text": [
      "     TARGETID         TARGET_RA         TARGET_DEC    TILEID OBJTYPE PETAL_LOC  NIGHT        MJD      \n",
      "----------------- ----------------- ----------------- ------ ------- --------- -------- --------------\n",
      "39632930984689832 213.1181626866923 32.45274473655966  80892     TGT         3 20210318 59292.40819121\n"
     ]
    }
   ],
   "source": [
    "yyyymmdd = 20210406\n",
    "dats=[]\n",
    "for filename in glob.glob(f\"/global/project/projectdirs/desi/spectro/redux/daily/tiles/cumulative/80892/20210406/spectra-3-80892-thru20210406.fits\"):\n",
    "    t = Table.read(filename, format='fits',hdu=1, memmap=True)[['TARGETID','TARGET_RA','TARGET_DEC','TILEID','OBJTYPE','PETAL_LOC','NIGHT','MJD']]\n",
    "    t=t[t['OBJTYPE']=='TGT']\n",
    "    dats.append(t)\n",
    "dats=vstack(dats, join_type='inner',metadata_conflicts='silent')\n",
    "# group all the observations by TARGET_RA and TARGET_DEC\n",
    "# note that this is more reliable than grouping by TARGETID as TARGETID is NOT a unique identifier of RA and DEC\n",
    "dats_group = dats.group_by(['TARGET_RA','TARGET_DEC'])\n",
    "\n",
    "d = dats_group.group_by(['NIGHT'])\n",
    "du = unique(d, keys=['NIGHT'])\n",
    "\n",
    "\n",
    "d = dats_group.group_by(['NIGHT'])\n",
    "du = unique(d, keys=['NIGHT'])\n",
    "print(du[0])\n"
   ]
  },
  {
   "cell_type": "code",
   "execution_count": null,
   "id": "26012628-1711-466b-80c5-318a986d1e8e",
   "metadata": {},
   "outputs": [],
   "source": [
    "s0 = Spectra() #spectra_no_expid() ### all spectra\n",
    "s0c = Spectra() #spectra_no_expid() ### only current spectra\n",
    "s0r = Spectra() #spectra_no_expid() ### only reference spectra\n",
    "s0d = Spectra() #differenced spectra\n",
    "\n",
    "f0 = f\"/global/project/projectdirs/desi/spectro/redux/daily/tiles/cumulative/{du[0]['TILEID']}/{yyyymmdd}/spectra-{du[0]['PETAL_LOC']}-{du[0]['TILEID']}-thru{yyyymmdd}.fits\"\n",
    "#this is being done multiple times: need to find way to implement select(targets = ['TID']) for files already read in\n",
    "s0 = read_spectra(f0)\n",
    "s0c = s0.select(nights = [yyyymmdd], targets = [du[0]['TARGETID']])\n",
    "for t in du:\n",
    "    if t['NIGHT'] < yyyymmdd: # in future, use getPrevObsdate for days > 30 days ago\n",
    "        if (s0r.num_spectra() == 0): \n",
    "        # first (or only) ref night found\n",
    "            s0r = s0.select(nights = [t['NIGHT']], targets= [du[0]['TARGETID']])\n",
    "            print(t['NIGHT'])\n",
    "        else:\n",
    "            s0r.update(s0.select(nights = [t['NIGHT']], targets= [du[0]['TARGETID']]))\n",
    "            print(t['NIGHT'])\n",
    "\n",
    "if s0r.num_spectra() != 0:\n",
    "# i.e. there is something to difference\n",
    "    s0d.update(s0c)\n",
    "    coadd(s0r)\n",
    "    for i in s0d.flux:\n",
    "        for j in range(len(s0d.flux[i])):\n",
    "            s0d.flux[i][j] = s0c.flux[i][j] - s0r.flux[i][j]\n",
    "    for i in s0d.ivar:\n",
    "        ok = numpy.logical_and(s0c.ivar[i][0,:] != 0, s0r.ivar[i][0,:] != 0)\n",
    "        s0d.ivar[i][0,ok] = (1/(1/s0c.ivar[i][0,ok] + 1/s0r.ivar[i][0,ok]))\n",
    "    coadd(s0d)\n",
    "else:\n",
    "    print(\"no reference nights\")"
   ]
  },
  {
   "cell_type": "code",
   "execution_count": 111,
   "id": "cfe9e635-0efc-467a-8cc9-144565c6857b",
   "metadata": {},
   "outputs": [
    {
     "name": "stdout",
     "output_type": "stream",
     "text": [
      "[[0.09588648 0.09048054 0.08735737 ... 3.36796045 3.42466566 3.53225809]]\n",
      "2751\n",
      "[[4.13261616 4.05517855 3.96227258 ... 0.11980391 0.1878369  0.29207987]]\n",
      "2326\n",
      "[[27.4641335  22.46793175 21.77426529 ... 24.82943022 28.15847147\n",
      "  30.65962052]]\n",
      "2881\n"
     ]
    }
   ],
   "source": [
    "for i in s0r.ivar:\n",
    "    print(s0r.ivar[i])\n",
    "    for j in s0r.ivar[i]:\n",
    "        print(len(j))"
   ]
  },
  {
   "cell_type": "code",
   "execution_count": 14,
   "id": "276304d1-912e-4d96-9751-5d3a60b4c4fb",
   "metadata": {
    "tags": []
   },
   "outputs": [],
   "source": [
    "\"\"\"\n",
    "import pandas as pd \n",
    "pd.DataFrame(s0d.flux['b']).to_csv('s0d_m_flux.csv')\n",
    "pd.DataFrame(s0c.flux['b']).to_csv('s0c_flux.csv')\n",
    "pd.DataFrame(s0r.flux['b']).to_csv('s0r_m_flux.csv')\n",
    "\"\"\""
   ]
  },
  {
   "cell_type": "code",
   "execution_count": 66,
   "id": "55debcf4-e64c-49a5-9dbb-20ff77a4dbf2",
   "metadata": {
    "tags": []
   },
   "outputs": [
    {
     "name": "stdout",
     "output_type": "stream",
     "text": [
      "<class 'numpy.float64'>\n"
     ]
    }
   ],
   "source": [
    "print(type(s0d.ivar['b'][0]))"
   ]
  },
  {
   "cell_type": "code",
   "execution_count": 128,
   "id": "07bd3aaf-f33c-4efd-b0a7-2bee0cbfbd17",
   "metadata": {},
   "outputs": [
    {
     "data": {
      "image/png": "[encoded data removed]",
      "text/plain": [
       "<Figure size 432x288 with 1 Axes>"
      ]
     },
     "metadata": {
      "needs_background": "light"
     },
     "output_type": "display_data"
    }
   ],
   "source": [
    "for b in s0d.bands:\n",
    "#         ok = numpy.logical_and(s1.mask[b][w[0]] == 0,s1.ivar[b][w[0]] != 0)\n",
    "#         plt.plot(s1.wave[b][ok],s1.flux[b][w[0],ok]) \n",
    "    ok = numpy.logical_and(s0d.mask[b][0,:] == 0, s0d.ivar[b][0] != 0)\n",
    "    plt.plot(s0c.wave[b][ok],s0c.flux[b][0,ok], color = 'red')\n",
    "    plt.plot(s0r.wave[b][ok],s0r.flux[b][0,ok], color = 'green')\n",
    "    plt.plot(s0d.wave[b][ok],s0d.flux[b][0,ok], color = 'cyan')\n",
    "    #plt.ylim(10,12)\n",
    "    #print(plt.xlim)\n",
    "plt.xlim(3600, 3650)\n",
    "plt.show()"
   ]
  },
  {
   "cell_type": "code",
   "execution_count": 105,
   "id": "44229f94-c2b5-4d93-9320-82009b0cbbd3",
   "metadata": {},
   "outputs": [
    {
     "data": {
      "image/png": "[encoded data removed]",
      "text/plain": [
       "<Figure size 432x288 with 1 Axes>"
      ]
     },
     "metadata": {
      "needs_background": "light"
     },
     "output_type": "display_data"
    }
   ],
   "source": [
    "for b in s0c.bands:\n",
    "#         ok = numpy.logical_and(s1.mask[b][w[0]] == 0,s1.ivar[b][w[0]] != 0)\n",
    "#         plt.plot(s1.wave[b][ok],s1.flux[b][w[0],ok]) \n",
    "    ok = numpy.logical_and(s0c.mask[b][0,:] == 0,s0c.ivar[b][0,:] != 0)\n",
    "    plt.plot(s0c.wave[b][ok],s0c.flux[b][0,ok])"
   ]
  },
  {
   "cell_type": "code",
   "execution_count": 106,
   "id": "2f3dc17c-d168-43f8-97e5-2563757e4851",
   "metadata": {},
   "outputs": [
    {
     "data": {
      "image/png": "[encoded data removed]",
      "text/plain": [
       "<Figure size 432x288 with 1 Axes>"
      ]
     },
     "metadata": {
      "needs_background": "light"
     },
     "output_type": "display_data"
    }
   ],
   "source": [
    "for b in s0r.bands:\n",
    "#         ok = numpy.logical_and(s1.mask[b][w[0]] == 0,s1.ivar[b][w[0]] != 0)\n",
    "#         plt.plot(s1.wave[b][ok],s1.flux[b][w[0],ok]) \n",
    "    ok = numpy.logical_and(s0r.mask[b][0,:] == 0,s0r.ivar[b][0,:] != 0)\n",
    "    plt.plot(s0r.wave[b][ok],s0r.flux[b][0,ok])"
   ]
  },
  {
   "cell_type": "code",
   "execution_count": 107,
   "id": "dca348d3-524b-484a-997e-719e1faf3557",
   "metadata": {},
   "outputs": [
    {
     "data": {
      "image/png": "[encoded data removed]",
      "text/plain": [
       "<Figure size 432x288 with 1 Axes>"
      ]
     },
     "metadata": {
      "needs_background": "light"
     },
     "output_type": "display_data"
    }
   ],
   "source": [
    "#w=numpy.where(s0d.fibermap['TARGETID']==39632930984689832)[0]\n",
    "#s0d=s0d[w]\n",
    "#     spectra = coadd_cameras(s1)\n",
    "for b in s0d.bands:\n",
    "#         ok = numpy.logical_and(s1.mask[b][w[0]] == 0,s1.ivar[b][w[0]] != 0)\n",
    "#         plt.plot(s1.wave[b][ok],s1.flux[b][w[0],ok]) \n",
    "    ok = numpy.logical_and(s0d.mask[b][0,:] == 0,s0d.ivar[b][0,:] != 0)\n",
    "    plt.plot(s0d.wave[b][ok],s0d.flux[b][0,ok])"
   ]
  },
  {
   "cell_type": "code",
   "execution_count": null,
   "id": "28ecd3bf-c541-44af-a99a-c52ca2cc367d",
   "metadata": {},
   "outputs": [],
   "source": []
  },
  {
   "cell_type": "code",
   "execution_count": 38,
   "id": "cc222893-5f11-403d-85d3-15355579b4c8",
   "metadata": {},
   "outputs": [
    {
     "name": "stdout",
     "output_type": "stream",
     "text": [
      "INFO:spectra.py:253:read_spectra: iotime 1.918 sec to read spectra-3-1-thru20210406.fits at 2021-07-20T14:15:35.669182\n"
     ]
    },
    {
     "data": {
      "text/html": [
       "<i>Table length=1500</i>\n",
       "<table id=\"table46913375530432\" class=\"table-striped table-bordered table-condensed\">\n",
       "<thead><tr><th>TARGETID</th><th>PETAL_LOC</th><th>DEVICE_LOC</th><th>LOCATION</th><th>FIBER</th><th>FIBERSTATUS</th><th>TARGET_RA</th><th>TARGET_DEC</th><th>PMRA</th><th>PMDEC</th><th>REF_EPOCH</th><th>LAMBDA_REF</th><th>FA_TARGET</th><th>FA_TYPE</th><th>OBJTYPE</th><th>FIBERASSIGN_X</th><th>FIBERASSIGN_Y</th><th>PRIORITY</th><th>SUBPRIORITY</th><th>OBSCONDITIONS</th><th>RELEASE</th><th>BRICKID</th><th>BRICK_OBJID</th><th>MORPHTYPE</th><th>FLUX_G</th><th>FLUX_R</th><th>FLUX_Z</th><th>FLUX_IVAR_G</th><th>FLUX_IVAR_R</th><th>FLUX_IVAR_Z</th><th>MASKBITS</th><th>REF_ID</th><th>REF_CAT</th><th>GAIA_PHOT_G_MEAN_MAG</th><th>GAIA_PHOT_BP_MEAN_MAG</th><th>GAIA_PHOT_RP_MEAN_MAG</th><th>PARALLAX</th><th>BRICKNAME</th><th>EBV</th><th>FLUX_W1</th><th>FLUX_W2</th><th>FLUX_IVAR_W1</th><th>FLUX_IVAR_W2</th><th>FIBERFLUX_G</th><th>FIBERFLUX_R</th><th>FIBERFLUX_Z</th><th>FIBERTOTFLUX_G</th><th>FIBERTOTFLUX_R</th><th>FIBERTOTFLUX_Z</th><th>SERSIC</th><th>SHAPE_R</th><th>SHAPE_E1</th><th>SHAPE_E2</th><th>PHOTSYS</th><th>PRIORITY_INIT</th><th>NUMOBS_INIT</th><th>SV3_DESI_TARGET</th><th>SV3_BGS_TARGET</th><th>SV3_MWS_TARGET</th><th>SV3_SCND_TARGET</th><th>DESI_TARGET</th><th>BGS_TARGET</th><th>MWS_TARGET</th><th>NUM_ITER</th><th>FIBER_X</th><th>FIBER_Y</th><th>DELTA_X</th><th>DELTA_Y</th><th>FIBER_RA</th><th>FIBER_DEC</th><th>EXPTIME</th><th>PSF_TO_FIBER_SPECFLUX</th><th>NIGHT</th><th>EXPID</th><th>MJD</th><th>TILEID</th></tr></thead>\n",
       "<thead><tr><th>int64</th><th>int16</th><th>int32</th><th>int64</th><th>int32</th><th>int32</th><th>float64</th><th>float64</th><th>float32</th><th>float32</th><th>float32</th><th>float32</th><th>int64</th><th>uint8</th><th>bytes3</th><th>float32</th><th>float32</th><th>int32</th><th>float64</th><th>int32</th><th>int16</th><th>int32</th><th>int32</th><th>bytes4</th><th>float32</th><th>float32</th><th>float32</th><th>float32</th><th>float32</th><th>float32</th><th>int16</th><th>int64</th><th>bytes2</th><th>float32</th><th>float32</th><th>float32</th><th>float32</th><th>bytes8</th><th>float32</th><th>float32</th><th>float32</th><th>float32</th><th>float32</th><th>float32</th><th>float32</th><th>float32</th><th>float32</th><th>float32</th><th>float32</th><th>float32</th><th>float32</th><th>float32</th><th>float32</th><th>bytes1</th><th>int64</th><th>int64</th><th>int64</th><th>int64</th><th>int64</th><th>int64</th><th>int64</th><th>int64</th><th>int64</th><th>int64</th><th>float64</th><th>float64</th><th>float64</th><th>float64</th><th>float64</th><th>float64</th><th>float64</th><th>float64</th><th>int32</th><th>int32</th><th>float64</th><th>int32</th></tr></thead>\n",
       "<tr><td>39627847635042774</td><td>3</td><td>69</td><td>3069</td><td>1500</td><td>0</td><td>149.52048102850392</td><td>2.5898907791217454</td><td>0.0</td><td>0.0</td><td>2015.5</td><td>5400.0</td><td>2162697</td><td>1</td><td>TGT</td><td>126.765144</td><td>74.43516</td><td>103200</td><td>0.7553672274490444</td><td>1</td><td>9010</td><td>345366</td><td>470</td><td>DEV</td><td>0.122039385</td><td>0.99172044</td><td>6.3039675</td><td>283.90717</td><td>197.73463</td><td>18.135334</td><td>0</td><td>0</td><td></td><td>0.0</td><td>0.0</td><td>0.0</td><td>0.0</td><td>1496p025</td><td>0.019523134</td><td>28.390789</td><td>21.234022</td><td>2.1930811</td><td>0.5464032</td><td>0.048500795</td><td>0.39412874</td><td>2.5053177</td><td>0.048500795</td><td>0.39412874</td><td>2.5053177</td><td>4.0</td><td>0.7658064</td><td>-0.04436288</td><td>-0.010842697</td><td>S</td><td>103200</td><td>9</td><td>2162697</td><td>0</td><td>0</td><td>0</td><td>0</td><td>0</td><td>0</td><td>2</td><td>126.759</td><td>74.436</td><td>0.002</td><td>-0.004</td><td>149.52048919906807</td><td>2.589907136068475</td><td>860.625</td><td>0.7728334426396877</td><td>20210406</td><td>83714</td><td>59311.13373059</td><td>1</td></tr>\n",
       "<tr><td>39627847630852661</td><td>3</td><td>78</td><td>3078</td><td>1501</td><td>0</td><td>149.45591042374338</td><td>2.563333126849073</td><td>0.0</td><td>0.0</td><td>2015.5</td><td>5400.0</td><td>1152921504609009673</td><td>1</td><td>TGT</td><td>142.67244</td><td>68.03043</td><td>103200</td><td>0.5991145179675139</td><td>517</td><td>9010</td><td>345365</td><td>4661</td><td>DEV</td><td>3.8875945</td><td>21.187418</td><td>51.025627</td><td>214.51334</td><td>98.61064</td><td>14.602158</td><td>0</td><td>0</td><td></td><td>0.0</td><td>0.0</td><td>0.0</td><td>0.0</td><td>1493p025</td><td>0.020471008</td><td>97.192795</td><td>57.13752</td><td>1.3178041</td><td>0.39139566</td><td>1.0532484</td><td>5.7402115</td><td>13.824143</td><td>1.05437</td><td>5.745292</td><td>13.828243</td><td>4.0</td><td>1.4197546</td><td>-0.018556084</td><td>0.028687079</td><td>S</td><td>103200</td><td>9</td><td>1152921504609009673</td><td>131074</td><td>0</td><td>0</td><td>0</td><td>0</td><td>0</td><td>2</td><td>142.674</td><td>68.029</td><td>-0.006</td><td>-0.003</td><td>149.45588615965764</td><td>2.563345208417504</td><td>860.625</td><td>0.7594394859580775</td><td>20210406</td><td>83714</td><td>59311.13373059</td><td>1</td></tr>\n",
       "<tr><td>39627841599440351</td><td>3</td><td>10</td><td>3010</td><td>1502</td><td>0</td><td>149.80800313695215</td><td>2.3664846530277495</td><td>0.0</td><td>0.0</td><td>2015.5</td><td>5400.0</td><td>1441862</td><td>1</td><td>TGT</td><td>56.3504</td><td>19.63901</td><td>103400</td><td>0.043488441146655066</td><td>1</td><td>9010</td><td>343927</td><td>1503</td><td>PSF</td><td>1.4196032</td><td>1.491319</td><td>1.7954937</td><td>1544.5505</td><td>474.0113</td><td>151.85263</td><td>0</td><td>0</td><td></td><td>0.0</td><td>0.0</td><td>0.0</td><td>0.0</td><td>1498p022</td><td>0.020040825</td><td>1.5391436</td><td>2.976353</td><td>3.248919</td><td>0.70568</td><td>1.1053874</td><td>1.1612296</td><td>1.3980782</td><td>1.1053874</td><td>1.1612296</td><td>1.3980782</td><td>0.0</td><td>0.0</td><td>0.0</td><td>0.0</td><td>S</td><td>103400</td><td>9</td><td>1441862</td><td>0</td><td>0</td><td>0</td><td>0</td><td>0</td><td>0</td><td>2</td><td>56.349</td><td>19.646</td><td>-0.004</td><td>-0.001</td><td>149.80798669823406</td><td>2.3664887372646244</td><td>860.625</td><td>0.7889999999999998</td><td>20210406</td><td>83714</td><td>59311.13373059</td><td>1</td></tr>\n",
       "<tr><td>-8131</td><td>3</td><td>111</td><td>3111</td><td>1503</td><td>521</td><td>149.41467709209252</td><td>2.6756117178748906</td><td>0.0</td><td>0.0</td><td>0.0</td><td>5400.0</td><td>0</td><td>0</td><td></td><td>153.02281</td><td>95.711365</td><td>0</td><td>0.0</td><td>0</td><td>0</td><td>0</td><td>0</td><td></td><td>0.0</td><td>0.0</td><td>0.0</td><td>0.0</td><td>0.0</td><td>0.0</td><td>0</td><td>0</td><td></td><td>0.0</td><td>0.0</td><td>0.0</td><td>0.0</td><td></td><td>0.0</td><td>0.0</td><td>0.0</td><td>0.0</td><td>0.0</td><td>0.0</td><td>0.0</td><td>0.0</td><td>0.0</td><td>0.0</td><td>0.0</td><td>0.0</td><td>0.0</td><td>0.0</td><td>0.0</td><td></td><td>0</td><td>0</td><td>0</td><td>0</td><td>0</td><td>0</td><td>0</td><td>0</td><td>0</td><td>2</td><td>150.358</td><td>95.478</td><td>2.66</td><td>0.225</td><td>149.42541432949588</td><td>2.674788231511242</td><td>860.625</td><td>0.0</td><td>20210406</td><td>83714</td><td>59311.13373059</td><td>1</td></tr>\n",
       "<tr><td>39627847635043036</td><td>3</td><td>60</td><td>3060</td><td>1504</td><td>0</td><td>149.5337761895054</td><td>2.5386129618576336</td><td>0.0</td><td>0.0</td><td>2015.5</td><td>5400.0</td><td>1179714</td><td>1</td><td>TGT</td><td>123.451195</td><td>61.85435</td><td>103100</td><td>0.6435725707735409</td><td>1</td><td>9010</td><td>345366</td><td>732</td><td>REX</td><td>0.50320685</td><td>0.4729942</td><td>0.6114274</td><td>568.2483</td><td>320.59198</td><td>79.5921</td><td>0</td><td>0</td><td></td><td>0.0</td><td>0.0</td><td>0.0</td><td>0.0</td><td>1496p025</td><td>0.020395698</td><td>0.7943928</td><td>2.6396098</td><td>2.9466963</td><td>0.6540987</td><td>0.33173785</td><td>0.3118202</td><td>0.40308192</td><td>0.331738</td><td>0.31182057</td><td>0.40308285</td><td>1.0</td><td>0.28773737</td><td>0.0</td><td>0.0</td><td>S</td><td>103100</td><td>9</td><td>1179714</td><td>0</td><td>0</td><td>0</td><td>0</td><td>0</td><td>0</td><td>2</td><td>123.452</td><td>61.857</td><td>-0.005</td><td>-0.005</td><td>149.53375589532422</td><td>2.5386332809819923</td><td>860.625</td><td>0.7849766913664163</td><td>20210406</td><td>83714</td><td>59311.13373059</td><td>1</td></tr>\n",
       "<tr><td>39627847635045163</td><td>3</td><td>45</td><td>3045</td><td>1505</td><td>0</td><td>149.64726429049168</td><td>2.530107028624065</td><td>0.0</td><td>0.0</td><td>2015.5</td><td>5400.0</td><td>2162697</td><td>1</td><td>TGT</td><td>95.59481</td><td>59.632862</td><td>103200</td><td>0.9495726538293918</td><td>1</td><td>9010</td><td>345366</td><td>2859</td><td>EXP</td><td>0.16261676</td><td>0.5685663</td><td>5.9637685</td><td>485.3753</td><td>233.46512</td><td>71.79447</td><td>768</td><td>0</td><td></td><td>0.0</td><td>0.0</td><td>0.0</td><td>0.0</td><td>1496p025</td><td>0.019788744</td><td>37.652042</td><td>2.5012562</td><td>1.5297078</td><td>0.52946794</td><td>0.12663922</td><td>0.44277596</td><td>4.6443367</td><td>2.7822871</td><td>10.684679</td><td>66.637024</td><td>1.0</td><td>0.01</td><td>0.35107163</td><td>0.0365522</td><td>S</td><td>103200</td><td>9</td><td>2162697</td><td>0</td><td>0</td><td>0</td><td>0</td><td>0</td><td>0</td><td>2</td><td>95.596</td><td>59.637</td><td>-0.005</td><td>-0.003</td><td>149.64724387333916</td><td>2.5301192270837154</td><td>860.625</td><td>0.7907691098901279</td><td>20210406</td><td>83714</td><td>59311.13373059</td><td>1</td></tr>\n",
       "<tr><td>39627847630852038</td><td>3</td><td>87</td><td>3087</td><td>1506</td><td>0</td><td>149.42734497732346</td><td>2.5811108400558</td><td>0.0</td><td>0.0</td><td>2015.5</td><td>5400.0</td><td>2162697</td><td>1</td><td>TGT</td><td>149.75696</td><td>72.44343</td><td>103200</td><td>0.9142111688600119</td><td>1</td><td>9010</td><td>345365</td><td>4038</td><td>DEV</td><td>1.3142953</td><td>6.879278</td><td>29.385876</td><td>220.86583</td><td>133.48672</td><td>12.578817</td><td>0</td><td>0</td><td></td><td>0.0</td><td>0.0</td><td>0.0</td><td>0.0</td><td>1493p025</td><td>0.02005066</td><td>92.077324</td><td>50.14929</td><td>1.4864515</td><td>0.44637582</td><td>0.44221643</td><td>2.3146472</td><td>9.887365</td><td>0.44221643</td><td>2.3146472</td><td>9.887365</td><td>4.0</td><td>1.0765562</td><td>-0.08883598</td><td>-0.03844277</td><td>S</td><td>103200</td><td>9</td><td>2162697</td><td>0</td><td>0</td><td>0</td><td>0</td><td>0</td><td>0</td><td>2</td><td>149.749</td><td>72.44</td><td>0.003</td><td>-0.003</td><td>149.42735715024463</td><td>2.581123135934561</td><td>860.625</td><td>0.7659692712627652</td><td>20210406</td><td>83714</td><td>59311.13373059</td><td>1</td></tr>\n",
       "<tr><td>39627847630852364</td><td>3</td><td>88</td><td>3088</td><td>1507</td><td>0</td><td>149.44240867901618</td><td>2.6075379031785215</td><td>0.0</td><td>0.0</td><td>2015.5</td><td>5400.0</td><td>65537</td><td>1</td><td>TGT</td><td>146.05827</td><td>78.90515</td><td>103200</td><td>0.7801438319616686</td><td>1</td><td>9010</td><td>345365</td><td>4364</td><td>DEV</td><td>0.7666618</td><td>2.7578745</td><td>11.053452</td><td>371.11853</td><td>211.93906</td><td>27.62946</td><td>0</td><td>0</td><td></td><td>0.0</td><td>0.0</td><td>0.0</td><td>0.0</td><td>1493p025</td><td>0.019617898</td><td>34.01192</td><td>14.767587</td><td>2.0355346</td><td>0.5276883</td><td>0.28032008</td><td>1.0083815</td><td>4.041553</td><td>0.28050748</td><td>1.0086294</td><td>4.0418005</td><td>4.0</td><td>1.0736456</td><td>0.25091365</td><td>-0.058781553</td><td>S</td><td>103200</td><td>9</td><td>65537</td><td>0</td><td>0</td><td>0</td><td>0</td><td>0</td><td>0</td><td>2</td><td>146.057</td><td>78.901</td><td>-0.003</td><td>-0.002</td><td>149.44239657464936</td><td>2.6075459593440473</td><td>860.625</td><td>0.7662852575334661</td><td>20210406</td><td>83714</td><td>59311.13373059</td><td>1</td></tr>\n",
       "<tr><td>39627841599442309</td><td>3</td><td>4</td><td>3004</td><td>1508</td><td>512</td><td>149.8833280533815</td><td>2.3467400852690234</td><td>0.0</td><td>0.0</td><td>2015.5</td><td>5400.0</td><td>4611686018428829766</td><td>1</td><td>TGT</td><td>38.0332</td><td>14.807065</td><td>103400</td><td>0.9806087789001563</td><td>1</td><td>9010</td><td>343927</td><td>3461</td><td>PSF</td><td>2.4745543</td><td>3.1134667</td><td>4.395528</td><td>1642.9657</td><td>839.8202</td><td>173.66052</td><td>0</td><td>0</td><td></td><td>0.0</td><td>0.0</td><td>0.0</td><td>0.0</td><td>1498p022</td><td>0.01937884</td><td>19.079796</td><td>23.564663</td><td>2.7678404</td><td>0.64505124</td><td>1.927113</td><td>2.42468</td><td>3.4231129</td><td>1.927113</td><td>2.42468</td><td>3.4231129</td><td>0.0</td><td>0.0</td><td>0.0</td><td>0.0</td><td>S</td><td>103400</td><td>9</td><td>4611686018428829766</td><td>0</td><td>0</td><td>34426847232</td><td>0</td><td>0</td><td>0</td><td>2</td><td>41.106</td><td>12.357</td><td>-3.078</td><td>2.458</td><td>149.87068080744837</td><td>2.3366314400629755</td><td>860.625</td><td>0.0</td><td>20210406</td><td>83714</td><td>59311.13373059</td><td>1</td></tr>\n",
       "<tr><td>39627841595248433</td><td>3</td><td>23</td><td>3023</td><td>1509</td><td>0</td><td>149.66715757270316</td><td>2.371896686569603</td><td>0.0</td><td>0.0</td><td>2015.5</td><td>5400.0</td><td>2162697</td><td>1</td><td>TGT</td><td>90.70072</td><td>21.029486</td><td>103200</td><td>0.8911259123952369</td><td>1</td><td>9010</td><td>343926</td><td>3889</td><td>DEV</td><td>0.2841828</td><td>2.3412814</td><td>13.079494</td><td>612.27</td><td>148.64188</td><td>29.391901</td><td>0</td><td>0</td><td></td><td>0.0</td><td>0.0</td><td>0.0</td><td>0.0</td><td>1496p022</td><td>0.020622082</td><td>63.270023</td><td>33.77693</td><td>1.8278313</td><td>0.53176427</td><td>0.104488134</td><td>0.8608408</td><td>4.80906</td><td>0.104488134</td><td>0.8608408</td><td>4.80906</td><td>4.0</td><td>1.0045801</td><td>-0.13597062</td><td>0.1347489</td><td>S</td><td>103200</td><td>9</td><td>2162697</td><td>0</td><td>0</td><td>0</td><td>0</td><td>0</td><td>0</td><td>2</td><td>90.7</td><td>21.037</td><td>-0.004</td><td>-0.004</td><td>149.66714119002015</td><td>2.3719130538421918</td><td>860.625</td><td>0.7701186333024939</td><td>20210406</td><td>83714</td><td>59311.13373059</td><td>1</td></tr>\n",
       "<tr><td>...</td><td>...</td><td>...</td><td>...</td><td>...</td><td>...</td><td>...</td><td>...</td><td>...</td><td>...</td><td>...</td><td>...</td><td>...</td><td>...</td><td>...</td><td>...</td><td>...</td><td>...</td><td>...</td><td>...</td><td>...</td><td>...</td><td>...</td><td>...</td><td>...</td><td>...</td><td>...</td><td>...</td><td>...</td><td>...</td><td>...</td><td>...</td><td>...</td><td>...</td><td>...</td><td>...</td><td>...</td><td>...</td><td>...</td><td>...</td><td>...</td><td>...</td><td>...</td><td>...</td><td>...</td><td>...</td><td>...</td><td>...</td><td>...</td><td>...</td><td>...</td><td>...</td><td>...</td><td>...</td><td>...</td><td>...</td><td>...</td><td>...</td><td>...</td><td>...</td><td>...</td><td>...</td><td>...</td><td>...</td><td>...</td><td>...</td><td>...</td><td>...</td><td>...</td><td>...</td><td>...</td><td>...</td><td>...</td><td>...</td><td>...</td><td>...</td></tr>\n",
       "<tr><td>616088599921689605</td><td>3</td><td>402</td><td>3402</td><td>1990</td><td>8</td><td>148.6495147083362</td><td>2.5886794147828516</td><td>0.0</td><td>0.0</td><td>0.0</td><td>5400.0</td><td>4294967296</td><td>4</td><td>SKY</td><td>348.98105</td><td>76.61645</td><td>-1</td><td>0.8293690279692628</td><td>63</td><td>9010</td><td>345362</td><td>1029</td><td></td><td>0.0</td><td>0.0</td><td>0.0</td><td>0.0</td><td>0.0</td><td>0.0</td><td>0</td><td>0</td><td></td><td>0.0</td><td>0.0</td><td>0.0</td><td>0.0</td><td>1486p025</td><td>0.0</td><td>0.0</td><td>0.0</td><td>0.0</td><td>0.0</td><td>-0.0030394483</td><td>-0.01062429</td><td>-0.023983225</td><td>0.0</td><td>0.0</td><td>0.0</td><td>0.0</td><td>0.0</td><td>0.0</td><td>0.0</td><td></td><td>-1</td><td>-1</td><td>0</td><td>0</td><td>0</td><td>0</td><td>4294967296</td><td>0</td><td>0</td><td>1</td><td>0.0</td><td>0.0</td><td>0.0</td><td>0.0</td><td>0.0</td><td>0.0</td><td>740.7125</td><td>0.7903638683416986</td><td>20210406</td><td>83716</td><td>59311.15405799</td><td>1</td></tr>\n",
       "<tr><td>-8491</td><td>3</td><td>471</td><td>3471</td><td>1991</td><td>523</td><td>148.6226112363822</td><td>2.768843979161962</td><td>0.0</td><td>0.0</td><td>0.0</td><td>5400.0</td><td>0</td><td>0</td><td></td><td>356.93964</td><td>122.35616</td><td>0</td><td>0.0</td><td>0</td><td>0</td><td>0</td><td>0</td><td></td><td>0.0</td><td>0.0</td><td>0.0</td><td>0.0</td><td>0.0</td><td>0.0</td><td>0</td><td>0</td><td></td><td>0.0</td><td>0.0</td><td>0.0</td><td>0.0</td><td></td><td>0.0</td><td>0.0</td><td>0.0</td><td>0.0</td><td>0.0</td><td>0.0</td><td>0.0</td><td>0.0</td><td>0.0</td><td>0.0</td><td>0.0</td><td>0.0</td><td>0.0</td><td>0.0</td><td>0.0</td><td></td><td>0</td><td>0</td><td>0</td><td>0</td><td>0</td><td>0</td><td>0</td><td>0</td><td>0</td><td>1</td><td>0.0</td><td>0.0</td><td>0.0</td><td>0.0</td><td>0.0</td><td>0.0</td><td>740.7125</td><td>0.7903638683416986</td><td>20210406</td><td>83716</td><td>59311.15405799</td><td>1</td></tr>\n",
       "<tr><td>39627847622459866</td><td>3</td><td>341</td><td>3341</td><td>1992</td><td>0</td><td>148.77399511823603</td><td>2.621876542830676</td><td>0.0</td><td>0.0</td><td>2015.5</td><td>5400.0</td><td>4611686018428829766</td><td>1</td><td>TGT</td><td>316.0651</td><td>84.45441</td><td>103400</td><td>0.7994740229161721</td><td>1</td><td>9010</td><td>345363</td><td>474</td><td>PSF</td><td>1.456036</td><td>1.2021022</td><td>1.9393446</td><td>952.2311</td><td>672.3997</td><td>122.70538</td><td>0</td><td>0</td><td></td><td>0.0</td><td>0.0</td><td>0.0</td><td>0.0</td><td>1488p025</td><td>0.03871449</td><td>5.1588593</td><td>7.447718</td><td>3.0957367</td><td>0.6770552</td><td>1.1340357</td><td>0.9362589</td><td>1.5104612</td><td>1.1340357</td><td>0.9362589</td><td>1.5104612</td><td>0.0</td><td>0.0</td><td>0.0</td><td>0.0</td><td>S</td><td>103400</td><td>9</td><td>4611686018428829766</td><td>0</td><td>0</td><td>67108864</td><td>0</td><td>0</td><td>0</td><td>1</td><td>0.0</td><td>0.0</td><td>0.0</td><td>0.0</td><td>0.0</td><td>0.0</td><td>740.7125</td><td>0.7889999999999998</td><td>20210406</td><td>83716</td><td>59311.15405799</td><td>1</td></tr>\n",
       "<tr><td>616088605961487222</td><td>3</td><td>452</td><td>3452</td><td>1993</td><td>0</td><td>148.67276307256137</td><td>2.806147064106214</td><td>0.0</td><td>0.0</td><td>0.0</td><td>5400.0</td><td>4294967296</td><td>4</td><td>SKY</td><td>343.6919</td><td>131.51169</td><td>-1</td><td>0.9571664682081135</td><td>63</td><td>9010</td><td>346802</td><td>886</td><td></td><td>0.0</td><td>0.0</td><td>0.0</td><td>0.0</td><td>0.0</td><td>0.0</td><td>0</td><td>0</td><td></td><td>0.0</td><td>0.0</td><td>0.0</td><td>0.0</td><td>1486p027</td><td>0.0</td><td>0.0</td><td>0.0</td><td>0.0</td><td>0.0</td><td>0.009788912</td><td>0.022156207</td><td>-0.07609591</td><td>0.0</td><td>0.0</td><td>0.0</td><td>0.0</td><td>0.0</td><td>0.0</td><td>0.0</td><td></td><td>-1</td><td>-1</td><td>0</td><td>0</td><td>0</td><td>0</td><td>4294967296</td><td>0</td><td>0</td><td>1</td><td>0.0</td><td>0.0</td><td>0.0</td><td>0.0</td><td>0.0</td><td>0.0</td><td>740.7125</td><td>0.7903638683416986</td><td>20210406</td><td>83716</td><td>59311.15405799</td><td>1</td></tr>\n",
       "<tr><td>39627847618269382</td><td>3</td><td>359</td><td>3359</td><td>1994</td><td>0</td><td>148.71284588834448</td><td>2.5459161593915756</td><td>0.0</td><td>0.0</td><td>2015.5</td><td>5400.0</td><td>65537</td><td>1</td><td>TGT</td><td>332.00717</td><td>65.61947</td><td>103200</td><td>0.3038978004467645</td><td>1</td><td>9010</td><td>345362</td><td>4294</td><td>EXP</td><td>1.1390837</td><td>3.2760577</td><td>9.906469</td><td>273.36182</td><td>132.38803</td><td>21.88662</td><td>0</td><td>0</td><td></td><td>0.0</td><td>0.0</td><td>0.0</td><td>0.0</td><td>1486p025</td><td>0.04852738</td><td>35.120304</td><td>15.206548</td><td>2.2172637</td><td>0.576522</td><td>0.39515486</td><td>1.1364837</td><td>3.4366126</td><td>0.39579102</td><td>1.1388394</td><td>3.4530284</td><td>1.0</td><td>1.0255625</td><td>0.24809451</td><td>0.04074226</td><td>S</td><td>103200</td><td>9</td><td>65537</td><td>0</td><td>0</td><td>0</td><td>0</td><td>0</td><td>0</td><td>1</td><td>0.0</td><td>0.0</td><td>0.0</td><td>0.0</td><td>0.0</td><td>0.0</td><td>740.7125</td><td>0.774333457821401</td><td>20210406</td><td>83716</td><td>59311.15405799</td><td>1</td></tr>\n",
       "<tr><td>39627853662258031</td><td>3</td><td>364</td><td>3364</td><td>1995</td><td>0</td><td>148.80260479653563</td><td>2.7566917850286945</td><td>0.0</td><td>0.0</td><td>2015.5</td><td>5400.0</td><td>2162697</td><td>1</td><td>TGT</td><td>309.04428</td><td>118.21864</td><td>103200</td><td>0.08119737039008024</td><td>1</td><td>9010</td><td>346803</td><td>879</td><td>DEV</td><td>0.75386983</td><td>3.7920709</td><td>12.697828</td><td>199.53896</td><td>125.536995</td><td>12.066886</td><td>0</td><td>0</td><td></td><td>0.0</td><td>0.0</td><td>0.0</td><td>0.0</td><td>1488p027</td><td>0.029080987</td><td>51.172916</td><td>32.094963</td><td>1.7383573</td><td>0.46264794</td><td>0.23179263</td><td>1.1659495</td><td>3.9042058</td><td>0.23179263</td><td>1.1659495</td><td>3.9042058</td><td>4.0</td><td>1.8758644</td><td>0.026528744</td><td>-0.61781675</td><td>S</td><td>103200</td><td>9</td><td>2162697</td><td>0</td><td>0</td><td>0</td><td>0</td><td>0</td><td>0</td><td>1</td><td>0.0</td><td>0.0</td><td>0.0</td><td>0.0</td><td>0.0</td><td>0.0</td><td>740.7125</td><td>0.7678794016527078</td><td>20210406</td><td>83716</td><td>59311.15405799</td><td>1</td></tr>\n",
       "<tr><td>39627853662257397</td><td>3</td><td>409</td><td>3409</td><td>1996</td><td>0</td><td>148.76573092064416</td><td>2.847665027987625</td><td>-3.6899972</td><td>1.2420888</td><td>2015.5</td><td>5400.0</td><td>2305843052163366912</td><td>3</td><td>TGT</td><td>319.20956</td><td>141.4386</td><td>0</td><td>0.8458578558934693</td><td>519</td><td>9010</td><td>346803</td><td>245</td><td>PSF</td><td>124.81473</td><td>170.54607</td><td>185.40782</td><td>53.84942</td><td>53.58714</td><td>34.662888</td><td>0</td><td>3848399999839178368</td><td>G2</td><td>16.98151</td><td>17.252708</td><td>16.529198</td><td>0.17534925</td><td>1488p027</td><td>0.029581852</td><td>46.733562</td><td>23.040503</td><td>2.287501</td><td>0.621822</td><td>96.98421</td><td>132.51863</td><td>144.06657</td><td>96.98421</td><td>132.51863</td><td>144.06657</td><td>0.0</td><td>0.0</td><td>0.0</td><td>0.0</td><td>S</td><td>-1</td><td>-1</td><td>2305843052163366912</td><td>0</td><td>1280</td><td>0</td><td>0</td><td>0</td><td>0</td><td>1</td><td>0.0</td><td>0.0</td><td>0.0</td><td>0.0</td><td>0.0</td><td>0.0</td><td>740.7125</td><td>0.7889999999999998</td><td>20210406</td><td>83716</td><td>59311.15405799</td><td>1</td></tr>\n",
       "<tr><td>616088605961486515</td><td>3</td><td>383</td><td>3383</td><td>1997</td><td>0</td><td>148.72528640009105</td><td>2.6594968405569315</td><td>0.0</td><td>0.0</td><td>0.0</td><td>5400.0</td><td>4294967296</td><td>4</td><td>SKY</td><td>329.05106</td><td>94.125305</td><td>-1</td><td>0.9943050631786232</td><td>63</td><td>9010</td><td>346802</td><td>179</td><td></td><td>0.0</td><td>0.0</td><td>0.0</td><td>0.0</td><td>0.0</td><td>0.0</td><td>0</td><td>0</td><td></td><td>0.0</td><td>0.0</td><td>0.0</td><td>0.0</td><td>1486p027</td><td>0.0</td><td>0.0</td><td>0.0</td><td>0.0</td><td>0.0</td><td>0.065614335</td><td>-0.0033990494</td><td>0.12673143</td><td>0.0</td><td>0.0</td><td>0.0</td><td>0.0</td><td>0.0</td><td>0.0</td><td>0.0</td><td></td><td>-1</td><td>-1</td><td>0</td><td>0</td><td>0</td><td>0</td><td>4294967296</td><td>0</td><td>0</td><td>1</td><td>0.0</td><td>0.0</td><td>0.0</td><td>0.0</td><td>0.0</td><td>0.0</td><td>740.7125</td><td>0.7903638683416986</td><td>20210406</td><td>83716</td><td>59311.15405799</td><td>1</td></tr>\n",
       "<tr><td>39627847622459457</td><td>3</td><td>339</td><td>3339</td><td>1998</td><td>0</td><td>148.75160839991776</td><td>2.571756801404167</td><td>12.822169</td><td>-35.431057</td><td>2015.5</td><td>5400.0</td><td>2305843052163366912</td><td>3</td><td>TGT</td><td>321.82224</td><td>71.9668</td><td>0</td><td>0.6344402812456176</td><td>519</td><td>9010</td><td>345363</td><td>65</td><td>PSF</td><td>234.65347</td><td>323.2456</td><td>352.375</td><td>30.399082</td><td>31.28062</td><td>22.987335</td><td>2048</td><td>3846846110736436992</td><td>G2</td><td>16.282797</td><td>16.547901</td><td>15.837037</td><td>0.1480409</td><td>1488p025</td><td>0.043675058</td><td>86.610405</td><td>48.527107</td><td>1.8364903</td><td>0.56949854</td><td>176.48555</td><td>243.11671</td><td>265.02524</td><td>176.48555</td><td>243.11671</td><td>265.02524</td><td>0.0</td><td>0.0</td><td>0.0</td><td>0.0</td><td>S</td><td>-1</td><td>-1</td><td>2305843052163366912</td><td>0</td><td>1280</td><td>0</td><td>0</td><td>0</td><td>0</td><td>1</td><td>0.0</td><td>0.0</td><td>0.0</td><td>0.0</td><td>0.0</td><td>0.0</td><td>740.7125</td><td>0.7889999999999998</td><td>20210406</td><td>83716</td><td>59311.15405799</td><td>1</td></tr>\n",
       "<tr><td>39627853658066561</td><td>3</td><td>453</td><td>3453</td><td>1999</td><td>0</td><td>148.6902027486278</td><td>2.8309726523864347</td><td>0.0</td><td>0.0</td><td>2015.5</td><td>5400.0</td><td>1179714</td><td>1</td><td>TGT</td><td>339.1729</td><td>137.70503</td><td>103100</td><td>0.8553840084398082</td><td>1</td><td>9010</td><td>346802</td><td>3713</td><td>REX</td><td>0.40428865</td><td>0.47118345</td><td>0.57560515</td><td>660.76306</td><td>509.314</td><td>51.70263</td><td>0</td><td>0</td><td></td><td>0.0</td><td>0.0</td><td>0.0</td><td>0.0</td><td>1486p027</td><td>0.039498124</td><td>6.0014005</td><td>4.3992863</td><td>3.0620642</td><td>0.67385143</td><td>0.25026923</td><td>0.29167953</td><td>0.35632035</td><td>0.25028938</td><td>0.2917123</td><td>0.35636598</td><td>1.0</td><td>0.34493995</td><td>0.0</td><td>0.0</td><td>S</td><td>103100</td><td>9</td><td>1179714</td><td>0</td><td>0</td><td>0</td><td>0</td><td>0</td><td>0</td><td>1</td><td>0.0</td><td>0.0</td><td>0.0</td><td>0.0</td><td>0.0</td><td>0.0</td><td>740.7125</td><td>0.7854221311471878</td><td>20210406</td><td>83716</td><td>59311.15405799</td><td>1</td></tr>\n",
       "</table>"
      ],
      "text/plain": [
       "<Table length=1500>\n",
       "     TARGETID      PETAL_LOC DEVICE_LOC LOCATION ... EXPID      MJD       TILEID\n",
       "      int64          int16     int32     int64   ... int32    float64     int32 \n",
       "------------------ --------- ---------- -------- ... ----- -------------- ------\n",
       " 39627847635042774         3         69     3069 ... 83714 59311.13373059      1\n",
       " 39627847630852661         3         78     3078 ... 83714 59311.13373059      1\n",
       " 39627841599440351         3         10     3010 ... 83714 59311.13373059      1\n",
       "             -8131         3        111     3111 ... 83714 59311.13373059      1\n",
       " 39627847635043036         3         60     3060 ... 83714 59311.13373059      1\n",
       " 39627847635045163         3         45     3045 ... 83714 59311.13373059      1\n",
       " 39627847630852038         3         87     3087 ... 83714 59311.13373059      1\n",
       " 39627847630852364         3         88     3088 ... 83714 59311.13373059      1\n",
       " 39627841599442309         3          4     3004 ... 83714 59311.13373059      1\n",
       " 39627841595248433         3         23     3023 ... 83714 59311.13373059      1\n",
       "               ...       ...        ...      ... ...   ...            ...    ...\n",
       "616088599921689605         3        402     3402 ... 83716 59311.15405799      1\n",
       "             -8491         3        471     3471 ... 83716 59311.15405799      1\n",
       " 39627847622459866         3        341     3341 ... 83716 59311.15405799      1\n",
       "616088605961487222         3        452     3452 ... 83716 59311.15405799      1\n",
       " 39627847618269382         3        359     3359 ... 83716 59311.15405799      1\n",
       " 39627853662258031         3        364     3364 ... 83716 59311.15405799      1\n",
       " 39627853662257397         3        409     3409 ... 83716 59311.15405799      1\n",
       "616088605961486515         3        383     3383 ... 83716 59311.15405799      1\n",
       " 39627847622459457         3        339     3339 ... 83716 59311.15405799      1\n",
       " 39627853658066561         3        453     3453 ... 83716 59311.15405799      1"
      ]
     },
     "execution_count": 38,
     "metadata": {},
     "output_type": "execute_result"
    }
   ],
   "source": [
    "f1 = f\"/global/project/projectdirs/desi/spectro/redux/daily/tiles/cumulative/{du[0]['TILEID']}/{yyyymmdd}/spectra-{du[0]['PETAL_LOC']}-{du[0]['TILEID']}-thru{yyyymmdd}.fits\"\n",
    "s1 = Spectra()\n",
    "s1 = read_spectra(f1)\n",
    "s1.fibermap"
   ]
  },
  {
   "cell_type": "code",
   "execution_count": 27,
   "id": "4306e4b8-5812-4e8e-b178-77aa45311340",
   "metadata": {},
   "outputs": [
    {
     "name": "stdout",
     "output_type": "stream",
     "text": [
      "du[0]     TARGETID         TARGET_RA         TARGET_DEC    TILEID OBJTYPE PETAL_LOC  NIGHT        MJD      \n",
      "----------------- ------------------ ---------------- ------ ------- --------- -------- --------------\n",
      "39627841574276999 148.43269333549472 2.29989340162531      1     TGT         3 20210406 59311.13373059\n"
     ]
    },
    {
     "ename": "NameError",
     "evalue": "name 'read_spectra_no_expid' is not defined",
     "output_type": "error",
     "traceback": [
      "\u001b[0;31m---------------------------------------------------------------------------\u001b[0m",
      "\u001b[0;31mNameError\u001b[0m                                 Traceback (most recent call last)",
      "\u001b[0;32m<ipython-input-27-80d2646176e2>\u001b[0m in \u001b[0;36m<module>\u001b[0;34m\u001b[0m\n\u001b[1;32m     16\u001b[0m     \u001b[0mf0\u001b[0m \u001b[0;34m=\u001b[0m \u001b[0;34mf\"/global/project/projectdirs/desi/spectro/redux/daily/tiles/cumulative/{du[0]['TILEID']}/{yyyymmdd}/spectra-{du[0]['PETAL_LOC']}-{du[0]['TILEID']}-thru{yyyymmdd}.fits\"\u001b[0m\u001b[0;34m\u001b[0m\u001b[0;34m\u001b[0m\u001b[0m\n\u001b[1;32m     17\u001b[0m     \u001b[0;31m#this is being done multiple times: need to find way to implement select(targets = ['TID']) for files already read in\u001b[0m\u001b[0;34m\u001b[0m\u001b[0;34m\u001b[0m\u001b[0;34m\u001b[0m\u001b[0m\n\u001b[0;32m---> 18\u001b[0;31m     \u001b[0ms0\u001b[0m \u001b[0;34m=\u001b[0m \u001b[0mread_spectra_no_expid\u001b[0m\u001b[0;34m(\u001b[0m\u001b[0mf0\u001b[0m\u001b[0;34m)\u001b[0m\u001b[0;34m\u001b[0m\u001b[0;34m\u001b[0m\u001b[0m\n\u001b[0m\u001b[1;32m     19\u001b[0m     \u001b[0ms0c\u001b[0m \u001b[0;34m=\u001b[0m \u001b[0ms0\u001b[0m\u001b[0;34m.\u001b[0m\u001b[0mselect_no_expid\u001b[0m\u001b[0;34m(\u001b[0m\u001b[0mnights\u001b[0m \u001b[0;34m=\u001b[0m \u001b[0;34m[\u001b[0m\u001b[0myyyymmdd\u001b[0m\u001b[0;34m]\u001b[0m\u001b[0;34m)\u001b[0m\u001b[0;34m\u001b[0m\u001b[0;34m\u001b[0m\u001b[0m\n\u001b[1;32m     20\u001b[0m     \u001b[0mprint\u001b[0m\u001b[0;34m(\u001b[0m\u001b[0;34m'after read_spectra '\u001b[0m \u001b[0;34m+\u001b[0m \u001b[0mstr\u001b[0m\u001b[0;34m(\u001b[0m\u001b[0mtype\u001b[0m\u001b[0;34m(\u001b[0m\u001b[0ms0\u001b[0m\u001b[0;34m)\u001b[0m\u001b[0;34m)\u001b[0m\u001b[0;34m)\u001b[0m\u001b[0;34m\u001b[0m\u001b[0;34m\u001b[0m\u001b[0m\n",
      "\u001b[0;31mNameError\u001b[0m: name 'read_spectra_no_expid' is not defined"
     ]
    }
   ],
   "source": [
    "groups01 = dats_group.groups[0:2]\n",
    "groups01 = groups01.group_by(['TARGET_RA','TARGET_DEC'])\n",
    "\n",
    "#for g in groups01.groups:\n",
    "for g in dats_group.groups:\n",
    "    #print(type(g)) <class 'astropy.table.table.Table'>\n",
    "    start_time = time.time()\n",
    "    d = g.group_by(['NIGHT'])\n",
    "    du = unique(d, keys=['NIGHT']) \n",
    "    print(\"du[0]\" + str(du[0]))\n",
    "    s0 = spectra_no_expid() ### all spectra\n",
    "    s0c = spectra_no_expid() ### only current spectra\n",
    "    s0r = spectra_no_expid() ### only reference spectra\n",
    "    s0d = spectra_no_expid() ### differenced spectra\n",
    "\n",
    "    f0 = f\"/global/project/projectdirs/desi/spectro/redux/daily/tiles/cumulative/{du[0]['TILEID']}/{yyyymmdd}/spectra-{du[0]['PETAL_LOC']}-{du[0]['TILEID']}-thru{yyyymmdd}.fits\"\n",
    "    #this is being done multiple times: need to find way to implement select(targets = ['TID']) for files already read in\n",
    "    s0 = read_spectra_no_expid(f0)\n",
    "    s0c = s0.select_no_expid(nights = [yyyymmdd])\n",
    "    print('after read_spectra ' + str(type(s0)))\n",
    "    print('after select ' + str(type(s0c)))\n",
    "    coadd_no_expid(s0c)\n",
    "    for t in du:\n",
    "        \n",
    "        if (t['NIGHT'] == (yyyymmdd-1)):\n",
    "            s0c.update_no_expid(s0.select_no_expid(nights = [yyyymmdd-1]))\n",
    "            print(\"updated %s\" % s0.select_no_expid(nights = [yyyymmdd-1]))\n",
    "            coadd_no_expid(s0c)\n",
    "        elif t['NIGHT'] < yyyymmdd-1: # in future, use getPrevObsdate for days > 30 days ago\n",
    "            if (s0r.num_spectra() == 0): \n",
    "            # first (or only) ref night found\n",
    "                s0r = s0.select_no_expid([t['NIGHT']])\n",
    "                print(t['NIGHT'])\n",
    "            else:\n",
    "                s0r = s0.update_no_expid(s0.select_no_expid(nights = [t['NIGHT']]))\n",
    "                print(t['NIGHT'])\n",
    "            coadd_no_expid(s0r)\n",
    "            for i in s0r.flux:\n",
    "            #flip signs of r0a.flux\n",
    "                s0r.flux[i] = -1*r0a.flux[i]\n",
    "    \n",
    "    if s0r.num_spectra() != 0:\n",
    "    # if there is something to difference\n",
    "        s0d.update_no_expid(s0c) #not working \n",
    "        s0d.update_no_expid(s0r) #not working\n",
    "        print(\"s0d differenced\")\n",
    "        coadd_no_expid(s0d)   #how to store differenced spectra as one per reference spectra will be produced\n",
    "    else:\n",
    "        print(\"no reference nights\")\n",
    "    print(\"--- group_by NIGHT  %s seconds ---\" % (time.time() - start_time))\n",
    "                \n"
   ]
  }
 ],
 "metadata": {
  "kernelspec": {
   "display_name": "DESI 21.3",
   "language": "python",
   "name": "desi-21.3"
  },
  "language_info": {
   "codemirror_mode": {
    "name": "ipython",
    "version": 3
   },
   "file_extension": ".py",
   "mimetype": "text/x-python",
   "name": "python",
   "nbconvert_exporter": "python",
   "pygments_lexer": "ipython3",
   "version": "3.8.3"
  }
 },
 "nbformat": 4,
 "nbformat_minor": 5
}
