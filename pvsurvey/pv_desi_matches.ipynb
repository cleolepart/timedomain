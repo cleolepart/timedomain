{
 "cells": [
  {
   "cell_type": "markdown",
   "id": "cc54687f-dc38-4a05-abaa-64a9b2248dbe",
   "metadata": {},
   "source": [
    "# DESI PV Survey Target Matches\n",
    "\n",
    "Grab the list of targets from the DESI PV survey that are available in some spectroscopic reduction, which can be specified by the user.\n",
    "\n",
    "The list of PV secondary targets is provided in a set of FITS files produced by [Khaled Said](mailto:k.saidahmedsoliman@uq.edu.au) in the folder `/global/homes/k/ksaid/desi_pv/savepath_dr9_corr` at NERSC.\n",
    "\n",
    "DESI observations are taken from the [redshift database](https://desi.lbl.gov/trac/wiki/DESIDatabase) maintained at NERSC by Rob Knop."
   ]
  },
  {
   "cell_type": "code",
   "execution_count": 1,
   "id": "1b036800-a800-438d-b1ca-18400628e8ff",
   "metadata": {},
   "outputs": [
    {
     "name": "stdout",
     "output_type": "stream",
     "text": [
      "DEBUG: Read templates from /global/common/software/desi/cori/desiconda/20211217-2.0.0/code/redrock-templates/master\n",
      "DEBUG: Using default redshift range -0.0050-1.6997 for rrtemplate-galaxy.fits\n",
      "DEBUG: Using default redshift range 0.0500-5.9934 for rrtemplate-qso.fits\n",
      "DEBUG: Using default redshift range -0.0020-0.0020 for rrtemplate-star-A.fits\n",
      "DEBUG: Using default redshift range -0.0020-0.0020 for rrtemplate-star-B.fits\n",
      "DEBUG: Using default redshift range -0.0020-0.0020 for rrtemplate-star-CV.fits\n",
      "DEBUG: Using default redshift range -0.0020-0.0020 for rrtemplate-star-F.fits\n",
      "DEBUG: Using default redshift range -0.0020-0.0020 for rrtemplate-star-G.fits\n",
      "DEBUG: Using default redshift range -0.0020-0.0020 for rrtemplate-star-K.fits\n",
      "DEBUG: Using default redshift range -0.0020-0.0020 for rrtemplate-star-M.fits\n",
      "DEBUG: Using default redshift range -0.0020-0.0020 for rrtemplate-star-WD.fits\n"
     ]
    }
   ],
   "source": [
    "from desispec.io import read_spectra\n",
    "from desispec.coaddition import coadd_cameras\n",
    "from desispec.interpolation import resample_flux\n",
    "from desispec.resolution import Resolution\n",
    "\n",
    "import redrock.templates\n",
    "\n",
    "rrtemplates = dict()\n",
    "for filename in redrock.templates.find_templates():\n",
    "    t = redrock.templates.Template(filename)\n",
    "    rrtemplates[(t.template_type, t.sub_type)] = t\n",
    "\n",
    "from astropy import units as u\n",
    "from astropy.table import Table, vstack, hstack\n",
    "from astropy.coordinates import SkyCoord, match_coordinates_sky\n",
    "from astropy.time import Time\n",
    "from astropy.wcs import WCS\n",
    "from astropy.visualization.wcsaxes import SphericalCircle\n",
    "\n",
    "from datetime import datetime, timedelta\n",
    "\n",
    "from scipy.ndimage import gaussian_filter1d\n",
    "\n",
    "import os\n",
    "from glob import glob\n",
    "\n",
    "import psycopg2\n",
    "\n",
    "from tqdm.notebook import tqdm_notebook\n",
    "\n",
    "import numpy as np\n",
    "import matplotlib as mpl\n",
    "import matplotlib.pyplot as plt"
   ]
  },
  {
   "cell_type": "code",
   "execution_count": 2,
   "id": "9a770b7c-bfa3-4bf9-ba9c-4870e9147ee9",
   "metadata": {},
   "outputs": [],
   "source": [
    "mpl.rc('font', size=14)\n",
    "mpl.rc('figure', max_open_warning = 0)"
   ]
  },
  {
   "cell_type": "markdown",
   "id": "1a44e3fa-e28e-44b3-98d0-8d5a94b9164d",
   "metadata": {},
   "source": [
    "## Database Matching Functions\n",
    "\n",
    "Given a target table and spectroscopic reduction, match all observed targets using the DESI redshift database."
   ]
  },
  {
   "cell_type": "code",
   "execution_count": 6,
   "id": "919fe758-250c-4771-aebd-c8c699211b27",
   "metadata": {},
   "outputs": [],
   "source": [
    "def match_targets(pvtargtab, redux='daily', search='healpix'):\n",
    "    \"\"\"Match PV targets against the redshift DB for a particular spectroscopic reduction.\n",
    "    \n",
    "    Parameters\n",
    "    ----------\n",
    "    pvtargtab : astropy.Table\n",
    "        Table of PV target info. Specifically need the RA, DEC, PVTYPE, and SGA_ID fields.\n",
    "    redux : str\n",
    "        Spectroscopic reduction: e.g., 'daily', 'everest', 'fuji', 'guadalupe', ...\n",
    "    search : str\n",
    "        'healpix' to search the HEALPix tables, 'tiles' to search the tiles tables.\n",
    "        \n",
    "    Returns\n",
    "    -------\n",
    "    desi_targets : astropy.Table\n",
    "        Joined table of DESI redshifts and PV targets for all matches.\n",
    "    \"\"\"\n",
    "    # Accumulate data in this table.\n",
    "    desi_targets = None\n",
    "        \n",
    "    try:\n",
    "        db = psycopg2.connect(host='decatdb.lbl.gov', database='desidb', user='desi')\n",
    "        cursor = db.cursor()\n",
    "        # cursor.execute('SET search_path TO da, public;')\n",
    "\n",
    "        # Loop over all TNS alerts and perform a coordinate match with DESI observations.\n",
    "        N = len(pvtargtab)\n",
    "        n = 0\n",
    "        with tqdm_notebook(total=N) as progress_bar:\n",
    "\n",
    "            for i, obj in enumerate(pvtargtab):\n",
    "                ra, dec = obj['RA'], obj['DEC']\n",
    "\n",
    "                # Enable search in HEALPix tables.\n",
    "                if search == 'healpix':\n",
    "                    query = 'SELECT f.targetid,f.target_ra,f.target_dec,h.healpix,h.survey,r.z,r.zerr,r.zwarn,r.deltachi2,h.filename\\n' \\\n",
    "                            f'FROM {redux}.healpix_fibermap f\\n' \\\n",
    "                            f'INNER JOIN {redux}.healpix h ON f.healpix_id=h.id\\n' \\\n",
    "                            f'INNER JOIN {redux}.healpix_redshifts r ON r.healpix_id=h.id AND r.targetid=f.targetid\\n' \\\n",
    "                            f'WHERE q3c_radial_query( f.target_ra, f.target_dec, {ra}, {dec}, 1./3600. );'\n",
    "                    \n",
    "                    colnames = ['TARGETID', 'TARGET_RA', 'TARGET_DEC', 'HEALPIX', 'SURVEY', 'Z', 'ZERR', 'ZWARN', 'DELTACHI2', 'FILENAME']\n",
    "                # Enable search in tiles tables.\n",
    "                elif search == 'tiles':\n",
    "                    query = 'SELECT f.targetid,f.target_ra,f.target_dec,c.tileid,c.night,r.z,r.zerr,r.zwarn,r.deltachi2,c.filename\\n' \\\n",
    "                            f'FROM {redux}.tiles_fibermap f\\n' \\\n",
    "                            f'INNER JOIN {redux}.cumulative_tiles c ON f.cumultile_id=c.id\\n' \\\n",
    "                            f'INNER JOIN {redux}.tiles_redshifts r ON r.cumultile_id=c.id AND r.targetid=f.targetid\\n' \\\n",
    "                            f'WHERE q3c_radial_query( f.target_ra, f.target_dec, {ra}, {dec}, 1./3600. );'\n",
    "                    colnames = ['TARGETID', 'TARGET_RA', 'TARGET_DEC', 'TILEID', 'NIGHT', 'Z', 'ZERR', 'ZWARN', 'DELTACHI2', 'FILENAME']\n",
    "                else:\n",
    "                    raise ValueError(f'Search {search} not recognized; use \"healpix\" or \"tiles.\"')\n",
    "\n",
    "                cursor.execute(query)\n",
    "                rows = cursor.fetchall()\n",
    "\n",
    "                if rows:\n",
    "                    # Convert postgresql row output to an astropy Table.\n",
    "                    data = Table(list(map(list, zip(*rows))),\n",
    "                                 names=colnames)\n",
    "\n",
    "                    # hstack the postgresql rows with the PV target info.\n",
    "                    # The following vstack loop ensures every row gets a match.\n",
    "                    pv_data = obj\n",
    "                    if len(data) > 1:\n",
    "                        for j in range(1, len(data)):\n",
    "                            pv_data = vstack([pv_data, obj])\n",
    "                    data = hstack([data, pv_data['PVTYPE', 'SGA_ID', 'RA', 'DEC']])\n",
    "\n",
    "                    # Accumulate matched targets.\n",
    "                    if desi_targets is None:\n",
    "                        desi_targets = data\n",
    "                    else:\n",
    "                        desi_targets = vstack([desi_targets, data], join_type='outer')\n",
    "\n",
    "                if (i+1) % 50 == 0:\n",
    "                    progress_bar.update(50)\n",
    "                    n += 50\n",
    "\n",
    "            if n < N:\n",
    "                progress_bar.update(N - n)\n",
    "\n",
    "    except (Exception, psycopg2.Error) as error:\n",
    "        print(error)\n",
    "    finally:\n",
    "        if db is not None:\n",
    "            db.close()\n",
    "            \n",
    "    return desi_targets"
   ]
  },
  {
   "cell_type": "markdown",
   "id": "803dc28e-bf3a-4a70-9494-b0aad2921b79",
   "metadata": {},
   "source": [
    "## Perform Coordinate Match between DESI Observations and the PV Target Files\n",
    "\n",
    "Match PV observations within 1\" of a DESI fiber.\n",
    "\n",
    "Read FITS files of PV targets. In this notebook, we only download targets relevant to the DESI Tully-Fisher sample, which corresponds to these three files:\n",
    "* `pv_tf.fits`: targets on the semi-major axes of spiral galaxies, selected for the Tully-Fisher analysis.\n",
    "* `pv_ext.fits`: other targets on spatially extended spiral galaxies (e.g., HII regions).\n",
    "* `pv_sga.fits`: centers of SGA galaxies."
   ]
  },
  {
   "cell_type": "code",
   "execution_count": 4,
   "id": "fb41f8e6-865c-4499-ae0b-97af42f47852",
   "metadata": {},
   "outputs": [],
   "source": [
    "pv_ext = Table.read('/global/homes/k/ksaid/desi_pv/savepath_dr9_corr/pv_ext.fits', hdu=1)\n",
    "pv_sga = Table.read('/global/homes/k/ksaid/desi_pv/savepath_dr9_corr/pv_sga.fits', hdu=1)\n",
    "pv_tf = Table.read('/global/homes/k/ksaid/desi_pv/savepath_dr9_corr/pv_tf.fits', hdu=1)"
   ]
  },
  {
   "cell_type": "markdown",
   "id": "481e5bd7-81b7-4881-810f-d40cbd8bae6d",
   "metadata": {},
   "source": [
    "### Process fuji Observations"
   ]
  },
  {
   "cell_type": "code",
   "execution_count": 30,
   "id": "dec453df-5118-4e86-b15b-449dc9a5cf18",
   "metadata": {},
   "outputs": [
    {
     "data": {
      "application/vnd.jupyter.widget-view+json": {
       "model_id": "cd20ea7f3d1f467bacad84c6f7d76edd",
       "version_major": 2,
       "version_minor": 0
      },
      "text/plain": [
       "  0%|          | 0/20486 [00:00<?, ?it/s]"
      ]
     },
     "metadata": {},
     "output_type": "display_data"
    },
    {
     "data": {
      "text/html": [
       "<div><i>Table length=83</i>\n",
       "<table id=\"table23453605583072\" class=\"table-striped table-bordered table-condensed\">\n",
       "<thead><tr><th>TARGETID</th><th>TARGET_RA</th><th>TARGET_DEC</th><th>HEALPIX</th><th>SURVEY</th><th>Z</th><th>ZERR</th><th>ZWARN</th><th>DELTACHI2</th><th>FILENAME</th><th>PVTYPE</th><th>SGA_ID</th><th>RA</th><th>DEC</th></tr></thead>\n",
       "<thead><tr><th>int64</th><th>float64</th><th>float64</th><th>int64</th><th>str3</th><th>float64</th><th>float64</th><th>int64</th><th>float64</th><th>str63</th><th>bytes3</th><th>int64</th><th>float64</th><th>float64</th></tr></thead>\n",
       "<tr><td>1092899764699136</td><td>216.00143660376</td><td>34.881062410803</td><td>10515</td><td>sv3</td><td>0.512530942294242</td><td>0.0001125096994758</td><td>4</td><td>5.75281726941466</td><td>fuji/healpix/sv3/dark/105/10515/redrock-sv3-dark-10515.fits</td><td>EXT</td><td>682254</td><td>216.0014366037598</td><td>34.881062410803</td></tr>\n",
       "<tr><td>1079700659109889</td><td>216.061747702864</td><td>34.8365760573346</td><td>10515</td><td>sv3</td><td>1.5277305869098</td><td>0.000248864600940801</td><td>4</td><td>8.71738664060831</td><td>fuji/healpix/sv3/bright/105/10515/redrock-sv3-bright-10515.fits</td><td>EXT</td><td>682254</td><td>216.06174770286376</td><td>34.836576057334575</td></tr>\n",
       "<tr><td>1092894798643201</td><td>216.061747702864</td><td>34.8365760573346</td><td>10515</td><td>sv3</td><td>1.01290900857488</td><td>6.38649008792103e-05</td><td>4</td><td>2.01506862044334</td><td>fuji/healpix/sv3/dark/105/10515/redrock-sv3-dark-10515.fits</td><td>EXT</td><td>682254</td><td>216.06174770286376</td><td>34.836576057334575</td></tr>\n",
       "<tr><td>1079037296377859</td><td>208.975477166485</td><td>5.30336633406908</td><td>26091</td><td>sv3</td><td>1.49877155103453</td><td>0.00022479094539867</td><td>0</td><td>11.9354891255498</td><td>fuji/healpix/sv3/bright/260/26091/redrock-sv3-bright-26091.fits</td><td>EXT</td><td>865490</td><td>208.9754771664854</td><td>5.303366334069084</td></tr>\n",
       "<tr><td>1092231435911171</td><td>208.975477166485</td><td>5.30336633406908</td><td>26091</td><td>sv3</td><td>1.18699867849368</td><td>0.000116017737064761</td><td>4</td><td>1.74350547604263</td><td>fuji/healpix/sv3/dark/260/26091/redrock-sv3-dark-26091.fits</td><td>EXT</td><td>865490</td><td>208.9754771664854</td><td>5.303366334069084</td></tr>\n",
       "<tr><td>1079037300572160</td><td>209.084716493457</td><td>5.20650793636111</td><td>26091</td><td>sv3</td><td>0.907146237131769</td><td>0.000133516273090146</td><td>0</td><td>11.1716398671269</td><td>fuji/healpix/sv3/bright/260/26091/redrock-sv3-bright-26091.fits</td><td>EXT</td><td>865490</td><td>209.0847164934571</td><td>5.206507936361107</td></tr>\n",
       "<tr><td>1092231440105472</td><td>209.084716493457</td><td>5.20650793636111</td><td>26091</td><td>sv3</td><td>1.55395322376555</td><td>0.000108078787702566</td><td>4</td><td>4.13443431630731</td><td>fuji/healpix/sv3/dark/260/26091/redrock-sv3-dark-26091.fits</td><td>EXT</td><td>865490</td><td>209.0847164934571</td><td>5.206507936361107</td></tr>\n",
       "<tr><td>1078989217071107</td><td>217.423332498867</td><td>3.20319258782244</td><td>26065</td><td>sv3</td><td>0.680248512223176</td><td>8.41292468167563e-05</td><td>4</td><td>0.725679285824299</td><td>fuji/healpix/sv3/bright/260/26065/redrock-sv3-bright-26065.fits</td><td>EXT</td><td>1413430</td><td>217.42333249886704</td><td>3.203192587822438</td></tr>\n",
       "<tr><td>1092183356604419</td><td>217.423332498867</td><td>3.20319258782244</td><td>26065</td><td>sv3</td><td>0.464078931593149</td><td>6.04317367217602e-05</td><td>4</td><td>5.38805882632732</td><td>fuji/healpix/sv3/dark/260/26065/redrock-sv3-dark-26065.fits</td><td>EXT</td><td>1413430</td><td>217.42333249886704</td><td>3.203192587822438</td></tr>\n",
       "<tr><td>1078940328263681</td><td>183.177614260981</td><td>1.35177591070447</td><td>26285</td><td>sv3</td><td>1.39600851070721</td><td>0.000111324562546966</td><td>4</td><td>6.38193941116333</td><td>fuji/healpix/sv3/bright/262/26285/redrock-sv3-bright-26285.fits</td><td>EXT</td><td>671847</td><td>183.17761426098141</td><td>1.3517759107044744</td></tr>\n",
       "<tr><td>...</td><td>...</td><td>...</td><td>...</td><td>...</td><td>...</td><td>...</td><td>...</td><td>...</td><td>...</td><td>...</td><td>...</td><td>...</td><td>...</td></tr>\n",
       "<tr><td>39633062551620033</td><td>153.178857933669</td><td>39.3739445564769</td><td>5703</td><td>sv1</td><td>0.022711924294578</td><td>5.75568615760296e-07</td><td>0</td><td>641871.757860661</td><td>fuji/healpix/sv1/bright/57/5703/redrock-sv1-bright-5703.fits</td><td>EXT</td><td>1037949</td><td>153.17885793366855</td><td>39.3739445564769</td></tr>\n",
       "<tr><td>2305843015479989956</td><td>173.45541945964</td><td>53.1254763873733</td><td>5976</td><td>sv1</td><td>0.00333404373962337</td><td>2.24812533738904e-07</td><td>0</td><td>1486700.56152642</td><td>fuji/healpix/sv1/other/59/5976/redrock-sv1-other-5976.fits</td><td>EXT</td><td>559707</td><td>173.4553483637811</td><td>53.12541571341898</td></tr>\n",
       "<tr><td>1078892626444294</td><td>219.927793051945</td><td>-0.732047919721255</td><td>25933</td><td>sv3</td><td>0.389212131703041</td><td>5.37984677902569e-05</td><td>4</td><td>2.94517927616835</td><td>fuji/healpix/sv3/bright/259/25933/redrock-sv3-bright-25933.fits</td><td>EXT</td><td>166290</td><td>219.9277930519453</td><td>-0.7320479197212552</td></tr>\n",
       "<tr><td>39627770296276005</td><td>219.956999318774</td><td>-0.718640392418429</td><td>25933</td><td>sv3</td><td>0.00585538786570846</td><td>4.19501768104605e-06</td><td>0</td><td>2858.02824933385</td><td>fuji/healpix/sv3/bright/259/25933/redrock-sv3-bright-25933.fits</td><td>EXT</td><td>166290</td><td>219.95699931877425</td><td>-0.7186403924184287</td></tr>\n",
       "<tr><td>1078892626444292</td><td>219.98620541415</td><td>-0.705232678404417</td><td>25933</td><td>sv3</td><td>0.321693030175296</td><td>5.52000816259728e-05</td><td>4</td><td>0.999024361371994</td><td>fuji/healpix/sv3/bright/259/25933/redrock-sv3-bright-25933.fits</td><td>EXT</td><td>166290</td><td>219.98620541415</td><td>-0.7052326784044174</td></tr>\n",
       "<tr><td>1078994120212481</td><td>150.096689848937</td><td>3.40736949409563</td><td>27345</td><td>sv3</td><td>1.18232343562154</td><td>9.64836191298094e-05</td><td>4</td><td>8.75033162534237</td><td>fuji/healpix/sv3/bright/273/27345/redrock-sv3-bright-27345.fits</td><td>EXT</td><td>1225398</td><td>150.09668984893693</td><td>3.4073694940956294</td></tr>\n",
       "<tr><td>1092188259745793</td><td>150.096689848937</td><td>3.40736949409563</td><td>27345</td><td>sv3</td><td>0.543896524243357</td><td>5.20456611593509e-05</td><td>4</td><td>1.57002077251673</td><td>fuji/healpix/sv3/dark/273/27345/redrock-sv3-dark-27345.fits</td><td>EXT</td><td>1225398</td><td>150.09668984893693</td><td>3.4073694940956294</td></tr>\n",
       "<tr><td>39627865758633464</td><td>150.11281896177</td><td>3.37442274219938</td><td>27345</td><td>sv3</td><td>0.00687190356978907</td><td>1.5141461957797e-06</td><td>0</td><td>24405.1790848412</td><td>fuji/healpix/sv3/bright/273/27345/redrock-sv3-bright-27345.fits</td><td>EXT</td><td>1225398</td><td>150.1128189617695</td><td>3.3744227421993793</td></tr>\n",
       "<tr><td>1078988088803329</td><td>150.128946980905</td><td>3.34147572353072</td><td>27345</td><td>sv3</td><td>1.48598921814128</td><td>7.78107541588613e-05</td><td>4</td><td>3.45342898368835</td><td>fuji/healpix/sv3/bright/273/27345/redrock-sv3-bright-27345.fits</td><td>EXT</td><td>1225398</td><td>150.12894698090534</td><td>3.3414757235307233</td></tr>\n",
       "<tr><td>1092182228336641</td><td>150.128946980905</td><td>3.34147572353072</td><td>27345</td><td>sv3</td><td>0.284931493679325</td><td>7.32403560495644e-05</td><td>4</td><td>3.56822789460421</td><td>fuji/healpix/sv3/dark/273/27345/redrock-sv3-dark-27345.fits</td><td>EXT</td><td>1225398</td><td>150.12894698090534</td><td>3.3414757235307233</td></tr>\n",
       "</table></div>"
      ],
      "text/plain": [
       "<Table length=83>\n",
       "      TARGETID         TARGET_RA     ...         RA                 DEC        \n",
       "       int64            float64      ...      float64             float64      \n",
       "------------------- ---------------- ... ------------------ -------------------\n",
       "   1092899764699136  216.00143660376 ...  216.0014366037598     34.881062410803\n",
       "   1079700659109889 216.061747702864 ... 216.06174770286376  34.836576057334575\n",
       "   1092894798643201 216.061747702864 ... 216.06174770286376  34.836576057334575\n",
       "   1079037296377859 208.975477166485 ...  208.9754771664854   5.303366334069084\n",
       "   1092231435911171 208.975477166485 ...  208.9754771664854   5.303366334069084\n",
       "   1079037300572160 209.084716493457 ...  209.0847164934571   5.206507936361107\n",
       "   1092231440105472 209.084716493457 ...  209.0847164934571   5.206507936361107\n",
       "   1078989217071107 217.423332498867 ... 217.42333249886704   3.203192587822438\n",
       "   1092183356604419 217.423332498867 ... 217.42333249886704   3.203192587822438\n",
       "   1078940328263681 183.177614260981 ... 183.17761426098141  1.3517759107044744\n",
       "                ...              ... ...                ...                 ...\n",
       "  39633062551620033 153.178857933669 ... 153.17885793366855    39.3739445564769\n",
       "2305843015479989956  173.45541945964 ...  173.4553483637811   53.12541571341898\n",
       "   1078892626444294 219.927793051945 ...  219.9277930519453 -0.7320479197212552\n",
       "  39627770296276005 219.956999318774 ... 219.95699931877425 -0.7186403924184287\n",
       "   1078892626444292  219.98620541415 ...    219.98620541415 -0.7052326784044174\n",
       "   1078994120212481 150.096689848937 ... 150.09668984893693  3.4073694940956294\n",
       "   1092188259745793 150.096689848937 ... 150.09668984893693  3.4073694940956294\n",
       "  39627865758633464  150.11281896177 ...  150.1128189617695  3.3744227421993793\n",
       "   1078988088803329 150.128946980905 ... 150.12894698090534  3.3414757235307233\n",
       "   1092182228336641 150.128946980905 ... 150.12894698090534  3.3414757235307233"
      ]
     },
     "execution_count": 30,
     "metadata": {},
     "output_type": "execute_result"
    }
   ],
   "source": [
    "pv_ext_fuji = match_targets(pv_ext, redux='fuji')\n",
    "pv_ext_fuji"
   ]
  },
  {
   "cell_type": "code",
   "execution_count": 33,
   "id": "230a4da5-9eac-4ec6-90a3-4845a698110d",
   "metadata": {},
   "outputs": [
    {
     "data": {
      "application/vnd.jupyter.widget-view+json": {
       "model_id": "93f35004fd334dbbbac97a71c684fcde",
       "version_major": 2,
       "version_minor": 0
      },
      "text/plain": [
       "  0%|          | 0/81611 [00:00<?, ?it/s]"
      ]
     },
     "metadata": {},
     "output_type": "display_data"
    },
    {
     "data": {
      "text/html": [
       "<div><i>Table length=2112</i>\n",
       "<table id=\"table23453600044896\" class=\"table-striped table-bordered table-condensed\">\n",
       "<thead><tr><th>TARGETID</th><th>TARGET_RA</th><th>TARGET_DEC</th><th>HEALPIX</th><th>SURVEY</th><th>Z</th><th>ZERR</th><th>ZWARN</th><th>DELTACHI2</th><th>FILENAME</th><th>PVTYPE</th><th>SGA_ID</th><th>RA</th><th>DEC</th></tr></thead>\n",
       "<thead><tr><th>int64</th><th>float64</th><th>float64</th><th>int64</th><th>str3</th><th>float64</th><th>float64</th><th>int64</th><th>float64</th><th>str63</th><th>bytes3</th><th>int64</th><th>float64</th><th>float64</th></tr></thead>\n",
       "<tr><td>2305843022014712506</td><td>197.156461215073</td><td>79.7870276386574</td><td>12210</td><td>sv1</td><td>0.0353719025788651</td><td>8.63955563819646e-07</td><td>0</td><td>215493.827211023</td><td>fuji/healpix/sv1/backup/122/12210/redrock-sv1-backup-12210.fits</td><td>SGA</td><td>588991</td><td>197.1565928926111</td><td>79.78701060360044</td></tr>\n",
       "<tr><td>39633244072708111</td><td>172.478975482847</td><td>49.8111296555183</td><td>5613</td><td>sv2</td><td>0.212886036612501</td><td>2.56065525084539e-05</td><td>0</td><td>9280.4979827255</td><td>fuji/healpix/sv2/bright/56/5613/redrock-sv2-bright-5613.fits</td><td>SGA</td><td>462542</td><td>172.4789754828471</td><td>49.81112965551834</td></tr>\n",
       "<tr><td>2305843015098307568</td><td>172.88665773677</td><td>49.8575168421019</td><td>5613</td><td>sv2</td><td>0.0686768543072607</td><td>3.64798748181209e-05</td><td>0</td><td>540.748181710485</td><td>fuji/healpix/sv2/backup/56/5613/redrock-sv2-backup-5613.fits</td><td>SGA</td><td>181737</td><td>172.88664359320452</td><td>49.85749695685062</td></tr>\n",
       "<tr><td>39633247981799461</td><td>172.488634263549</td><td>49.9945914090987</td><td>5613</td><td>sv2</td><td>0.0464544408476083</td><td>9.59760084658303e-06</td><td>0</td><td>20088.77623064</td><td>fuji/healpix/sv2/bright/56/5613/redrock-sv2-bright-5613.fits</td><td>SGA</td><td>105777</td><td>172.4886342635487</td><td>49.99459140909872</td></tr>\n",
       "<tr><td>39633247977604638</td><td>172.046969027532</td><td>49.8765652794558</td><td>5613</td><td>sv2</td><td>0.032810246228186</td><td>1.33863281529401e-06</td><td>0</td><td>25134.5055181811</td><td>fuji/healpix/sv2/bright/56/5613/redrock-sv2-bright-5613.fits</td><td>SGA</td><td>205849</td><td>172.0469690275316</td><td>49.87656527945583</td></tr>\n",
       "<tr><td>39633240146840330</td><td>172.621403181147</td><td>49.5827213857747</td><td>5613</td><td>sv2</td><td>0.0957683291848579</td><td>2.9732896882583e-06</td><td>0</td><td>567732.339778543</td><td>fuji/healpix/sv2/bright/56/5613/redrock-sv2-bright-5613.fits</td><td>SGA</td><td>291430</td><td>172.6214031811471</td><td>49.58272138577475</td></tr>\n",
       "<tr><td>39633240155229162</td><td>173.423295043232</td><td>49.5987878330557</td><td>5618</td><td>sv2</td><td>0.0102086746614462</td><td>5.04173620818413e-06</td><td>0</td><td>937.169478463009</td><td>fuji/healpix/sv2/bright/56/5618/redrock-sv2-bright-5618.fits</td><td>SGA</td><td>929745</td><td>173.42329504323192</td><td>49.59878783305574</td></tr>\n",
       "<tr><td>39633247994381773</td><td>173.539574562025</td><td>49.9247396412793</td><td>5624</td><td>sv2</td><td>0.167507289179424</td><td>2.5272786938781e-05</td><td>0</td><td>1592.93692483939</td><td>fuji/healpix/sv2/bright/56/5624/redrock-sv2-bright-5624.fits</td><td>SGA</td><td>377047</td><td>173.53957456202534</td><td>49.92473964127928</td></tr>\n",
       "<tr><td>39633240163615366</td><td>173.93563451952</td><td>49.5372757009344</td><td>5618</td><td>sv2</td><td>0.167551024270997</td><td>2.94086125594955e-06</td><td>0</td><td>20498.8166685104</td><td>fuji/healpix/sv2/bright/56/5618/redrock-sv2-bright-5618.fits</td><td>SGA</td><td>1281727</td><td>173.93563451951957</td><td>49.53727570093442</td></tr>\n",
       "<tr><td>39633240163616099</td><td>174.010173674952</td><td>49.4917697209014</td><td>5618</td><td>sv2</td><td>0.131535369044692</td><td>9.9328748367345e-06</td><td>0</td><td>1745.14429423213</td><td>fuji/healpix/sv2/bright/56/5618/redrock-sv2-bright-5618.fits</td><td>SGA</td><td>486357</td><td>174.0101736749522</td><td>49.491769720901395</td></tr>\n",
       "<tr><td>...</td><td>...</td><td>...</td><td>...</td><td>...</td><td>...</td><td>...</td><td>...</td><td>...</td><td>...</td><td>...</td><td>...</td><td>...</td><td>...</td></tr>\n",
       "<tr><td>39628357146510195</td><td>194.541641574909</td><td>24.3489240646018</td><td>28118</td><td>sv3</td><td>0.0226558221874825</td><td>1.01500809740909e-06</td><td>0</td><td>109767.05220205</td><td>fuji/healpix/sv3/bright/281/28118/redrock-sv3-bright-28118.fits</td><td>SGA</td><td>37866</td><td>194.54164157490868</td><td>24.34892406460181</td></tr>\n",
       "<tr><td>39628340558037835</td><td>195.022231125969</td><td>23.5935825994699</td><td>28113</td><td>sv3</td><td>0.0741191077886381</td><td>6.98682998944146e-06</td><td>0</td><td>14862.815160935</td><td>fuji/healpix/sv3/bright/281/28113/redrock-sv3-bright-28113.fits</td><td>SGA</td><td>273333</td><td>195.02223112596943</td><td>23.59358259946991</td></tr>\n",
       "<tr><td>39628357154899033</td><td>195.097575994022</td><td>24.2185947100917</td><td>28116</td><td>sv3</td><td>0.0741569503091796</td><td>1.45928733618774e-05</td><td>0</td><td>14039.0535504031</td><td>fuji/healpix/sv3/bright/281/28116/redrock-sv3-bright-28116.fits</td><td>SGA</td><td>1010134</td><td>195.09757599402158</td><td>24.218594710091715</td></tr>\n",
       "<tr><td>39628357154901032</td><td>195.209073676368</td><td>24.3255564547931</td><td>28116</td><td>sv3</td><td>0.103302151997437</td><td>2.42582143881705e-05</td><td>0</td><td>3684.12514551263</td><td>fuji/healpix/sv3/bright/281/28116/redrock-sv3-bright-28116.fits</td><td>SGA</td><td>151549</td><td>195.2090736763681</td><td>24.325556454793148</td></tr>\n",
       "<tr><td>39628351639388216</td><td>195.570636921187</td><td>24.010827802539</td><td>28116</td><td>sv3</td><td>0.0735501585268838</td><td>1.24373127290968e-05</td><td>0</td><td>23635.5567134111</td><td>fuji/healpix/sv3/bright/281/28116/redrock-sv3-bright-28116.fits</td><td>SGA</td><td>930436</td><td>195.57063692118683</td><td>24.010827802539005</td></tr>\n",
       "<tr><td>39628351639388739</td><td>195.596773722956</td><td>24.0291533655524</td><td>28116</td><td>sv3</td><td>0.0743909303720835</td><td>1.23486497107931e-05</td><td>0</td><td>28262.2371401303</td><td>fuji/healpix/sv3/bright/281/28116/redrock-sv3-bright-28116.fits</td><td>SGA</td><td>774598</td><td>195.59677372295553</td><td>24.029153365552403</td></tr>\n",
       "<tr><td>39628351631000304</td><td>195.063033418752</td><td>23.9518766686433</td><td>28116</td><td>sv3</td><td>0.141323855768663</td><td>3.889180446837e-05</td><td>0</td><td>3259.09371766914</td><td>fuji/healpix/sv3/bright/281/28116/redrock-sv3-bright-28116.fits</td><td>SGA</td><td>1191699</td><td>195.06303341875227</td><td>23.951876668643333</td></tr>\n",
       "<tr><td>39628368135589356</td><td>193.379176291609</td><td>24.8527270651101</td><td>28121</td><td>sv3</td><td>0.0603229409144079</td><td>4.86193158617584e-06</td><td>0</td><td>7961.06944614649</td><td>fuji/healpix/sv3/bright/281/28121/redrock-sv3-bright-28121.fits</td><td>SGA</td><td>1178872</td><td>193.37917629160913</td><td>24.8527270651101</td></tr>\n",
       "<tr><td>39628362636858151</td><td>193.433618848862</td><td>24.5730178224916</td><td>28121</td><td>sv3</td><td>0.0701638653432611</td><td>1.06808521630607e-06</td><td>0</td><td>120315.965257645</td><td>fuji/healpix/sv3/bright/281/28121/redrock-sv3-bright-28121.fits</td><td>SGA</td><td>5005244</td><td>193.43361884886178</td><td>24.573017822491643</td></tr>\n",
       "<tr><td>39628334983809199</td><td>193.704540959057</td><td>23.30115351619</td><td>28114</td><td>sv3</td><td>0.0838278055025157</td><td>2.63908442758865e-05</td><td>0</td><td>806.257400905946</td><td>fuji/healpix/sv3/bright/281/28114/redrock-sv3-bright-28114.fits</td><td>SGA</td><td>1017076</td><td>193.70454095905657</td><td>23.301153516189956</td></tr>\n",
       "</table></div>"
      ],
      "text/plain": [
       "<Table length=2112>\n",
       "      TARGETID         TARGET_RA     ...         RA                DEC        \n",
       "       int64            float64      ...      float64            float64      \n",
       "------------------- ---------------- ... ------------------ ------------------\n",
       "2305843022014712506 197.156461215073 ...  197.1565928926111  79.78701060360044\n",
       "  39633244072708111 172.478975482847 ...  172.4789754828471  49.81112965551834\n",
       "2305843015098307568  172.88665773677 ... 172.88664359320452  49.85749695685062\n",
       "  39633247981799461 172.488634263549 ...  172.4886342635487  49.99459140909872\n",
       "  39633247977604638 172.046969027532 ...  172.0469690275316  49.87656527945583\n",
       "  39633240146840330 172.621403181147 ...  172.6214031811471  49.58272138577475\n",
       "  39633240155229162 173.423295043232 ... 173.42329504323192  49.59878783305574\n",
       "  39633247994381773 173.539574562025 ... 173.53957456202534  49.92473964127928\n",
       "  39633240163615366  173.93563451952 ... 173.93563451951957  49.53727570093442\n",
       "  39633240163616099 174.010173674952 ...  174.0101736749522 49.491769720901395\n",
       "                ...              ... ...                ...                ...\n",
       "  39628357146510195 194.541641574909 ... 194.54164157490868  24.34892406460181\n",
       "  39628340558037835 195.022231125969 ... 195.02223112596943  23.59358259946991\n",
       "  39628357154899033 195.097575994022 ... 195.09757599402158 24.218594710091715\n",
       "  39628357154901032 195.209073676368 ...  195.2090736763681 24.325556454793148\n",
       "  39628351639388216 195.570636921187 ... 195.57063692118683 24.010827802539005\n",
       "  39628351639388739 195.596773722956 ... 195.59677372295553 24.029153365552403\n",
       "  39628351631000304 195.063033418752 ... 195.06303341875227 23.951876668643333\n",
       "  39628368135589356 193.379176291609 ... 193.37917629160913   24.8527270651101\n",
       "  39628362636858151 193.433618848862 ... 193.43361884886178 24.573017822491643\n",
       "  39628334983809199 193.704540959057 ... 193.70454095905657 23.301153516189956"
      ]
     },
     "execution_count": 33,
     "metadata": {},
     "output_type": "execute_result"
    }
   ],
   "source": [
    "pv_sga_fuji = match_targets(pv_sga, redux='fuji')\n",
    "pv_sga_fuji"
   ]
  },
  {
   "cell_type": "code",
   "execution_count": null,
   "id": "214f4975-6326-46dd-975c-a11d19eb8de5",
   "metadata": {},
   "outputs": [
    {
     "data": {
      "application/vnd.jupyter.widget-view+json": {
       "model_id": "f887fc88064a4c4a9e6875c1d8d4f1d4",
       "version_major": 2,
       "version_minor": 0
      },
      "text/plain": [
       "  0%|          | 0/389316 [00:00<?, ?it/s]"
      ]
     },
     "metadata": {},
     "output_type": "display_data"
    }
   ],
   "source": [
    "pv_tf_fuji = match_targets(pv_tf, redux='fuji')\n",
    "pv_tf_fuji"
   ]
  },
  {
   "cell_type": "code",
   "execution_count": null,
   "id": "cc42b3c0-a076-46c3-b797-05cdc9336ea8",
   "metadata": {},
   "outputs": [],
   "source": [
    "isgoodz = (pv_tf_fuji['ZWARN']==0) & (pv_tf_fuji['DELTACHI2']>25)\n",
    "pv_tf_fuji[isgoodz]"
   ]
  },
  {
   "cell_type": "markdown",
   "id": "cb329f5f-4c2c-48dc-b3d6-b7f365d346d9",
   "metadata": {},
   "source": [
    "#### Dump Output to a File\n",
    "\n",
    "Stack the `ext`, `sga`, and `tf` tables and save the output."
   ]
  },
  {
   "cell_type": "code",
   "execution_count": null,
   "id": "79a77d91-8f17-43d2-8788-96439650afa6",
   "metadata": {},
   "outputs": [],
   "source": [
    "pv_fuji = vstack([pv_ext_fuji, pv_sga_fuji, pv_tf_fuji])\n",
    "pv_fuji.write('desi_pv_tf_fuji.fits', overwrite=True)"
   ]
  },
  {
   "cell_type": "markdown",
   "id": "87a939c4-09d9-43c4-8d00-37388c3e8cb3",
   "metadata": {},
   "source": [
    "### Process guadalupe Observations"
   ]
  },
  {
   "cell_type": "code",
   "execution_count": 5,
   "id": "ce789965-640c-45a8-89be-556ff921a19e",
   "metadata": {},
   "outputs": [
    {
     "data": {
      "application/vnd.jupyter.widget-view+json": {
       "model_id": "861fef66068a4a6d9adb9ca0fb94d6bf",
       "version_major": 2,
       "version_minor": 0
      },
      "text/plain": [
       "  0%|          | 0/20486 [00:00<?, ?it/s]"
      ]
     },
     "metadata": {},
     "output_type": "display_data"
    },
    {
     "data": {
      "text/html": [
       "<div><i>Table length=47</i>\n",
       "<table id=\"table23453710354608\" class=\"table-striped table-bordered table-condensed\">\n",
       "<thead><tr><th>TARGETID</th><th>TARGET_RA</th><th>TARGET_DEC</th><th>HEALPIX</th><th>SURVEY</th><th>Z</th><th>ZERR</th><th>ZWARN</th><th>DELTACHI2</th><th>FILENAME</th><th>PVTYPE</th><th>SGA_ID</th><th>RA</th><th>DEC</th></tr></thead>\n",
       "<thead><tr><th>int64</th><th>float64</th><th>float64</th><th>int64</th><th>str4</th><th>float64</th><th>float64</th><th>int64</th><th>float64</th><th>str70</th><th>bytes3</th><th>int64</th><th>float64</th><th>float64</th></tr></thead>\n",
       "<tr><td>2399124498415623</td><td>214.013122385853</td><td>35.3145314097487</td><td>10511</td><td>main</td><td>1.377580664732</td><td>9.84449640590381e-05</td><td>4</td><td>5.34532008320093</td><td>guadalupe/healpix/main/bright/105/10511/redrock-main-bright-10511.fits</td><td>EXT</td><td>1229423</td><td>214.01312238585328</td><td>35.3145314097487</td></tr>\n",
       "<tr><td>2412318637948931</td><td>214.04164239659</td><td>35.3585395889941</td><td>10511</td><td>main</td><td>0.0136149298283923</td><td>3.84349317724892e-05</td><td>0</td><td>105.808545001011</td><td>guadalupe/healpix/main/dark/105/10511/redrock-main-dark-10511.fits</td><td>EXT</td><td>1229423</td><td>214.04164239658957</td><td>35.35853958899406</td></tr>\n",
       "<tr><td>2412333884243973</td><td>249.490218609158</td><td>36.058332514444</td><td>9433</td><td>main</td><td>0.790966031999166</td><td>5.68528719021782e-05</td><td>4</td><td>6.58435443043709</td><td>guadalupe/healpix/main/dark/94/9433/redrock-main-dark-9433.fits</td><td>EXT</td><td>306417</td><td>249.4902186091578</td><td>36.058332514444025</td></tr>\n",
       "<tr><td>2412428541296646</td><td>246.94530009636</td><td>40.9339918585217</td><td>9471</td><td>main</td><td>1.59672805899643</td><td>0.00021512202669222</td><td>0</td><td>21.9079817682505</td><td>guadalupe/healpix/main/dark/94/9471/redrock-main-dark-9471.fits</td><td>EXT</td><td>1141359</td><td>246.94530009636003</td><td>40.93399185852167</td></tr>\n",
       "<tr><td>2411343818784770</td><td>207.304942983762</td><td>-7.21204274377769</td><td>25721</td><td>main</td><td>0.0251758506722491</td><td>5.63666872037601e-05</td><td>0</td><td>18.4876595666283</td><td>guadalupe/healpix/main/dark/257/25721/redrock-main-dark-25721.fits</td><td>EXT</td><td>528682</td><td>207.30494298376212</td><td>-7.212042743777691</td></tr>\n",
       "<tr><td>2398191546793985</td><td>196.070630789244</td><td>-5.50346819670039</td><td>25790</td><td>main</td><td>1.47619325616168</td><td>9.56944906413878e-05</td><td>4</td><td>2.18669384717941</td><td>guadalupe/healpix/main/bright/257/25790/redrock-main-bright-25790.fits</td><td>EXT</td><td>131706</td><td>196.07063078924412</td><td>-5.503468196700393</td></tr>\n",
       "<tr><td>2398113503379461</td><td>192.273729147642</td><td>-8.64496061055452</td><td>26113</td><td>main</td><td>0.0052033014260005</td><td>1.4751066688564e-05</td><td>0</td><td>250.45065983828</td><td>guadalupe/healpix/main/bright/261/26113/redrock-main-bright-26113.fits</td><td>EXT</td><td>288376</td><td>192.27372914764155</td><td>-8.644960610554522</td></tr>\n",
       "<tr><td>2412060990242825</td><td>267.974068380698</td><td>23.0836119738323</td><td>32545</td><td>main</td><td>1.28091277853885</td><td>9.66284176278662e-05</td><td>4</td><td>3.30605861544609</td><td>guadalupe/healpix/main/dark/325/32545/redrock-main-dark-32545.fits</td><td>EXT</td><td>600287</td><td>267.9740683806976</td><td>23.08361197383228</td></tr>\n",
       "<tr><td>2411567266136067</td><td>226.331158541844</td><td>2.06661086575034</td><td>8196</td><td>main</td><td>0.36889259266065</td><td>5.63732348350446e-05</td><td>4</td><td>4.60599585622549</td><td>guadalupe/healpix/main/dark/81/8196/redrock-main-dark-8196.fits</td><td>EXT</td><td>330560</td><td>226.33115854184445</td><td>2.0666108657503446</td></tr>\n",
       "<tr><td>2411561209561090</td><td>225.304300881054</td><td>1.69398474274656</td><td>8195</td><td>main</td><td>0.00642344814460749</td><td>4.19184822955602e-05</td><td>0</td><td>1353.33556032318</td><td>guadalupe/healpix/main/dark/81/8195/redrock-main-dark-8195.fits</td><td>EXT</td><td>693208</td><td>225.3043008810543</td><td>1.6939847427465609</td></tr>\n",
       "<tr><td>...</td><td>...</td><td>...</td><td>...</td><td>...</td><td>...</td><td>...</td><td>...</td><td>...</td><td>...</td><td>...</td><td>...</td><td>...</td><td>...</td></tr>\n",
       "<tr><td>39633114523238846</td><td>264.164334809745</td><td>42.0882861784848</td><td>9573</td><td>main</td><td>0.00723160713118826</td><td>1.63509553518825e-06</td><td>0</td><td>45756.8826864954</td><td>guadalupe/healpix/main/bright/95/9573/redrock-main-bright-9573.fits</td><td>EXT</td><td>486697</td><td>264.16433480974507</td><td>42.088286178484815</td></tr>\n",
       "<tr><td>39628335952693031</td><td>256.367039946465</td><td>23.1531808475744</td><td>32481</td><td>main</td><td>0.0311141167896765</td><td>7.46078281430896e-06</td><td>0</td><td>20397.4584070407</td><td>guadalupe/healpix/main/bright/324/32481/redrock-main-bright-32481.fits</td><td>EXT</td><td>921876</td><td>256.36703994646496</td><td>23.153180847574397</td></tr>\n",
       "<tr><td>39627902827892484</td><td>203.515260159425</td><td>4.75374052492893</td><td>26394</td><td>main</td><td>0.0228685441092721</td><td>9.42434991088751e-06</td><td>0</td><td>7856.45169757163</td><td>guadalupe/healpix/main/bright/263/26394/redrock-main-bright-26394.fits</td><td>EXT</td><td>1114883</td><td>203.51526015942545</td><td>4.753740524928933</td></tr>\n",
       "<tr><td>39628497169156321</td><td>233.823932714703</td><td>30.8033620386958</td><td>9052</td><td>main</td><td>0.0315039398042009</td><td>5.31040725999393e-06</td><td>0</td><td>13107.5793124661</td><td>guadalupe/healpix/main/bright/90/9052/redrock-main-bright-9052.fits</td><td>EXT</td><td>573524</td><td>233.82393271470315</td><td>30.803362038695777</td></tr>\n",
       "<tr><td>2411531232870401</td><td>238.58838099821</td><td>0.541088883493816</td><td>31340</td><td>main</td><td>0.00731655182761273</td><td>1.6296319661791e-05</td><td>0</td><td>3450.80638429872</td><td>guadalupe/healpix/main/dark/313/31340/redrock-main-dark-31340.fits</td><td>EXT</td><td>1255470</td><td>238.58838099821025</td><td>0.5410888834938158</td></tr>\n",
       "<tr><td>39627770296276005</td><td>219.956999318774</td><td>-0.718640392418429</td><td>25933</td><td>main</td><td>0.00585697151952947</td><td>3.19369082360398e-06</td><td>0</td><td>4558.44368662694</td><td>guadalupe/healpix/main/bright/259/25933/redrock-main-bright-25933.fits</td><td>EXT</td><td>166290</td><td>219.95699931877425</td><td>-0.7186403924184287</td></tr>\n",
       "<tr><td>2411579354120200</td><td>226.916725956634</td><td>2.5460529318271</td><td>8197</td><td>main</td><td>0.492142769768617</td><td>6.81390600420251e-05</td><td>4</td><td>0.927964523434639</td><td>guadalupe/healpix/main/dark/81/8197/redrock-main-dark-8197.fits</td><td>EXT</td><td>311065</td><td>226.91672595663366</td><td>2.5460529318270972</td></tr>\n",
       "<tr><td>39627838227219385</td><td>308.769191122504</td><td>1.93620417036609</td><td>30073</td><td>main</td><td>0.0134115378514289</td><td>7.69624658374047e-06</td><td>0</td><td>580.002106421627</td><td>guadalupe/healpix/main/bright/300/30073/redrock-main-bright-30073.fits</td><td>EXT</td><td>343416</td><td>308.76919112250425</td><td>1.9362041703660922</td></tr>\n",
       "<tr><td>2411813010407428</td><td>234.644253542742</td><td>12.1874329192956</td><td>8458</td><td>main</td><td>0.00603674890243463</td><td>1.47024219651526e-05</td><td>0</td><td>160.154073334998</td><td>guadalupe/healpix/main/dark/84/8458/redrock-main-dark-8458.fits</td><td>EXT</td><td>1413288</td><td>234.6442535427418</td><td>12.187432919295624</td></tr>\n",
       "<tr><td>2411981453656070</td><td>226.903677276429</td><td>19.5745275659376</td><td>8617</td><td>main</td><td>0.0151526846633487</td><td>1.15471975463693e-06</td><td>0</td><td>20992.2440146506</td><td>guadalupe/healpix/main/dark/86/8617/redrock-main-dark-8617.fits</td><td>EXT</td><td>358145</td><td>226.9036772764294</td><td>19.57452756593757</td></tr>\n",
       "</table></div>"
      ],
      "text/plain": [
       "<Table length=47>\n",
       "     TARGETID        TARGET_RA     ...         RA                 DEC        \n",
       "      int64           float64      ...      float64             float64      \n",
       "----------------- ---------------- ... ------------------ -------------------\n",
       " 2399124498415623 214.013122385853 ... 214.01312238585328    35.3145314097487\n",
       " 2412318637948931  214.04164239659 ... 214.04164239658957   35.35853958899406\n",
       " 2412333884243973 249.490218609158 ...  249.4902186091578  36.058332514444025\n",
       " 2412428541296646  246.94530009636 ... 246.94530009636003   40.93399185852167\n",
       " 2411343818784770 207.304942983762 ... 207.30494298376212  -7.212042743777691\n",
       " 2398191546793985 196.070630789244 ... 196.07063078924412  -5.503468196700393\n",
       " 2398113503379461 192.273729147642 ... 192.27372914764155  -8.644960610554522\n",
       " 2412060990242825 267.974068380698 ...  267.9740683806976   23.08361197383228\n",
       " 2411567266136067 226.331158541844 ... 226.33115854184445  2.0666108657503446\n",
       " 2411561209561090 225.304300881054 ...  225.3043008810543  1.6939847427465609\n",
       "              ...              ... ...                ...                 ...\n",
       "39633114523238846 264.164334809745 ... 264.16433480974507  42.088286178484815\n",
       "39628335952693031 256.367039946465 ... 256.36703994646496  23.153180847574397\n",
       "39627902827892484 203.515260159425 ... 203.51526015942545   4.753740524928933\n",
       "39628497169156321 233.823932714703 ... 233.82393271470315  30.803362038695777\n",
       " 2411531232870401  238.58838099821 ... 238.58838099821025  0.5410888834938158\n",
       "39627770296276005 219.956999318774 ... 219.95699931877425 -0.7186403924184287\n",
       " 2411579354120200 226.916725956634 ... 226.91672595663366  2.5460529318270972\n",
       "39627838227219385 308.769191122504 ... 308.76919112250425  1.9362041703660922\n",
       " 2411813010407428 234.644253542742 ...  234.6442535427418  12.187432919295624\n",
       " 2411981453656070 226.903677276429 ...  226.9036772764294   19.57452756593757"
      ]
     },
     "execution_count": 5,
     "metadata": {},
     "output_type": "execute_result"
    }
   ],
   "source": [
    "pv_ext_guadalupe = match_targets(pv_ext, redux='guadalupe')\n",
    "pv_ext_guadalupe"
   ]
  },
  {
   "cell_type": "code",
   "execution_count": 7,
   "id": "dae54912-4c3a-49d3-b39c-efd313dd5e39",
   "metadata": {},
   "outputs": [
    {
     "data": {
      "application/vnd.jupyter.widget-view+json": {
       "model_id": "2fddd1a827af4703b9a2f10b4b5f928c",
       "version_major": 2,
       "version_minor": 0
      },
      "text/plain": [
       "  0%|          | 0/81611 [00:00<?, ?it/s]"
      ]
     },
     "metadata": {},
     "output_type": "display_data"
    },
    {
     "data": {
      "text/html": [
       "<div><i>Table length=4329</i>\n",
       "<table id=\"table23453710146768\" class=\"table-striped table-bordered table-condensed\">\n",
       "<thead><tr><th>TARGETID</th><th>TARGET_RA</th><th>TARGET_DEC</th><th>HEALPIX</th><th>SURVEY</th><th>Z</th><th>ZERR</th><th>ZWARN</th><th>DELTACHI2</th><th>FILENAME</th><th>PVTYPE</th><th>SGA_ID</th><th>RA</th><th>DEC</th></tr></thead>\n",
       "<thead><tr><th>int64</th><th>float64</th><th>float64</th><th>int64</th><th>str7</th><th>float64</th><th>float64</th><th>int64</th><th>float64</th><th>str76</th><th>bytes3</th><th>int64</th><th>float64</th><th>float64</th></tr></thead>\n",
       "<tr><td>39632971543611952</td><td>226.769408223064</td><td>34.6054564176318</td><td>9176</td><td>main</td><td>0.134171871124575</td><td>3.1695894043558e-05</td><td>0</td><td>3649.73326907679</td><td>guadalupe/healpix/main/bright/91/9176/redrock-main-bright-9176.fits</td><td>SGA</td><td>1176444</td><td>226.76940822306383</td><td>34.605456417631835</td></tr>\n",
       "<tr><td>39632976534833799</td><td>227.540528014028</td><td>34.7193586975291</td><td>9171</td><td>main</td><td>0.161807029886358</td><td>1.76878359220683e-05</td><td>0</td><td>1105.9545827508</td><td>guadalupe/healpix/main/bright/91/9171/redrock-main-bright-9171.fits</td><td>SGA</td><td>309343</td><td>227.54052801402773</td><td>34.71935869752911</td></tr>\n",
       "<tr><td>39632976534833856</td><td>227.544430405904</td><td>34.6437144430152</td><td>9171</td><td>main</td><td>0.0782479151106385</td><td>8.46628905218811e-06</td><td>0</td><td>4570.50179849565</td><td>guadalupe/healpix/main/bright/91/9171/redrock-main-bright-9171.fits</td><td>SGA</td><td>849134</td><td>227.54443040590394</td><td>34.64371444301516</td></tr>\n",
       "<tr><td>39632946428119295</td><td>227.334472888935</td><td>33.3583292717716</td><td>9168</td><td>main</td><td>0.0884528144208573</td><td>5.13870129313765e-06</td><td>0</td><td>1932.8937908411</td><td>guadalupe/healpix/main/bright/91/9168/redrock-main-bright-9168.fits</td><td>SGA</td><td>5002278</td><td>227.33447288893487</td><td>33.35832927177162</td></tr>\n",
       "<tr><td>39632951490644589</td><td>228.052833402452</td><td>33.4850864290112</td><td>9168</td><td>main</td><td>0.0597237901686943</td><td>5.27758897521756e-06</td><td>0</td><td>15386.9865108752</td><td>guadalupe/healpix/main/bright/91/9168/redrock-main-bright-9168.fits</td><td>SGA</td><td>842933</td><td>228.05283340245228</td><td>33.48508642901125</td></tr>\n",
       "<tr><td>39632936231767467</td><td>223.867437102554</td><td>32.8399970941963</td><td>9161</td><td>main</td><td>0.0601663401398211</td><td>6.70435941435548e-06</td><td>0</td><td>17865.5370178968</td><td>guadalupe/healpix/main/bright/91/9161/redrock-main-bright-9161.fits</td><td>SGA</td><td>778514</td><td>223.86743710255396</td><td>32.83999709419633</td></tr>\n",
       "<tr><td>39632941373981940</td><td>228.008658150297</td><td>32.9153466820622</td><td>9082</td><td>main</td><td>0.0230258909861657</td><td>2.04923990261468e-06</td><td>0</td><td>69629.683500919</td><td>guadalupe/healpix/main/bright/90/9082/redrock-main-bright-9082.fits</td><td>SGA</td><td>647878</td><td>228.008658150297</td><td>32.91534668206217</td></tr>\n",
       "<tr><td>39632981513471792</td><td>228.576852892938</td><td>34.9769257811309</td><td>9172</td><td>main</td><td>0.0903432971172456</td><td>1.85349215344661e-05</td><td>0</td><td>233.332581009716</td><td>guadalupe/healpix/main/bright/91/9172/redrock-main-bright-9172.fits</td><td>SGA</td><td>840119</td><td>228.5768528929376</td><td>34.976925781130916</td></tr>\n",
       "<tr><td>39632946390371435</td><td>224.702037051307</td><td>33.1353832691265</td><td>9164</td><td>main</td><td>0.0586237957975648</td><td>1.71124493901245e-05</td><td>0</td><td>5499.88413809426</td><td>guadalupe/healpix/main/bright/91/9164/redrock-main-bright-9164.fits</td><td>SGA</td><td>326541</td><td>224.70203705130672</td><td>33.13538326912654</td></tr>\n",
       "<tr><td>39632976488697253</td><td>224.285036854346</td><td>34.8678813614765</td><td>9166</td><td>main</td><td>0.0779873476704494</td><td>1.43926413053034e-05</td><td>0</td><td>10498.4496390596</td><td>guadalupe/healpix/main/bright/91/9166/redrock-main-bright-9166.fits</td><td>SGA</td><td>949271</td><td>224.28503685434558</td><td>34.86788136147648</td></tr>\n",
       "<tr><td>...</td><td>...</td><td>...</td><td>...</td><td>...</td><td>...</td><td>...</td><td>...</td><td>...</td><td>...</td><td>...</td><td>...</td><td>...</td><td>...</td></tr>\n",
       "<tr><td>39627764348748318</td><td>225.271092954649</td><td>-1.03015619589827</td><td>45053</td><td>main</td><td>0.0413056856253319</td><td>4.98737301268267e-06</td><td>0</td><td>5199.368197456</td><td>guadalupe/healpix/main/bright/450/45053/redrock-main-bright-45053.fits</td><td>SGA</td><td>218216</td><td>225.2710929546487</td><td>-1.0301561958982695</td></tr>\n",
       "<tr><td>39627740185364221</td><td>225.075408082714</td><td>-2.08367751857187</td><td>45052</td><td>main</td><td>0.143042248415594</td><td>1.38835787600631e-05</td><td>0</td><td>5404.66883510351</td><td>guadalupe/healpix/main/bright/450/45052/redrock-main-bright-45052.fits</td><td>SGA</td><td>183177</td><td>225.07540808271438</td><td>-2.0836775185718674</td></tr>\n",
       "<tr><td>39627746237745791</td><td>225.842528978171</td><td>-1.80280032252188</td><td>45047</td><td>main</td><td>0.0365732227427305</td><td>9.84042058000738e-06</td><td>0</td><td>16167.3285420744</td><td>guadalupe/healpix/main/bright/450/45047/redrock-main-bright-45047.fits</td><td>SGA</td><td>304419</td><td>225.84252897817055</td><td>-1.8028003225218754</td></tr>\n",
       "<tr><td>39627764357137919</td><td>225.803431391774</td><td>-0.937230178151722</td><td>45053</td><td>main</td><td>0.0371849104057558</td><td>1.10808711889424e-05</td><td>0</td><td>1759.07187627262</td><td>guadalupe/healpix/main/bright/450/45053/redrock-main-bright-45053.fits</td><td>SGA</td><td>843943</td><td>225.80343139177418</td><td>-0.9372301781517222</td></tr>\n",
       "<tr><td>39627734086850291</td><td>221.736612120971</td><td>-2.3085521899252</td><td>25925</td><td>main</td><td>0.0437195176927085</td><td>1.54629808343547e-05</td><td>0</td><td>5173.57828896784</td><td>guadalupe/healpix/main/bright/259/25925/redrock-main-bright-25925.fits</td><td>SGA</td><td>1371890</td><td>221.73661212097056</td><td>-2.3085521899251953</td></tr>\n",
       "<tr><td>39627740122454286</td><td>221.495134912997</td><td>-2.07929506692494</td><td>25925</td><td>main</td><td>0.107364704445242</td><td>1.4643540366971e-05</td><td>0</td><td>1626.99655373581</td><td>guadalupe/healpix/main/bright/259/25925/redrock-main-bright-25925.fits</td><td>SGA</td><td>1282743</td><td>221.4951349129971</td><td>-2.0792950669249426</td></tr>\n",
       "<tr><td>39627709931853159</td><td>221.749741649229</td><td>-3.25949444147259</td><td>45038</td><td>main</td><td>0.0430112321287352</td><td>4.16826779555672e-06</td><td>0</td><td>4634.16357837617</td><td>guadalupe/healpix/main/bright/450/45038/redrock-main-bright-45038.fits</td><td>SGA</td><td>586667</td><td>221.74974164922932</td><td>-3.2594944414725946</td></tr>\n",
       "<tr><td>39627691841817217</td><td>221.895679868469</td><td>-3.94783160093517</td><td>45036</td><td>main</td><td>0.0580574834409571</td><td>2.04668593069314e-05</td><td>0</td><td>7580.88948236778</td><td>guadalupe/healpix/main/bright/450/45036/redrock-main-bright-45036.fits</td><td>SGA</td><td>1244791</td><td>221.89567986846856</td><td>-3.9478316009351664</td></tr>\n",
       "<tr><td>39627752206241706</td><td>221.658297067199</td><td>-1.52529312856854</td><td>25938</td><td>main</td><td>0.0198530642885135</td><td>1.79277027235361e-06</td><td>0</td><td>12193.9056888819</td><td>guadalupe/healpix/main/bright/259/25938/redrock-main-bright-25938.fits</td><td>SGA</td><td>571751</td><td>221.65829706719947</td><td>-1.5252931285685356</td></tr>\n",
       "<tr><td>39627709936044459</td><td>221.889933073346</td><td>-3.30476926276578</td><td>45039</td><td>main</td><td>0.0833540522693933</td><td>1.24784637382695e-05</td><td>0</td><td>2644.74448865931</td><td>guadalupe/healpix/main/bright/450/45039/redrock-main-bright-45039.fits</td><td>SGA</td><td>1066699</td><td>221.88993307334636</td><td>-3.3047692627657757</td></tr>\n",
       "</table></div>"
      ],
      "text/plain": [
       "<Table length=4329>\n",
       "     TARGETID        TARGET_RA     ...         RA                 DEC        \n",
       "      int64           float64      ...      float64             float64      \n",
       "----------------- ---------------- ... ------------------ -------------------\n",
       "39632971543611952 226.769408223064 ... 226.76940822306383  34.605456417631835\n",
       "39632976534833799 227.540528014028 ... 227.54052801402773   34.71935869752911\n",
       "39632976534833856 227.544430405904 ... 227.54443040590394   34.64371444301516\n",
       "39632946428119295 227.334472888935 ... 227.33447288893487   33.35832927177162\n",
       "39632951490644589 228.052833402452 ... 228.05283340245228   33.48508642901125\n",
       "39632936231767467 223.867437102554 ... 223.86743710255396   32.83999709419633\n",
       "39632941373981940 228.008658150297 ...   228.008658150297   32.91534668206217\n",
       "39632981513471792 228.576852892938 ...  228.5768528929376  34.976925781130916\n",
       "39632946390371435 224.702037051307 ... 224.70203705130672   33.13538326912654\n",
       "39632976488697253 224.285036854346 ... 224.28503685434558   34.86788136147648\n",
       "              ...              ... ...                ...                 ...\n",
       "39627764348748318 225.271092954649 ...  225.2710929546487 -1.0301561958982695\n",
       "39627740185364221 225.075408082714 ... 225.07540808271438 -2.0836775185718674\n",
       "39627746237745791 225.842528978171 ... 225.84252897817055 -1.8028003225218754\n",
       "39627764357137919 225.803431391774 ... 225.80343139177418 -0.9372301781517222\n",
       "39627734086850291 221.736612120971 ... 221.73661212097056 -2.3085521899251953\n",
       "39627740122454286 221.495134912997 ...  221.4951349129971 -2.0792950669249426\n",
       "39627709931853159 221.749741649229 ... 221.74974164922932 -3.2594944414725946\n",
       "39627691841817217 221.895679868469 ... 221.89567986846856 -3.9478316009351664\n",
       "39627752206241706 221.658297067199 ... 221.65829706719947 -1.5252931285685356\n",
       "39627709936044459 221.889933073346 ... 221.88993307334636 -3.3047692627657757"
      ]
     },
     "execution_count": 7,
     "metadata": {},
     "output_type": "execute_result"
    }
   ],
   "source": [
    "pv_sga_guadalupe = match_targets(pv_sga, redux='guadalupe')\n",
    "pv_sga_guadalupe"
   ]
  },
  {
   "cell_type": "code",
   "execution_count": 8,
   "id": "3216b4b2-d4b1-4425-a7fc-86c99a9cfa1a",
   "metadata": {},
   "outputs": [
    {
     "data": {
      "application/vnd.jupyter.widget-view+json": {
       "model_id": "3104a58dd94e47f1a6ba566c2902f881",
       "version_major": 2,
       "version_minor": 0
      },
      "text/plain": [
       "  0%|          | 0/389316 [00:00<?, ?it/s]"
      ]
     },
     "metadata": {},
     "output_type": "display_data"
    },
    {
     "data": {
      "text/html": [
       "<div><i>Table length=8128</i>\n",
       "<table id=\"table23453660246560\" class=\"table-striped table-bordered table-condensed\">\n",
       "<thead><tr><th>TARGETID</th><th>TARGET_RA</th><th>TARGET_DEC</th><th>HEALPIX</th><th>SURVEY</th><th>Z</th><th>ZERR</th><th>ZWARN</th><th>DELTACHI2</th><th>FILENAME</th><th>PVTYPE</th><th>SGA_ID</th><th>RA</th><th>DEC</th></tr></thead>\n",
       "<thead><tr><th>int64</th><th>float64</th><th>float64</th><th>int64</th><th>str7</th><th>float64</th><th>float64</th><th>int64</th><th>float64</th><th>str76</th><th>bytes3</th><th>int64</th><th>float64</th><th>float64</th></tr></thead>\n",
       "<tr><td>39632981488304390</td><td>226.623239556924</td><td>34.9809917874453</td><td>9176</td><td>main</td><td>0.0773537195511663</td><td>1.77217618726231e-05</td><td>0</td><td>1781.09533148911</td><td>guadalupe/healpix/main/bright/91/9176/redrock-main-bright-9176.fits</td><td>TFT</td><td>1006008</td><td>226.62323955692426</td><td>34.98099178744529</td></tr>\n",
       "<tr><td>39632976522251852</td><td>226.741692198333</td><td>34.7021964389237</td><td>9176</td><td>main</td><td>0.0569956327899603</td><td>6.15300886213489e-06</td><td>0</td><td>9133.49759788811</td><td>guadalupe/healpix/main/bright/91/9176/redrock-main-bright-9176.fits</td><td>TFT</td><td>530851</td><td>226.74169219833286</td><td>34.7021964389237</td></tr>\n",
       "<tr><td>39632981484112953</td><td>226.522245998688</td><td>34.9873358028405</td><td>9176</td><td>main</td><td>0.0981156260114898</td><td>7.84626366169391e-06</td><td>0</td><td>1491.48397380436</td><td>guadalupe/healpix/main/bright/91/9176/redrock-main-bright-9176.fits</td><td>TFT</td><td>391625</td><td>226.52224599868816</td><td>34.98733580284054</td></tr>\n",
       "<tr><td>39632971539415488</td><td>226.313494201039</td><td>34.5564550660782</td><td>9176</td><td>main</td><td>0.0483267186889008</td><td>1.48013735758003e-06</td><td>0</td><td>23152.8334150314</td><td>guadalupe/healpix/main/bright/91/9176/redrock-main-bright-9176.fits</td><td>TFT</td><td>845968</td><td>226.31349420103916</td><td>34.55645506607823</td></tr>\n",
       "<tr><td>2403507822919685</td><td>226.378465421705</td><td>34.4652460255134</td><td>9176</td><td>main</td><td>0.073977516035243</td><td>5.49715836549874e-05</td><td>0</td><td>88.6119014124852</td><td>guadalupe/healpix/main/dark/91/9176/redrock-main-dark-9176.fits</td><td>TFT</td><td>722817</td><td>226.37846542170513</td><td>34.46524602551336</td></tr>\n",
       "<tr><td>39632981479917514</td><td>226.143751626166</td><td>34.9590838601306</td><td>9176</td><td>main</td><td>0.159702673746906</td><td>2.4814627216784e-05</td><td>0</td><td>465.293222649023</td><td>guadalupe/healpix/main/bright/91/9176/redrock-main-bright-9176.fits</td><td>TFT</td><td>1118337</td><td>226.14375162616568</td><td>34.95908386013065</td></tr>\n",
       "<tr><td>39632961477280784</td><td>222.517600524076</td><td>33.9434331426176</td><td>9185</td><td>main</td><td>0.0745443072871291</td><td>2.30933229625235e-05</td><td>0</td><td>1723.01215315959</td><td>guadalupe/healpix/main/bright/91/9185/redrock-main-bright-9185.fits</td><td>TFT</td><td>1377922</td><td>222.517600524076</td><td>33.9434331426176</td></tr>\n",
       "<tr><td>39632931190212939</td><td>227.778464510044</td><td>32.4778298703995</td><td>9071</td><td>main</td><td>0.0898218798706496</td><td>1.27079448577265e-05</td><td>0</td><td>1431.57672095299</td><td>guadalupe/healpix/main/bright/90/9071/redrock-main-bright-9071.fits</td><td>TFT</td><td>1163132</td><td>227.77846451004402</td><td>32.4778298703995</td></tr>\n",
       "<tr><td>39632941369788337</td><td>227.766820109067</td><td>33.0739762100582</td><td>9168</td><td>main</td><td>0.110480192072374</td><td>1.53412719085368e-05</td><td>0</td><td>405.840189829469</td><td>guadalupe/healpix/main/bright/91/9168/redrock-main-bright-9168.fits</td><td>TFT</td><td>479511</td><td>227.76682010906657</td><td>33.073976210058234</td></tr>\n",
       "<tr><td>39632956528001758</td><td>227.746069286661</td><td>33.8474752959714</td><td>9168</td><td>main</td><td>0.0585641532611156</td><td>4.68151750964192e-06</td><td>0</td><td>2813.68463628739</td><td>guadalupe/healpix/main/bright/91/9168/redrock-main-bright-9168.fits</td><td>TFT</td><td>37053</td><td>227.74606928666125</td><td>33.84747529597145</td></tr>\n",
       "<tr><td>...</td><td>...</td><td>...</td><td>...</td><td>...</td><td>...</td><td>...</td><td>...</td><td>...</td><td>...</td><td>...</td><td>...</td><td>...</td><td>...</td></tr>\n",
       "<tr><td>39627770329830415</td><td>221.975611967913</td><td>-0.646951684317705</td><td>25939</td><td>main</td><td>0.123680518881172</td><td>3.35508043764737e-05</td><td>0</td><td>878.320410429034</td><td>guadalupe/healpix/main/bright/259/25939/redrock-main-bright-25939.fits</td><td>TFT</td><td>935461</td><td>221.97561196791327</td><td>-0.6469516843177049</td></tr>\n",
       "<tr><td>39627746162250030</td><td>221.416459035634</td><td>-1.71859605181395</td><td>25938</td><td>main</td><td>0.0296808980055543</td><td>4.37642994369035e-06</td><td>0</td><td>2768.76944893497</td><td>guadalupe/healpix/main/bright/259/25938/redrock-main-bright-25938.fits</td><td>TFT</td><td>742585</td><td>221.41645903563355</td><td>-1.7185960518139491</td></tr>\n",
       "<tr><td>39627746158052762</td><td>221.046128518979</td><td>-1.69479115327865</td><td>25927</td><td>main</td><td>0.0721365049475943</td><td>1.16598857361827e-05</td><td>0</td><td>1747.67318867892</td><td>guadalupe/healpix/main/bright/259/25927/redrock-main-bright-25927.fits</td><td>TFT</td><td>1262897</td><td>221.04612851897917</td><td>-1.6947911532786506</td></tr>\n",
       "<tr><td>39627764290029807</td><td>221.831876463588</td><td>-0.957550935183749</td><td>25938</td><td>main</td><td>0.034472848185937</td><td>3.14897337080941e-06</td><td>0</td><td>6719.06419253349</td><td>guadalupe/healpix/main/bright/259/25938/redrock-main-bright-25938.fits</td><td>TFT</td><td>261864</td><td>221.83187646358778</td><td>-0.9575509351837495</td></tr>\n",
       "<tr><td>2402716735242240</td><td>221.53253152726</td><td>-0.229596292561464</td><td>25945</td><td>main</td><td>0.00619706884927084</td><td>4.76202950023059e-05</td><td>0</td><td>194.517363751374</td><td>guadalupe/healpix/main/dark/259/25945/redrock-main-dark-25945.fits</td><td>TFT</td><td>884254</td><td>221.53253152725964</td><td>-0.2295962925614643</td></tr>\n",
       "<tr><td>39627728047050393</td><td>221.623761098041</td><td>-2.53349427125553</td><td>25925</td><td>main</td><td>0.0432787461058024</td><td>2.75909010184447e-06</td><td>0</td><td>6128.49937489268</td><td>guadalupe/healpix/main/bright/259/25925/redrock-main-bright-25925.fits</td><td>TFT</td><td>1086359</td><td>221.62376109804092</td><td>-2.5334942712555266</td></tr>\n",
       "<tr><td>2403145246310401</td><td>227.842723277565</td><td>17.7702989586409</td><td>8608</td><td>main</td><td>0.0778828015236246</td><td>1.18033897784268e-05</td><td>0</td><td>122.510801717639</td><td>guadalupe/healpix/main/dark/86/8608/redrock-main-dark-8608.fits</td><td>TFT</td><td>209216</td><td>227.84272327756548</td><td>17.770298958640858</td></tr>\n",
       "<tr><td>2403173956321286</td><td>228.058262698436</td><td>19.0094572959516</td><td>8611</td><td>main</td><td>0.0733646523189127</td><td>3.13614489948056e-05</td><td>0</td><td>294.124357512434</td><td>guadalupe/healpix/main/dark/86/8611/redrock-main-dark-8611.fits</td><td>TFT</td><td>1345345</td><td>228.05826269843638</td><td>19.009457295951616</td></tr>\n",
       "<tr><td>2403087213920258</td><td>224.423814417678</td><td>15.2666099790636</td><td>8434</td><td>main</td><td>0.0348913488855228</td><td>5.90357215202983e-05</td><td>0</td><td>43.4685709585901</td><td>guadalupe/healpix/main/dark/84/8434/redrock-main-dark-8434.fits</td><td>TFT</td><td>1355710</td><td>224.42381441767822</td><td>15.266609979063608</td></tr>\n",
       "<tr><td>2403162514259971</td><td>229.004582034045</td><td>18.444489763665</td><td>8612</td><td>main</td><td>0.038451494985302</td><td>1.06230159701737e-05</td><td>0</td><td>475.384799664695</td><td>guadalupe/healpix/main/dark/86/8612/redrock-main-dark-8612.fits</td><td>TFT</td><td>728836</td><td>229.00458203404511</td><td>18.44448976366495</td></tr>\n",
       "</table></div>"
      ],
      "text/plain": [
       "<Table length=8128>\n",
       "     TARGETID        TARGET_RA     ...         RA                 DEC        \n",
       "      int64           float64      ...      float64             float64      \n",
       "----------------- ---------------- ... ------------------ -------------------\n",
       "39632981488304390 226.623239556924 ... 226.62323955692426   34.98099178744529\n",
       "39632976522251852 226.741692198333 ... 226.74169219833286    34.7021964389237\n",
       "39632981484112953 226.522245998688 ... 226.52224599868816   34.98733580284054\n",
       "39632971539415488 226.313494201039 ... 226.31349420103916   34.55645506607823\n",
       " 2403507822919685 226.378465421705 ... 226.37846542170513   34.46524602551336\n",
       "39632981479917514 226.143751626166 ... 226.14375162616568   34.95908386013065\n",
       "39632961477280784 222.517600524076 ...   222.517600524076    33.9434331426176\n",
       "39632931190212939 227.778464510044 ... 227.77846451004402    32.4778298703995\n",
       "39632941369788337 227.766820109067 ... 227.76682010906657  33.073976210058234\n",
       "39632956528001758 227.746069286661 ... 227.74606928666125   33.84747529597145\n",
       "              ...              ... ...                ...                 ...\n",
       "39627770329830415 221.975611967913 ... 221.97561196791327 -0.6469516843177049\n",
       "39627746162250030 221.416459035634 ... 221.41645903563355 -1.7185960518139491\n",
       "39627746158052762 221.046128518979 ... 221.04612851897917 -1.6947911532786506\n",
       "39627764290029807 221.831876463588 ... 221.83187646358778 -0.9575509351837495\n",
       " 2402716735242240  221.53253152726 ... 221.53253152725964 -0.2295962925614643\n",
       "39627728047050393 221.623761098041 ... 221.62376109804092 -2.5334942712555266\n",
       " 2403145246310401 227.842723277565 ... 227.84272327756548  17.770298958640858\n",
       " 2403173956321286 228.058262698436 ... 228.05826269843638  19.009457295951616\n",
       " 2403087213920258 224.423814417678 ... 224.42381441767822  15.266609979063608\n",
       " 2403162514259971 229.004582034045 ... 229.00458203404511   18.44448976366495"
      ]
     },
     "execution_count": 8,
     "metadata": {},
     "output_type": "execute_result"
    }
   ],
   "source": [
    "pv_tf_guadalupe = match_targets(pv_tf, redux='guadalupe')\n",
    "pv_tf_guadalupe"
   ]
  },
  {
   "cell_type": "code",
   "execution_count": 9,
   "id": "a1d9661c-7c61-43f0-962e-bd7321d3d078",
   "metadata": {},
   "outputs": [],
   "source": [
    "pv_guadalupe = vstack([pv_ext_guadalupe, pv_sga_guadalupe, pv_tf_guadalupe])\n",
    "pv_guadalupe.write('desi_pv_tf_guadalupe.fits', overwrite=True)"
   ]
  },
  {
   "cell_type": "code",
   "execution_count": null,
   "id": "7dbbdb42-938f-4d7b-b446-cf90953ab2a3",
   "metadata": {},
   "outputs": [],
   "source": []
  }
 ],
 "metadata": {
  "kernelspec": {
   "display_name": "DESI master",
   "language": "python",
   "name": "desi-master"
  },
  "language_info": {
   "codemirror_mode": {
    "name": "ipython",
    "version": 3
   },
   "file_extension": ".py",
   "mimetype": "text/x-python",
   "name": "python",
   "nbconvert_exporter": "python",
   "pygments_lexer": "ipython3",
   "version": "3.9.7"
  }
 },
 "nbformat": 4,
 "nbformat_minor": 5
}
