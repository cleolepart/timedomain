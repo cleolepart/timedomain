{
 "cells": [
  {
   "cell_type": "code",
   "execution_count": null,
   "id": "366d5a1a-7c10-40dd-8b5d-4677ae2c9f48",
   "metadata": {},
   "outputs": [],
   "source": [
    "import sys\n",
    "import math\n",
    "import psycopg2\n",
    "import psycopg2.extras\n",
    "import numpy as np\n",
    "from matplotlib import pyplot\n",
    "from astropy import units\n",
    "from astropy.coordinates import SkyCoord\n",
    "import requests"
   ]
  },
  {
   "cell_type": "markdown",
   "id": "3deefebe-228d-447f-a54a-0b35b0fc8b04",
   "metadata": {},
   "source": [
    "## Connect to DESI Postgres Database"
   ]
  },
  {
   "cell_type": "code",
   "execution_count": null,
   "id": "41881704-2908-414b-8433-357cddb46328",
   "metadata": {},
   "outputs": [],
   "source": [
    "dbhost = \"decatdb.lbl.gov\"\n",
    "dbname = \"desi\"\n",
    "dbuser = \"desi\"\n",
    "dbpasswd = \"<put right password here>\"\n",
    "\n",
    "secrets_file = '/global/cfs/cdirs/desi/science/td/secrets/desi_pg.txt'\n",
    "with open( secrets_file, 'r' ) as f:\n",
    "    data = f.read()\n",
    "    dbname, duser, dbpasswd, dbhost = data.split()"
   ]
  },
  {
   "cell_type": "code",
   "execution_count": null,
   "id": "d2fc037d-5690-4e56-b64f-42bea443d9c5",
   "metadata": {},
   "outputs": [],
   "source": [
    "dbconn = psycopg2.connect( f\"dbname='{dbname}' host='{dbhost}' user='{dbuser}' password='{dbpasswd}'\",\n",
    "                         cursor_factory=psycopg2.extras.RealDictCursor )"
   ]
  },
  {
   "cell_type": "markdown",
   "id": "146fc028-0b80-4bff-9a3e-4a4f29af6ab4",
   "metadata": {},
   "source": [
    "## Test dates"
   ]
  },
  {
   "cell_type": "code",
   "execution_count": null,
   "id": "dd9abc67-e944-49ac-af43-052a4815715f",
   "metadata": {},
   "outputs": [],
   "source": [
    "date_gt = '2021-09-17'\n",
    "date_lt = '2021-09-18'"
   ]
  },
  {
   "cell_type": "code",
   "execution_count": null,
   "id": "d2eb61e7-6509-47fc-9f05-61c26b41110b",
   "metadata": {},
   "outputs": [],
   "source": [
    "radius = 1./3600.\n",
    "inv_prec = 100"
   ]
  },
  {
   "cell_type": "markdown",
   "id": "802dd0fb-15a7-46d8-be87-55ada973b6e0",
   "metadata": {},
   "source": [
    "## MARS query"
   ]
  },
  {
   "cell_type": "code",
   "execution_count": null,
   "id": "335564db-23eb-4e7e-90ed-543019f3e98b",
   "metadata": {},
   "outputs": [],
   "source": [
    "mq= requests.get(f'https://mars.lco.global/?format=json&sort_value=jd&time__gt={date_gt}&time__lt={date_lt}')"
   ]
  },
  {
   "cell_type": "code",
   "execution_count": null,
   "id": "19c84523-05b2-432d-afd0-217d808d2c16",
   "metadata": {},
   "outputs": [],
   "source": [
    "results = mq.json()['results']"
   ]
  },
  {
   "cell_type": "code",
   "execution_count": null,
   "id": "84e8e67f-d7c8-47b3-981b-56d51d960d4e",
   "metadata": {},
   "outputs": [],
   "source": [
    "cursor = dbconn.cursor()\n",
    "n=0\n",
    "for result in results:\n",
    "    if n>5:\n",
    "        break\n",
    "    q = ( \"SELECT mean_fiber_ra, mean_fiber_dec, targetid, z,zerr FROM everest.zpix_redshifts \"\n",
    "          \"WHERE zwarn=0 and q3c_radial_query( mean_fiber_ra, mean_fiber_dec, %(ra)s, %(dec)s, %(radius)s ) \" )\n",
    "    cursor.execute( q, { 'ra': result['candidate']['ra'],\n",
    "                         'dec': result['candidate']['dec'],\n",
    "                         'radius': radius } )\n",
    "    matches = cursor.fetchall()\n",
    "    print(result['objectId'], result['candidate']['ra'],result['candidate']['dec'],end=\"\")\n",
    "    if len(matches) == 0:\n",
    "        print()\n",
    "    else:\n",
    "        for match in matches:\n",
    "            print(match[\"mean_fiber_ra\"], match[\"mean_fiber_dec\"],np.round(inv_prec*match[\"z\"])/inv_prec, np.round(inv_prec*match[\"zerr\"])/inv_prec, match[\"targetid\"]) \n",
    "    n=n+1"
   ]
  }
 ],
 "metadata": {
  "kernelspec": {
   "display_name": "DESI master",
   "language": "python",
   "name": "desi-master"
  },
  "language_info": {
   "codemirror_mode": {
    "name": "ipython",
    "version": 3
   },
   "file_extension": ".py",
   "mimetype": "text/x-python",
   "name": "python",
   "nbconvert_exporter": "python",
   "pygments_lexer": "ipython3",
   "version": "3.8.3"
  }
 },
 "nbformat": 4,
 "nbformat_minor": 5
}
