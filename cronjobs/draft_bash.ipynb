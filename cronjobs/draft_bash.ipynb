{
 "cells": [
  {
   "cell_type": "code",
   "execution_count": 1,
   "id": "d20d4e80-e2d2-4956-a198-f037757ddf86",
   "metadata": {},
   "outputs": [
    {
     "ename": "SyntaxError",
     "evalue": "invalid syntax (<ipython-input-1-b38cb915510d>, line 12)",
     "output_type": "error",
     "traceback": [
      "\u001b[0;36m  File \u001b[0;32m\"<ipython-input-1-b38cb915510d>\"\u001b[0;36m, line \u001b[0;32m12\u001b[0m\n\u001b[0;31m    echo `date` Running daily time domain pipeline on `hostname`\u001b[0m\n\u001b[0m         ^\u001b[0m\n\u001b[0;31mSyntaxError\u001b[0m\u001b[0;31m:\u001b[0m invalid syntax\n"
     ]
    }
   ],
   "source": [
    "#!/bin/bash\n",
    "## This is similar to cron_test.sh but is not called with sbatch, \n",
    "## Because it runs sbatch itself\n",
    "## It interacts with the sqlite3 db called \n",
    "## /global/cfs/cdirs/desi/science/td/daily-search/transients_search.db\n",
    "## Blame Antonella Palmese version Jan 2021 for the ugliness of this code\n",
    "### ['###' means comment by Cleo Lepart] Reworked to store unprocessed data in table (processed_daily) and available to call with iterators.py\n",
    "### attaches desi.db to transients_search.db \n",
    "## 06/08/21 18:05:00 Cleo Lepart\n",
    "\n",
    "### set -e\n",
    "echo `date` Running daily time domain pipeline on `hostname`\n",
    "#- Configure desi environment if needed\n",
    "if [ -z \"$DESI_ROOT\" ]; then\n",
    "    echo \"Loading DESI modules\"\n",
    "    module use /global/common/software/desi/$NERSC_HOST/desiconda/startup/modulefiles\n",
    "    echo \"module load\"\n",
    "    module load desimodules/master\n",
    "fi\n",
    "\n",
    "tiles_path=\"/global/project/projectdirs/desi/spectro/redux/daily/tiles\" \n",
    "\n",
    "run_path=\"/global/cscratch1/sd/akim/project/timedomain/cronjobs/\" \n",
    "\n",
    "td_path=\"/global/cfs/cdirs/desi/science/td/daily-search/\" "
   ]
  },
  {
   "cell_type": "code",
   "execution_count": 2,
   "id": "69f3997f-3e63-43c2-b971-eaff5542219b",
   "metadata": {},
   "outputs": [
    {
     "ename": "SyntaxError",
     "evalue": "invalid syntax (<ipython-input-2-297624fa90d5>, line 9)",
     "output_type": "error",
     "traceback": [
      "\u001b[0;36m  File \u001b[0;32m\"<ipython-input-2-297624fa90d5>\"\u001b[0;36m, line \u001b[0;32m9\u001b[0m\n\u001b[0;31m    echo \"Looking for new exposures\"\u001b[0m\n\u001b[0m                                   ^\u001b[0m\n\u001b[0;31mSyntaxError\u001b[0m\u001b[0;31m:\u001b[0m invalid syntax\n"
     ]
    }
   ],
   "source": [
    "##################\n",
    "#Now double check that we have run over all new exposures. If not, we send new runs.\n",
    "#The database is updated in the next lines starting where it calls python ${run_path}exposure_db.py\n",
    "#That script updates the exposures table, which is later compared to the processed exposures in \n",
    "#desitrip_exposures to find unprocessed exposures. \n",
    "#desitrip_exposures is then updated with new exposures that went through the classifier in the classifier script\n",
    "#ATM this only works for desitrip outputs - needs to be added to specdiff\n",
    "\n",
    "echo \"Looking for new exposures\"\n",
    "\n",
    "\n",
    "python ${run_path}exposure_db.py daily #creates exposures db cf. below from transients_search.db cf. /cronjobs/exposure_db.py L162 ?\n"
   ]
  },
  {
   "cell_type": "code",
   "execution_count": null,
   "id": "ae9e4abd-d3c8-446a-9f10-ff7f4ac78be8",
   "metadata": {},
   "outputs": [],
   "source": [
    "query=\"select distinct obsdate,tileid from exposures where (tileid,obsdate) not in (select tileid,obsdate from desidiff_H_coadd_exposures);\"\n",
    "# query=\"select distinct obsdate,tileid from exposures\n",
    "# where (tileid,obsdate) not in (select tileid,obsdate from desidiff_cv_coadd_exposures);\"\n",
    "\n",
    "mapfile -t -d $'\\n' obsdates_tileids < <( sqlite3 ${td_path}transients_search.db \"$query\" )\n",
    "\n",
    "#attach=\"attach '/global/cfs/cdirs/desi/science/td/db/desi.db' as desi_db;\"\n",
    "###unable to open database file\n",
    "\n",
    "#sqlite3 \"\" <<EndOfSqlite3Commands\n",
    "#ATTACH '/global/cfs/cdirs/desi/science/td/db/desi.db' AS desi_db;\n",
    "#EndOfSqlite3Commands\n",
    "\n",
    "Nobsdates_tileids=${#obsdates_tileids[@]} #gets cardinality\n",
    "    echo \"${Nobsdates_tileids[@]}\"\n",
    "    \n",
    "nper=1\n",
    "nloop=$(((Nobsdates_tileids+nper-1)/nper))\n",
    "\n",
    "    for ((i=0;i<$nloop;i++)); \n",
    "        do \n",
    "            subarr=(\"${obsdates_tileids[@]:$(($i*$nper)):$nper}\")\n",
    "            echo \"${subarr[@]}\"\n",
    "        for t in ${subarr[@]}; do\n",
    "                    arrt=(${t//|/ })\n",
    "                    echo \"${arrt[@]}\"\n",
    "                    #insert=\"INSERT INTO processed_daily(TARGETID,YYYYMMDD,TILEID,PETAL) VALUES(?,${arrt[0]},${arrt[1]},?);\"\n",
    "                    #echo $insert\n",
    "                    #sqlite3 ${td_path}transients_search.db \"$insert\"\n",
    "                    compare=\"INSERT INTO processed_daily SELECT desi.TARGETID,desi.TILEID,desi.YYYYMMDD, desi.PETAL FROM desi_db.fibermap_daily desi WHERE desi.TILEID=${arrt[1]};\"\n",
    "                    echo $compare\n",
    "                    sqlite3 <<\"EndOfSqlite3Commands\"\n",
    "                    ${td_path}transients_search.db;\n",
    "                    ATTACH '/global/cfs/cdirs/desi/science/td/db/desi.db' AS desi_db;\n",
    "                    \"$compare\";\n",
    "                    EndOfSqlite3Commands\n",
    "        done\n",
    "    done\n",
    "    \n",
    "    ###column implementation in processed_daily, a new table created in order to store processed targetid, tileid, obsdate data gleaned from desi.db\n",
    "    ###PRAGMA table_info(processed_daily);\n",
    "    ###0|TARGETID|INT|0||0\n",
    "    ###1|TILEID|INT|0||0\n",
    "    ###2|YYYYMMDD|INT|0||0\n",
    "    ###3|PETAL|INT|0||0\n",
    "    \n",
    "    \n",
    "    ### outside of loop?? yes, with current ON condition\n",
    "    sqlite3 attach '/global/cfs/cdirs/desi/science/td/db/desi.db' as desi_db;\n",
    "    #attach desi\n",
    "\n",
    "    ###sqlite3 INSERT INTO processed_daily(TARGETID) SELECT DISTINCT desi.TARGETID FROM desi_db.fibermap_daily desi INNER JOIN processed_daily ON processed_daily.TILEID=desi.TILEID and processed_daily.YYYYMMDD=desi.YYYYMMDD;    \n",
    "    sqlite3 INSERT INTO processed_daily(TARGETID) SELECT DISTINCT desi.TARGETID FROM desi_db.fibermap_daily desi WHERE processed_daily.TILEID=desi.TILEID;\n",
    "    #inserts into table in transients_search the targetids that will be used to coadd\n",
    "    \n",
    "    \n",
    "INSERT INTO processed_daily SELECT desi.TARGETID,desi.TILEID,desi.YYYYMMDD, desi.PETAL\n",
    "FROM desi_db.fibermap_daily desi \n",
    "WHERE desi.TILEID=(select distinct tileid from exposures where (tileid,obsdate) not in (select tileid,obsdate from desidiff_H_coadd_exposures));\n",
    "###20210609 15:03 removed distinct\n",
    "    \n",
    "    INSERT INTO unprocessed(select distinct tileid from exposures where (tileid,obsdate) not in (select tileid,obsdate from desidiff_H_coadd_exposures));\n",
    "\n",
    "    \n",
    "    INSERT INTO processed_daily SELECT desi.TARGETID,desi.TILEID,desi.YYYYMMDD, desi.PETAL\n",
    "FROM desi_db.fibermap_daily desi \n",
    "JOIN unprocessed ON desi.TILEID=\n",
    "   "
   ]
  }
 ],
 "metadata": {
  "kernelspec": {
   "display_name": "Python 3",
   "language": "python",
   "name": "python3"
  },
  "language_info": {
   "codemirror_mode": {
    "name": "ipython",
    "version": 3
   },
   "file_extension": ".py",
   "mimetype": "text/x-python",
   "name": "python",
   "nbconvert_exporter": "python",
   "pygments_lexer": "ipython3",
   "version": "3.7.4"
  }
 },
 "nbformat": 4,
 "nbformat_minor": 5
}
