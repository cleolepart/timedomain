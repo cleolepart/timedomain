{
 "cells": [
  {
   "cell_type": "code",
   "execution_count": 1,
   "id": "d20d4e80-e2d2-4956-a198-f037757ddf86",
   "metadata": {},
   "outputs": [
    {
     "ename": "SyntaxError",
     "evalue": "invalid syntax (<ipython-input-1-b38cb915510d>, line 12)",
     "output_type": "error",
     "traceback": [
      "\u001b[0;36m  File \u001b[0;32m\"<ipython-input-1-b38cb915510d>\"\u001b[0;36m, line \u001b[0;32m12\u001b[0m\n\u001b[0;31m    echo `date` Running daily time domain pipeline on `hostname`\u001b[0m\n\u001b[0m         ^\u001b[0m\n\u001b[0;31mSyntaxError\u001b[0m\u001b[0;31m:\u001b[0m invalid syntax\n"
     ]
    }
   ],
   "source": [
    "#!/bin/bash\n",
    "## This is similar to cron_test.sh but is not called with sbatch, \n",
    "## Because it runs sbatch itself\n",
    "## It interacts with the sqlite3 db called \n",
    "## /global/cfs/cdirs/desi/science/td/daily-search/transients_search.db\n",
    "## Blame Antonella Palmese version Jan 2021 for the ugliness of this code\n",
    "## First draft reworking to fix db reading issues with DESIDIFF\n",
    "## Many ??\n",
    "## 06/04/21 11:56:00 Cleo Lepart\n",
    "\n",
    "### set -e\n",
    "echo `date` Running daily time domain pipeline on `hostname`\n",
    "#- Configure desi environment if needed\n",
    "if [ -z \"$DESI_ROOT\" ]; then\n",
    "    echo \"Loading DESI modules\"\n",
    "    module use /global/common/software/desi/$NERSC_HOST/desiconda/startup/modulefiles\n",
    "    echo \"module load\"\n",
    "    module load desimodules/master\n",
    "fi\n",
    "\n",
    "tiles_path=\"/global/project/projectdirs/desi/spectro/redux/daily/tiles\" \n",
    "\n",
    "run_path=\"/global/cscratch1/sd/akim/project/timedomain/cronjobs/\" \n",
    "\n",
    "td_path=\"/global/cfs/cdirs/desi/science/td/daily-search/\" "
   ]
  },
  {
   "cell_type": "code",
   "execution_count": 2,
   "id": "69f3997f-3e63-43c2-b971-eaff5542219b",
   "metadata": {},
   "outputs": [
    {
     "ename": "SyntaxError",
     "evalue": "invalid syntax (<ipython-input-2-297624fa90d5>, line 9)",
     "output_type": "error",
     "traceback": [
      "\u001b[0;36m  File \u001b[0;32m\"<ipython-input-2-297624fa90d5>\"\u001b[0;36m, line \u001b[0;32m9\u001b[0m\n\u001b[0;31m    echo \"Looking for new exposures\"\u001b[0m\n\u001b[0m                                   ^\u001b[0m\n\u001b[0;31mSyntaxError\u001b[0m\u001b[0;31m:\u001b[0m invalid syntax\n"
     ]
    }
   ],
   "source": [
    "##################\n",
    "#Now double check that we have run over all new exposures. If not, we send new runs.\n",
    "#The database is updated in the next lines starting where it calls python ${run_path}exposure_db.py\n",
    "#That script updates the exposures table, which is later compared to the processed exposures in \n",
    "#desitrip_exposures to find unprocessed exposures. \n",
    "#desitrip_exposures is then updated with new exposures that went through the classifier in the classifier script\n",
    "#ATM this only works for desitrip outputs - needs to be added to specdiff\n",
    "\n",
    "echo \"Looking for new exposures\"\n",
    "\n",
    "\n",
    "python ${run_path}exposure_db.py daily #creates exposures db cf. below from transients_search.db cf. /cronjobs/exposure_db.py L162 ?\n",
    "\n",
    "query=\"select distinct obsdate,tileid from exposures where (tileid,obsdate) not in (select tileid,obsdate from desidiff_H_coadd_exposures);\" \n",
    "# query=\"select distinct obsdate,tileid from exposures\n",
    "# where (tileid,obsdate) not in (select tileid,obsdate from desidiff_cv_coadd_exposures);\" \n",
    "mapfile -t -d $'\\n' obsdates_tileids < <( sqlite3 ${td_path}transients_search.db \"$query\" ) #queries transients_search.db \n",
    "\n",
    "\n",
    "query_tileid_only = \"select distinct tileid from exposures where (tileid,obsdate) not in (select tileid,obsdate from desidiff_H_coadd_exposures);\" #AND obsdate>20210529;\"\n",
    "#queries transcients_search for unprocessed (new) tileids only\n",
    "\n",
    "mapfile -t -d $'\\n' tileids < < ( sqlite3 ${td_path}transients_search.db \"$query_tileid_only\" )\n",
    "#arry of unprocessed tileids"
   ]
  },
  {
   "cell_type": "code",
   "execution_count": null,
   "id": "0f4a12ae-c22b-44d2-a35b-4a8adb430258",
   "metadata": {},
   "outputs": [],
   "source": [
    "desi_path=\"/global/cfs/cdirs/desi/science/td/db/\"\n",
    "#path needed for association of tileid (@transcients_search.db) to targetid (@desi.db)\n",
    "#why not only use desi.db for this process? \n",
    "\n",
    "desi_query=\"select distinct TARGETID, YYYYMMDD from fibermap_daily;\"\n",
    "#command within for loop for fetching and insertion of targetid with associated tileid\n",
    "\n",
    "for id in ${tileid[@]}\n",
    "    mapfile -t targetid_arr < <( sqlite3 ${desi_path}desi.db \"$query_desi\")\n",
    "\n"
   ]
  }
 ],
 "metadata": {
  "kernelspec": {
   "display_name": "Python 3",
   "language": "python",
   "name": "python3"
  },
  "language_info": {
   "codemirror_mode": {
    "name": "ipython",
    "version": 3
   },
   "file_extension": ".py",
   "mimetype": "text/x-python",
   "name": "python",
   "nbconvert_exporter": "python",
   "pygments_lexer": "ipython3",
   "version": "3.7.4"
  }
 },
 "nbformat": 4,
 "nbformat_minor": 5
}
