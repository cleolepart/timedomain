{
 "cells": [
  {
   "cell_type": "code",
   "execution_count": null,
   "id": "dc90035a-4475-449f-acb2-d7b1f4df438b",
   "metadata": {},
   "outputs": [],
   "source": [
    "import os\n",
    "import sys\n",
    "import numpy\n",
    "from desispec.io import read_spectra, write_spectra\n",
    "from desispec.spectra import Spectra\n",
    "\n",
    "import matplotlib.pyplot as plt\n",
    "from IPython import display\n",
    "from astropy.table import Table,vstack\n",
    "from desiutil.log import get_logger, DEBUG\n",
    "from desidiff.src.group_tiles import *\n",
    "from desidiff.src.dates_to_process import *\n",
    "from desidiff.src.coadd import *\n",
    "from desidiff.src.scores import *\n",
    "from desidiff.src.ContinuumFitFilter_desidiff import *\n",
    "import requests\n",
    "from timedomain.sp_utils import SkyPortal as sp\n",
    "import datetime\n",
    "from astropy.time import Time\n",
    "import matplotlib.pyplot as plt\n",
    "from numpy import pi, linspace\n",
    "from numpy.random import normal\n",
    "import math\n",
    "import scipy"
   ]
  },
  {
   "cell_type": "code",
   "execution_count": null,
   "id": "d1a1d811-3a61-40e5-a7d2-b2f2c24c7467",
   "metadata": {},
   "outputs": [],
   "source": [
    "def Lorentz(x,gamma, x0, A):\n",
    "    L = A*(1/pi)*0.5*gamma/((x-x0)**2 + (0.5*gamma)**2)\n",
    "    return L"
   ]
  },
  {
   "cell_type": "code",
   "execution_count": null,
   "id": "b5366221-35ce-4f5b-bbcd-6c03846eda7a",
   "metadata": {},
   "outputs": [],
   "source": [
    "def continuum(m,x,b):\n",
    "    cont = m*x + b\n",
    "    return cont"
   ]
  },
  {
   "cell_type": "code",
   "execution_count": null,
   "id": "44031a90-0587-4345-b509-fb1095f19da5",
   "metadata": {},
   "outputs": [],
   "source": [
    "r = linspace(3000,10000,8000)"
   ]
  },
  {
   "cell_type": "code",
   "execution_count": null,
   "id": "599e1e12-903c-4e62-89f4-e3ab0538ac03",
   "metadata": {},
   "outputs": [],
   "source": [
    "spec = Lorentz(r, 10, 6562, 5000) + Lorentz(r,10,5007,4000) + Lorentz(r,10, 4852,3500) + Lorentz(r,50, 3835,2500)\n",
    "# spec = [normal(i, 0.5) for i in spec]"
   ]
  },
  {
   "cell_type": "code",
   "execution_count": null,
   "id": "bdabe177-ed3b-4491-8b41-d58b0a113f3b",
   "metadata": {},
   "outputs": [],
   "source": [
    "plt.plot(r,spec)\n",
    "plt.show()"
   ]
  },
  {
   "cell_type": "code",
   "execution_count": null,
   "id": "92d5a572-b1de-45c0-b3a9-67471da633e9",
   "metadata": {},
   "outputs": [],
   "source": [
    "%matplotlib inline\n",
    "import os\n",
    "import sys\n",
    "module_path = os.path.abspath(os.path.join('../../'))\n",
    "if module_path not in sys.path:\n",
    "    sys.path.append(module_path)\n",
    "import numpy\n",
    "from desispec.io import read_spectra, write_spectra\n",
    "from desispec.spectra import Spectra\n",
    "\n",
    "import matplotlib.pyplot as plt\n",
    "from IPython import display\n",
    "from astropy.table import Table,vstack\n",
    "from desiutil.log import get_logger, DEBUG\n",
    "from desidiff.src.group_tiles import *\n",
    "from desidiff.src.dates_to_process import *\n",
    "from desidiff.src.coadd import *\n",
    "from desidiff.src.scores import *\n",
    "from desidiff.src.ContinuumFitFilter_desidiff import *\n",
    "import requests\n",
    "from timedomain.sp_utils import SkyPortal as sp\n",
    "import datetime\n",
    "from astropy.time import Time\n",
    "date=20210606\n",
    "tile_petal,group_tid,group_tp, group_night =getMatchedTileid(date)\n",
    "#Set non-default plot size \n",
    "plt.rcParams[\"figure.figsize\"] = (20,6)\n",
    "\n",
    "#SkyPortal token:\n",
    "secret_file = \"/global/cfs/cdirs/desi/science/td/secrets/desidiff_sp.txt\"\n",
    "with open(secret_file, 'r') as file:\n",
    "    token = file.read().replace('\\n', '')\n",
    "headers = {'Authorization': f'token {token}'}\n",
    "\n",
    "filter_name = 'DESIDIFF'\n",
    "lminb=3700.\n",
    "lminr=5800.\n",
    "lmaxr=7580.\n",
    "lmaxz=9100.\n",
    "\n",
    "# tile_petal contain subsets of tile/petals whose RA/DEC targets are not contained in other tile/petals from that night\n",
    "for tps in tile_petal:\n",
    "    # Check to see if this tile/petal has nothing to subtract.  Skip's IO if this is the case\n",
    "    if hasNothingToProcess(tps,group_tid,group_tp,group_night):\n",
    "        continue\n",
    "    \n",
    "    # cache spectra to minimize IO\n",
    "    spectra_list=dict()\n",
    "    zbest_list = []\n",
    "    target_list=[]\n",
    "    ra_dec_list = []\n",
    "    for tp in tps:\n",
    "        filename =  f\"/global/project/projectdirs/desi/spectro/redux/daily/tiles/cumulative/{tp[0]}/{date}/spectra-{tp[1]}-{tp[0]}-thru{date}.fits\"\n",
    "        spectra_list[(tp[0],tp[1])]=read_spectra(filename)\n",
    "        #To get RA/DEC info for the object\n",
    "        ra_dec_list.append(Table.read(filename, format='fits',hdu=1, memmap=True)['TARGETID','TARGET_RA', 'TARGET_DEC'])\n",
    "        zbest = filename.replace('spectra','zbest')\n",
    "        z = Table.read(zbest, format='fits',hdu=1, memmap=True)['TARGETID','Z','ZERR','ZWARN','SPECTYPE']\n",
    "        zbest_list.append(z)\n",
    "    z = vstack(zbest_list)\n",
    "    ra_dec = vstack(ra_dec_list)\n",
    "    \n",
    "\n",
    "    count=0\n",
    "    # loop over all unique RA/DEC pairs from that night\n",
    "    for tid, tp, night in zip(group_tid,group_tp,group_night):\n",
    "        # if this RA/DEC is not in thie tile_petal combination than skip\n",
    "        if tp[0] not in tps:\n",
    "            continue\n",
    "        \n",
    "        # Eliminate those with no reference night here\n",
    "        if len(night) == 1:\n",
    "            continue\n",
    "\n",
    "        # Obtain METAINFORMATION for this RA/DEC\n",
    "        #Stores a tuple = (TARGETID, Z, ZERR,ZWARN, SPECTYPE)\n",
    "        z_data = []\n",
    "        ra_dec_data = []\n",
    "        for t in tid:\n",
    "            tid_ind = list(z['TARGETID']).index(t)\n",
    "            ra_dec_ind = list(ra_dec['TARGETID']).index(t)\n",
    "            z_data.append((t, z[tid_ind]['Z'], z[tid_ind]['ZERR'], z[tid_ind]['ZWARN'], z[tid_ind]['SPECTYPE']))\n",
    "            ra_dec_data.append((t, ra_dec[ra_dec_ind]['TARGET_RA'], ra_dec[ra_dec_ind]['TARGET_DEC']))\n",
    "        redshift = z_data[0][1] #it seems each set only has one value\n",
    "        spectype = z_data[0][-1]\n",
    "        \n",
    "        # Proceed with a subtraction for this object\n",
    "        \n",
    "        # The coadds of the new and reference are constructed from all spectra with all targetid's in tid and all\n",
    "        # tile/petal combinations in tp, which are cached above\n",
    "        \n",
    "        newSpectra=[]\n",
    "        refSpectra=[]\n",
    "        for tile,plate in tp:\n",
    "            spec = spectra_list[(tile,plate)]\n",
    "\n",
    "            idx = numpy.in1d(night, date)\n",
    "            ref_night = night[~idx]\n",
    "            \n",
    "            newSpectra.append(spec.select(nights=date, targets = tid))\n",
    "            \n",
    "            \"\"\"\n",
    "            There is a variable night that has all the nights associated with this RA/DEC\n",
    "            derive the ref_night from that\n",
    "            \"\"\"\n",
    "            \n",
    "            refSpectra.append(spec.select(nights=ref_night, targets = tid))       \n",
    "         \n",
    "        \n",
    "        newflux, newivar, newwave, newmask = coadd(newSpectra)\n",
    "        refflux, refivar, refwave, refmask = coadd(refSpectra)\n",
    "\n",
    "        # renormalize spectra to match each other\n",
    "        # There is a significant background of spectra that have the same shape but different fluxes\n",
    "        # This seems to be related to mistaken coordinates of bright sources\n",
    "        norm = normalization(newflux,newmask, refflux,refmask)\n",
    "\n",
    "        for key in newflux.keys():\n",
    "            newflux[key]=newflux[key]/norm\n",
    "            newivar[key]=newivar[key]*norm**2        \n",
    "        \n",
    "        difflux, difivar, difmask, difwave = dict.fromkeys([\"b\", \"r\", \"z\"]), dict.fromkeys([\"b\", \"r\", \"z\"]), dict.fromkeys([\"b\", \"r\", \"z\"]), dict.fromkeys([\"b\", \"r\", \"z\"])\n",
    "        \n",
    "        difflux = {key: newflux[key] - refflux[key]\n",
    "                       for key in newflux.keys()}\n",
    "        difivar = {key: 1./(1./newivar[key] + 1./refivar[key])\n",
    "                       for key in newivar.keys()}\n",
    "        difmask = {key: newmask[key] + refmask[key]\n",
    "                       for key in newmask.keys()}\n",
    "        difwave = dict(newwave)\n",
    "        \n",
    "        print(difwave)\n",
    "        print(difflux)\n",
    "        count += 1\n",
    "        \n",
    "        if count == 1:\n",
    "            wefwe\n",
    "                \n",
    "    \n",
    "            "
   ]
  },
  {
   "cell_type": "code",
   "execution_count": null,
   "id": "61ee61f0-6c5f-46b7-9612-211c6d11cfb3",
   "metadata": {},
   "outputs": [],
   "source": [
    "# print(difivar)\n",
    "# print(difmask)"
   ]
  },
  {
   "cell_type": "code",
   "execution_count": null,
   "id": "64c5e0d1-871c-4ee0-a44b-3f0f94b1be8d",
   "metadata": {},
   "outputs": [],
   "source": [
    "b = difwave['b']\n",
    "r = difwave['r']\n",
    "z = difwave['z']"
   ]
  },
  {
   "cell_type": "code",
   "execution_count": null,
   "id": "f320082c-fd62-41fa-a0d2-750324823e69",
   "metadata": {},
   "outputs": [],
   "source": [
    "spec = dict()\n",
    "spec['b'] =  Lorentz(b,10,5007,4000) + Lorentz(b,10, 4852,3500) + Lorentz(b ,50, 3835,2500)\n",
    "spec['r'] = Lorentz(r, 10, 6562, 5000) + Lorentz(r, 10, 6732, 5000) \n",
    "spec['z'] = Lorentz(z, 10, 9545, 5000) \n",
    "\n",
    "# spec['b'] =  scipy.stats.norm(b,10,5007,4000) + scipy.stats.norm(b,10, 4852,3500) + scipy.stats.norm(b ,50, 3835,2500)\n",
    "# spec['r'] = scipy.stats.norm(r, 10, 6562, 5000) \n",
    "# spec['z'] = scipy.stats.norm(z, 10, 9545, 5000)\n",
    "\n",
    "# y_values = scipy.stats.norm(mean, standard_deviation)\n",
    "\n",
    "sqivar = dict()\n",
    "for k in spec.keys():\n",
    "    sqivar[k] = [0]*len(difivar[k])\n",
    "    # avg = sum(spec[k])/len(spec[k])\n",
    "    for i in range(len(spec[k])):\n",
    "        sqivar[k][i] = math.sqrt(1/difivar[k][i])\n",
    "difmask = dict()\n",
    "for k in spec.keys():\n",
    "    difmask[k] = [0]*len(spec[k])"
   ]
  },
  {
   "cell_type": "code",
   "execution_count": null,
   "id": "5bc4bc9e-45b5-4b82-ae90-2ab4f3bb4067",
   "metadata": {},
   "outputs": [],
   "source": [
    "plt.plot(difwave['b'], spec['b'])\n",
    "# plt.show()\n",
    "plt.plot(difwave['r'], spec['r'])\n",
    "# plt.show()\n",
    "plt.plot(difwave['z'], spec['z'])\n",
    "# plt.show()\n",
    "plt.plot(difwave['b'],sqivar['b'])\n",
    "# plt.show()\n",
    "plt.plot(difwave['r'],sqivar['r'])\n",
    "# plt.show()\n",
    "plt.plot(difwave['z'],sqivar['z'])"
   ]
  },
  {
   "cell_type": "code",
   "execution_count": null,
   "id": "0d09ab25-0b83-4da1-953a-0ea3e8551344",
   "metadata": {},
   "outputs": [],
   "source": [
    "perres_filter = perconv_SN(difwave, spec,difivar, difmask)\n",
    "print(perres_filter)"
   ]
  },
  {
   "cell_type": "code",
   "execution_count": null,
   "id": "08d0d817-5f2f-4c48-a45a-8f9348f19eab",
   "metadata": {},
   "outputs": [],
   "source": [
    "linelogic = perres_filter >=2"
   ]
  },
  {
   "cell_type": "code",
   "execution_count": null,
   "id": "e4473e5a-f945-4774-b71d-a17c654863a4",
   "metadata": {},
   "outputs": [],
   "source": [
    "print(linelogic)"
   ]
  },
  {
   "cell_type": "code",
   "execution_count": 19,
   "id": "5ddd0994-4bdc-4d78-ab66-ac9586835625",
   "metadata": {},
   "outputs": [
    {
     "name": "stderr",
     "output_type": "stream",
     "text": [
      "/global/u2/d/divij18/timedomain/desidiff/src/ContinuumFitFilter_desidiff.py:87: RuntimeWarning: divide by zero encountered in true_divide\n",
      "  HBsigma = 1/np.sqrt(HBivar)\n",
      "/global/u2/d/divij18/timedomain/desidiff/src/ContinuumFitFilter_desidiff.py:96: RuntimeWarning: divide by zero encountered in true_divide\n",
      "  Hasigma = 1/np.sqrt(Haivar)\n"
     ]
    }
   ],
   "source": [
    "linetable = line_finder(difwave, spec,difivar,mask,0)"
   ]
  },
  {
   "cell_type": "code",
   "execution_count": 20,
   "id": "d3f47f49-fa1e-4d48-876a-eeecec989af7",
   "metadata": {},
   "outputs": [
    {
     "name": "stdout",
     "output_type": "stream",
     "text": [
      "       Line  Wavelength      Height  e_Height       Sigma     e_Sigma  \\\n",
      "0    Halpha        6562  280.435790  0.297110    5.589958    0.006284   \n",
      "1     Hbeta        4861   91.311227  0.322891   14.007819    0.060100   \n",
      "2    Hgamma        4340    0.106124  0.348321   60.582459  577.595254   \n",
      "3  HeII4686        4686    1.294114  0.128407  118.255886   17.191727   \n",
      "4  OIII5007        5007  254.770133  0.615179   10.018233    0.035604   \n",
      "5      NIII        4100    0.315096  0.254082   96.313878    0.348321   \n",
      "6       SII        6732  268.925940  0.292695    5.645717    0.006078   \n",
      "7  OIII4959        4959    0.616541  0.646802    8.629740   13.359659   \n",
      "\n",
      "       Velocity  Chi Square  \n",
      "0    599.838581  171.274987  \n",
      "1   2029.116611  111.626751  \n",
      "2   9829.224849    0.000492  \n",
      "3  17769.801650  111.626751  \n",
      "4    598.252760  111.626751  \n",
      "5  16541.203872    0.000492  \n",
      "6    590.523401  171.274987  \n",
      "7    520.325145  111.626751  \n"
     ]
    }
   ],
   "source": [
    "print(linetable)"
   ]
  },
  {
   "cell_type": "code",
   "execution_count": 21,
   "id": "6bf13175-59a6-432f-98af-f89f8460b68a",
   "metadata": {},
   "outputs": [],
   "source": [
    "Hline_score = Hline_filter(linetable)"
   ]
  },
  {
   "cell_type": "code",
   "execution_count": 22,
   "id": "d19c16ae-dbda-4f27-8e30-15d207a5f5d4",
   "metadata": {},
   "outputs": [
    {
     "name": "stdout",
     "output_type": "stream",
     "text": [
      "0\n"
     ]
    }
   ],
   "source": [
    "print(Hline_score)"
   ]
  },
  {
   "cell_type": "code",
   "execution_count": null,
   "id": "6ababf9c-9534-479d-b390-8bae6806e884",
   "metadata": {},
   "outputs": [],
   "source": []
  }
 ],
 "metadata": {
  "kernelspec": {
   "display_name": "DESI master",
   "language": "python",
   "name": "desi-master"
  },
  "language_info": {
   "codemirror_mode": {
    "name": "ipython",
    "version": 3
   },
   "file_extension": ".py",
   "mimetype": "text/x-python",
   "name": "python",
   "nbconvert_exporter": "python",
   "pygments_lexer": "ipython3",
   "version": "3.8.3"
  }
 },
 "nbformat": 4,
 "nbformat_minor": 5
}
