{
 "cells": [
  {
   "cell_type": "code",
   "execution_count": 1,
   "id": "1744a32b-ab68-4d4a-a7fa-7671b62c2280",
   "metadata": {},
   "outputs": [],
   "source": [
    "from astropy.table import Table, vstack, unique, SortedArray\n",
    "import glob\n",
    "import numpy\n",
    "import time\n",
    "from datetime import date, timedelta, datetime\n",
    "import psycopg2\n",
    "import sqlite3\n",
    "import pandas as pd\n",
    "from functools import reduce\n",
    "from desispec.io import read_spectra, write_spectra\n",
    "from desispec.spectra import Spectra\n",
    "from desispec.coaddition import coadd\n",
    "\n",
    "import matplotlib.pyplot as plt\n",
    "import os\n",
    "from desiutil.log import get_logger, DEBUG"
   ]
  },
  {
   "cell_type": "code",
   "execution_count": 5,
   "id": "b98d7b73-1c1b-4112-94a2-b6d595cd23a4",
   "metadata": {},
   "outputs": [],
   "source": [
    "#get array of yyyymmdds to loop through\n",
    "#getUnprocessedDates.py\n",
    "def getUnprocessedDates():\n",
    "    start_time = time.time()\n",
    "    # Connect to desi.db with POSTGRES to get latest observed and unprocessed yyyymmdd\n",
    "    f = open('/global/cfs/cdirs/desi/science/td/secrets/desi_pg.txt') #what is more valid?\n",
    "    file = f.read()\n",
    "    db_name, db_user, db_pwd, db_host = file.split()\n",
    "    conn = psycopg2.connect(dbname=db_name, user=db_user, password=db_pwd, host=db_host)\n",
    "    cur = conn.cursor()\n",
    "    cur.execute(\"\"\"SELECT DISTINCT yyyymmdd from fibermap_daily WHERE yyyymmdd > 20210604\"\"\") #most recent, remove in future\n",
    "    desi_arr = cur.fetchall()\n",
    "    cur.close()\n",
    "    conn.close()\n",
    "    \n",
    "    # Open to transients_search.db for latest processed yyyymmdd to do comparison with unprocessed\n",
    "    filename_conn = \"/global/cfs/cdirs/desi/science/td/daily-search/transients_search.db\"\n",
    "    conn = sqlite3.connect(filename_conn)\n",
    "    trans_arr = conn.execute(\"\"\"SELECT DISTINCT yyyymmdd from unprocessed_exposures\"\"\").fetchall()\n",
    "    conn.close()\n",
    "\n",
    "    # Compare yyyymmdd from fibermap_daily with unprocessed_exposures, retaining those in fibermap_daily and not in unprocessed_daily\n",
    "    night_arr = numpy.setdiff1d(desi_arr, trans_arr)\n",
    "\n",
    "    print('len(night_arr): ' + str(len(night_arr)))\n",
    "    print(\"--- get unprocessed dates took:  %s seconds ---\" % (time.time() - start_time))\n",
    "    \n",
    "    return(night_arr) "
   ]
  },
  {
   "cell_type": "code",
   "execution_count": 40,
   "id": "9919c5e3-0204-4a05-a2f0-a1d56e297906",
   "metadata": {},
   "outputs": [],
   "source": [
    "# arguments:\n",
    "#  yyyymmdd of the night of interest\n",
    "# outputs:\n",
    "#  tile_petal: subsets of tile/petals whose RA/DEC targets are not contained in other tile/petals from that night\n",
    "#  group_tid: the set of targetid's associated with each RA/DEC\n",
    "#  group_tp:  the set of tile/petals associated with each RA/DEC\n",
    "\n",
    "def getMatchedTileid(yyyymmdd):\n",
    "    \n",
    "    # read in and store in one place all the fibermap information in the spectra files\n",
    "    dats=[]\n",
    "    for filename in glob.glob(f\"/global/project/projectdirs/desi/spectro/redux/daily/tiles/cumulative/*/{yyyymmdd}/spectra-*.fits\"):\n",
    "        t = Table.read(filename, format='fits',hdu=1, memmap=True)\n",
    "        \n",
    "        ##### DAVE'S ADDITION ##############\n",
    "        targetcols = [i for i in t.colnames if i[-7:] =='_TARGET']\n",
    "        nonzerocheck = [True in k for k in [[j != 0 for j in t[targetcols][i]] for i in range(len(t))]]\n",
    "        #a really ugly line, basically generates a list of bools, \n",
    "        #True if there is at least one nonzero element in all columns ending in _TARGET\n",
    "        t.remove_rows([i for i, val in enumerate(nonzerocheck) if not val])\n",
    "        #This gets the index of all False values from the previous list and removes those rows\n",
    "        t = t['TARGETID','TARGET_RA','TARGET_DEC','TILEID','OBJTYPE','PETAL_LOC','FIBERSTATUS']\n",
    "        ######## END DAVE'S ADDITION ############\n",
    "        t=t[numpy.logical_and(t['OBJTYPE']=='TGT', t['FIBERSTATUS']==0)]\n",
    "        dats.append(t)\n",
    "    dats=vstack(dats, join_type='inner',metadata_conflicts='silent')\n",
    "\n",
    "    # group all the observations by TARGET_RA and TARGET_DEC\n",
    "    # note that this is more reliable than grouping by TARGETID as TARGETID is NOT a unique identifier of RA and DEC\n",
    "    dats_group = dats.group_by(['TARGET_RA','TARGET_DEC'])\n",
    "    \n",
    "    # for each group make a list of all targetid's with that ra/dec\n",
    "    group_tid=[]\n",
    "    for g in dats_group.groups:\n",
    "        group_tid.append(numpy.unique(g['TARGETID'].data))\n",
    "        \n",
    "    # for each group make a tuple containing all tileid/petal combinations that have that ra/dec\n",
    "    group_tp=[]\n",
    "    for g in dats_group.groups:\n",
    "        gu = unique(g,keys=['TILEID'])\n",
    "        dum=[]\n",
    "        for a,b in zip(gu['TILEID'],gu['PETAL_LOC']):\n",
    "            dum.append((a,b))\n",
    "        group_tp.append(tuple(dum))\n",
    "\n",
    "    # compress things down to the unique tile/petal combinations\n",
    "    ans = list(set(group_tp))\n",
    "    \n",
    "    # union sets that have intersecting tile/petal combinations\n",
    "    for i in range(len(ans)-1,0,-1):\n",
    "        for j in range(i-1,-1,-1):\n",
    "            if len(set(ans[i]) & set(ans[j])) !=0:\n",
    "                ans[j]=ans[i]+ans[j]\n",
    "                del ans[i]\n",
    "                break\n",
    "\n",
    "    # unique of each set\n",
    "    for i in range(len(ans)):\n",
    "        ans[i]=list(set(ans[i]))\n",
    "        \n",
    "    tile_petal=ans\n",
    "        \n",
    "    # for each set the TARGET_RA TARGET_DEC associated\n",
    "        \n",
    "    return(tile_petal, group_tid, group_tp)"
   ]
  },
  {
   "cell_type": "code",
   "execution_count": 15,
   "id": "c3d960af-d064-40ca-98d8-2865c68b029e",
   "metadata": {},
   "outputs": [],
   "source": []
  },
  {
   "cell_type": "code",
   "execution_count": 26,
   "id": "64420dc2-6a63-4459-841e-d389c62239aa",
   "metadata": {},
   "outputs": [
    {
     "ename": "IndexError",
     "evalue": "list index out of range",
     "output_type": "error",
     "traceback": [
      "\u001b[0;31m---------------------------------------------------------------------------\u001b[0m",
      "\u001b[0;31mIndexError\u001b[0m                                Traceback (most recent call last)",
      "\u001b[0;32m<ipython-input-26-c2021f60a774>\u001b[0m in \u001b[0;36m<module>\u001b[0;34m\u001b[0m\n\u001b[1;32m      4\u001b[0m         \u001b[0mtargetcols\u001b[0m\u001b[0;34m.\u001b[0m\u001b[0mappend\u001b[0m\u001b[0;34m(\u001b[0m\u001b[0mi\u001b[0m\u001b[0;34m)\u001b[0m\u001b[0;34m\u001b[0m\u001b[0;34m\u001b[0m\u001b[0m\n\u001b[1;32m      5\u001b[0m \u001b[0;32mfor\u001b[0m \u001b[0mi\u001b[0m \u001b[0;32min\u001b[0m \u001b[0mrange\u001b[0m\u001b[0;34m(\u001b[0m\u001b[0mlen\u001b[0m\u001b[0;34m(\u001b[0m\u001b[0mt\u001b[0m\u001b[0;34m[\u001b[0m\u001b[0mtargetcols\u001b[0m\u001b[0;34m[\u001b[0m\u001b[0;36m0\u001b[0m\u001b[0;34m]\u001b[0m\u001b[0;34m]\u001b[0m\u001b[0;34m)\u001b[0m\u001b[0;34m)\u001b[0m\u001b[0;34m:\u001b[0m\u001b[0;34m\u001b[0m\u001b[0;34m\u001b[0m\u001b[0m\n\u001b[0;32m----> 6\u001b[0;31m     \u001b[0mprint\u001b[0m\u001b[0;34m(\u001b[0m\u001b[0mt\u001b[0m\u001b[0;34m[\u001b[0m\u001b[0mtargetcols\u001b[0m\u001b[0;34m[\u001b[0m\u001b[0;36m5\u001b[0m\u001b[0;34m]\u001b[0m\u001b[0;34m]\u001b[0m\u001b[0;34m[\u001b[0m\u001b[0mi\u001b[0m\u001b[0;34m]\u001b[0m\u001b[0;34m)\u001b[0m\u001b[0;34m\u001b[0m\u001b[0;34m\u001b[0m\u001b[0m\n\u001b[0m",
      "\u001b[0;31mIndexError\u001b[0m: list index out of range"
     ]
    }
   ],
   "source": []
  },
  {
   "cell_type": "code",
   "execution_count": 42,
   "id": "83813b8c-2fd0-4665-b8d9-bf867eaf19e5",
   "metadata": {},
   "outputs": [],
   "source": [
    "yyyymmdd=20210606\n",
    "tile_petal,group_tid,group_tp=getMatchedTileid(yyyymmdd)"
   ]
  },
  {
   "cell_type": "code",
   "execution_count": 57,
   "id": "71108ebd-2952-42cf-83dc-398678dd9256",
   "metadata": {
    "tags": []
   },
   "outputs": [
    {
     "name": "stdout",
     "output_type": "stream",
     "text": [
      "[(1239, 6)]\n",
      "INFO:spectra.py:282:read_spectra: iotime 1.013 sec to read spectra-6-1239-thru20210606.fits at 2021-08-13T17:03:41.816200\n",
      "[39628512646138870] ((1239, 6),)\n"
     ]
    },
    {
     "ename": "NameError",
     "evalue": "name 'wefew' is not defined",
     "output_type": "error",
     "traceback": [
      "\u001b[0;31m---------------------------------------------------------------------------\u001b[0m",
      "\u001b[0;31mNameError\u001b[0m                                 Traceback (most recent call last)",
      "\u001b[0;32m<ipython-input-57-b9d9f1050ed0>\u001b[0m in \u001b[0;36m<module>\u001b[0;34m\u001b[0m\n\u001b[1;32m     21\u001b[0m         \u001b[0;31m# tile/petal combinations in tp, which are cached above\u001b[0m\u001b[0;34m\u001b[0m\u001b[0;34m\u001b[0m\u001b[0;34m\u001b[0m\u001b[0m\n\u001b[1;32m     22\u001b[0m         \u001b[0mprint\u001b[0m\u001b[0;34m(\u001b[0m\u001b[0mtid\u001b[0m\u001b[0;34m,\u001b[0m \u001b[0mtp\u001b[0m\u001b[0;34m)\u001b[0m\u001b[0;34m\u001b[0m\u001b[0;34m\u001b[0m\u001b[0m\n\u001b[0;32m---> 23\u001b[0;31m         \u001b[0mwefew\u001b[0m\u001b[0;34m\u001b[0m\u001b[0;34m\u001b[0m\u001b[0m\n\u001b[0m",
      "\u001b[0;31mNameError\u001b[0m: name 'wefew' is not defined"
     ]
    }
   ],
   "source": [
    "# tile_petal contain subsets of tile/petals whose RA/DEC targets are not contained in other tile/petals from that night\n",
    "for tps in tile_petal:\n",
    "    # cache spectra to minimize IO\n",
    "    spectra_list=dict()\n",
    "    target_list=[]\n",
    "    for tp in tps:\n",
    "        filename =  f\"/global/project/projectdirs/desi/spectro/redux/daily/tiles/cumulative/{tp[0]}/{yyyymmdd}/spectra-{tp[1]}-{tp[0]}-thru{yyyymmdd}.fits\"\n",
    "        spectra_list[(tp[0],tp[1])]=read_spectra(filename)\n",
    "    \n",
    "    # loop over all unique RA/DEC pairs from that night\n",
    "    for tid, tp in zip(group_tid,group_tp):\n",
    "        # if this RA/DEC is not in thie tile_petal combination than skip\n",
    "        if tp[0] not in tps:\n",
    "            continue\n",
    "\n",
    "        # Proceed with a subtraction for this object\n",
    "        \n",
    "        # The coadds of the new and reference are constructed from all spectra with all targetid's in tid and all\n",
    "        # tile/petal combinations in tp, which are cached above\n",
    "        print(tid, tp)\n",
    "        wefew\n"
   ]
  },
  {
   "cell_type": "code",
   "execution_count": 54,
   "id": "6cada54b-8228-4449-b90b-e8328a7607c0",
   "metadata": {},
   "outputs": [
    {
     "data": {
      "text/plain": [
       "{(1239, 6): <desispec.spectra.Spectra at 0x2aaae3a12250>}"
      ]
     },
     "execution_count": 54,
     "metadata": {},
     "output_type": "execute_result"
    }
   ],
   "source": [
    "spectra_list"
   ]
  },
  {
   "cell_type": "code",
   "execution_count": null,
   "id": "9ee92ea6-016d-4671-a189-7249622abfa0",
   "metadata": {},
   "outputs": [],
   "source": []
  },
  {
   "cell_type": "code",
   "execution_count": 7,
   "id": "10570fd8-b684-491e-bc23-e0a3dfa62f51",
   "metadata": {},
   "outputs": [
    {
     "name": "stdout",
     "output_type": "stream",
     "text": [
      "len(night_arr): 20\n",
      "--- get unprocessed dates took:  8.81651496887207 seconds ---\n",
      "[20210606 20210607 20210614 20210615 20210616 20210617 20210618 20210619\n",
      " 20210620 20210621 20210626 20210627 20210628 20210629 20210704 20210705\n",
      " 20210706 20210707 20210708 20210709]\n"
     ]
    }
   ],
   "source": [
    "night_arr = getUnprocessedDates()\n",
    "print(night_arr)"
   ]
  },
  {
   "cell_type": "code",
   "execution_count": null,
   "id": "0ff3303e-e4bc-4da7-82f0-3c27ae42f6e5",
   "metadata": {
    "tags": []
   },
   "outputs": [],
   "source": [
    "### for debugging purposes remove 'for a in night_arr:'-loop, assign yyyymmdd = 20210606 or 20210406 for example\n",
    "\n",
    "\n",
    "for a in night_arr:   \n",
    "    # read in and store in one place all the fibermap information in the spectra files\n",
    "    yyyymmdd = a\n",
    "    dats=[]\n",
    "    for filename in glob.glob(f\"/global/project/projectdirs/desi/spectro/redux/daily/tiles/cumulative/*/{yyyymmdd}/spectra-*.fits\"):\n",
    "        t = Table.read(filename, format='fits',hdu=1, memmap=True)[['TARGETID','TARGET_RA','TARGET_DEC','TILEID','OBJTYPE','PETAL_LOC', 'NIGHT']]\n",
    "        t=t[t['OBJTYPE']=='TGT']\n",
    "        dats.append(t)\n",
    "    dats=vstack(dats, join_type='inner',metadata_conflicts='silent')\n",
    "    # group all the observations by TARGET_RA and TARGET_DEC\n",
    "    # note that this is more reliable than grouping by TARGETID as TARGETID is NOT a unique identifier of RA and DEC\n",
    "    dats_group = dats.group_by(['TARGET_RA','TARGET_DEC'])\n",
    "    \n",
    "    # for each group make a tuple containing all tileid/petal combinations that have that ra/dec\n",
    "    tile_petal=[]\n",
    "    # for each group, determine the unique nights that occur\n",
    "    night=[]\n",
    "    for g in dats_group.groups:\n",
    "        \n",
    "        gu = unique(g, keys=['TILEID'])\n",
    "        \n",
    "        dum=[]\n",
    "        for a,b,c in zip(gu['TILEID'],gu['PETAL_LOC'],gu['TARGETID']):\n",
    "            dum.append((a,b,c))\n",
    "        tile_petal.append(tuple(dum))\n",
    "\n",
    "\n",
    "        du = unique(g, keys=['NIGHT'])\n",
    "        \n",
    "        for d in zip(du['NIGHT']):\n",
    "            night.append((d))\n",
    "        \n",
    "\n",
    "    # compress things down to the unique tile/petal combinations\n",
    "    tile_petal = list(set(tile_petal))\n",
    "    # union sets that have intersecting tile/petal combinations\n",
    "    for i in range(len(tile_petal)-1,0,-1):\n",
    "        for j in range(i-1,-1,-1):\n",
    "            if len(set(tile_petal[i]) & set(tile_petal[j])) !=0:\n",
    "                tile_petal[j]=tile_petal[i]+tile_petal[j]\n",
    "                del tile_petal[i]\n",
    "                break\n",
    "    # unique of each set\n",
    "    for i in range(len(tile_petal)):\n",
    "        tile_petal[i]=list(set(tile_petal[i]))\n",
    "    \n",
    "    unique_night = numpy.unique(night)\n",
    "    \n",
    "    for i in tile_petal:\n",
    "        spectra = Spectra()\n",
    "        dif_spectra = Spectra()\n",
    "        ref_spectra = Spectra() ### or else NameError at 'if ref_spectra.num_spectra'... in the case of no reference nights\n",
    "        for j in i:    ### covers case of multiple tile/petal pairs \n",
    "            filename =  f\"/global/project/projectdirs/desi/spectro/redux/daily/tiles/cumulative/{j[0]}/{yyyymmdd}/spectra-{j[1]}-{j[0]}-thru{yyyymmdd}.fits\"\n",
    "            spectra = read_spectra(filename)\n",
    "            date = numpy.array(yyyymmdd)\n",
    "            idx = numpy.in1d(unique_night, date)\n",
    "            ref_night = unique_night[~idx]\n",
    "\n",
    "            try:\n",
    "                cur_spectra = (spectra.select(nights=date, targets = [j[2]]))\n",
    "                ref_spectra = (spectra.select(nights=ref_night, targets = [j[2]]))\n",
    "            except:\n",
    "                pass ### this is the mechanism for eliminating targets that have no reference nights. \n",
    "\n",
    "            if ref_spectra.num_spectra() != 0:\n",
    "            ### in the case of no ref nights, as 'pass' has allowed a reference spectra to be created despite a RuntimeError, this is the check that there is something to difference\n",
    "                coadd(ref_spectra)\n",
    "                dif_spectra.update(cur_spectra)\n",
    "                coadd(dif_spectra)\n",
    "                for b in dif_spectra.bands:\n",
    "                    dif_spectra.flux[b][0] = cur_spectra.flux[b][0]-ref_spectra.flux[b][0]\n",
    "                    ok = numpy.logical_and(dif_spectra.mask[b][0,:] == 0, dif_spectra.ivar[b][0] != 0)\n",
    "                    plt.plot(cur_spectra.wave[b][ok], cur_spectra.flux[b][0,ok], color = 'red', label = \"current spectra\")\n",
    "                    plt.plot(ref_spectra.wave[b][ok],ref_spectra.flux[b][0,ok], color = 'green', label = 'reference spectra')\n",
    "                    plt.plot(dif_spectra.wave[b][ok],dif_spectra.flux[b][0,ok], color = 'cyan', label = 'differenced spectra')\n",
    "                    if b == 'b':\n",
    "                        plt.legend()\n",
    "                plt.show()\n",
    "                \n",
    "                # save each days candidate plots into one pdf\n",
    "                with PdfPages('diff_candidates(%d).pdf' % yyyymmdd) as pdf:\n",
    "                    fig = plt.figure()\n",
    "                    pdf.savefig(fig)\n",
    "\n",
    "    ### insert garbage collection potentially\n",
    "            \n",
    "    \n",
    "    "
   ]
  },
  {
   "cell_type": "code",
   "execution_count": null,
   "id": "9e5e259e-e310-4455-a816-de8dc956418f",
   "metadata": {},
   "outputs": [],
   "source": []
  }
 ],
 "metadata": {
  "kernelspec": {
   "display_name": "DESI master",
   "language": "python",
   "name": "desi-master"
  },
  "language_info": {
   "codemirror_mode": {
    "name": "ipython",
    "version": 3
   },
   "file_extension": ".py",
   "mimetype": "text/x-python",
   "name": "python",
   "nbconvert_exporter": "python",
   "pygments_lexer": "ipython3",
   "version": "3.8.3"
  }
 },
 "nbformat": 4,
 "nbformat_minor": 5
}
